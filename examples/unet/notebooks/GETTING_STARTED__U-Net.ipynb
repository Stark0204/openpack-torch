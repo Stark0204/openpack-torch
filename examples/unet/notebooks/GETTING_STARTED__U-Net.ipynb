{
 "cells": [
  {
   "cell_type": "markdown",
   "id": "62133d2f-db52-4903-b8da-afb282959973",
   "metadata": {},
   "source": [
    "# Getting Started | U-Net with OpenPack Dataset (IMU)"
   ]
  },
  {
   "cell_type": "markdown",
   "id": "1149019d-005a-4071-81b4-5dde35836302",
   "metadata": {},
   "source": [
    "## [0] Inital Setup"
   ]
  },
  {
   "cell_type": "markdown",
   "id": "bb015bbf-633d-4dd5-9451-59b6f5cc3ecb",
   "metadata": {},
   "source": [
    "### 0-1: Download Code and Install `openpack-torch` \n",
    "NOTE: You can also install `openpack-torch` from PyPI with `pip install openpack-torch`."
   ]
  },
  {
   "cell_type": "code",
   "execution_count": null,
   "id": "3d848e0e-64c3-4376-b2a9-342e14d82b74",
   "metadata": {},
   "outputs": [],
   "source": [
    "! cd /content && git clone https://github.com/open-pack/openpack-torch.git"
   ]
  },
  {
   "cell_type": "code",
   "execution_count": null,
   "id": "e1a8f425-bb1a-4f8f-a2e7-5fa4fb2b276c",
   "metadata": {},
   "outputs": [],
   "source": [
    "! cd /content/openpack-torch/ && pip install ."
   ]
  },
  {
   "cell_type": "markdown",
   "id": "7effb91e-bfb4-4bb3-ba5e-81cf8cf0c92b",
   "metadata": {},
   "source": [
    "### 0-2: Download Dataset to  `/content/data`\n",
    "- Souce (IMU data of U0102): TBA"
   ]
  },
  {
   "cell_type": "code",
   "execution_count": null,
   "id": "171bee58-23f6-49b3-a297-31036387df5a",
   "metadata": {},
   "outputs": [],
   "source": [
    "! mkdir -p /content/data/\n",
    "! cd /content/data && wget \"https://drive.google.com/uc?export=download&id=TBA\" -O datasets.zip\n",
    "! cd /content/data/ && unzip datasets.zip"
   ]
  },
  {
   "cell_type": "markdown",
   "id": "13c4a349-8af8-4840-849f-d97b04f143cb",
   "metadata": {},
   "source": [
    "### 0-3: Import Modules"
   ]
  },
  {
   "cell_type": "code",
   "execution_count": 1,
   "id": "0fca86ac-b992-47e1-a809-02dc17776d10",
   "metadata": {},
   "outputs": [],
   "source": [
    "import os\n",
    "import shutil\n",
    "import logging\n",
    "from pathlib import Path\n",
    "from typing import Dict\n",
    "\n",
    "import hydra\n",
    "import numpy as np\n",
    "import openpack_toolkit as optk\n",
    "import openpack_torch as optorch\n",
    "import pandas as pd\n",
    "import pytorch_lightning as pl\n",
    "import torch\n",
    "import matplotlib.pyplot as plt\n",
    "import seaborn as sns\n",
    "from hydra import initialize_config_dir, compose\n",
    "from omegaconf import DictConfig, OmegaConf\n",
    "from openpack_toolkit import OPENPACK_OPERATIONS\n",
    "from openpack_toolkit.codalab.operation_segmentation import (\n",
    "    construct_submission_dict, eval_operation_segmentation_wrapper,\n",
    "    make_submission_zipfile)\n",
    "\n",
    "\n",
    "sns.set(\"notebook\", \"whitegrid\")"
   ]
  },
  {
   "cell_type": "markdown",
   "id": "85f8cc4e-42a3-4ff2-a853-32c8992ba6b6",
   "metadata": {},
   "source": [
    "### 0-4: Setup Logger"
   ]
  },
  {
   "cell_type": "code",
   "execution_count": 2,
   "id": "88d0bdbf-b9cd-40cf-bfa0-e7f18c23b96f",
   "metadata": {},
   "outputs": [
    {
     "name": "stderr",
     "output_type": "stream",
     "text": [
      "2022-05-29 19:28:29 | INFO | __main__ | info\n",
      "2022-05-29 19:28:29 | WARNING | __main__ | warning\n"
     ]
    }
   ],
   "source": [
    "_ = optk.utils.notebook.setup_root_logger()\n",
    "logger = logging.getLogger(__name__)\n",
    "\n",
    "logger.debug(\"debug\")\n",
    "logger.info(\"info\")\n",
    "logger.warning(\"warning\")"
   ]
  },
  {
   "cell_type": "markdown",
   "id": "53707866-bfc4-49dc-9bba-5b7bab6e12da",
   "metadata": {},
   "source": [
    "## [1] Load Config File"
   ]
  },
  {
   "cell_type": "code",
   "execution_count": 3,
   "id": "f8ce8be4-ac7e-4b9c-88d9-66545265b102",
   "metadata": {
    "tags": []
   },
   "outputs": [
    {
     "name": "stdout",
     "output_type": "stream",
     "text": [
      "datarootdir: /content/data\n",
      "issue: I01-EXP1-V1\n",
      "debug: false\n",
      "mode: train\n",
      "train:\n",
      "  num_workers: 3\n",
      "  batch_size: 32\n",
      "  epochs: 200\n",
      "  window: 1800\n",
      "  optimizer:\n",
      "    type: Adam\n",
      "    lr: 0.001\n",
      "    weight_decay: 0.0001\n",
      "  debug:\n",
      "    batch_size: 8\n",
      "    epochs: 5\n",
      "volume:\n",
      "  logdir:\n",
      "    rootdir: ${datarootdir}/log/${dataset.name}/${model.name}/${issue}\n",
      "    model: ${volume.logdir.rootdir}/model.pth\n",
      "    predict: ${volume.logdir.rootdir}/pred/U{user:0=4}-S{session:0=4}\n",
      "    summary: ${volume.logdir.rootdir}/summary.csv\n",
      "model:\n",
      "  name: UNet\n",
      "  depth: 5\n",
      "dataset:\n",
      "  name: openpack-acc\n",
      "  volume:\n",
      "    rootdir: ${datarootdir}/datasets/openpack/\n",
      "  modality:\n",
      "    imu:\n",
      "      nodes:\n",
      "      - atr01\n",
      "      - atr02\n",
      "      use_acc: true\n",
      "      use_gyro: false\n",
      "      use_quat: false\n",
      "  split:\n",
      "    train:\n",
      "    - - 102\n",
      "      - 100\n",
      "    - - 102\n",
      "      - 200\n",
      "    - - 102\n",
      "      - 300\n",
      "    val:\n",
      "    - - 102\n",
      "      - 400\n",
      "    test:\n",
      "    - - 102\n",
      "      - 500\n",
      "    submission:\n",
      "    - - 102\n",
      "      - 500\n",
      "  num_classes: 10\n",
      "\n"
     ]
    }
   ],
   "source": [
    "config_dir = Path(\"/content/openpack-torch/configs\")\n",
    "overrides = [\n",
    "    \"mode=train\",\n",
    "    \"debug=false\",\n",
    "    \"datarootdir=/content/data\",\n",
    "    \"hydra/job_logging=custom\",\n",
    "    \"hydra/hydra_logging=disabled\"\n",
    "]\n",
    "\n",
    "with initialize_config_dir(version_base=None, config_dir=str(config_dir)):\n",
    "    cfg = compose(\n",
    "        config_name=\"operation-segmentation-unet.yaml\",\n",
    "        overrides=overrides,\n",
    "    )\n",
    "print(OmegaConf.to_yaml(cfg))"
   ]
  },
  {
   "cell_type": "markdown",
   "id": "7d581508-54ab-44b1-8351-d7e3a31efc0a",
   "metadata": {},
   "source": [
    "## [2] Define Utilities (Pytorch Lightning Modules)"
   ]
  },
  {
   "cell_type": "markdown",
   "id": "40f19069-4df8-49f6-9d10-3290b2709d23",
   "metadata": {},
   "source": [
    "### 2-1: DataModule\n",
    "\n",
    "Override `optorch.data.OpenPackBaseDataModule` to use IMU dataset."
   ]
  },
  {
   "cell_type": "code",
   "execution_count": 4,
   "id": "59e2f279-35fa-421d-b9aa-7b0042906759",
   "metadata": {},
   "outputs": [],
   "source": [
    "class OpenPackImuDataModule(optorch.data.OpenPackBaseDataModule):\n",
    "    dataset_class = optorch.data.datasets.OpenPackImu\n",
    "\n",
    "    def get_kwargs_for_datasets(self) -> Dict:\n",
    "        imu_cfg = self.cfg.dataset.modality.imu\n",
    "        kwargs = {\n",
    "            \"imu_nodes\": imu_cfg.nodes,\n",
    "            \"use_acc\": imu_cfg.use_acc,\n",
    "            \"use_gyro\": imu_cfg.use_gyro,\n",
    "            \"use_quat\": imu_cfg.use_quat,\n",
    "            \"window\": self.cfg.train.window,\n",
    "            \"debug\": self.cfg.debug,\n",
    "        }\n",
    "        return kwargs"
   ]
  },
  {
   "cell_type": "markdown",
   "id": "eca2982d-33b3-43bf-a3e8-705eeb097749",
   "metadata": {},
   "source": [
    "### 2-2: Lightning Module"
   ]
  },
  {
   "cell_type": "code",
   "execution_count": 5,
   "id": "652fef87-bb07-46b2-994f-ada53675ee7f",
   "metadata": {},
   "outputs": [],
   "source": [
    "class UNetLM(optorch.lightning.BaseLightningModule):\n",
    "\n",
    "    def init_model(self, cfg: DictConfig) -> torch.nn.Module:\n",
    "        imu_cfg = self.cfg.dataset.modality.imu\n",
    "        num_nodes = len(imu_cfg.nodes)\n",
    "\n",
    "        in_ch = 0\n",
    "        if imu_cfg.use_acc:\n",
    "            in_ch += num_nodes * 3\n",
    "        if imu_cfg.use_gyro:\n",
    "            in_ch += num_nodes * 3\n",
    "        if imu_cfg.use_quat:\n",
    "            in_ch += num_nodes * 4\n",
    "\n",
    "        model = optorch.models.imu.UNet(\n",
    "            in_ch,\n",
    "            cfg.dataset.num_classes,\n",
    "            depth=cfg.model.depth,\n",
    "        )\n",
    "        return model\n",
    "\n",
    "    def training_step(self, batch: Dict, batch_idx: int) -> Dict:\n",
    "        x = batch[\"x\"].to(device=self.device, dtype=torch.float)\n",
    "        t = batch[\"t\"].to(device=self.device, dtype=torch.long)\n",
    "        y_hat = self(x).squeeze(3)\n",
    "\n",
    "        loss = self.criterion(y_hat, t)\n",
    "        acc = self.calc_accuracy(y_hat, t)\n",
    "        return {\"loss\": loss, \"acc\": acc}\n",
    "\n",
    "    def test_step(self, batch: Dict, batch_idx: int) -> Dict:\n",
    "        x = batch[\"x\"].to(device=self.device, dtype=torch.float)\n",
    "        t = batch[\"t\"].to(device=self.device, dtype=torch.long)\n",
    "        ts_unix = batch[\"ts\"]\n",
    "\n",
    "        y_hat = self(x).squeeze(3)\n",
    "\n",
    "        outputs = dict(t=t, y=y_hat, unixtime=ts_unix)\n",
    "        return outputs\n"
   ]
  },
  {
   "cell_type": "code",
   "execution_count": null,
   "id": "47a06407-1935-4b2b-a843-d25ab545dd27",
   "metadata": {},
   "outputs": [],
   "source": []
  },
  {
   "cell_type": "markdown",
   "id": "8edefca6-e7a6-4316-a1c0-a2661ed3dfac",
   "metadata": {},
   "source": [
    "## [3] Train U-Net"
   ]
  },
  {
   "cell_type": "markdown",
   "id": "e7a61ead-99e5-4072-8fd3-e5abecc5529a",
   "metadata": {},
   "source": [
    "### 3-1: Initialize U-Net Model and DataLoader."
   ]
  },
  {
   "cell_type": "code",
   "execution_count": 6,
   "id": "f8d63c1a-20ce-4581-8e79-7826e2afd083",
   "metadata": {},
   "outputs": [
    {
     "name": "stderr",
     "output_type": "stream",
     "text": [
      "2022-05-29 19:28:48 | INFO | torch.distributed.nn.jit.instantiator | Created a temporary directory at /tmp/tmp9zjoagra\n",
      "2022-05-29 19:28:48 | INFO | torch.distributed.nn.jit.instantiator | Writing /tmp/tmp9zjoagra/_remote_module_non_sriptable.py\n"
     ]
    }
   ],
   "source": [
    "device = torch.device(\"cuda\")\n",
    "logdir = Path.cwd()\n",
    "logger.debug(f\"logdir = {logdir}\")\n",
    "\n",
    "datamodule = OpenPackImuDataModule(cfg)\n",
    "plmodel = UNetLM(cfg).to(dtype=torch.float, device=device)"
   ]
  },
  {
   "cell_type": "code",
   "execution_count": 7,
   "id": "c44f0a87-ca40-40d8-a6ee-16d9c38e0c1c",
   "metadata": {},
   "outputs": [
    {
     "data": {
      "text/plain": [
       "UNetLM(\n",
       "  (net): UNet(\n",
       "    (inc): Sequential(\n",
       "      (0): Conv2d(6, 32, kernel_size=(3, 1), stride=(1, 1), padding=(1, 0))\n",
       "      (1): BatchNorm2d(32, eps=1e-05, momentum=0.1, affine=True, track_running_stats=True)\n",
       "      (2): ReLU()\n",
       "    )\n",
       "    (encoder): UNetEncoder(\n",
       "      (conv_blocks): ModuleList(\n",
       "        (0): DownBlock(\n",
       "          (double_conv): Sequential(\n",
       "            (0): Conv2d(32, 32, kernel_size=(3, 1), stride=(1, 1), padding=(1, 0))\n",
       "            (1): BatchNorm2d(32, eps=1e-05, momentum=0.1, affine=True, track_running_stats=True)\n",
       "            (2): ReLU()\n",
       "            (3): Conv2d(32, 32, kernel_size=(3, 1), stride=(1, 1), padding=(1, 0))\n",
       "            (4): BatchNorm2d(32, eps=1e-05, momentum=0.1, affine=True, track_running_stats=True)\n",
       "            (5): ReLU()\n",
       "          )\n",
       "          (pool): MaxPool2d(kernel_size=(2, 1), stride=(2, 1), padding=0, dilation=1, ceil_mode=False)\n",
       "        )\n",
       "        (1): DownBlock(\n",
       "          (double_conv): Sequential(\n",
       "            (0): Conv2d(32, 64, kernel_size=(3, 1), stride=(1, 1), padding=(1, 0))\n",
       "            (1): BatchNorm2d(64, eps=1e-05, momentum=0.1, affine=True, track_running_stats=True)\n",
       "            (2): ReLU()\n",
       "            (3): Conv2d(64, 64, kernel_size=(3, 1), stride=(1, 1), padding=(1, 0))\n",
       "            (4): BatchNorm2d(64, eps=1e-05, momentum=0.1, affine=True, track_running_stats=True)\n",
       "            (5): ReLU()\n",
       "          )\n",
       "          (pool): MaxPool2d(kernel_size=(2, 1), stride=(2, 1), padding=0, dilation=1, ceil_mode=False)\n",
       "        )\n",
       "        (2): DownBlock(\n",
       "          (double_conv): Sequential(\n",
       "            (0): Conv2d(64, 128, kernel_size=(3, 1), stride=(1, 1), padding=(1, 0))\n",
       "            (1): BatchNorm2d(128, eps=1e-05, momentum=0.1, affine=True, track_running_stats=True)\n",
       "            (2): ReLU()\n",
       "            (3): Conv2d(128, 128, kernel_size=(3, 1), stride=(1, 1), padding=(1, 0))\n",
       "            (4): BatchNorm2d(128, eps=1e-05, momentum=0.1, affine=True, track_running_stats=True)\n",
       "            (5): ReLU()\n",
       "          )\n",
       "          (pool): MaxPool2d(kernel_size=(2, 1), stride=(2, 1), padding=0, dilation=1, ceil_mode=False)\n",
       "        )\n",
       "        (3): DownBlock(\n",
       "          (double_conv): Sequential(\n",
       "            (0): Conv2d(128, 256, kernel_size=(3, 1), stride=(1, 1), padding=(1, 0))\n",
       "            (1): BatchNorm2d(256, eps=1e-05, momentum=0.1, affine=True, track_running_stats=True)\n",
       "            (2): ReLU()\n",
       "            (3): Conv2d(256, 256, kernel_size=(3, 1), stride=(1, 1), padding=(1, 0))\n",
       "            (4): BatchNorm2d(256, eps=1e-05, momentum=0.1, affine=True, track_running_stats=True)\n",
       "            (5): ReLU()\n",
       "          )\n",
       "          (pool): MaxPool2d(kernel_size=(2, 1), stride=(2, 1), padding=0, dilation=1, ceil_mode=False)\n",
       "        )\n",
       "        (4): DownBlock(\n",
       "          (double_conv): Sequential(\n",
       "            (0): Conv2d(256, 512, kernel_size=(3, 1), stride=(1, 1), padding=(1, 0))\n",
       "            (1): BatchNorm2d(512, eps=1e-05, momentum=0.1, affine=True, track_running_stats=True)\n",
       "            (2): ReLU()\n",
       "            (3): Conv2d(512, 512, kernel_size=(3, 1), stride=(1, 1), padding=(1, 0))\n",
       "            (4): BatchNorm2d(512, eps=1e-05, momentum=0.1, affine=True, track_running_stats=True)\n",
       "            (5): ReLU()\n",
       "          )\n",
       "          (pool): MaxPool2d(kernel_size=(2, 1), stride=(2, 1), padding=0, dilation=1, ceil_mode=False)\n",
       "        )\n",
       "      )\n",
       "      (bottom): Sequential(\n",
       "        (0): Conv2d(512, 1024, kernel_size=(3, 1), stride=(1, 1), padding=(1, 0))\n",
       "        (1): BatchNorm2d(1024, eps=1e-05, momentum=0.1, affine=True, track_running_stats=True)\n",
       "        (2): ReLU()\n",
       "        (3): Conv2d(1024, 1024, kernel_size=(3, 1), stride=(1, 1), padding=(1, 0))\n",
       "        (4): BatchNorm2d(1024, eps=1e-05, momentum=0.1, affine=True, track_running_stats=True)\n",
       "        (5): ReLU()\n",
       "      )\n",
       "    )\n",
       "    (decoder): UNetDecoder(\n",
       "      (up_blocks): ModuleList(\n",
       "        (0): UpBlock(\n",
       "          (up): ConvTranspose2d(1024, 512, kernel_size=(1, 3), stride=(1, 2), padding=(0, 1))\n",
       "          (double_conv): Sequential(\n",
       "            (0): Conv2d(1024, 512, kernel_size=(3, 1), stride=(1, 1), padding=(1, 0))\n",
       "            (1): BatchNorm2d(512, eps=1e-05, momentum=0.1, affine=True, track_running_stats=True)\n",
       "            (2): ReLU()\n",
       "            (3): Conv2d(512, 512, kernel_size=(3, 1), stride=(1, 1), padding=(1, 0))\n",
       "            (4): BatchNorm2d(512, eps=1e-05, momentum=0.1, affine=True, track_running_stats=True)\n",
       "            (5): ReLU()\n",
       "          )\n",
       "        )\n",
       "        (1): UpBlock(\n",
       "          (up): ConvTranspose2d(512, 256, kernel_size=(1, 3), stride=(1, 2), padding=(0, 1))\n",
       "          (double_conv): Sequential(\n",
       "            (0): Conv2d(512, 256, kernel_size=(3, 1), stride=(1, 1), padding=(1, 0))\n",
       "            (1): BatchNorm2d(256, eps=1e-05, momentum=0.1, affine=True, track_running_stats=True)\n",
       "            (2): ReLU()\n",
       "            (3): Conv2d(256, 256, kernel_size=(3, 1), stride=(1, 1), padding=(1, 0))\n",
       "            (4): BatchNorm2d(256, eps=1e-05, momentum=0.1, affine=True, track_running_stats=True)\n",
       "            (5): ReLU()\n",
       "          )\n",
       "        )\n",
       "        (2): UpBlock(\n",
       "          (up): ConvTranspose2d(256, 128, kernel_size=(1, 3), stride=(1, 2), padding=(0, 1))\n",
       "          (double_conv): Sequential(\n",
       "            (0): Conv2d(256, 128, kernel_size=(3, 1), stride=(1, 1), padding=(1, 0))\n",
       "            (1): BatchNorm2d(128, eps=1e-05, momentum=0.1, affine=True, track_running_stats=True)\n",
       "            (2): ReLU()\n",
       "            (3): Conv2d(128, 128, kernel_size=(3, 1), stride=(1, 1), padding=(1, 0))\n",
       "            (4): BatchNorm2d(128, eps=1e-05, momentum=0.1, affine=True, track_running_stats=True)\n",
       "            (5): ReLU()\n",
       "          )\n",
       "        )\n",
       "        (3): UpBlock(\n",
       "          (up): ConvTranspose2d(128, 64, kernel_size=(1, 3), stride=(1, 2), padding=(0, 1))\n",
       "          (double_conv): Sequential(\n",
       "            (0): Conv2d(128, 64, kernel_size=(3, 1), stride=(1, 1), padding=(1, 0))\n",
       "            (1): BatchNorm2d(64, eps=1e-05, momentum=0.1, affine=True, track_running_stats=True)\n",
       "            (2): ReLU()\n",
       "            (3): Conv2d(64, 64, kernel_size=(3, 1), stride=(1, 1), padding=(1, 0))\n",
       "            (4): BatchNorm2d(64, eps=1e-05, momentum=0.1, affine=True, track_running_stats=True)\n",
       "            (5): ReLU()\n",
       "          )\n",
       "        )\n",
       "        (4): UpBlock(\n",
       "          (up): ConvTranspose2d(64, 32, kernel_size=(1, 3), stride=(1, 2), padding=(0, 1))\n",
       "          (double_conv): Sequential(\n",
       "            (0): Conv2d(64, 32, kernel_size=(3, 1), stride=(1, 1), padding=(1, 0))\n",
       "            (1): BatchNorm2d(32, eps=1e-05, momentum=0.1, affine=True, track_running_stats=True)\n",
       "            (2): ReLU()\n",
       "            (3): Conv2d(32, 32, kernel_size=(3, 1), stride=(1, 1), padding=(1, 0))\n",
       "            (4): BatchNorm2d(32, eps=1e-05, momentum=0.1, affine=True, track_running_stats=True)\n",
       "            (5): ReLU()\n",
       "          )\n",
       "        )\n",
       "      )\n",
       "    )\n",
       "    (dense_clf): Conv2d(32, 10, kernel_size=(1, 1), stride=(1, 1))\n",
       "  )\n",
       "  (criterion): CrossEntropyLoss()\n",
       ")"
      ]
     },
     "execution_count": 7,
     "metadata": {},
     "output_type": "execute_result"
    }
   ],
   "source": [
    "plmodel"
   ]
  },
  {
   "cell_type": "markdown",
   "id": "fc4bfa59-1e6e-4f6e-ba66-2f8b89c6cd61",
   "metadata": {},
   "source": [
    "### 3-2: Initialize Trainer"
   ]
  },
  {
   "cell_type": "code",
   "execution_count": 8,
   "id": "04df6672-0398-4daa-b38e-5b04e428db63",
   "metadata": {},
   "outputs": [
    {
     "name": "stderr",
     "output_type": "stream",
     "text": [
      "GPU available: True, used: True\n",
      "TPU available: False, using: 0 TPU cores\n",
      "IPU available: False, using: 0 IPUs\n",
      "HPU available: False, using: 0 HPUs\n"
     ]
    }
   ],
   "source": [
    "num_epoch = cfg.train.debug.epochs if cfg.debug else cfg.train.epochs\n",
    "# num_epoch = 10 # Set epochs manually for debugging\n",
    "\n",
    "checkpoint_callback = pl.callbacks.ModelCheckpoint(\n",
    "    save_top_k=0,\n",
    "    save_last=True,\n",
    "    monitor=None,\n",
    ")\n",
    "\n",
    "trainer = pl.Trainer(\n",
    "    gpus=[0],\n",
    "    max_epochs=num_epoch,\n",
    "    logger=False,  # disable logging module\n",
    "    default_root_dir=logdir,\n",
    "    enable_progress_bar=False,  # disable progress bar\n",
    "    enable_checkpointing=True,\n",
    "    callbacks=[checkpoint_callback],\n",
    ")\n",
    "logger.debug(f\"logdir = {logdir}\")"
   ]
  },
  {
   "cell_type": "markdown",
   "id": "996d74a9-b366-40c7-b344-d71a932e3482",
   "metadata": {},
   "source": [
    "### 3-3: Start training!"
   ]
  },
  {
   "cell_type": "code",
   "execution_count": 9,
   "id": "ccc3b111-16b1-41a1-b8a0-60112611968a",
   "metadata": {},
   "outputs": [
    {
     "name": "stderr",
     "output_type": "stream",
     "text": [
      "2022-05-29 19:28:51 | INFO | __main__ | Start training for 200 epochs.\n",
      "2022-05-29 19:28:51 | WARNING | openpack_torch.data.datasets | No preprocessing is applied.\n",
      "2022-05-29 19:28:52 | WARNING | openpack_torch.data.datasets | No preprocessing is applied.\n",
      "2022-05-29 19:28:52 | INFO | openpack_torch.data.datamodule | dataset[train]: OpenPackImu(index=132, num_sequence=3, submission=False)\n",
      "2022-05-29 19:28:52 | INFO | openpack_torch.data.datamodule | dataset[val]: {'U0102-S0400': <openpack_torch.data.datasets.OpenPackImu object at 0x7f95a5cddc70>}\n",
      "2022-05-29 19:28:52 | INFO | openpack_torch.data.datamodule | dataset[test]: None\n",
      "2022-05-29 19:28:52 | INFO | openpack_torch.data.datamodule | dataset[submission]: None\n",
      "LOCAL_RANK: 0 - CUDA_VISIBLE_DEVICES: [0]\n",
      "\n",
      "  | Name      | Type             | Params\n",
      "-----------------------------------------------\n",
      "0 | net       | UNet             | 11.5 M\n",
      "1 | criterion | CrossEntropyLoss | 0     \n",
      "-----------------------------------------------\n",
      "11.5 M    Trainable params\n",
      "0         Non-trainable params\n",
      "11.5 M    Total params\n",
      "46.197    Total estimated model params size (MB)\n",
      "2022-05-29 19:28:52 | INFO | openpack_torch.lightning | Epoch[000] TRAIN: loss=-1.0000, acc=-1.0000 | VAL: loss= 2.3270, acc= 0.0994\n",
      "2022-05-29 19:28:54 | INFO | openpack_torch.lightning | Epoch[000] TRAIN: loss=-1.0000, acc=-1.0000 | VAL: loss= 2.3216, acc= 0.2922\n",
      "2022-05-29 19:28:55 | INFO | openpack_torch.lightning | Epoch[001] TRAIN: loss= 2.2075, acc= 0.2049 | VAL: loss= 2.3109, acc= 0.1832\n",
      "2022-05-29 19:28:56 | INFO | openpack_torch.lightning | Epoch[002] TRAIN: loss= 2.0196, acc= 0.3243 | VAL: loss= 2.2851, acc= 0.2624\n",
      "2022-05-29 19:28:57 | INFO | openpack_torch.lightning | Epoch[003] TRAIN: loss= 1.9487, acc= 0.3774 | VAL: loss= 2.2170, acc= 0.2909\n",
      "2022-05-29 19:28:58 | INFO | openpack_torch.lightning | Epoch[004] TRAIN: loss= 1.8483, acc= 0.4116 | VAL: loss= 2.1055, acc= 0.3158\n",
      "2022-05-29 19:28:59 | INFO | openpack_torch.lightning | Epoch[005] TRAIN: loss= 1.7944, acc= 0.4379 | VAL: loss= 1.9474, acc= 0.3605\n",
      "2022-05-29 19:29:00 | INFO | openpack_torch.lightning | Epoch[006] TRAIN: loss= 1.7397, acc= 0.4443 | VAL: loss= 1.7560, acc= 0.4137\n",
      "2022-05-29 19:29:02 | INFO | openpack_torch.lightning | Epoch[007] TRAIN: loss= 1.6592, acc= 0.4788 | VAL: loss= 1.6167, acc= 0.4456\n",
      "2022-05-29 19:29:03 | INFO | openpack_torch.lightning | Epoch[008] TRAIN: loss= 1.6463, acc= 0.4696 | VAL: loss= 1.5258, acc= 0.4603\n",
      "2022-05-29 19:29:04 | INFO | openpack_torch.lightning | Epoch[009] TRAIN: loss= 1.5956, acc= 0.4970 | VAL: loss= 1.4361, acc= 0.5038\n",
      "2022-05-29 19:29:05 | INFO | openpack_torch.lightning | Epoch[010] TRAIN: loss= 1.5836, acc= 0.4949 | VAL: loss= 1.3986, acc= 0.5252\n",
      "2022-05-29 19:29:06 | INFO | openpack_torch.lightning | Epoch[011] TRAIN: loss= 1.5376, acc= 0.5033 | VAL: loss= 1.3603, acc= 0.5277\n",
      "2022-05-29 19:29:07 | INFO | openpack_torch.lightning | Epoch[012] TRAIN: loss= 1.5048, acc= 0.5192 | VAL: loss= 1.3117, acc= 0.5541\n",
      "2022-05-29 19:29:08 | INFO | openpack_torch.lightning | Epoch[013] TRAIN: loss= 1.4605, acc= 0.5327 | VAL: loss= 1.2929, acc= 0.5530\n",
      "2022-05-29 19:29:09 | INFO | openpack_torch.lightning | Epoch[014] TRAIN: loss= 1.4151, acc= 0.5628 | VAL: loss= 1.2471, acc= 0.5648\n",
      "2022-05-29 19:29:10 | INFO | openpack_torch.lightning | Epoch[015] TRAIN: loss= 1.3810, acc= 0.5694 | VAL: loss= 1.2216, acc= 0.5621\n",
      "2022-05-29 19:29:11 | INFO | openpack_torch.lightning | Epoch[016] TRAIN: loss= 1.3799, acc= 0.5510 | VAL: loss= 1.2021, acc= 0.5679\n",
      "2022-05-29 19:29:12 | INFO | openpack_torch.lightning | Epoch[017] TRAIN: loss= 1.3391, acc= 0.5700 | VAL: loss= 1.2007, acc= 0.5655\n",
      "2022-05-29 19:29:14 | INFO | openpack_torch.lightning | Epoch[018] TRAIN: loss= 1.3190, acc= 0.5781 | VAL: loss= 1.1512, acc= 0.5938\n",
      "2022-05-29 19:29:15 | INFO | openpack_torch.lightning | Epoch[019] TRAIN: loss= 1.3069, acc= 0.5746 | VAL: loss= 1.1198, acc= 0.5958\n",
      "2022-05-29 19:29:16 | INFO | openpack_torch.lightning | Epoch[020] TRAIN: loss= 1.2865, acc= 0.5786 | VAL: loss= 1.1602, acc= 0.5704\n",
      "2022-05-29 19:29:17 | INFO | openpack_torch.lightning | Epoch[021] TRAIN: loss= 1.2687, acc= 0.5747 | VAL: loss= 1.1389, acc= 0.5731\n",
      "2022-05-29 19:29:18 | INFO | openpack_torch.lightning | Epoch[022] TRAIN: loss= 1.2879, acc= 0.5651 | VAL: loss= 1.1177, acc= 0.5886\n",
      "2022-05-29 19:29:19 | INFO | openpack_torch.lightning | Epoch[023] TRAIN: loss= 1.2689, acc= 0.5745 | VAL: loss= 1.1777, acc= 0.5723\n",
      "2022-05-29 19:29:20 | INFO | openpack_torch.lightning | Epoch[024] TRAIN: loss= 1.2099, acc= 0.5973 | VAL: loss= 1.1315, acc= 0.5792\n",
      "2022-05-29 19:29:21 | INFO | openpack_torch.lightning | Epoch[025] TRAIN: loss= 1.2265, acc= 0.5887 | VAL: loss= 1.0814, acc= 0.6003\n",
      "2022-05-29 19:29:22 | INFO | openpack_torch.lightning | Epoch[026] TRAIN: loss= 1.1896, acc= 0.5972 | VAL: loss= 1.0800, acc= 0.5997\n",
      "2022-05-29 19:29:23 | INFO | openpack_torch.lightning | Epoch[027] TRAIN: loss= 1.1564, acc= 0.6188 | VAL: loss= 1.0469, acc= 0.6028\n",
      "2022-05-29 19:29:24 | INFO | openpack_torch.lightning | Epoch[028] TRAIN: loss= 1.1731, acc= 0.6096 | VAL: loss= 1.0616, acc= 0.5892\n",
      "2022-05-29 19:29:26 | INFO | openpack_torch.lightning | Epoch[029] TRAIN: loss= 1.2174, acc= 0.5811 | VAL: loss= 1.0424, acc= 0.5994\n",
      "2022-05-29 19:29:27 | INFO | openpack_torch.lightning | Epoch[030] TRAIN: loss= 1.2013, acc= 0.5847 | VAL: loss= 1.0060, acc= 0.6073\n",
      "2022-05-29 19:29:28 | INFO | openpack_torch.lightning | Epoch[031] TRAIN: loss= 1.1575, acc= 0.6229 | VAL: loss= 0.9790, acc= 0.6275\n",
      "2022-05-29 19:29:29 | INFO | openpack_torch.lightning | Epoch[032] TRAIN: loss= 1.1309, acc= 0.6113 | VAL: loss= 1.0008, acc= 0.6143\n",
      "2022-05-29 19:29:30 | INFO | openpack_torch.lightning | Epoch[033] TRAIN: loss= 1.1871, acc= 0.5879 | VAL: loss= 1.0318, acc= 0.5870\n",
      "2022-05-29 19:29:31 | INFO | openpack_torch.lightning | Epoch[034] TRAIN: loss= 1.1130, acc= 0.6223 | VAL: loss= 0.9939, acc= 0.6113\n",
      "2022-05-29 19:29:32 | INFO | openpack_torch.lightning | Epoch[035] TRAIN: loss= 1.0615, acc= 0.6416 | VAL: loss= 0.9900, acc= 0.6091\n",
      "2022-05-29 19:29:33 | INFO | openpack_torch.lightning | Epoch[036] TRAIN: loss= 1.1494, acc= 0.6063 | VAL: loss= 0.9702, acc= 0.6208\n",
      "2022-05-29 19:29:34 | INFO | openpack_torch.lightning | Epoch[037] TRAIN: loss= 1.0535, acc= 0.6461 | VAL: loss= 0.9687, acc= 0.6264\n",
      "2022-05-29 19:29:35 | INFO | openpack_torch.lightning | Epoch[038] TRAIN: loss= 1.0263, acc= 0.6528 | VAL: loss= 0.9544, acc= 0.6267\n",
      "2022-05-29 19:29:37 | INFO | openpack_torch.lightning | Epoch[039] TRAIN: loss= 1.0365, acc= 0.6262 | VAL: loss= 0.9484, acc= 0.6247\n",
      "2022-05-29 19:29:38 | INFO | openpack_torch.lightning | Epoch[040] TRAIN: loss= 1.1401, acc= 0.6096 | VAL: loss= 0.9947, acc= 0.6028\n",
      "2022-05-29 19:29:39 | INFO | openpack_torch.lightning | Epoch[041] TRAIN: loss= 1.0631, acc= 0.6299 | VAL: loss= 0.9805, acc= 0.6088\n",
      "2022-05-29 19:29:40 | INFO | openpack_torch.lightning | Epoch[042] TRAIN: loss= 1.0174, acc= 0.6512 | VAL: loss= 0.9447, acc= 0.6351\n",
      "2022-05-29 19:29:41 | INFO | openpack_torch.lightning | Epoch[043] TRAIN: loss= 1.0478, acc= 0.6336 | VAL: loss= 0.9192, acc= 0.6329\n",
      "2022-05-29 19:29:42 | INFO | openpack_torch.lightning | Epoch[044] TRAIN: loss= 1.0446, acc= 0.6340 | VAL: loss= 0.9165, acc= 0.6387\n",
      "2022-05-29 19:29:43 | INFO | openpack_torch.lightning | Epoch[045] TRAIN: loss= 1.0143, acc= 0.6431 | VAL: loss= 0.9273, acc= 0.6336\n",
      "2022-05-29 19:29:45 | INFO | openpack_torch.lightning | Epoch[046] TRAIN: loss= 1.0104, acc= 0.6511 | VAL: loss= 0.9289, acc= 0.6303\n",
      "2022-05-29 19:29:46 | INFO | openpack_torch.lightning | Epoch[047] TRAIN: loss= 0.9724, acc= 0.6642 | VAL: loss= 0.9600, acc= 0.6217\n",
      "2022-05-29 19:29:47 | INFO | openpack_torch.lightning | Epoch[048] TRAIN: loss= 1.0173, acc= 0.6429 | VAL: loss= 0.9544, acc= 0.6187\n",
      "2022-05-29 19:29:49 | INFO | openpack_torch.lightning | Epoch[049] TRAIN: loss= 0.9693, acc= 0.6568 | VAL: loss= 0.9165, acc= 0.6394\n",
      "2022-05-29 19:29:50 | INFO | openpack_torch.lightning | Epoch[050] TRAIN: loss= 1.0003, acc= 0.6480 | VAL: loss= 0.9329, acc= 0.6395\n",
      "2022-05-29 19:29:52 | INFO | openpack_torch.lightning | Epoch[051] TRAIN: loss= 0.9753, acc= 0.6625 | VAL: loss= 0.8875, acc= 0.6438\n",
      "2022-05-29 19:29:53 | INFO | openpack_torch.lightning | Epoch[052] TRAIN: loss= 0.9789, acc= 0.6527 | VAL: loss= 0.9201, acc= 0.6355\n",
      "2022-05-29 19:29:55 | INFO | openpack_torch.lightning | Epoch[053] TRAIN: loss= 0.9562, acc= 0.6646 | VAL: loss= 0.9055, acc= 0.6401\n",
      "2022-05-29 19:29:56 | INFO | openpack_torch.lightning | Epoch[054] TRAIN: loss= 0.9801, acc= 0.6559 | VAL: loss= 0.9812, acc= 0.6134\n",
      "2022-05-29 19:29:58 | INFO | openpack_torch.lightning | Epoch[055] TRAIN: loss= 0.9640, acc= 0.6518 | VAL: loss= 0.8966, acc= 0.6346\n",
      "2022-05-29 19:29:59 | INFO | openpack_torch.lightning | Epoch[056] TRAIN: loss= 1.0470, acc= 0.6296 | VAL: loss= 0.8799, acc= 0.6459\n",
      "2022-05-29 19:30:01 | INFO | openpack_torch.lightning | Epoch[057] TRAIN: loss= 0.9844, acc= 0.6415 | VAL: loss= 0.9275, acc= 0.6216\n",
      "2022-05-29 19:30:02 | INFO | openpack_torch.lightning | Epoch[058] TRAIN: loss= 0.9766, acc= 0.6490 | VAL: loss= 0.9065, acc= 0.6285\n",
      "2022-05-29 19:30:04 | INFO | openpack_torch.lightning | Epoch[059] TRAIN: loss= 0.9768, acc= 0.6559 | VAL: loss= 0.9215, acc= 0.6416\n",
      "2022-05-29 19:30:05 | INFO | openpack_torch.lightning | Epoch[060] TRAIN: loss= 0.9938, acc= 0.6527 | VAL: loss= 0.8896, acc= 0.6460\n",
      "2022-05-29 19:30:07 | INFO | openpack_torch.lightning | Epoch[061] TRAIN: loss= 0.9393, acc= 0.6616 | VAL: loss= 0.8928, acc= 0.6308\n",
      "2022-05-29 19:30:08 | INFO | openpack_torch.lightning | Epoch[062] TRAIN: loss= 1.0487, acc= 0.6345 | VAL: loss= 0.9497, acc= 0.6188\n",
      "2022-05-29 19:30:10 | INFO | openpack_torch.lightning | Epoch[063] TRAIN: loss= 0.9232, acc= 0.6733 | VAL: loss= 0.9017, acc= 0.6385\n",
      "2022-05-29 19:30:11 | INFO | openpack_torch.lightning | Epoch[064] TRAIN: loss= 1.0218, acc= 0.6507 | VAL: loss= 0.9109, acc= 0.6261\n",
      "2022-05-29 19:30:12 | INFO | openpack_torch.lightning | Epoch[065] TRAIN: loss= 0.9271, acc= 0.6797 | VAL: loss= 0.8945, acc= 0.6220\n",
      "2022-05-29 19:30:14 | INFO | openpack_torch.lightning | Epoch[066] TRAIN: loss= 0.9914, acc= 0.6566 | VAL: loss= 0.8698, acc= 0.6465\n",
      "2022-05-29 19:30:15 | INFO | openpack_torch.lightning | Epoch[067] TRAIN: loss= 0.9278, acc= 0.6709 | VAL: loss= 0.8696, acc= 0.6514\n",
      "2022-05-29 19:30:17 | INFO | openpack_torch.lightning | Epoch[068] TRAIN: loss= 0.8984, acc= 0.6784 | VAL: loss= 0.9132, acc= 0.6317\n",
      "2022-05-29 19:30:18 | INFO | openpack_torch.lightning | Epoch[069] TRAIN: loss= 0.8995, acc= 0.6866 | VAL: loss= 0.8762, acc= 0.6385\n",
      "2022-05-29 19:30:20 | INFO | openpack_torch.lightning | Epoch[070] TRAIN: loss= 1.0503, acc= 0.6443 | VAL: loss= 0.8814, acc= 0.6399\n",
      "2022-05-29 19:30:21 | INFO | openpack_torch.lightning | Epoch[071] TRAIN: loss= 0.9703, acc= 0.6558 | VAL: loss= 0.9170, acc= 0.6144\n",
      "2022-05-29 19:30:23 | INFO | openpack_torch.lightning | Epoch[072] TRAIN: loss= 0.8854, acc= 0.6871 | VAL: loss= 0.8607, acc= 0.6498\n",
      "2022-05-29 19:30:24 | INFO | openpack_torch.lightning | Epoch[073] TRAIN: loss= 0.9069, acc= 0.6874 | VAL: loss= 0.8850, acc= 0.6465\n",
      "2022-05-29 19:30:26 | INFO | openpack_torch.lightning | Epoch[074] TRAIN: loss= 0.8689, acc= 0.6898 | VAL: loss= 0.8505, acc= 0.6551\n",
      "2022-05-29 19:30:27 | INFO | openpack_torch.lightning | Epoch[075] TRAIN: loss= 0.8702, acc= 0.6894 | VAL: loss= 0.8739, acc= 0.6539\n",
      "2022-05-29 19:30:29 | INFO | openpack_torch.lightning | Epoch[076] TRAIN: loss= 0.8668, acc= 0.6998 | VAL: loss= 0.8830, acc= 0.6485\n",
      "2022-05-29 19:30:30 | INFO | openpack_torch.lightning | Epoch[077] TRAIN: loss= 0.8393, acc= 0.7032 | VAL: loss= 0.8581, acc= 0.6415\n",
      "2022-05-29 19:30:32 | INFO | openpack_torch.lightning | Epoch[078] TRAIN: loss= 0.8844, acc= 0.6934 | VAL: loss= 0.8783, acc= 0.6453\n",
      "2022-05-29 19:30:33 | INFO | openpack_torch.lightning | Epoch[079] TRAIN: loss= 0.8375, acc= 0.7001 | VAL: loss= 0.8574, acc= 0.6487\n",
      "2022-05-29 19:30:35 | INFO | openpack_torch.lightning | Epoch[080] TRAIN: loss= 0.9049, acc= 0.6808 | VAL: loss= 0.9072, acc= 0.6205\n",
      "2022-05-29 19:30:36 | INFO | openpack_torch.lightning | Epoch[081] TRAIN: loss= 0.9868, acc= 0.6576 | VAL: loss= 0.8728, acc= 0.6242\n",
      "2022-05-29 19:30:37 | INFO | openpack_torch.lightning | Epoch[082] TRAIN: loss= 0.9115, acc= 0.6811 | VAL: loss= 0.8711, acc= 0.6496\n",
      "2022-05-29 19:30:39 | INFO | openpack_torch.lightning | Epoch[083] TRAIN: loss= 0.8598, acc= 0.6771 | VAL: loss= 0.8932, acc= 0.6438\n",
      "2022-05-29 19:30:40 | INFO | openpack_torch.lightning | Epoch[084] TRAIN: loss= 0.8620, acc= 0.6985 | VAL: loss= 0.8516, acc= 0.6476\n",
      "2022-05-29 19:30:41 | INFO | openpack_torch.lightning | Epoch[085] TRAIN: loss= 0.8746, acc= 0.6892 | VAL: loss= 0.8811, acc= 0.6418\n",
      "2022-05-29 19:30:43 | INFO | openpack_torch.lightning | Epoch[086] TRAIN: loss= 0.8754, acc= 0.6759 | VAL: loss= 0.9129, acc= 0.6283\n",
      "2022-05-29 19:30:44 | INFO | openpack_torch.lightning | Epoch[087] TRAIN: loss= 0.9225, acc= 0.6706 | VAL: loss= 0.9219, acc= 0.6308\n",
      "2022-05-29 19:30:45 | INFO | openpack_torch.lightning | Epoch[088] TRAIN: loss= 0.9277, acc= 0.6663 | VAL: loss= 0.8870, acc= 0.6528\n",
      "2022-05-29 19:30:47 | INFO | openpack_torch.lightning | Epoch[089] TRAIN: loss= 0.8583, acc= 0.6955 | VAL: loss= 0.8570, acc= 0.6438\n",
      "2022-05-29 19:30:48 | INFO | openpack_torch.lightning | Epoch[090] TRAIN: loss= 0.8534, acc= 0.6999 | VAL: loss= 0.8590, acc= 0.6439\n",
      "2022-05-29 19:30:49 | INFO | openpack_torch.lightning | Epoch[091] TRAIN: loss= 0.8896, acc= 0.6870 | VAL: loss= 0.8365, acc= 0.6613\n",
      "2022-05-29 19:30:51 | INFO | openpack_torch.lightning | Epoch[092] TRAIN: loss= 0.8709, acc= 0.6892 | VAL: loss= 0.8523, acc= 0.6414\n",
      "2022-05-29 19:30:52 | INFO | openpack_torch.lightning | Epoch[093] TRAIN: loss= 0.8320, acc= 0.7059 | VAL: loss= 0.8652, acc= 0.6349\n",
      "2022-05-29 19:30:53 | INFO | openpack_torch.lightning | Epoch[094] TRAIN: loss= 0.8467, acc= 0.7016 | VAL: loss= 0.8555, acc= 0.6467\n",
      "2022-05-29 19:30:55 | INFO | openpack_torch.lightning | Epoch[095] TRAIN: loss= 0.8876, acc= 0.6798 | VAL: loss= 0.9046, acc= 0.6305\n",
      "2022-05-29 19:30:56 | INFO | openpack_torch.lightning | Epoch[096] TRAIN: loss= 0.8555, acc= 0.6958 | VAL: loss= 0.9233, acc= 0.6253\n",
      "2022-05-29 19:30:57 | INFO | openpack_torch.lightning | Epoch[097] TRAIN: loss= 0.8670, acc= 0.6932 | VAL: loss= 0.8552, acc= 0.6475\n",
      "2022-05-29 19:30:59 | INFO | openpack_torch.lightning | Epoch[098] TRAIN: loss= 0.8901, acc= 0.6803 | VAL: loss= 0.8700, acc= 0.6365\n",
      "2022-05-29 19:31:00 | INFO | openpack_torch.lightning | Epoch[099] TRAIN: loss= 0.8203, acc= 0.7013 | VAL: loss= 0.8405, acc= 0.6498\n",
      "2022-05-29 19:31:02 | INFO | openpack_torch.lightning | Epoch[100] TRAIN: loss= 0.8413, acc= 0.6939 | VAL: loss= 0.8927, acc= 0.6274\n",
      "2022-05-29 19:31:03 | INFO | openpack_torch.lightning | Epoch[101] TRAIN: loss= 0.8360, acc= 0.6972 | VAL: loss= 0.8661, acc= 0.6409\n",
      "2022-05-29 19:31:05 | INFO | openpack_torch.lightning | Epoch[102] TRAIN: loss= 0.8311, acc= 0.7043 | VAL: loss= 0.8228, acc= 0.6525\n",
      "2022-05-29 19:31:06 | INFO | openpack_torch.lightning | Epoch[103] TRAIN: loss= 0.7954, acc= 0.7172 | VAL: loss= 0.8275, acc= 0.6597\n",
      "2022-05-29 19:31:07 | INFO | openpack_torch.lightning | Epoch[104] TRAIN: loss= 0.8867, acc= 0.6840 | VAL: loss= 0.8534, acc= 0.6532\n",
      "2022-05-29 19:31:09 | INFO | openpack_torch.lightning | Epoch[105] TRAIN: loss= 0.8784, acc= 0.6925 | VAL: loss= 0.8450, acc= 0.6504\n",
      "2022-05-29 19:31:10 | INFO | openpack_torch.lightning | Epoch[106] TRAIN: loss= 0.8491, acc= 0.6966 | VAL: loss= 0.8926, acc= 0.6322\n",
      "2022-05-29 19:31:11 | INFO | openpack_torch.lightning | Epoch[107] TRAIN: loss= 0.9312, acc= 0.6744 | VAL: loss= 0.9126, acc= 0.6219\n",
      "2022-05-29 19:31:13 | INFO | openpack_torch.lightning | Epoch[108] TRAIN: loss= 0.7853, acc= 0.7221 | VAL: loss= 0.8570, acc= 0.6438\n",
      "2022-05-29 19:31:14 | INFO | openpack_torch.lightning | Epoch[109] TRAIN: loss= 0.8548, acc= 0.6976 | VAL: loss= 0.8275, acc= 0.6550\n",
      "2022-05-29 19:31:15 | INFO | openpack_torch.lightning | Epoch[110] TRAIN: loss= 0.8025, acc= 0.7168 | VAL: loss= 0.8518, acc= 0.6439\n",
      "2022-05-29 19:31:17 | INFO | openpack_torch.lightning | Epoch[111] TRAIN: loss= 0.7762, acc= 0.7242 | VAL: loss= 0.8483, acc= 0.6595\n",
      "2022-05-29 19:31:18 | INFO | openpack_torch.lightning | Epoch[112] TRAIN: loss= 0.7417, acc= 0.7352 | VAL: loss= 0.8440, acc= 0.6506\n",
      "2022-05-29 19:31:19 | INFO | openpack_torch.lightning | Epoch[113] TRAIN: loss= 0.7974, acc= 0.7251 | VAL: loss= 0.8625, acc= 0.6438\n",
      "2022-05-29 19:31:21 | INFO | openpack_torch.lightning | Epoch[114] TRAIN: loss= 0.7412, acc= 0.7405 | VAL: loss= 0.8360, acc= 0.6596\n",
      "2022-05-29 19:31:22 | INFO | openpack_torch.lightning | Epoch[115] TRAIN: loss= 0.7727, acc= 0.7307 | VAL: loss= 0.8779, acc= 0.6403\n",
      "2022-05-29 19:31:23 | INFO | openpack_torch.lightning | Epoch[116] TRAIN: loss= 0.7392, acc= 0.7359 | VAL: loss= 0.8941, acc= 0.6351\n",
      "2022-05-29 19:31:25 | INFO | openpack_torch.lightning | Epoch[117] TRAIN: loss= 0.7934, acc= 0.7151 | VAL: loss= 0.8503, acc= 0.6465\n",
      "2022-05-29 19:31:26 | INFO | openpack_torch.lightning | Epoch[118] TRAIN: loss= 0.7396, acc= 0.7411 | VAL: loss= 0.8706, acc= 0.6372\n",
      "2022-05-29 19:31:27 | INFO | openpack_torch.lightning | Epoch[119] TRAIN: loss= 0.8356, acc= 0.7029 | VAL: loss= 0.8879, acc= 0.6263\n",
      "2022-05-29 19:31:29 | INFO | openpack_torch.lightning | Epoch[120] TRAIN: loss= 0.8846, acc= 0.6872 | VAL: loss= 0.8738, acc= 0.6424\n",
      "2022-05-29 19:31:30 | INFO | openpack_torch.lightning | Epoch[121] TRAIN: loss= 0.7571, acc= 0.7308 | VAL: loss= 0.8697, acc= 0.6537\n",
      "2022-05-29 19:31:31 | INFO | openpack_torch.lightning | Epoch[122] TRAIN: loss= 0.8798, acc= 0.6773 | VAL: loss= 0.9130, acc= 0.6301\n",
      "2022-05-29 19:31:33 | INFO | openpack_torch.lightning | Epoch[123] TRAIN: loss= 0.8000, acc= 0.7132 | VAL: loss= 0.8957, acc= 0.6362\n",
      "2022-05-29 19:31:34 | INFO | openpack_torch.lightning | Epoch[124] TRAIN: loss= 0.7639, acc= 0.7280 | VAL: loss= 0.9014, acc= 0.6271\n",
      "2022-05-29 19:31:36 | INFO | openpack_torch.lightning | Epoch[125] TRAIN: loss= 0.7655, acc= 0.7279 | VAL: loss= 0.8690, acc= 0.6469\n",
      "2022-05-29 19:31:37 | INFO | openpack_torch.lightning | Epoch[126] TRAIN: loss= 0.8220, acc= 0.7130 | VAL: loss= 0.8660, acc= 0.6391\n",
      "2022-05-29 19:31:38 | INFO | openpack_torch.lightning | Epoch[127] TRAIN: loss= 0.8262, acc= 0.6900 | VAL: loss= 0.8781, acc= 0.6446\n",
      "2022-05-29 19:31:40 | INFO | openpack_torch.lightning | Epoch[128] TRAIN: loss= 0.7433, acc= 0.7328 | VAL: loss= 0.9591, acc= 0.6286\n",
      "2022-05-29 19:31:41 | INFO | openpack_torch.lightning | Epoch[129] TRAIN: loss= 0.7957, acc= 0.7231 | VAL: loss= 0.9293, acc= 0.6272\n",
      "2022-05-29 19:31:43 | INFO | openpack_torch.lightning | Epoch[130] TRAIN: loss= 0.8122, acc= 0.7142 | VAL: loss= 0.8782, acc= 0.6374\n",
      "2022-05-29 19:31:44 | INFO | openpack_torch.lightning | Epoch[131] TRAIN: loss= 0.7863, acc= 0.7180 | VAL: loss= 0.8768, acc= 0.6307\n",
      "2022-05-29 19:31:46 | INFO | openpack_torch.lightning | Epoch[132] TRAIN: loss= 0.7812, acc= 0.7192 | VAL: loss= 0.8788, acc= 0.6387\n",
      "2022-05-29 19:31:47 | INFO | openpack_torch.lightning | Epoch[133] TRAIN: loss= 0.7621, acc= 0.7209 | VAL: loss= 0.8246, acc= 0.6524\n",
      "2022-05-29 19:31:48 | INFO | openpack_torch.lightning | Epoch[134] TRAIN: loss= 0.7278, acc= 0.7393 | VAL: loss= 0.8280, acc= 0.6615\n",
      "2022-05-29 19:31:50 | INFO | openpack_torch.lightning | Epoch[135] TRAIN: loss= 0.9328, acc= 0.6805 | VAL: loss= 0.8677, acc= 0.6467\n",
      "2022-05-29 19:31:51 | INFO | openpack_torch.lightning | Epoch[136] TRAIN: loss= 0.7454, acc= 0.7334 | VAL: loss= 0.8501, acc= 0.6494\n",
      "2022-05-29 19:31:52 | INFO | openpack_torch.lightning | Epoch[137] TRAIN: loss= 0.8252, acc= 0.7186 | VAL: loss= 0.8621, acc= 0.6337\n",
      "2022-05-29 19:31:54 | INFO | openpack_torch.lightning | Epoch[138] TRAIN: loss= 0.7418, acc= 0.7297 | VAL: loss= 0.8682, acc= 0.6427\n",
      "2022-05-29 19:31:55 | INFO | openpack_torch.lightning | Epoch[139] TRAIN: loss= 0.8175, acc= 0.7150 | VAL: loss= 0.8704, acc= 0.6410\n",
      "2022-05-29 19:31:57 | INFO | openpack_torch.lightning | Epoch[140] TRAIN: loss= 0.7589, acc= 0.7299 | VAL: loss= 0.8334, acc= 0.6625\n",
      "2022-05-29 19:31:58 | INFO | openpack_torch.lightning | Epoch[141] TRAIN: loss= 0.7254, acc= 0.7414 | VAL: loss= 0.8533, acc= 0.6475\n",
      "2022-05-29 19:31:59 | INFO | openpack_torch.lightning | Epoch[142] TRAIN: loss= 0.7058, acc= 0.7522 | VAL: loss= 0.9010, acc= 0.6396\n",
      "2022-05-29 19:32:01 | INFO | openpack_torch.lightning | Epoch[143] TRAIN: loss= 0.6979, acc= 0.7498 | VAL: loss= 0.8595, acc= 0.6527\n",
      "2022-05-29 19:32:02 | INFO | openpack_torch.lightning | Epoch[144] TRAIN: loss= 0.7146, acc= 0.7423 | VAL: loss= 0.8408, acc= 0.6621\n",
      "2022-05-29 19:32:04 | INFO | openpack_torch.lightning | Epoch[145] TRAIN: loss= 0.7667, acc= 0.7307 | VAL: loss= 0.8674, acc= 0.6399\n",
      "2022-05-29 19:32:05 | INFO | openpack_torch.lightning | Epoch[146] TRAIN: loss= 0.7760, acc= 0.7270 | VAL: loss= 0.8662, acc= 0.6342\n",
      "2022-05-29 19:32:06 | INFO | openpack_torch.lightning | Epoch[147] TRAIN: loss= 0.7753, acc= 0.7232 | VAL: loss= 0.8447, acc= 0.6520\n",
      "2022-05-29 19:32:08 | INFO | openpack_torch.lightning | Epoch[148] TRAIN: loss= 0.7436, acc= 0.7319 | VAL: loss= 0.8618, acc= 0.6507\n",
      "2022-05-29 19:32:09 | INFO | openpack_torch.lightning | Epoch[149] TRAIN: loss= 0.7077, acc= 0.7472 | VAL: loss= 0.8427, acc= 0.6483\n",
      "2022-05-29 19:32:10 | INFO | openpack_torch.lightning | Epoch[150] TRAIN: loss= 0.7672, acc= 0.7321 | VAL: loss= 0.8217, acc= 0.6554\n",
      "2022-05-29 19:32:12 | INFO | openpack_torch.lightning | Epoch[151] TRAIN: loss= 0.7762, acc= 0.7198 | VAL: loss= 0.8630, acc= 0.6446\n",
      "2022-05-29 19:32:13 | INFO | openpack_torch.lightning | Epoch[152] TRAIN: loss= 0.8300, acc= 0.7102 | VAL: loss= 0.8832, acc= 0.6494\n",
      "2022-05-29 19:32:14 | INFO | openpack_torch.lightning | Epoch[153] TRAIN: loss= 0.7515, acc= 0.7308 | VAL: loss= 0.8426, acc= 0.6658\n",
      "2022-05-29 19:32:16 | INFO | openpack_torch.lightning | Epoch[154] TRAIN: loss= 0.8594, acc= 0.6996 | VAL: loss= 0.9043, acc= 0.6445\n",
      "2022-05-29 19:32:17 | INFO | openpack_torch.lightning | Epoch[155] TRAIN: loss= 0.7428, acc= 0.7301 | VAL: loss= 0.8860, acc= 0.6348\n",
      "2022-05-29 19:32:19 | INFO | openpack_torch.lightning | Epoch[156] TRAIN: loss= 0.7613, acc= 0.7313 | VAL: loss= 0.8178, acc= 0.6614\n",
      "2022-05-29 19:32:20 | INFO | openpack_torch.lightning | Epoch[157] TRAIN: loss= 0.6993, acc= 0.7499 | VAL: loss= 0.8276, acc= 0.6661\n",
      "2022-05-29 19:32:21 | INFO | openpack_torch.lightning | Epoch[158] TRAIN: loss= 0.7509, acc= 0.7316 | VAL: loss= 0.8569, acc= 0.6497\n",
      "2022-05-29 19:32:23 | INFO | openpack_torch.lightning | Epoch[159] TRAIN: loss= 0.6900, acc= 0.7498 | VAL: loss= 0.8495, acc= 0.6588\n",
      "2022-05-29 19:32:24 | INFO | openpack_torch.lightning | Epoch[160] TRAIN: loss= 0.6846, acc= 0.7508 | VAL: loss= 0.8449, acc= 0.6597\n",
      "2022-05-29 19:32:26 | INFO | openpack_torch.lightning | Epoch[161] TRAIN: loss= 0.6840, acc= 0.7582 | VAL: loss= 0.8525, acc= 0.6510\n",
      "2022-05-29 19:32:27 | INFO | openpack_torch.lightning | Epoch[162] TRAIN: loss= 0.7003, acc= 0.7498 | VAL: loss= 0.8904, acc= 0.6290\n",
      "2022-05-29 19:32:28 | INFO | openpack_torch.lightning | Epoch[163] TRAIN: loss= 0.8568, acc= 0.6996 | VAL: loss= 1.0649, acc= 0.5951\n",
      "2022-05-29 19:32:30 | INFO | openpack_torch.lightning | Epoch[164] TRAIN: loss= 0.7445, acc= 0.7295 | VAL: loss= 0.8601, acc= 0.6507\n",
      "2022-05-29 19:32:31 | INFO | openpack_torch.lightning | Epoch[165] TRAIN: loss= 0.7406, acc= 0.7340 | VAL: loss= 0.8737, acc= 0.6386\n",
      "2022-05-29 19:32:33 | INFO | openpack_torch.lightning | Epoch[166] TRAIN: loss= 0.7294, acc= 0.7358 | VAL: loss= 0.8850, acc= 0.6263\n",
      "2022-05-29 19:32:34 | INFO | openpack_torch.lightning | Epoch[167] TRAIN: loss= 0.7585, acc= 0.7270 | VAL: loss= 0.8653, acc= 0.6413\n",
      "2022-05-29 19:32:35 | INFO | openpack_torch.lightning | Epoch[168] TRAIN: loss= 0.7141, acc= 0.7440 | VAL: loss= 0.8622, acc= 0.6528\n",
      "2022-05-29 19:32:37 | INFO | openpack_torch.lightning | Epoch[169] TRAIN: loss= 0.7077, acc= 0.7438 | VAL: loss= 0.8613, acc= 0.6500\n",
      "2022-05-29 19:32:38 | INFO | openpack_torch.lightning | Epoch[170] TRAIN: loss= 0.7190, acc= 0.7457 | VAL: loss= 0.8879, acc= 0.6450\n",
      "2022-05-29 19:32:39 | INFO | openpack_torch.lightning | Epoch[171] TRAIN: loss= 0.7911, acc= 0.7188 | VAL: loss= 0.8603, acc= 0.6385\n",
      "2022-05-29 19:32:41 | INFO | openpack_torch.lightning | Epoch[172] TRAIN: loss= 0.7165, acc= 0.7447 | VAL: loss= 0.8544, acc= 0.6292\n",
      "2022-05-29 19:32:42 | INFO | openpack_torch.lightning | Epoch[173] TRAIN: loss= 0.7480, acc= 0.7313 | VAL: loss= 0.8644, acc= 0.6337\n",
      "2022-05-29 19:32:44 | INFO | openpack_torch.lightning | Epoch[174] TRAIN: loss= 0.7857, acc= 0.7166 | VAL: loss= 0.8889, acc= 0.6350\n",
      "2022-05-29 19:32:45 | INFO | openpack_torch.lightning | Epoch[175] TRAIN: loss= 0.7358, acc= 0.7398 | VAL: loss= 0.8676, acc= 0.6582\n",
      "2022-05-29 19:32:46 | INFO | openpack_torch.lightning | Epoch[176] TRAIN: loss= 0.7666, acc= 0.7296 | VAL: loss= 0.8904, acc= 0.6369\n",
      "2022-05-29 19:32:48 | INFO | openpack_torch.lightning | Epoch[177] TRAIN: loss= 0.7370, acc= 0.7475 | VAL: loss= 0.8863, acc= 0.6316\n",
      "2022-05-29 19:32:49 | INFO | openpack_torch.lightning | Epoch[178] TRAIN: loss= 0.8445, acc= 0.7092 | VAL: loss= 0.8374, acc= 0.6447\n",
      "2022-05-29 19:32:51 | INFO | openpack_torch.lightning | Epoch[179] TRAIN: loss= 0.7193, acc= 0.7452 | VAL: loss= 0.8377, acc= 0.6514\n",
      "2022-05-29 19:32:52 | INFO | openpack_torch.lightning | Epoch[180] TRAIN: loss= 0.7112, acc= 0.7480 | VAL: loss= 0.8586, acc= 0.6318\n",
      "2022-05-29 19:32:53 | INFO | openpack_torch.lightning | Epoch[181] TRAIN: loss= 0.7029, acc= 0.7493 | VAL: loss= 0.8331, acc= 0.6556\n",
      "2022-05-29 19:32:55 | INFO | openpack_torch.lightning | Epoch[182] TRAIN: loss= 0.6678, acc= 0.7581 | VAL: loss= 0.8632, acc= 0.6650\n",
      "2022-05-29 19:32:56 | INFO | openpack_torch.lightning | Epoch[183] TRAIN: loss= 0.6831, acc= 0.7613 | VAL: loss= 0.8424, acc= 0.6608\n",
      "2022-05-29 19:32:57 | INFO | openpack_torch.lightning | Epoch[184] TRAIN: loss= 0.6654, acc= 0.7614 | VAL: loss= 0.8533, acc= 0.6456\n",
      "2022-05-29 19:32:59 | INFO | openpack_torch.lightning | Epoch[185] TRAIN: loss= 0.6903, acc= 0.7542 | VAL: loss= 0.8571, acc= 0.6477\n",
      "2022-05-29 19:33:00 | INFO | openpack_torch.lightning | Epoch[186] TRAIN: loss= 0.6931, acc= 0.7590 | VAL: loss= 0.8646, acc= 0.6334\n",
      "2022-05-29 19:33:02 | INFO | openpack_torch.lightning | Epoch[187] TRAIN: loss= 0.7330, acc= 0.7416 | VAL: loss= 0.8588, acc= 0.6474\n",
      "2022-05-29 19:33:03 | INFO | openpack_torch.lightning | Epoch[188] TRAIN: loss= 0.6916, acc= 0.7548 | VAL: loss= 0.8586, acc= 0.6470\n",
      "2022-05-29 19:33:04 | INFO | openpack_torch.lightning | Epoch[189] TRAIN: loss= 0.7351, acc= 0.7416 | VAL: loss= 0.8850, acc= 0.6417\n",
      "2022-05-29 19:33:06 | INFO | openpack_torch.lightning | Epoch[190] TRAIN: loss= 0.6890, acc= 0.7544 | VAL: loss= 0.8806, acc= 0.6440\n",
      "2022-05-29 19:33:07 | INFO | openpack_torch.lightning | Epoch[191] TRAIN: loss= 0.7086, acc= 0.7469 | VAL: loss= 0.8580, acc= 0.6421\n",
      "2022-05-29 19:33:08 | INFO | openpack_torch.lightning | Epoch[192] TRAIN: loss= 0.6950, acc= 0.7486 | VAL: loss= 0.8476, acc= 0.6535\n",
      "2022-05-29 19:33:10 | INFO | openpack_torch.lightning | Epoch[193] TRAIN: loss= 0.6995, acc= 0.7508 | VAL: loss= 0.8682, acc= 0.6472\n",
      "2022-05-29 19:33:11 | INFO | openpack_torch.lightning | Epoch[194] TRAIN: loss= 0.6561, acc= 0.7705 | VAL: loss= 0.8497, acc= 0.6561\n",
      "2022-05-29 19:33:13 | INFO | openpack_torch.lightning | Epoch[195] TRAIN: loss= 0.7550, acc= 0.7358 | VAL: loss= 0.8891, acc= 0.6383\n",
      "2022-05-29 19:33:14 | INFO | openpack_torch.lightning | Epoch[196] TRAIN: loss= 0.6711, acc= 0.7613 | VAL: loss= 0.8908, acc= 0.6504\n",
      "2022-05-29 19:33:16 | INFO | openpack_torch.lightning | Epoch[197] TRAIN: loss= 0.6719, acc= 0.7620 | VAL: loss= 0.8740, acc= 0.6491\n",
      "2022-05-29 19:33:17 | INFO | openpack_torch.lightning | Epoch[198] TRAIN: loss= 0.6514, acc= 0.7677 | VAL: loss= 0.8572, acc= 0.6524\n",
      "2022-05-29 19:33:18 | INFO | openpack_torch.lightning | Epoch[199] TRAIN: loss= 0.8066, acc= 0.7375 | VAL: loss= 0.9722, acc= 0.6307\n",
      "2022-05-29 19:33:19 | INFO | __main__ | Finish training!\n"
     ]
    }
   ],
   "source": [
    "logger.info(f\"Start training for {num_epoch} epochs.\")\n",
    "trainer.fit(plmodel, datamodule)\n",
    "logger.info(\"Finish training!\")"
   ]
  },
  {
   "cell_type": "markdown",
   "id": "80ad09e2-9b02-4582-b012-3ce9fdfc3e0e",
   "metadata": {},
   "source": [
    "### 3-4: Plot Training Curve"
   ]
  },
  {
   "cell_type": "code",
   "execution_count": 10,
   "id": "5fe6a607-6921-4440-a03b-03f35b72ff2b",
   "metadata": {},
   "outputs": [],
   "source": [
    "df = pd.concat([\n",
    "    pd.DataFrame(plmodel.log[\"train\"]),\n",
    "    pd.DataFrame(plmodel.log[\"val\"]),\n",
    "],axis=1,)\n",
    "df.index.name = \"epoch\""
   ]
  },
  {
   "cell_type": "code",
   "execution_count": 11,
   "id": "65b6eb10-9584-483b-8a44-deb539528f90",
   "metadata": {},
   "outputs": [
    {
     "data": {
      "text/html": [
       "<div>\n",
       "<style scoped>\n",
       "    .dataframe tbody tr th:only-of-type {\n",
       "        vertical-align: middle;\n",
       "    }\n",
       "\n",
       "    .dataframe tbody tr th {\n",
       "        vertical-align: top;\n",
       "    }\n",
       "\n",
       "    .dataframe thead th {\n",
       "        text-align: right;\n",
       "    }\n",
       "</style>\n",
       "<table border=\"1\" class=\"dataframe\">\n",
       "  <thead>\n",
       "    <tr style=\"text-align: right;\">\n",
       "      <th></th>\n",
       "      <th>train/loss</th>\n",
       "      <th>train/acc</th>\n",
       "      <th>val/loss</th>\n",
       "      <th>val/acc</th>\n",
       "    </tr>\n",
       "    <tr>\n",
       "      <th>epoch</th>\n",
       "      <th></th>\n",
       "      <th></th>\n",
       "      <th></th>\n",
       "      <th></th>\n",
       "    </tr>\n",
       "  </thead>\n",
       "  <tbody>\n",
       "    <tr>\n",
       "      <th>0</th>\n",
       "      <td>2.207479</td>\n",
       "      <td>0.204879</td>\n",
       "      <td>2.327042</td>\n",
       "      <td>0.099375</td>\n",
       "    </tr>\n",
       "    <tr>\n",
       "      <th>1</th>\n",
       "      <td>2.019592</td>\n",
       "      <td>0.324299</td>\n",
       "      <td>2.321603</td>\n",
       "      <td>0.292232</td>\n",
       "    </tr>\n",
       "    <tr>\n",
       "      <th>2</th>\n",
       "      <td>1.948701</td>\n",
       "      <td>0.377399</td>\n",
       "      <td>2.310851</td>\n",
       "      <td>0.183215</td>\n",
       "    </tr>\n",
       "    <tr>\n",
       "      <th>3</th>\n",
       "      <td>1.848302</td>\n",
       "      <td>0.411556</td>\n",
       "      <td>2.285090</td>\n",
       "      <td>0.262352</td>\n",
       "    </tr>\n",
       "    <tr>\n",
       "      <th>4</th>\n",
       "      <td>1.794367</td>\n",
       "      <td>0.437851</td>\n",
       "      <td>2.217048</td>\n",
       "      <td>0.290859</td>\n",
       "    </tr>\n",
       "  </tbody>\n",
       "</table>\n",
       "</div>"
      ],
      "text/plain": [
       "       train/loss  train/acc  val/loss   val/acc\n",
       "epoch                                           \n",
       "0        2.207479   0.204879  2.327042  0.099375\n",
       "1        2.019592   0.324299  2.321603  0.292232\n",
       "2        1.948701   0.377399  2.310851  0.183215\n",
       "3        1.848302   0.411556  2.285090  0.262352\n",
       "4        1.794367   0.437851  2.217048  0.290859"
      ]
     },
     "execution_count": 11,
     "metadata": {},
     "output_type": "execute_result"
    }
   ],
   "source": [
    "df.head()"
   ]
  },
  {
   "cell_type": "markdown",
   "id": "30f71352-d4b0-4ceb-9b9a-525a129e6174",
   "metadata": {},
   "source": [
    "Training Log"
   ]
  },
  {
   "cell_type": "code",
   "execution_count": 12,
   "id": "61b0b6ad-9a6b-4264-8abd-8db8dcf477e1",
   "metadata": {},
   "outputs": [
    {
     "data": {
      "image/png": "[encoded data removed]",
      "text/plain": [
       "<Figure size 432x288 with 1 Axes>"
      ]
     },
     "metadata": {
      "needs_background": "light"
     },
     "output_type": "display_data"
    }
   ],
   "source": [
    "df[[\"train/loss\", \"val/loss\"]].plot()\n",
    "plt.show()"
   ]
  },
  {
   "cell_type": "markdown",
   "id": "9fb11f8b-e84c-41a1-965d-b439bd63c24f",
   "metadata": {},
   "source": [
    "Test Log"
   ]
  },
  {
   "cell_type": "code",
   "execution_count": 13,
   "id": "3b1a002a-2ff5-4bf6-a1b2-763d95bbaf08",
   "metadata": {},
   "outputs": [
    {
     "data": {
      "image/png": "[encoded data removed]",
      "text/plain": [
       "<Figure size 432x288 with 1 Axes>"
      ]
     },
     "metadata": {
      "needs_background": "light"
     },
     "output_type": "display_data"
    }
   ],
   "source": [
    "df[[\"train/acc\", \"val/acc\"]].plot()\n",
    "plt.show()"
   ]
  },
  {
   "cell_type": "markdown",
   "id": "2c92629a-743f-4097-bb41-86f39a4f3053",
   "metadata": {},
   "source": [
    "## [4] Test"
   ]
  },
  {
   "cell_type": "markdown",
   "id": "e73192e1-876e-44b7-9c8e-ae7b5079da4d",
   "metadata": {},
   "source": [
    "### 4-1: Get prediction results for each sequences."
   ]
  },
  {
   "cell_type": "code",
   "execution_count": 14,
   "id": "6ec859ea-fc23-4f48-a611-8253523ad245",
   "metadata": {},
   "outputs": [
    {
     "name": "stderr",
     "output_type": "stream",
     "text": [
      "2022-05-29 19:33:21 | WARNING | openpack_torch.data.datasets | No preprocessing is applied.\n",
      "2022-05-29 19:33:21 | INFO | openpack_torch.data.datamodule | dataset[train]: None\n",
      "2022-05-29 19:33:21 | INFO | openpack_torch.data.datamodule | dataset[val]: None\n",
      "2022-05-29 19:33:21 | INFO | openpack_torch.data.datamodule | dataset[test]: {'U0102-S0500': <openpack_torch.data.datasets.OpenPackImu object at 0x7f9535b23970>}\n",
      "2022-05-29 19:33:21 | INFO | openpack_torch.data.datamodule | dataset[submission]: None\n",
      "2022-05-29 19:33:21 | INFO | __main__ | test on U0102-S0500\n",
      "2022-05-29 19:33:21 | WARNING | openpack_torch.data.datasets | No preprocessing is applied.\n",
      "2022-05-29 19:33:21 | INFO | openpack_torch.data.datamodule | dataset[train]: None\n",
      "2022-05-29 19:33:21 | INFO | openpack_torch.data.datamodule | dataset[val]: None\n",
      "2022-05-29 19:33:21 | INFO | openpack_torch.data.datamodule | dataset[test]: {'U0102-S0500': <openpack_torch.data.datasets.OpenPackImu object at 0x7f941b288550>}\n",
      "2022-05-29 19:33:21 | INFO | openpack_torch.data.datamodule | dataset[submission]: None\n",
      "LOCAL_RANK: 0 - CUDA_VISIBLE_DEVICES: [0]\n",
      "2022-05-29 19:33:21 | INFO | __main__ | save t[shape=(31, 1800)] to /content/data/log/openpack-acc/UNet/I01-EXP1-V1/pred/U0102-S0500/t.npy\n",
      "2022-05-29 19:33:21 | INFO | __main__ | save y[shape=(31, 10, 1800)] to /content/data/log/openpack-acc/UNet/I01-EXP1-V1/pred/U0102-S0500/y.npy\n",
      "2022-05-29 19:33:21 | INFO | __main__ | save unixtime[shape=(31, 1800)] to /content/data/log/openpack-acc/UNet/I01-EXP1-V1/pred/U0102-S0500/unixtime.npy\n"
     ]
    }
   ],
   "source": [
    "datamodule.setup(\"test\")\n",
    "dataloaders = datamodule.test_dataloader()\n",
    "split = cfg.dataset.split.test\n",
    "\n",
    "\n",
    "outputs = dict()\n",
    "for i, dataloader in enumerate(dataloaders):\n",
    "    user, session = split[i]\n",
    "    logger.info(f\"test on U{user:0=4}-S{session:0=4}\")\n",
    "\n",
    "    trainer.test(plmodel, dataloader)\n",
    "\n",
    "    # save model outputs\n",
    "    pred_dir = Path(\n",
    "        cfg.volume.logdir.predict.format(user=user, session=session)\n",
    "    )\n",
    "    pred_dir.mkdir(parents=True, exist_ok=True)\n",
    "\n",
    "    for key, arr in plmodel.test_results.items():\n",
    "        path = Path(pred_dir, f\"{key}.npy\")\n",
    "        np.save(path, arr)\n",
    "        logger.info(f\"save {key}[shape={arr.shape}] to {path}\")\n",
    "\n",
    "    outputs[f\"U{user:0=4}-S{session:0=4}\"] = {\n",
    "        \"t_idx\": plmodel.test_results.get(\"t\"),\n",
    "        \"y\": plmodel.test_results.get(\"y\"),\n",
    "        \"unixtime\": plmodel.test_results.get(\"unixtime\"),\n",
    "    }"
   ]
  },
  {
   "cell_type": "markdown",
   "id": "605b50b5-b099-4319-84b6-ad120760dd92",
   "metadata": {},
   "source": [
    "### 4-2: Evaluate"
   ]
  },
  {
   "cell_type": "code",
   "execution_count": 15,
   "id": "c61ad2c2-d92c-4161-9a0c-62677379ec8b",
   "metadata": {},
   "outputs": [],
   "source": [
    "# compute performance summary\n",
    "df_summary = eval_operation_segmentation_wrapper(\n",
    "    outputs, OPENPACK_OPERATIONS,\n",
    ")"
   ]
  },
  {
   "cell_type": "code",
   "execution_count": 16,
   "id": "72a70472-4511-4c56-bda2-72fe3a71dea4",
   "metadata": {},
   "outputs": [
    {
     "data": {
      "text/html": [
       "<div>\n",
       "<style scoped>\n",
       "    .dataframe tbody tr th:only-of-type {\n",
       "        vertical-align: middle;\n",
       "    }\n",
       "\n",
       "    .dataframe tbody tr th {\n",
       "        vertical-align: top;\n",
       "    }\n",
       "\n",
       "    .dataframe thead th {\n",
       "        text-align: right;\n",
       "    }\n",
       "</style>\n",
       "<table border=\"1\" class=\"dataframe\">\n",
       "  <thead>\n",
       "    <tr style=\"text-align: right;\">\n",
       "      <th></th>\n",
       "      <th>name</th>\n",
       "      <th>id</th>\n",
       "      <th>precision</th>\n",
       "      <th>recall</th>\n",
       "      <th>f1</th>\n",
       "      <th>support</th>\n",
       "      <th>key</th>\n",
       "    </tr>\n",
       "  </thead>\n",
       "  <tbody>\n",
       "    <tr>\n",
       "      <th>12</th>\n",
       "      <td>avg/macro</td>\n",
       "      <td>-1</td>\n",
       "      <td>0.519075</td>\n",
       "      <td>0.520726</td>\n",
       "      <td>0.508505</td>\n",
       "      <td>None</td>\n",
       "      <td>all</td>\n",
       "    </tr>\n",
       "    <tr>\n",
       "      <th>13</th>\n",
       "      <td>avg/weighted</td>\n",
       "      <td>-1</td>\n",
       "      <td>0.540829</td>\n",
       "      <td>0.532030</td>\n",
       "      <td>0.524666</td>\n",
       "      <td>None</td>\n",
       "      <td>all</td>\n",
       "    </tr>\n",
       "    <tr>\n",
       "      <th>14</th>\n",
       "      <td>Picking</td>\n",
       "      <td>100</td>\n",
       "      <td>0.523810</td>\n",
       "      <td>0.395210</td>\n",
       "      <td>0.450512</td>\n",
       "      <td>167</td>\n",
       "      <td>all</td>\n",
       "    </tr>\n",
       "    <tr>\n",
       "      <th>15</th>\n",
       "      <td>MoveItemLabel</td>\n",
       "      <td>200</td>\n",
       "      <td>0.640940</td>\n",
       "      <td>0.496104</td>\n",
       "      <td>0.559297</td>\n",
       "      <td>385</td>\n",
       "      <td>all</td>\n",
       "    </tr>\n",
       "    <tr>\n",
       "      <th>16</th>\n",
       "      <td>AssembleBox</td>\n",
       "      <td>300</td>\n",
       "      <td>0.485030</td>\n",
       "      <td>0.625483</td>\n",
       "      <td>0.546374</td>\n",
       "      <td>259</td>\n",
       "      <td>all</td>\n",
       "    </tr>\n",
       "    <tr>\n",
       "      <th>17</th>\n",
       "      <td>PackInBox</td>\n",
       "      <td>400</td>\n",
       "      <td>0.428571</td>\n",
       "      <td>0.345324</td>\n",
       "      <td>0.382470</td>\n",
       "      <td>139</td>\n",
       "      <td>all</td>\n",
       "    </tr>\n",
       "    <tr>\n",
       "      <th>18</th>\n",
       "      <td>CloseBox</td>\n",
       "      <td>500</td>\n",
       "      <td>0.423077</td>\n",
       "      <td>0.364641</td>\n",
       "      <td>0.391691</td>\n",
       "      <td>181</td>\n",
       "      <td>all</td>\n",
       "    </tr>\n",
       "    <tr>\n",
       "      <th>19</th>\n",
       "      <td>ReadLabel</td>\n",
       "      <td>600</td>\n",
       "      <td>0.559701</td>\n",
       "      <td>0.765306</td>\n",
       "      <td>0.646552</td>\n",
       "      <td>294</td>\n",
       "      <td>all</td>\n",
       "    </tr>\n",
       "    <tr>\n",
       "      <th>20</th>\n",
       "      <td>AttachLabel</td>\n",
       "      <td>700</td>\n",
       "      <td>0.525000</td>\n",
       "      <td>0.668790</td>\n",
       "      <td>0.588235</td>\n",
       "      <td>157</td>\n",
       "      <td>all</td>\n",
       "    </tr>\n",
       "    <tr>\n",
       "      <th>21</th>\n",
       "      <td>PutOnCartRack</td>\n",
       "      <td>800</td>\n",
       "      <td>0.448980</td>\n",
       "      <td>0.550000</td>\n",
       "      <td>0.494382</td>\n",
       "      <td>80</td>\n",
       "      <td>all</td>\n",
       "    </tr>\n",
       "    <tr>\n",
       "      <th>22</th>\n",
       "      <td>Pen</td>\n",
       "      <td>900</td>\n",
       "      <td>0.674157</td>\n",
       "      <td>0.377358</td>\n",
       "      <td>0.483871</td>\n",
       "      <td>159</td>\n",
       "      <td>all</td>\n",
       "    </tr>\n",
       "    <tr>\n",
       "      <th>23</th>\n",
       "      <td>Null</td>\n",
       "      <td>1000</td>\n",
       "      <td>0.481481</td>\n",
       "      <td>0.619048</td>\n",
       "      <td>0.541667</td>\n",
       "      <td>21</td>\n",
       "      <td>all</td>\n",
       "    </tr>\n",
       "  </tbody>\n",
       "</table>\n",
       "</div>"
      ],
      "text/plain": [
       "             name    id  precision    recall        f1 support  key\n",
       "12      avg/macro    -1   0.519075  0.520726  0.508505    None  all\n",
       "13   avg/weighted    -1   0.540829  0.532030  0.524666    None  all\n",
       "14        Picking   100   0.523810  0.395210  0.450512     167  all\n",
       "15  MoveItemLabel   200   0.640940  0.496104  0.559297     385  all\n",
       "16    AssembleBox   300   0.485030  0.625483  0.546374     259  all\n",
       "17      PackInBox   400   0.428571  0.345324  0.382470     139  all\n",
       "18       CloseBox   500   0.423077  0.364641  0.391691     181  all\n",
       "19      ReadLabel   600   0.559701  0.765306  0.646552     294  all\n",
       "20    AttachLabel   700   0.525000  0.668790  0.588235     157  all\n",
       "21  PutOnCartRack   800   0.448980  0.550000  0.494382      80  all\n",
       "22            Pen   900   0.674157  0.377358  0.483871     159  all\n",
       "23           Null  1000   0.481481  0.619048  0.541667      21  all"
      ]
     },
     "execution_count": 16,
     "metadata": {},
     "output_type": "execute_result"
    }
   ],
   "source": [
    "df_summary[df_summary[\"key\"]==\"all\"]"
   ]
  },
  {
   "cell_type": "code",
   "execution_count": null,
   "id": "d3b55dc4-a8c6-4eb8-9c8b-27e6b30a7df0",
   "metadata": {},
   "outputs": [],
   "source": []
  },
  {
   "cell_type": "markdown",
   "id": "e052f310-bc35-434d-b34a-adbab8b575e4",
   "metadata": {},
   "source": [
    "## [5] Submission"
   ]
  },
  {
   "cell_type": "markdown",
   "id": "253dcf37-1da8-46d2-adf3-e84e22c52af4",
   "metadata": {},
   "source": [
    "### 5-1: Get prediction for test data."
   ]
  },
  {
   "cell_type": "code",
   "execution_count": 17,
   "id": "4c30a2b9-cb0a-400b-8357-bb3f29c9ab63",
   "metadata": {},
   "outputs": [
    {
     "name": "stderr",
     "output_type": "stream",
     "text": [
      "2022-05-29 19:33:22 | WARNING | openpack_torch.data.datasets | No preprocessing is applied.\n",
      "2022-05-29 19:33:22 | INFO | openpack_torch.data.datamodule | dataset[train]: None\n",
      "2022-05-29 19:33:22 | INFO | openpack_torch.data.datamodule | dataset[val]: None\n",
      "2022-05-29 19:33:22 | INFO | openpack_torch.data.datamodule | dataset[test]: None\n",
      "2022-05-29 19:33:22 | INFO | openpack_torch.data.datamodule | dataset[submission]: {'U0102-S0500': <openpack_torch.data.datasets.OpenPackImu object at 0x7f941b288370>}\n",
      "2022-05-29 19:33:22 | INFO | __main__ | test on U0102-S0500\n",
      "2022-05-29 19:33:22 | WARNING | openpack_torch.data.datasets | No preprocessing is applied.\n",
      "2022-05-29 19:33:22 | INFO | openpack_torch.data.datamodule | dataset[train]: None\n",
      "2022-05-29 19:33:22 | INFO | openpack_torch.data.datamodule | dataset[val]: None\n",
      "2022-05-29 19:33:22 | INFO | openpack_torch.data.datamodule | dataset[test]: {'U0102-S0500': <openpack_torch.data.datasets.OpenPackImu object at 0x7f9535b239a0>}\n",
      "2022-05-29 19:33:22 | INFO | openpack_torch.data.datamodule | dataset[submission]: None\n",
      "LOCAL_RANK: 0 - CUDA_VISIBLE_DEVICES: [0]\n",
      "2022-05-29 19:33:22 | INFO | __main__ | save t[shape=(31, 1800)] to /content/data/log/openpack-acc/UNet/I01-EXP1-V1/pred/U0102-S0500/t.npy\n",
      "2022-05-29 19:33:22 | INFO | __main__ | save y[shape=(31, 10, 1800)] to /content/data/log/openpack-acc/UNet/I01-EXP1-V1/pred/U0102-S0500/y.npy\n",
      "2022-05-29 19:33:22 | INFO | __main__ | save unixtime[shape=(31, 1800)] to /content/data/log/openpack-acc/UNet/I01-EXP1-V1/pred/U0102-S0500/unixtime.npy\n"
     ]
    }
   ],
   "source": [
    "datamodule.setup(\"submission\")\n",
    "dataloaders = datamodule.submission_dataloader()\n",
    "split = cfg.dataset.split.submission\n",
    "\n",
    "outputs = dict()\n",
    "for i, dataloader in enumerate(dataloaders):\n",
    "    user, session = split[i]\n",
    "    logger.info(f\"test on U{user:0=4}-S{session:0=4}\")\n",
    "\n",
    "    trainer.test(plmodel, dataloader)\n",
    "\n",
    "    # save model outputs\n",
    "    pred_dir = Path(\n",
    "        cfg.volume.logdir.predict.format(user=user, session=session)\n",
    "    )\n",
    "    pred_dir.mkdir(parents=True, exist_ok=True)\n",
    "\n",
    "    for key, arr in plmodel.test_results.items():\n",
    "        path = Path(pred_dir, f\"{key}.npy\")\n",
    "        np.save(path, arr)\n",
    "        logger.info(f\"save {key}[shape={arr.shape}] to {path}\")\n",
    "\n",
    "    outputs[f\"U{user:0=4}-S{session:0=4}\"] = {\n",
    "        \"y\": plmodel.test_results.get(\"y\"),\n",
    "        \"unixtime\": plmodel.test_results.get(\"unixtime\"),\n",
    "    }"
   ]
  },
  {
   "cell_type": "markdown",
   "id": "8f5ef1ff-7710-4692-a718-0405186e8e44",
   "metadata": {},
   "source": [
    "### 5-2: Make submission zip file"
   ]
  },
  {
   "cell_type": "code",
   "execution_count": 18,
   "id": "0e13c946-8bd0-424b-8343-955481ec7dba",
   "metadata": {},
   "outputs": [
    {
     "name": "stderr",
     "output_type": "stream",
     "text": [
      "2022-05-29 19:33:22 | INFO | openpack_toolkit.codalab.operation_segmentation.utils | write submission.json to submission.json\n",
      "2022-05-29 19:33:22 | INFO | openpack_toolkit.codalab.operation_segmentation.utils | write submission.zip to submission.zip\n"
     ]
    }
   ],
   "source": [
    "output_dir = Path(\".\")\n",
    "\n",
    "submission_dict = construct_submission_dict(\n",
    "    outputs, OPENPACK_OPERATIONS)\n",
    "make_submission_zipfile(submission_dict, output_dir)"
   ]
  },
  {
   "cell_type": "code",
   "execution_count": null,
   "id": "9c8d47d0-dfd9-4086-b152-ed53a5d7a294",
   "metadata": {},
   "outputs": [],
   "source": []
  }
 ],
 "metadata": {
  "kernelspec": {
   "display_name": "Python 3 (ipykernel)",
   "language": "python",
   "name": "python3"
  },
  "language_info": {
   "codemirror_mode": {
    "name": "ipython",
    "version": 3
   },
   "file_extension": ".py",
   "mimetype": "text/x-python",
   "name": "python",
   "nbconvert_exporter": "python",
   "pygments_lexer": "ipython3",
   "version": "3.8.12"
  }
 },
 "nbformat": 4,
 "nbformat_minor": 5
}
