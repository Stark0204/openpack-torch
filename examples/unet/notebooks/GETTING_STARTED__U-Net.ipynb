{
 "cells": [
  {
   "cell_type": "markdown",
   "id": "62133d2f-db52-4903-b8da-afb282959973",
   "metadata": {},
   "source": [
    "# Getting Started | U-Net with OpenPack Dataset (IMU)"
   ]
  },
  {
   "cell_type": "markdown",
   "id": "1149019d-005a-4071-81b4-5dde35836302",
   "metadata": {},
   "source": [
    "## [0] Inital Setup"
   ]
  },
  {
   "cell_type": "markdown",
   "id": "bb015bbf-633d-4dd5-9451-59b6f5cc3ecb",
   "metadata": {},
   "source": [
    "### 0-1: Download Requirements"
   ]
  },
  {
   "cell_type": "code",
   "execution_count": 1,
   "id": "3d848e0e-64c3-4376-b2a9-342e14d82b74",
   "metadata": {},
   "outputs": [
    {
     "name": "stdout",
     "output_type": "stream",
     "text": [
      "git clone XXXX\n"
     ]
    }
   ],
   "source": [
    "! echo \"git clone XXXX\""
   ]
  },
  {
   "cell_type": "markdown",
   "id": "326434d5-76b5-4ddb-9a7c-38c69d16fc32",
   "metadata": {},
   "source": [
    "### 0-2: Install Requirements"
   ]
  },
  {
   "cell_type": "code",
   "execution_count": 2,
   "id": "de612910-107b-46e3-a317-93d8fddfcd15",
   "metadata": {},
   "outputs": [
    {
     "name": "stdout",
     "output_type": "stream",
     "text": [
      "pip install -r requirements.txt\n"
     ]
    }
   ],
   "source": [
    "! echo pip install -r requirements.txt"
   ]
  },
  {
   "cell_type": "markdown",
   "id": "13c4a349-8af8-4840-849f-d97b04f143cb",
   "metadata": {},
   "source": [
    "### 0-3: Import Modules"
   ]
  },
  {
   "cell_type": "code",
   "execution_count": 3,
   "id": "0fca86ac-b992-47e1-a809-02dc17776d10",
   "metadata": {},
   "outputs": [],
   "source": [
    "import os\n",
    "import shutil\n",
    "import logging\n",
    "from pathlib import Path\n",
    "from typing import Dict\n",
    "\n",
    "import hydra\n",
    "import numpy as np\n",
    "import openpack_torch as optorch\n",
    "import pandas as pd\n",
    "import pytorch_lightning as pl\n",
    "import torch\n",
    "import matplotlib.pyplot as plt\n",
    "import seaborn as sns\n",
    "from hydra import initialize_config_dir, compose\n",
    "from omegaconf import DictConfig, OmegaConf\n",
    "from openpack_toolkit import OPENPACK_OPERATIONS\n",
    "from openpack_toolkit.codalab.operation_segmentation import (\n",
    "    construct_submission_dict, eval_operation_segmentation_wrapper,\n",
    "    make_submission_zipfile)\n",
    "\n",
    "\n",
    "sns.set(\"notebook\", \"whitegrid\")"
   ]
  },
  {
   "cell_type": "markdown",
   "id": "85f8cc4e-42a3-4ff2-a853-32c8992ba6b6",
   "metadata": {},
   "source": [
    "### 0-4: Setup Logger"
   ]
  },
  {
   "cell_type": "code",
   "execution_count": 4,
   "id": "cc9bd12e-38a9-4915-bbaa-7094d4572885",
   "metadata": {},
   "outputs": [],
   "source": [
    "def setup_root_logger(log_level=logging.INFO):\n",
    "    log_format = \"%(asctime)s | %(levelname)s | %(name)s | %(message)s\"\n",
    "    logger = logging.getLogger()\n",
    "    \n",
    "    # add the handlers to the logger\n",
    "    ch = logging.StreamHandler()\n",
    "    ch.setLevel(log_level)\n",
    "    ch_formatter = logging.Formatter(log_format, \"%Y-%m-%d %H:%M:%S\")\n",
    "    ch.setFormatter(ch_formatter)\n",
    "    logger.addHandler(ch)\n",
    "    \n",
    "    logger.setLevel(log_level)\n",
    "    return logger"
   ]
  },
  {
   "cell_type": "code",
   "execution_count": 5,
   "id": "88d0bdbf-b9cd-40cf-bfa0-e7f18c23b96f",
   "metadata": {},
   "outputs": [
    {
     "name": "stderr",
     "output_type": "stream",
     "text": [
      "2022-05-27 23:33:43 | INFO | __main__ | info\n",
      "2022-05-27 23:33:43 | WARNING | __main__ | warning\n"
     ]
    }
   ],
   "source": [
    "_ = setup_root_logger()\n",
    "logger = logging.getLogger(__name__)\n",
    "\n",
    "logger.debug(\"debug\")\n",
    "logger.info(\"info\")\n",
    "logger.warning(\"warning\")"
   ]
  },
  {
   "cell_type": "markdown",
   "id": "53707866-bfc4-49dc-9bba-5b7bab6e12da",
   "metadata": {},
   "source": [
    "## [1] Load Config File"
   ]
  },
  {
   "cell_type": "code",
   "execution_count": 6,
   "id": "f8ce8be4-ac7e-4b9c-88d9-66545265b102",
   "metadata": {
    "tags": []
   },
   "outputs": [
    {
     "name": "stdout",
     "output_type": "stream",
     "text": [
      "datarootdir: /content/data\n",
      "issue: I01-EXP1-V1\n",
      "debug: false\n",
      "mode: train\n",
      "train:\n",
      "  num_workers: 3\n",
      "  batch_size: 32\n",
      "  epochs: 200\n",
      "  window: 1800\n",
      "  optimizer:\n",
      "    type: Adam\n",
      "    lr: 0.001\n",
      "    weight_decay: 0.0001\n",
      "  debug:\n",
      "    batch_size: 8\n",
      "    epochs: 5\n",
      "volume:\n",
      "  logdir:\n",
      "    rootdir: ${datarootdir}/log/${dataset.name}/${model.name}/${issue}\n",
      "    model: ${volume.logdir.rootdir}/model.pth\n",
      "    predict: ${volume.logdir.rootdir}/pred/U{user:0=4}-S{session:0=4}\n",
      "    summary: ${volume.logdir.rootdir}/summary.csv\n",
      "model:\n",
      "  name: UNet\n",
      "  depth: 5\n",
      "dataset:\n",
      "  name: openpack-acc\n",
      "  volume:\n",
      "    rootdir: ${datarootdir}/datasets/openpack/\n",
      "  modality:\n",
      "    imu:\n",
      "      nodes:\n",
      "      - atr01\n",
      "      - atr02\n",
      "      use_acc: true\n",
      "      use_gyro: false\n",
      "      use_quat: false\n",
      "  split:\n",
      "    train:\n",
      "    - - 102\n",
      "      - 100\n",
      "    - - 102\n",
      "      - 200\n",
      "    - - 102\n",
      "      - 300\n",
      "    val:\n",
      "    - - 102\n",
      "      - 400\n",
      "    test:\n",
      "    - - 102\n",
      "      - 500\n",
      "    submission:\n",
      "    - - 102\n",
      "      - 500\n",
      "  num_classes: 10\n",
      "\n"
     ]
    }
   ],
   "source": [
    "config_dir = Path(\"/content/openpack-torch/configs\")\n",
    "overrides = [\n",
    "    \"mode=train\",\n",
    "    \"debug=false\",\n",
    "    \"datarootdir=/content/data\",\n",
    "    \"hydra/job_logging=custom\",\n",
    "    \"hydra/hydra_logging=disabled\"\n",
    "]\n",
    "\n",
    "with initialize_config_dir(version_base=None, config_dir=str(config_dir)):\n",
    "    cfg = compose(\n",
    "        config_name=\"operation-segmentation-unet.yaml\",\n",
    "        overrides=overrides,\n",
    "    )\n",
    "print(OmegaConf.to_yaml(cfg))"
   ]
  },
  {
   "cell_type": "markdown",
   "id": "7d581508-54ab-44b1-8351-d7e3a31efc0a",
   "metadata": {},
   "source": [
    "## [2] Define Utilities (Pytorch Lightning Modules)"
   ]
  },
  {
   "cell_type": "markdown",
   "id": "40f19069-4df8-49f6-9d10-3290b2709d23",
   "metadata": {},
   "source": [
    "### 2-1: DataModule\n",
    "\n",
    "Override `optorch.data.OpenPackBaseDataModule` to use IMU dataset."
   ]
  },
  {
   "cell_type": "code",
   "execution_count": 7,
   "id": "59e2f279-35fa-421d-b9aa-7b0042906759",
   "metadata": {},
   "outputs": [],
   "source": [
    "class OpenPackImuDataModule(optorch.data.OpenPackBaseDataModule):\n",
    "    dataset_class = optorch.data.datasets.OpenPackImu\n",
    "\n",
    "    def get_kwargs_for_datasets(self) -> Dict:\n",
    "        imu_cfg = self.cfg.dataset.modality.imu\n",
    "        kwargs = {\n",
    "            \"imu_nodes\": imu_cfg.nodes,\n",
    "            \"use_acc\": imu_cfg.use_acc,\n",
    "            \"use_gyro\": imu_cfg.use_gyro,\n",
    "            \"use_quat\": imu_cfg.use_quat,\n",
    "            \"window\": self.cfg.train.window,\n",
    "            \"debug\": self.cfg.debug,\n",
    "        }\n",
    "        return kwargs"
   ]
  },
  {
   "cell_type": "markdown",
   "id": "eca2982d-33b3-43bf-a3e8-705eeb097749",
   "metadata": {},
   "source": [
    "### 2-2: Lightning Module"
   ]
  },
  {
   "cell_type": "code",
   "execution_count": 8,
   "id": "652fef87-bb07-46b2-994f-ada53675ee7f",
   "metadata": {},
   "outputs": [],
   "source": [
    "class UNetLM(optorch.lightning.BaseLightningModule):\n",
    "\n",
    "    def init_model(self, cfg: DictConfig) -> torch.nn.Module:\n",
    "        imu_cfg = self.cfg.dataset.modality.imu\n",
    "        num_nodes = len(imu_cfg.nodes)\n",
    "\n",
    "        in_ch = 0\n",
    "        if imu_cfg.use_acc:\n",
    "            in_ch += num_nodes * 3\n",
    "        if imu_cfg.use_gyro:\n",
    "            in_ch += num_nodes * 3\n",
    "        if imu_cfg.use_quat:\n",
    "            in_ch += num_nodes * 4\n",
    "\n",
    "        model = optorch.models.imu.UNet(\n",
    "            in_ch,\n",
    "            cfg.dataset.num_classes,\n",
    "            depth=cfg.model.depth,\n",
    "        )\n",
    "        return model\n",
    "\n",
    "    def training_step(self, batch: Dict, batch_idx: int) -> Dict:\n",
    "        x = batch[\"x\"].to(device=self.device, dtype=torch.float)\n",
    "        t = batch[\"t\"].to(device=self.device, dtype=torch.long)\n",
    "        y_hat = self(x).squeeze(3)\n",
    "\n",
    "        loss = self.criterion(y_hat, t)\n",
    "        acc = self.calc_accuracy(y_hat, t)\n",
    "        return {\"loss\": loss, \"acc\": acc}\n",
    "\n",
    "    def test_step(self, batch: Dict, batch_idx: int) -> Dict:\n",
    "        x = batch[\"x\"].to(device=self.device, dtype=torch.float)\n",
    "        t = batch[\"t\"].to(device=self.device, dtype=torch.long)\n",
    "        ts_unix = batch[\"ts\"]\n",
    "\n",
    "        y_hat = self(x).squeeze(3)\n",
    "\n",
    "        outputs = dict(t=t, y=y_hat, unixtime=ts_unix)\n",
    "        return outputs\n"
   ]
  },
  {
   "cell_type": "code",
   "execution_count": null,
   "id": "47a06407-1935-4b2b-a843-d25ab545dd27",
   "metadata": {},
   "outputs": [],
   "source": []
  },
  {
   "cell_type": "markdown",
   "id": "8edefca6-e7a6-4316-a1c0-a2661ed3dfac",
   "metadata": {},
   "source": [
    "## [3] Train U-Net"
   ]
  },
  {
   "cell_type": "markdown",
   "id": "e7a61ead-99e5-4072-8fd3-e5abecc5529a",
   "metadata": {},
   "source": [
    "### 3-1: Initialize U-Net Model and DataLoader."
   ]
  },
  {
   "cell_type": "code",
   "execution_count": 9,
   "id": "f8d63c1a-20ce-4581-8e79-7826e2afd083",
   "metadata": {},
   "outputs": [
    {
     "name": "stderr",
     "output_type": "stream",
     "text": [
      "2022-05-27 23:33:44 | INFO | torch.distributed.nn.jit.instantiator | Created a temporary directory at /tmp/tmpguv2cwou\n",
      "2022-05-27 23:33:44 | INFO | torch.distributed.nn.jit.instantiator | Writing /tmp/tmpguv2cwou/_remote_module_non_sriptable.py\n"
     ]
    }
   ],
   "source": [
    "device = torch.device(\"cuda\")\n",
    "logdir = Path.cwd()\n",
    "logger.debug(f\"logdir = {logdir}\")\n",
    "\n",
    "datamodule = OpenPackImuDataModule(cfg)\n",
    "plmodel = UNetLM(cfg).to(dtype=torch.float, device=device)"
   ]
  },
  {
   "cell_type": "code",
   "execution_count": 10,
   "id": "c44f0a87-ca40-40d8-a6ee-16d9c38e0c1c",
   "metadata": {},
   "outputs": [
    {
     "data": {
      "text/plain": [
       "UNetLM(\n",
       "  (net): UNet(\n",
       "    (inc): Sequential(\n",
       "      (0): Conv2d(6, 32, kernel_size=(3, 1), stride=(1, 1), padding=(1, 0))\n",
       "      (1): BatchNorm2d(32, eps=1e-05, momentum=0.1, affine=True, track_running_stats=True)\n",
       "      (2): ReLU()\n",
       "    )\n",
       "    (encoder): UNetEncoder(\n",
       "      (conv_blocks): ModuleList(\n",
       "        (0): DownBlock(\n",
       "          (double_conv): Sequential(\n",
       "            (0): Conv2d(32, 32, kernel_size=(3, 1), stride=(1, 1), padding=(1, 0))\n",
       "            (1): BatchNorm2d(32, eps=1e-05, momentum=0.1, affine=True, track_running_stats=True)\n",
       "            (2): ReLU()\n",
       "            (3): Conv2d(32, 32, kernel_size=(3, 1), stride=(1, 1), padding=(1, 0))\n",
       "            (4): BatchNorm2d(32, eps=1e-05, momentum=0.1, affine=True, track_running_stats=True)\n",
       "            (5): ReLU()\n",
       "          )\n",
       "          (pool): MaxPool2d(kernel_size=(2, 1), stride=(2, 1), padding=0, dilation=1, ceil_mode=False)\n",
       "        )\n",
       "        (1): DownBlock(\n",
       "          (double_conv): Sequential(\n",
       "            (0): Conv2d(32, 64, kernel_size=(3, 1), stride=(1, 1), padding=(1, 0))\n",
       "            (1): BatchNorm2d(64, eps=1e-05, momentum=0.1, affine=True, track_running_stats=True)\n",
       "            (2): ReLU()\n",
       "            (3): Conv2d(64, 64, kernel_size=(3, 1), stride=(1, 1), padding=(1, 0))\n",
       "            (4): BatchNorm2d(64, eps=1e-05, momentum=0.1, affine=True, track_running_stats=True)\n",
       "            (5): ReLU()\n",
       "          )\n",
       "          (pool): MaxPool2d(kernel_size=(2, 1), stride=(2, 1), padding=0, dilation=1, ceil_mode=False)\n",
       "        )\n",
       "        (2): DownBlock(\n",
       "          (double_conv): Sequential(\n",
       "            (0): Conv2d(64, 128, kernel_size=(3, 1), stride=(1, 1), padding=(1, 0))\n",
       "            (1): BatchNorm2d(128, eps=1e-05, momentum=0.1, affine=True, track_running_stats=True)\n",
       "            (2): ReLU()\n",
       "            (3): Conv2d(128, 128, kernel_size=(3, 1), stride=(1, 1), padding=(1, 0))\n",
       "            (4): BatchNorm2d(128, eps=1e-05, momentum=0.1, affine=True, track_running_stats=True)\n",
       "            (5): ReLU()\n",
       "          )\n",
       "          (pool): MaxPool2d(kernel_size=(2, 1), stride=(2, 1), padding=0, dilation=1, ceil_mode=False)\n",
       "        )\n",
       "        (3): DownBlock(\n",
       "          (double_conv): Sequential(\n",
       "            (0): Conv2d(128, 256, kernel_size=(3, 1), stride=(1, 1), padding=(1, 0))\n",
       "            (1): BatchNorm2d(256, eps=1e-05, momentum=0.1, affine=True, track_running_stats=True)\n",
       "            (2): ReLU()\n",
       "            (3): Conv2d(256, 256, kernel_size=(3, 1), stride=(1, 1), padding=(1, 0))\n",
       "            (4): BatchNorm2d(256, eps=1e-05, momentum=0.1, affine=True, track_running_stats=True)\n",
       "            (5): ReLU()\n",
       "          )\n",
       "          (pool): MaxPool2d(kernel_size=(2, 1), stride=(2, 1), padding=0, dilation=1, ceil_mode=False)\n",
       "        )\n",
       "        (4): DownBlock(\n",
       "          (double_conv): Sequential(\n",
       "            (0): Conv2d(256, 512, kernel_size=(3, 1), stride=(1, 1), padding=(1, 0))\n",
       "            (1): BatchNorm2d(512, eps=1e-05, momentum=0.1, affine=True, track_running_stats=True)\n",
       "            (2): ReLU()\n",
       "            (3): Conv2d(512, 512, kernel_size=(3, 1), stride=(1, 1), padding=(1, 0))\n",
       "            (4): BatchNorm2d(512, eps=1e-05, momentum=0.1, affine=True, track_running_stats=True)\n",
       "            (5): ReLU()\n",
       "          )\n",
       "          (pool): MaxPool2d(kernel_size=(2, 1), stride=(2, 1), padding=0, dilation=1, ceil_mode=False)\n",
       "        )\n",
       "      )\n",
       "      (bottom): Sequential(\n",
       "        (0): Conv2d(512, 1024, kernel_size=(3, 1), stride=(1, 1), padding=(1, 0))\n",
       "        (1): BatchNorm2d(1024, eps=1e-05, momentum=0.1, affine=True, track_running_stats=True)\n",
       "        (2): ReLU()\n",
       "        (3): Conv2d(1024, 1024, kernel_size=(3, 1), stride=(1, 1), padding=(1, 0))\n",
       "        (4): BatchNorm2d(1024, eps=1e-05, momentum=0.1, affine=True, track_running_stats=True)\n",
       "        (5): ReLU()\n",
       "      )\n",
       "    )\n",
       "    (decoder): UNetDecoder(\n",
       "      (up_blocks): ModuleList(\n",
       "        (0): UpBlock(\n",
       "          (up): ConvTranspose2d(1024, 512, kernel_size=(1, 3), stride=(1, 2), padding=(0, 1))\n",
       "          (double_conv): Sequential(\n",
       "            (0): Conv2d(1024, 512, kernel_size=(3, 1), stride=(1, 1), padding=(1, 0))\n",
       "            (1): BatchNorm2d(512, eps=1e-05, momentum=0.1, affine=True, track_running_stats=True)\n",
       "            (2): ReLU()\n",
       "            (3): Conv2d(512, 512, kernel_size=(3, 1), stride=(1, 1), padding=(1, 0))\n",
       "            (4): BatchNorm2d(512, eps=1e-05, momentum=0.1, affine=True, track_running_stats=True)\n",
       "            (5): ReLU()\n",
       "          )\n",
       "        )\n",
       "        (1): UpBlock(\n",
       "          (up): ConvTranspose2d(512, 256, kernel_size=(1, 3), stride=(1, 2), padding=(0, 1))\n",
       "          (double_conv): Sequential(\n",
       "            (0): Conv2d(512, 256, kernel_size=(3, 1), stride=(1, 1), padding=(1, 0))\n",
       "            (1): BatchNorm2d(256, eps=1e-05, momentum=0.1, affine=True, track_running_stats=True)\n",
       "            (2): ReLU()\n",
       "            (3): Conv2d(256, 256, kernel_size=(3, 1), stride=(1, 1), padding=(1, 0))\n",
       "            (4): BatchNorm2d(256, eps=1e-05, momentum=0.1, affine=True, track_running_stats=True)\n",
       "            (5): ReLU()\n",
       "          )\n",
       "        )\n",
       "        (2): UpBlock(\n",
       "          (up): ConvTranspose2d(256, 128, kernel_size=(1, 3), stride=(1, 2), padding=(0, 1))\n",
       "          (double_conv): Sequential(\n",
       "            (0): Conv2d(256, 128, kernel_size=(3, 1), stride=(1, 1), padding=(1, 0))\n",
       "            (1): BatchNorm2d(128, eps=1e-05, momentum=0.1, affine=True, track_running_stats=True)\n",
       "            (2): ReLU()\n",
       "            (3): Conv2d(128, 128, kernel_size=(3, 1), stride=(1, 1), padding=(1, 0))\n",
       "            (4): BatchNorm2d(128, eps=1e-05, momentum=0.1, affine=True, track_running_stats=True)\n",
       "            (5): ReLU()\n",
       "          )\n",
       "        )\n",
       "        (3): UpBlock(\n",
       "          (up): ConvTranspose2d(128, 64, kernel_size=(1, 3), stride=(1, 2), padding=(0, 1))\n",
       "          (double_conv): Sequential(\n",
       "            (0): Conv2d(128, 64, kernel_size=(3, 1), stride=(1, 1), padding=(1, 0))\n",
       "            (1): BatchNorm2d(64, eps=1e-05, momentum=0.1, affine=True, track_running_stats=True)\n",
       "            (2): ReLU()\n",
       "            (3): Conv2d(64, 64, kernel_size=(3, 1), stride=(1, 1), padding=(1, 0))\n",
       "            (4): BatchNorm2d(64, eps=1e-05, momentum=0.1, affine=True, track_running_stats=True)\n",
       "            (5): ReLU()\n",
       "          )\n",
       "        )\n",
       "        (4): UpBlock(\n",
       "          (up): ConvTranspose2d(64, 32, kernel_size=(1, 3), stride=(1, 2), padding=(0, 1))\n",
       "          (double_conv): Sequential(\n",
       "            (0): Conv2d(64, 32, kernel_size=(3, 1), stride=(1, 1), padding=(1, 0))\n",
       "            (1): BatchNorm2d(32, eps=1e-05, momentum=0.1, affine=True, track_running_stats=True)\n",
       "            (2): ReLU()\n",
       "            (3): Conv2d(32, 32, kernel_size=(3, 1), stride=(1, 1), padding=(1, 0))\n",
       "            (4): BatchNorm2d(32, eps=1e-05, momentum=0.1, affine=True, track_running_stats=True)\n",
       "            (5): ReLU()\n",
       "          )\n",
       "        )\n",
       "      )\n",
       "    )\n",
       "    (dense_clf): Conv2d(32, 10, kernel_size=(1, 1), stride=(1, 1))\n",
       "  )\n",
       "  (criterion): CrossEntropyLoss()\n",
       ")"
      ]
     },
     "execution_count": 10,
     "metadata": {},
     "output_type": "execute_result"
    }
   ],
   "source": [
    "plmodel"
   ]
  },
  {
   "cell_type": "markdown",
   "id": "fc4bfa59-1e6e-4f6e-ba66-2f8b89c6cd61",
   "metadata": {},
   "source": [
    "### 3-2: Initialize Trainer"
   ]
  },
  {
   "cell_type": "code",
   "execution_count": 11,
   "id": "04df6672-0398-4daa-b38e-5b04e428db63",
   "metadata": {},
   "outputs": [
    {
     "name": "stderr",
     "output_type": "stream",
     "text": [
      "GPU available: True, used: True\n",
      "TPU available: False, using: 0 TPU cores\n",
      "IPU available: False, using: 0 IPUs\n",
      "HPU available: False, using: 0 HPUs\n"
     ]
    }
   ],
   "source": [
    "num_epoch = cfg.train.debug.epochs if cfg.debug else cfg.train.epochs\n",
    "\n",
    "checkpoint_callback = pl.callbacks.ModelCheckpoint(\n",
    "    save_top_k=0,\n",
    "    save_last=True,\n",
    "    monitor=None,\n",
    ")\n",
    "\n",
    "trainer = pl.Trainer(\n",
    "    gpus=[0],\n",
    "    max_epochs=num_epoch,\n",
    "    logger=False,  # disable logging module\n",
    "    default_root_dir=logdir,\n",
    "    enable_progress_bar=False,  # disable progress bar\n",
    "    enable_checkpointing=True,\n",
    "    callbacks=[checkpoint_callback],\n",
    ")\n",
    "logger.debug(f\"logdir = {logdir}\")"
   ]
  },
  {
   "cell_type": "markdown",
   "id": "996d74a9-b366-40c7-b344-d71a932e3482",
   "metadata": {},
   "source": [
    "### 3-3: Start training!"
   ]
  },
  {
   "cell_type": "code",
   "execution_count": 12,
   "id": "ccc3b111-16b1-41a1-b8a0-60112611968a",
   "metadata": {},
   "outputs": [
    {
     "name": "stderr",
     "output_type": "stream",
     "text": [
      "2022-05-27 23:33:45 | INFO | __main__ | Start training for 200 epochs.\n",
      "2022-05-27 23:33:46 | WARNING | openpack_torch.data.datasets | No preprocessing is applied.\n",
      "2022-05-27 23:33:46 | WARNING | openpack_torch.data.datasets | No preprocessing is applied.\n",
      "2022-05-27 23:33:46 | INFO | openpack_torch.data.datamodule | dataset[train]: OpenPackImu(index=132, num_sequence=3, submission=False)\n",
      "2022-05-27 23:33:46 | INFO | openpack_torch.data.datamodule | dataset[val]: {'U0102-S0400': <openpack_torch.data.datasets.OpenPackImu object at 0x7f65cd200190>}\n",
      "2022-05-27 23:33:46 | INFO | openpack_torch.data.datamodule | dataset[test]: None\n",
      "2022-05-27 23:33:46 | INFO | openpack_torch.data.datamodule | dataset[submission]: None\n",
      "LOCAL_RANK: 0 - CUDA_VISIBLE_DEVICES: [0]\n",
      "\n",
      "  | Name      | Type             | Params\n",
      "-----------------------------------------------\n",
      "0 | net       | UNet             | 11.5 M\n",
      "1 | criterion | CrossEntropyLoss | 0     \n",
      "-----------------------------------------------\n",
      "11.5 M    Trainable params\n",
      "0         Non-trainable params\n",
      "11.5 M    Total params\n",
      "46.197    Total estimated model params size (MB)\n",
      "2022-05-27 23:33:47 | INFO | openpack_torch.lightning | Epoch[000] TRAIN: loss=-1.0000, acc=-1.0000 | VAL: loss= 2.3170, acc= 0.1598\n",
      "2022-05-27 23:33:49 | INFO | openpack_torch.lightning | Epoch[000] TRAIN: loss=-1.0000, acc=-1.0000 | VAL: loss= 2.3144, acc= 0.1706\n",
      "2022-05-27 23:33:50 | INFO | openpack_torch.lightning | Epoch[001] TRAIN: loss= 2.2012, acc= 0.2019 | VAL: loss= 2.3005, acc= 0.1497\n",
      "2022-05-27 23:33:51 | INFO | openpack_torch.lightning | Epoch[002] TRAIN: loss= 1.9846, acc= 0.3419 | VAL: loss= 2.2680, acc= 0.1484\n",
      "2022-05-27 23:33:52 | INFO | openpack_torch.lightning | Epoch[003] TRAIN: loss= 1.9021, acc= 0.3784 | VAL: loss= 2.1910, acc= 0.1975\n",
      "2022-05-27 23:33:53 | INFO | openpack_torch.lightning | Epoch[004] TRAIN: loss= 1.7950, acc= 0.4327 | VAL: loss= 2.0334, acc= 0.3161\n",
      "2022-05-27 23:33:54 | INFO | openpack_torch.lightning | Epoch[005] TRAIN: loss= 1.7518, acc= 0.4334 | VAL: loss= 1.8256, acc= 0.4033\n",
      "2022-05-27 23:33:55 | INFO | openpack_torch.lightning | Epoch[006] TRAIN: loss= 1.7006, acc= 0.4714 | VAL: loss= 1.6325, acc= 0.4669\n",
      "2022-05-27 23:33:56 | INFO | openpack_torch.lightning | Epoch[007] TRAIN: loss= 1.6587, acc= 0.4846 | VAL: loss= 1.5304, acc= 0.4979\n",
      "2022-05-27 23:33:57 | INFO | openpack_torch.lightning | Epoch[008] TRAIN: loss= 1.6151, acc= 0.5044 | VAL: loss= 1.4517, acc= 0.5098\n",
      "2022-05-27 23:33:59 | INFO | openpack_torch.lightning | Epoch[009] TRAIN: loss= 1.5935, acc= 0.5095 | VAL: loss= 1.3869, acc= 0.4948\n",
      "2022-05-27 23:34:00 | INFO | openpack_torch.lightning | Epoch[010] TRAIN: loss= 1.5326, acc= 0.5113 | VAL: loss= 1.3502, acc= 0.5076\n",
      "2022-05-27 23:34:01 | INFO | openpack_torch.lightning | Epoch[011] TRAIN: loss= 1.5119, acc= 0.5267 | VAL: loss= 1.2972, acc= 0.5420\n",
      "2022-05-27 23:34:02 | INFO | openpack_torch.lightning | Epoch[012] TRAIN: loss= 1.4640, acc= 0.5332 | VAL: loss= 1.2239, acc= 0.5668\n",
      "2022-05-27 23:34:03 | INFO | openpack_torch.lightning | Epoch[013] TRAIN: loss= 1.4572, acc= 0.5420 | VAL: loss= 1.2287, acc= 0.5644\n",
      "2022-05-27 23:34:04 | INFO | openpack_torch.lightning | Epoch[014] TRAIN: loss= 1.3967, acc= 0.5558 | VAL: loss= 1.1959, acc= 0.5649\n",
      "2022-05-27 23:34:05 | INFO | openpack_torch.lightning | Epoch[015] TRAIN: loss= 1.4588, acc= 0.5254 | VAL: loss= 1.1962, acc= 0.5549\n",
      "2022-05-27 23:34:06 | INFO | openpack_torch.lightning | Epoch[016] TRAIN: loss= 1.3452, acc= 0.5599 | VAL: loss= 1.1862, acc= 0.5661\n",
      "2022-05-27 23:34:07 | INFO | openpack_torch.lightning | Epoch[017] TRAIN: loss= 1.3649, acc= 0.5480 | VAL: loss= 1.1740, acc= 0.5704\n",
      "2022-05-27 23:34:08 | INFO | openpack_torch.lightning | Epoch[018] TRAIN: loss= 1.3570, acc= 0.5627 | VAL: loss= 1.1436, acc= 0.5718\n",
      "2022-05-27 23:34:09 | INFO | openpack_torch.lightning | Epoch[019] TRAIN: loss= 1.2845, acc= 0.5853 | VAL: loss= 1.1279, acc= 0.5715\n",
      "2022-05-27 23:34:11 | INFO | openpack_torch.lightning | Epoch[020] TRAIN: loss= 1.2772, acc= 0.5762 | VAL: loss= 1.1288, acc= 0.5691\n",
      "2022-05-27 23:34:12 | INFO | openpack_torch.lightning | Epoch[021] TRAIN: loss= 1.2720, acc= 0.5790 | VAL: loss= 1.0838, acc= 0.5943\n",
      "2022-05-27 23:34:13 | INFO | openpack_torch.lightning | Epoch[022] TRAIN: loss= 1.2729, acc= 0.5718 | VAL: loss= 1.0623, acc= 0.6029\n",
      "2022-05-27 23:34:14 | INFO | openpack_torch.lightning | Epoch[023] TRAIN: loss= 1.2326, acc= 0.5894 | VAL: loss= 1.0497, acc= 0.6088\n",
      "2022-05-27 23:34:15 | INFO | openpack_torch.lightning | Epoch[024] TRAIN: loss= 1.2064, acc= 0.6000 | VAL: loss= 1.0598, acc= 0.6078\n",
      "2022-05-27 23:34:16 | INFO | openpack_torch.lightning | Epoch[025] TRAIN: loss= 1.2184, acc= 0.5880 | VAL: loss= 1.0792, acc= 0.6054\n",
      "2022-05-27 23:34:17 | INFO | openpack_torch.lightning | Epoch[026] TRAIN: loss= 1.1785, acc= 0.6084 | VAL: loss= 1.0523, acc= 0.6040\n",
      "2022-05-27 23:34:18 | INFO | openpack_torch.lightning | Epoch[027] TRAIN: loss= 1.2073, acc= 0.5910 | VAL: loss= 1.0598, acc= 0.5872\n",
      "2022-05-27 23:34:20 | INFO | openpack_torch.lightning | Epoch[028] TRAIN: loss= 1.2100, acc= 0.5904 | VAL: loss= 1.0373, acc= 0.6069\n",
      "2022-05-27 23:34:21 | INFO | openpack_torch.lightning | Epoch[029] TRAIN: loss= 1.1597, acc= 0.6018 | VAL: loss= 1.0077, acc= 0.6117\n",
      "2022-05-27 23:34:22 | INFO | openpack_torch.lightning | Epoch[030] TRAIN: loss= 1.1841, acc= 0.6070 | VAL: loss= 1.0395, acc= 0.5771\n",
      "2022-05-27 23:34:23 | INFO | openpack_torch.lightning | Epoch[031] TRAIN: loss= 1.1492, acc= 0.6069 | VAL: loss= 1.0348, acc= 0.5915\n",
      "2022-05-27 23:34:24 | INFO | openpack_torch.lightning | Epoch[032] TRAIN: loss= 1.1039, acc= 0.6277 | VAL: loss= 1.0264, acc= 0.6141\n",
      "2022-05-27 23:34:26 | INFO | openpack_torch.lightning | Epoch[033] TRAIN: loss= 1.1175, acc= 0.6110 | VAL: loss= 0.9934, acc= 0.6066\n",
      "2022-05-27 23:34:27 | INFO | openpack_torch.lightning | Epoch[034] TRAIN: loss= 1.1097, acc= 0.6131 | VAL: loss= 0.9813, acc= 0.6075\n",
      "2022-05-27 23:34:28 | INFO | openpack_torch.lightning | Epoch[035] TRAIN: loss= 1.0897, acc= 0.6258 | VAL: loss= 0.9866, acc= 0.6149\n",
      "2022-05-27 23:34:29 | INFO | openpack_torch.lightning | Epoch[036] TRAIN: loss= 1.0725, acc= 0.6283 | VAL: loss= 0.9971, acc= 0.6093\n",
      "2022-05-27 23:34:30 | INFO | openpack_torch.lightning | Epoch[037] TRAIN: loss= 1.0322, acc= 0.6494 | VAL: loss= 0.9484, acc= 0.6375\n",
      "2022-05-27 23:34:31 | INFO | openpack_torch.lightning | Epoch[038] TRAIN: loss= 1.0771, acc= 0.6279 | VAL: loss= 0.9622, acc= 0.6214\n",
      "2022-05-27 23:34:32 | INFO | openpack_torch.lightning | Epoch[039] TRAIN: loss= 1.0506, acc= 0.6337 | VAL: loss= 0.9655, acc= 0.6182\n",
      "2022-05-27 23:34:33 | INFO | openpack_torch.lightning | Epoch[040] TRAIN: loss= 1.0267, acc= 0.6521 | VAL: loss= 0.9493, acc= 0.6296\n",
      "2022-05-27 23:34:35 | INFO | openpack_torch.lightning | Epoch[041] TRAIN: loss= 1.0487, acc= 0.6376 | VAL: loss= 0.9286, acc= 0.6305\n",
      "2022-05-27 23:34:36 | INFO | openpack_torch.lightning | Epoch[042] TRAIN: loss= 1.0103, acc= 0.6489 | VAL: loss= 0.9295, acc= 0.6317\n",
      "2022-05-27 23:34:37 | INFO | openpack_torch.lightning | Epoch[043] TRAIN: loss= 1.0389, acc= 0.6419 | VAL: loss= 0.9369, acc= 0.6325\n",
      "2022-05-27 23:34:38 | INFO | openpack_torch.lightning | Epoch[044] TRAIN: loss= 1.0279, acc= 0.6440 | VAL: loss= 0.9611, acc= 0.6276\n",
      "2022-05-27 23:34:39 | INFO | openpack_torch.lightning | Epoch[045] TRAIN: loss= 1.0008, acc= 0.6639 | VAL: loss= 0.9367, acc= 0.6311\n",
      "2022-05-27 23:34:40 | INFO | openpack_torch.lightning | Epoch[046] TRAIN: loss= 0.9841, acc= 0.6502 | VAL: loss= 0.8849, acc= 0.6362\n",
      "2022-05-27 23:34:42 | INFO | openpack_torch.lightning | Epoch[047] TRAIN: loss= 1.0165, acc= 0.6412 | VAL: loss= 0.9254, acc= 0.6262\n",
      "2022-05-27 23:34:43 | INFO | openpack_torch.lightning | Epoch[048] TRAIN: loss= 1.0003, acc= 0.6506 | VAL: loss= 0.9657, acc= 0.6144\n",
      "2022-05-27 23:34:44 | INFO | openpack_torch.lightning | Epoch[049] TRAIN: loss= 0.9959, acc= 0.6434 | VAL: loss= 1.0232, acc= 0.5877\n",
      "2022-05-27 23:34:45 | INFO | openpack_torch.lightning | Epoch[050] TRAIN: loss= 0.9492, acc= 0.6750 | VAL: loss= 0.9688, acc= 0.6170\n",
      "2022-05-27 23:34:46 | INFO | openpack_torch.lightning | Epoch[051] TRAIN: loss= 1.0676, acc= 0.6302 | VAL: loss= 0.9194, acc= 0.6249\n",
      "2022-05-27 23:34:47 | INFO | openpack_torch.lightning | Epoch[052] TRAIN: loss= 0.9870, acc= 0.6567 | VAL: loss= 0.9168, acc= 0.6330\n",
      "2022-05-27 23:34:48 | INFO | openpack_torch.lightning | Epoch[053] TRAIN: loss= 1.0341, acc= 0.6220 | VAL: loss= 0.9556, acc= 0.6147\n",
      "2022-05-27 23:34:49 | INFO | openpack_torch.lightning | Epoch[054] TRAIN: loss= 1.0059, acc= 0.6550 | VAL: loss= 0.9226, acc= 0.6231\n",
      "2022-05-27 23:34:50 | INFO | openpack_torch.lightning | Epoch[055] TRAIN: loss= 0.9337, acc= 0.6699 | VAL: loss= 0.9047, acc= 0.6276\n",
      "2022-05-27 23:34:52 | INFO | openpack_torch.lightning | Epoch[056] TRAIN: loss= 0.9768, acc= 0.6579 | VAL: loss= 0.8866, acc= 0.6440\n",
      "2022-05-27 23:34:53 | INFO | openpack_torch.lightning | Epoch[057] TRAIN: loss= 1.0205, acc= 0.6421 | VAL: loss= 0.8994, acc= 0.6391\n",
      "2022-05-27 23:34:54 | INFO | openpack_torch.lightning | Epoch[058] TRAIN: loss= 0.9937, acc= 0.6373 | VAL: loss= 0.9148, acc= 0.6240\n",
      "2022-05-27 23:34:55 | INFO | openpack_torch.lightning | Epoch[059] TRAIN: loss= 0.9597, acc= 0.6582 | VAL: loss= 0.9090, acc= 0.6393\n",
      "2022-05-27 23:34:56 | INFO | openpack_torch.lightning | Epoch[060] TRAIN: loss= 0.9299, acc= 0.6696 | VAL: loss= 0.8883, acc= 0.6365\n",
      "2022-05-27 23:34:57 | INFO | openpack_torch.lightning | Epoch[061] TRAIN: loss= 0.9590, acc= 0.6566 | VAL: loss= 0.9025, acc= 0.6278\n",
      "2022-05-27 23:34:58 | INFO | openpack_torch.lightning | Epoch[062] TRAIN: loss= 1.0286, acc= 0.6342 | VAL: loss= 0.9308, acc= 0.6237\n",
      "2022-05-27 23:34:59 | INFO | openpack_torch.lightning | Epoch[063] TRAIN: loss= 0.9337, acc= 0.6718 | VAL: loss= 0.8882, acc= 0.6257\n",
      "2022-05-27 23:35:00 | INFO | openpack_torch.lightning | Epoch[064] TRAIN: loss= 0.9473, acc= 0.6676 | VAL: loss= 0.8906, acc= 0.6284\n",
      "2022-05-27 23:35:01 | INFO | openpack_torch.lightning | Epoch[065] TRAIN: loss= 0.9705, acc= 0.6608 | VAL: loss= 0.8802, acc= 0.6353\n",
      "2022-05-27 23:35:03 | INFO | openpack_torch.lightning | Epoch[066] TRAIN: loss= 0.9060, acc= 0.6807 | VAL: loss= 0.8628, acc= 0.6398\n",
      "2022-05-27 23:35:04 | INFO | openpack_torch.lightning | Epoch[067] TRAIN: loss= 0.9211, acc= 0.6734 | VAL: loss= 0.8685, acc= 0.6390\n",
      "2022-05-27 23:35:05 | INFO | openpack_torch.lightning | Epoch[068] TRAIN: loss= 0.8972, acc= 0.6818 | VAL: loss= 0.8691, acc= 0.6462\n",
      "2022-05-27 23:35:06 | INFO | openpack_torch.lightning | Epoch[069] TRAIN: loss= 0.9830, acc= 0.6656 | VAL: loss= 0.8441, acc= 0.6582\n",
      "2022-05-27 23:35:07 | INFO | openpack_torch.lightning | Epoch[070] TRAIN: loss= 0.9505, acc= 0.6642 | VAL: loss= 0.8756, acc= 0.6428\n",
      "2022-05-27 23:35:08 | INFO | openpack_torch.lightning | Epoch[071] TRAIN: loss= 0.9226, acc= 0.6764 | VAL: loss= 0.8879, acc= 0.6418\n",
      "2022-05-27 23:35:09 | INFO | openpack_torch.lightning | Epoch[072] TRAIN: loss= 0.9198, acc= 0.6780 | VAL: loss= 0.8847, acc= 0.6458\n",
      "2022-05-27 23:35:10 | INFO | openpack_torch.lightning | Epoch[073] TRAIN: loss= 1.0171, acc= 0.6448 | VAL: loss= 0.9327, acc= 0.6227\n",
      "2022-05-27 23:35:11 | INFO | openpack_torch.lightning | Epoch[074] TRAIN: loss= 0.8859, acc= 0.6868 | VAL: loss= 0.8831, acc= 0.6483\n",
      "2022-05-27 23:35:13 | INFO | openpack_torch.lightning | Epoch[075] TRAIN: loss= 0.9221, acc= 0.6769 | VAL: loss= 0.8708, acc= 0.6521\n",
      "2022-05-27 23:35:14 | INFO | openpack_torch.lightning | Epoch[076] TRAIN: loss= 0.8538, acc= 0.6944 | VAL: loss= 0.8541, acc= 0.6571\n",
      "2022-05-27 23:35:15 | INFO | openpack_torch.lightning | Epoch[077] TRAIN: loss= 0.8480, acc= 0.6988 | VAL: loss= 0.8376, acc= 0.6602\n",
      "2022-05-27 23:35:16 | INFO | openpack_torch.lightning | Epoch[078] TRAIN: loss= 0.8848, acc= 0.6887 | VAL: loss= 0.8524, acc= 0.6522\n",
      "2022-05-27 23:35:17 | INFO | openpack_torch.lightning | Epoch[079] TRAIN: loss= 0.9483, acc= 0.6651 | VAL: loss= 0.8462, acc= 0.6562\n",
      "2022-05-27 23:35:18 | INFO | openpack_torch.lightning | Epoch[080] TRAIN: loss= 0.8576, acc= 0.7072 | VAL: loss= 0.8715, acc= 0.6421\n",
      "2022-05-27 23:35:19 | INFO | openpack_torch.lightning | Epoch[081] TRAIN: loss= 0.9364, acc= 0.6684 | VAL: loss= 1.0572, acc= 0.5545\n",
      "2022-05-27 23:35:20 | INFO | openpack_torch.lightning | Epoch[082] TRAIN: loss= 0.8539, acc= 0.6944 | VAL: loss= 0.9608, acc= 0.5992\n",
      "2022-05-27 23:35:21 | INFO | openpack_torch.lightning | Epoch[083] TRAIN: loss= 0.9196, acc= 0.6711 | VAL: loss= 0.9167, acc= 0.6258\n",
      "2022-05-27 23:35:23 | INFO | openpack_torch.lightning | Epoch[084] TRAIN: loss= 0.8673, acc= 0.6909 | VAL: loss= 0.8357, acc= 0.6532\n",
      "2022-05-27 23:35:24 | INFO | openpack_torch.lightning | Epoch[085] TRAIN: loss= 0.8790, acc= 0.6839 | VAL: loss= 0.8667, acc= 0.6483\n",
      "2022-05-27 23:35:25 | INFO | openpack_torch.lightning | Epoch[086] TRAIN: loss= 0.9573, acc= 0.6616 | VAL: loss= 0.9217, acc= 0.6240\n",
      "2022-05-27 23:35:26 | INFO | openpack_torch.lightning | Epoch[087] TRAIN: loss= 0.8614, acc= 0.6960 | VAL: loss= 0.8663, acc= 0.6416\n",
      "2022-05-27 23:35:27 | INFO | openpack_torch.lightning | Epoch[088] TRAIN: loss= 0.8419, acc= 0.7020 | VAL: loss= 0.8500, acc= 0.6519\n",
      "2022-05-27 23:35:28 | INFO | openpack_torch.lightning | Epoch[089] TRAIN: loss= 0.8942, acc= 0.6861 | VAL: loss= 0.8629, acc= 0.6542\n",
      "2022-05-27 23:35:29 | INFO | openpack_torch.lightning | Epoch[090] TRAIN: loss= 0.8822, acc= 0.6915 | VAL: loss= 0.8606, acc= 0.6510\n",
      "2022-05-27 23:35:30 | INFO | openpack_torch.lightning | Epoch[091] TRAIN: loss= 0.8175, acc= 0.7042 | VAL: loss= 0.8502, acc= 0.6551\n",
      "2022-05-27 23:35:31 | INFO | openpack_torch.lightning | Epoch[092] TRAIN: loss= 0.9039, acc= 0.6786 | VAL: loss= 0.8895, acc= 0.6421\n",
      "2022-05-27 23:35:33 | INFO | openpack_torch.lightning | Epoch[093] TRAIN: loss= 0.8638, acc= 0.6866 | VAL: loss= 0.8654, acc= 0.6533\n",
      "2022-05-27 23:35:34 | INFO | openpack_torch.lightning | Epoch[094] TRAIN: loss= 0.8851, acc= 0.6848 | VAL: loss= 0.8971, acc= 0.6498\n",
      "2022-05-27 23:35:35 | INFO | openpack_torch.lightning | Epoch[095] TRAIN: loss= 0.8623, acc= 0.6961 | VAL: loss= 0.9124, acc= 0.6331\n",
      "2022-05-27 23:35:36 | INFO | openpack_torch.lightning | Epoch[096] TRAIN: loss= 0.8350, acc= 0.6975 | VAL: loss= 0.8528, acc= 0.6451\n",
      "2022-05-27 23:35:37 | INFO | openpack_torch.lightning | Epoch[097] TRAIN: loss= 0.8852, acc= 0.6919 | VAL: loss= 0.8305, acc= 0.6629\n",
      "2022-05-27 23:35:38 | INFO | openpack_torch.lightning | Epoch[098] TRAIN: loss= 0.8631, acc= 0.6911 | VAL: loss= 0.8507, acc= 0.6576\n",
      "2022-05-27 23:35:39 | INFO | openpack_torch.lightning | Epoch[099] TRAIN: loss= 0.7948, acc= 0.7190 | VAL: loss= 0.8394, acc= 0.6649\n",
      "2022-05-27 23:35:40 | INFO | openpack_torch.lightning | Epoch[100] TRAIN: loss= 0.8296, acc= 0.7014 | VAL: loss= 0.8205, acc= 0.6708\n",
      "2022-05-27 23:35:42 | INFO | openpack_torch.lightning | Epoch[101] TRAIN: loss= 0.8952, acc= 0.6833 | VAL: loss= 0.8820, acc= 0.6414\n",
      "2022-05-27 23:35:43 | INFO | openpack_torch.lightning | Epoch[102] TRAIN: loss= 0.8309, acc= 0.7124 | VAL: loss= 0.8932, acc= 0.6306\n",
      "2022-05-27 23:35:44 | INFO | openpack_torch.lightning | Epoch[103] TRAIN: loss= 0.8297, acc= 0.7045 | VAL: loss= 0.8574, acc= 0.6617\n",
      "2022-05-27 23:35:45 | INFO | openpack_torch.lightning | Epoch[104] TRAIN: loss= 0.8041, acc= 0.7136 | VAL: loss= 0.8198, acc= 0.6649\n",
      "2022-05-27 23:35:46 | INFO | openpack_torch.lightning | Epoch[105] TRAIN: loss= 0.8148, acc= 0.7094 | VAL: loss= 0.8179, acc= 0.6659\n",
      "2022-05-27 23:35:47 | INFO | openpack_torch.lightning | Epoch[106] TRAIN: loss= 0.9000, acc= 0.6857 | VAL: loss= 0.8676, acc= 0.6491\n",
      "2022-05-27 23:35:48 | INFO | openpack_torch.lightning | Epoch[107] TRAIN: loss= 0.8245, acc= 0.6855 | VAL: loss= 0.8812, acc= 0.6349\n",
      "2022-05-27 23:35:49 | INFO | openpack_torch.lightning | Epoch[108] TRAIN: loss= 0.8684, acc= 0.7000 | VAL: loss= 0.8472, acc= 0.6600\n",
      "2022-05-27 23:35:51 | INFO | openpack_torch.lightning | Epoch[109] TRAIN: loss= 0.8157, acc= 0.6909 | VAL: loss= 0.8937, acc= 0.6408\n",
      "2022-05-27 23:35:52 | INFO | openpack_torch.lightning | Epoch[110] TRAIN: loss= 0.8567, acc= 0.6959 | VAL: loss= 0.8863, acc= 0.6362\n",
      "2022-05-27 23:35:53 | INFO | openpack_torch.lightning | Epoch[111] TRAIN: loss= 0.8701, acc= 0.6874 | VAL: loss= 0.8983, acc= 0.6464\n",
      "2022-05-27 23:35:54 | INFO | openpack_torch.lightning | Epoch[112] TRAIN: loss= 0.8709, acc= 0.6867 | VAL: loss= 0.8633, acc= 0.6598\n",
      "2022-05-27 23:35:55 | INFO | openpack_torch.lightning | Epoch[113] TRAIN: loss= 0.8333, acc= 0.6988 | VAL: loss= 0.8442, acc= 0.6667\n",
      "2022-05-27 23:35:56 | INFO | openpack_torch.lightning | Epoch[114] TRAIN: loss= 0.8339, acc= 0.7037 | VAL: loss= 0.8373, acc= 0.6701\n",
      "2022-05-27 23:35:57 | INFO | openpack_torch.lightning | Epoch[115] TRAIN: loss= 0.8309, acc= 0.7058 | VAL: loss= 0.8190, acc= 0.6770\n",
      "2022-05-27 23:35:58 | INFO | openpack_torch.lightning | Epoch[116] TRAIN: loss= 0.8072, acc= 0.7162 | VAL: loss= 0.8255, acc= 0.6653\n",
      "2022-05-27 23:36:00 | INFO | openpack_torch.lightning | Epoch[117] TRAIN: loss= 0.7978, acc= 0.7139 | VAL: loss= 0.8573, acc= 0.6562\n",
      "2022-05-27 23:36:01 | INFO | openpack_torch.lightning | Epoch[118] TRAIN: loss= 0.7663, acc= 0.7284 | VAL: loss= 0.9017, acc= 0.6388\n",
      "2022-05-27 23:36:02 | INFO | openpack_torch.lightning | Epoch[119] TRAIN: loss= 0.7880, acc= 0.7186 | VAL: loss= 0.8871, acc= 0.6391\n",
      "2022-05-27 23:36:03 | INFO | openpack_torch.lightning | Epoch[120] TRAIN: loss= 0.8523, acc= 0.6993 | VAL: loss= 0.8469, acc= 0.6612\n",
      "2022-05-27 23:36:04 | INFO | openpack_torch.lightning | Epoch[121] TRAIN: loss= 0.8588, acc= 0.6926 | VAL: loss= 0.9052, acc= 0.6259\n",
      "2022-05-27 23:36:05 | INFO | openpack_torch.lightning | Epoch[122] TRAIN: loss= 0.7923, acc= 0.7145 | VAL: loss= 0.8710, acc= 0.6395\n",
      "2022-05-27 23:36:06 | INFO | openpack_torch.lightning | Epoch[123] TRAIN: loss= 0.8084, acc= 0.7073 | VAL: loss= 0.8498, acc= 0.6683\n",
      "2022-05-27 23:36:07 | INFO | openpack_torch.lightning | Epoch[124] TRAIN: loss= 0.8157, acc= 0.7067 | VAL: loss= 0.8735, acc= 0.6469\n",
      "2022-05-27 23:36:09 | INFO | openpack_torch.lightning | Epoch[125] TRAIN: loss= 0.7847, acc= 0.7230 | VAL: loss= 0.8563, acc= 0.6593\n",
      "2022-05-27 23:36:10 | INFO | openpack_torch.lightning | Epoch[126] TRAIN: loss= 0.8309, acc= 0.7009 | VAL: loss= 0.8813, acc= 0.6495\n",
      "2022-05-27 23:36:11 | INFO | openpack_torch.lightning | Epoch[127] TRAIN: loss= 0.7843, acc= 0.7178 | VAL: loss= 0.8797, acc= 0.6445\n",
      "2022-05-27 23:36:12 | INFO | openpack_torch.lightning | Epoch[128] TRAIN: loss= 0.8134, acc= 0.7094 | VAL: loss= 0.8559, acc= 0.6676\n",
      "2022-05-27 23:36:13 | INFO | openpack_torch.lightning | Epoch[129] TRAIN: loss= 0.7987, acc= 0.7084 | VAL: loss= 0.8525, acc= 0.6635\n",
      "2022-05-27 23:36:14 | INFO | openpack_torch.lightning | Epoch[130] TRAIN: loss= 0.7890, acc= 0.7126 | VAL: loss= 0.8847, acc= 0.6421\n",
      "2022-05-27 23:36:15 | INFO | openpack_torch.lightning | Epoch[131] TRAIN: loss= 0.7709, acc= 0.7287 | VAL: loss= 0.9012, acc= 0.6287\n",
      "2022-05-27 23:36:16 | INFO | openpack_torch.lightning | Epoch[132] TRAIN: loss= 0.7318, acc= 0.7403 | VAL: loss= 0.8435, acc= 0.6700\n",
      "2022-05-27 23:36:17 | INFO | openpack_torch.lightning | Epoch[133] TRAIN: loss= 0.7475, acc= 0.7404 | VAL: loss= 0.8289, acc= 0.6701\n",
      "2022-05-27 23:36:18 | INFO | openpack_torch.lightning | Epoch[134] TRAIN: loss= 0.7595, acc= 0.7278 | VAL: loss= 0.8559, acc= 0.6552\n",
      "2022-05-27 23:36:20 | INFO | openpack_torch.lightning | Epoch[135] TRAIN: loss= 0.7267, acc= 0.7435 | VAL: loss= 0.8386, acc= 0.6634\n",
      "2022-05-27 23:36:21 | INFO | openpack_torch.lightning | Epoch[136] TRAIN: loss= 0.8036, acc= 0.7111 | VAL: loss= 0.8716, acc= 0.6502\n",
      "2022-05-27 23:36:22 | INFO | openpack_torch.lightning | Epoch[137] TRAIN: loss= 0.7084, acc= 0.7442 | VAL: loss= 0.9082, acc= 0.6282\n",
      "2022-05-27 23:36:23 | INFO | openpack_torch.lightning | Epoch[138] TRAIN: loss= 0.7617, acc= 0.7136 | VAL: loss= 0.9241, acc= 0.6238\n",
      "2022-05-27 23:36:24 | INFO | openpack_torch.lightning | Epoch[139] TRAIN: loss= 0.7293, acc= 0.7374 | VAL: loss= 0.8700, acc= 0.6426\n",
      "2022-05-27 23:36:25 | INFO | openpack_torch.lightning | Epoch[140] TRAIN: loss= 0.7688, acc= 0.7268 | VAL: loss= 0.8579, acc= 0.6403\n",
      "2022-05-27 23:36:26 | INFO | openpack_torch.lightning | Epoch[141] TRAIN: loss= 0.7395, acc= 0.7385 | VAL: loss= 0.8292, acc= 0.6661\n",
      "2022-05-27 23:36:27 | INFO | openpack_torch.lightning | Epoch[142] TRAIN: loss= 0.7524, acc= 0.7298 | VAL: loss= 0.8273, acc= 0.6760\n",
      "2022-05-27 23:36:29 | INFO | openpack_torch.lightning | Epoch[143] TRAIN: loss= 0.7681, acc= 0.7278 | VAL: loss= 0.8957, acc= 0.6421\n",
      "2022-05-27 23:36:30 | INFO | openpack_torch.lightning | Epoch[144] TRAIN: loss= 0.7458, acc= 0.7299 | VAL: loss= 0.8463, acc= 0.6567\n",
      "2022-05-27 23:36:31 | INFO | openpack_torch.lightning | Epoch[145] TRAIN: loss= 0.7286, acc= 0.7387 | VAL: loss= 0.8635, acc= 0.6483\n",
      "2022-05-27 23:36:32 | INFO | openpack_torch.lightning | Epoch[146] TRAIN: loss= 0.7994, acc= 0.7238 | VAL: loss= 0.9591, acc= 0.6058\n",
      "2022-05-27 23:36:33 | INFO | openpack_torch.lightning | Epoch[147] TRAIN: loss= 0.8932, acc= 0.6865 | VAL: loss= 0.9251, acc= 0.6410\n",
      "2022-05-27 23:36:34 | INFO | openpack_torch.lightning | Epoch[148] TRAIN: loss= 0.8430, acc= 0.6965 | VAL: loss= 0.9548, acc= 0.6503\n",
      "2022-05-27 23:36:35 | INFO | openpack_torch.lightning | Epoch[149] TRAIN: loss= 0.8232, acc= 0.7047 | VAL: loss= 0.9134, acc= 0.6330\n",
      "2022-05-27 23:36:36 | INFO | openpack_torch.lightning | Epoch[150] TRAIN: loss= 0.8177, acc= 0.7044 | VAL: loss= 0.8884, acc= 0.6302\n",
      "2022-05-27 23:36:37 | INFO | openpack_torch.lightning | Epoch[151] TRAIN: loss= 0.7581, acc= 0.7266 | VAL: loss= 0.8121, acc= 0.6747\n",
      "2022-05-27 23:36:39 | INFO | openpack_torch.lightning | Epoch[152] TRAIN: loss= 0.7382, acc= 0.7323 | VAL: loss= 0.8364, acc= 0.6549\n",
      "2022-05-27 23:36:40 | INFO | openpack_torch.lightning | Epoch[153] TRAIN: loss= 0.8273, acc= 0.7109 | VAL: loss= 0.8531, acc= 0.6522\n",
      "2022-05-27 23:36:41 | INFO | openpack_torch.lightning | Epoch[154] TRAIN: loss= 0.7554, acc= 0.7286 | VAL: loss= 0.8336, acc= 0.6639\n",
      "2022-05-27 23:36:42 | INFO | openpack_torch.lightning | Epoch[155] TRAIN: loss= 0.7832, acc= 0.7085 | VAL: loss= 0.8765, acc= 0.6404\n",
      "2022-05-27 23:36:43 | INFO | openpack_torch.lightning | Epoch[156] TRAIN: loss= 0.7133, acc= 0.7442 | VAL: loss= 0.8617, acc= 0.6512\n",
      "2022-05-27 23:36:44 | INFO | openpack_torch.lightning | Epoch[157] TRAIN: loss= 0.7223, acc= 0.7382 | VAL: loss= 0.8893, acc= 0.6385\n",
      "2022-05-27 23:36:45 | INFO | openpack_torch.lightning | Epoch[158] TRAIN: loss= 0.7612, acc= 0.7332 | VAL: loss= 0.8860, acc= 0.6452\n",
      "2022-05-27 23:36:46 | INFO | openpack_torch.lightning | Epoch[159] TRAIN: loss= 0.7753, acc= 0.7202 | VAL: loss= 0.9277, acc= 0.6209\n",
      "2022-05-27 23:36:47 | INFO | openpack_torch.lightning | Epoch[160] TRAIN: loss= 0.9234, acc= 0.6945 | VAL: loss= 0.8468, acc= 0.6545\n",
      "2022-05-27 23:36:49 | INFO | openpack_torch.lightning | Epoch[161] TRAIN: loss= 0.8037, acc= 0.7123 | VAL: loss= 0.8461, acc= 0.6508\n",
      "2022-05-27 23:36:50 | INFO | openpack_torch.lightning | Epoch[162] TRAIN: loss= 0.7729, acc= 0.7195 | VAL: loss= 0.8414, acc= 0.6679\n",
      "2022-05-27 23:36:51 | INFO | openpack_torch.lightning | Epoch[163] TRAIN: loss= 0.7524, acc= 0.7276 | VAL: loss= 0.8423, acc= 0.6672\n",
      "2022-05-27 23:36:52 | INFO | openpack_torch.lightning | Epoch[164] TRAIN: loss= 0.7965, acc= 0.7165 | VAL: loss= 0.8897, acc= 0.6531\n",
      "2022-05-27 23:36:53 | INFO | openpack_torch.lightning | Epoch[165] TRAIN: loss= 0.8061, acc= 0.7185 | VAL: loss= 0.8726, acc= 0.6561\n",
      "2022-05-27 23:36:54 | INFO | openpack_torch.lightning | Epoch[166] TRAIN: loss= 0.7309, acc= 0.7401 | VAL: loss= 0.8431, acc= 0.6672\n",
      "2022-05-27 23:36:55 | INFO | openpack_torch.lightning | Epoch[167] TRAIN: loss= 0.7684, acc= 0.7317 | VAL: loss= 0.8616, acc= 0.6622\n",
      "2022-05-27 23:36:56 | INFO | openpack_torch.lightning | Epoch[168] TRAIN: loss= 0.7409, acc= 0.7422 | VAL: loss= 0.8521, acc= 0.6614\n",
      "2022-05-27 23:36:57 | INFO | openpack_torch.lightning | Epoch[169] TRAIN: loss= 0.7619, acc= 0.7272 | VAL: loss= 0.8894, acc= 0.6407\n",
      "2022-05-27 23:36:59 | INFO | openpack_torch.lightning | Epoch[170] TRAIN: loss= 0.7593, acc= 0.7294 | VAL: loss= 0.8852, acc= 0.6507\n",
      "2022-05-27 23:37:00 | INFO | openpack_torch.lightning | Epoch[171] TRAIN: loss= 0.7651, acc= 0.7268 | VAL: loss= 0.8493, acc= 0.6641\n",
      "2022-05-27 23:37:01 | INFO | openpack_torch.lightning | Epoch[172] TRAIN: loss= 0.8017, acc= 0.7087 | VAL: loss= 0.8797, acc= 0.6485\n",
      "2022-05-27 23:37:02 | INFO | openpack_torch.lightning | Epoch[173] TRAIN: loss= 0.7257, acc= 0.7287 | VAL: loss= 0.8786, acc= 0.6398\n",
      "2022-05-27 23:37:03 | INFO | openpack_torch.lightning | Epoch[174] TRAIN: loss= 0.7503, acc= 0.7352 | VAL: loss= 0.8274, acc= 0.6715\n",
      "2022-05-27 23:37:04 | INFO | openpack_torch.lightning | Epoch[175] TRAIN: loss= 0.7215, acc= 0.7456 | VAL: loss= 0.8334, acc= 0.6629\n",
      "2022-05-27 23:37:05 | INFO | openpack_torch.lightning | Epoch[176] TRAIN: loss= 0.8681, acc= 0.7001 | VAL: loss= 0.9299, acc= 0.6244\n",
      "2022-05-27 23:37:06 | INFO | openpack_torch.lightning | Epoch[177] TRAIN: loss= 0.7133, acc= 0.7433 | VAL: loss= 0.9150, acc= 0.6366\n",
      "2022-05-27 23:37:07 | INFO | openpack_torch.lightning | Epoch[178] TRAIN: loss= 0.7829, acc= 0.7207 | VAL: loss= 0.8702, acc= 0.6555\n",
      "2022-05-27 23:37:09 | INFO | openpack_torch.lightning | Epoch[179] TRAIN: loss= 0.7078, acc= 0.7473 | VAL: loss= 0.8662, acc= 0.6524\n",
      "2022-05-27 23:37:10 | INFO | openpack_torch.lightning | Epoch[180] TRAIN: loss= 0.6968, acc= 0.7503 | VAL: loss= 0.8556, acc= 0.6505\n",
      "2022-05-27 23:37:11 | INFO | openpack_torch.lightning | Epoch[181] TRAIN: loss= 0.7223, acc= 0.7432 | VAL: loss= 0.8685, acc= 0.6498\n",
      "2022-05-27 23:37:12 | INFO | openpack_torch.lightning | Epoch[182] TRAIN: loss= 0.6923, acc= 0.7526 | VAL: loss= 0.8459, acc= 0.6677\n",
      "2022-05-27 23:37:13 | INFO | openpack_torch.lightning | Epoch[183] TRAIN: loss= 0.6958, acc= 0.7484 | VAL: loss= 0.8521, acc= 0.6485\n",
      "2022-05-27 23:37:14 | INFO | openpack_torch.lightning | Epoch[184] TRAIN: loss= 0.6672, acc= 0.7629 | VAL: loss= 0.9060, acc= 0.6297\n",
      "2022-05-27 23:37:16 | INFO | openpack_torch.lightning | Epoch[185] TRAIN: loss= 0.6942, acc= 0.7482 | VAL: loss= 0.8636, acc= 0.6623\n",
      "2022-05-27 23:37:17 | INFO | openpack_torch.lightning | Epoch[186] TRAIN: loss= 0.6790, acc= 0.7424 | VAL: loss= 0.8243, acc= 0.6760\n",
      "2022-05-27 23:37:18 | INFO | openpack_torch.lightning | Epoch[187] TRAIN: loss= 0.7392, acc= 0.7313 | VAL: loss= 0.9125, acc= 0.6314\n",
      "2022-05-27 23:37:19 | INFO | openpack_torch.lightning | Epoch[188] TRAIN: loss= 0.7105, acc= 0.7462 | VAL: loss= 0.8835, acc= 0.6537\n",
      "2022-05-27 23:37:20 | INFO | openpack_torch.lightning | Epoch[189] TRAIN: loss= 0.7539, acc= 0.7326 | VAL: loss= 0.8844, acc= 0.6429\n",
      "2022-05-27 23:37:21 | INFO | openpack_torch.lightning | Epoch[190] TRAIN: loss= 0.7635, acc= 0.7298 | VAL: loss= 0.9173, acc= 0.6243\n",
      "2022-05-27 23:37:22 | INFO | openpack_torch.lightning | Epoch[191] TRAIN: loss= 0.6901, acc= 0.7558 | VAL: loss= 0.9103, acc= 0.6381\n",
      "2022-05-27 23:37:23 | INFO | openpack_torch.lightning | Epoch[192] TRAIN: loss= 0.6591, acc= 0.7638 | VAL: loss= 0.8498, acc= 0.6616\n",
      "2022-05-27 23:37:24 | INFO | openpack_torch.lightning | Epoch[193] TRAIN: loss= 0.7097, acc= 0.7440 | VAL: loss= 0.8799, acc= 0.6461\n",
      "2022-05-27 23:37:26 | INFO | openpack_torch.lightning | Epoch[194] TRAIN: loss= 0.7260, acc= 0.7432 | VAL: loss= 0.8679, acc= 0.6544\n",
      "2022-05-27 23:37:27 | INFO | openpack_torch.lightning | Epoch[195] TRAIN: loss= 0.7151, acc= 0.7456 | VAL: loss= 0.8745, acc= 0.6546\n",
      "2022-05-27 23:37:28 | INFO | openpack_torch.lightning | Epoch[196] TRAIN: loss= 0.6436, acc= 0.7757 | VAL: loss= 0.8849, acc= 0.6451\n",
      "2022-05-27 23:37:29 | INFO | openpack_torch.lightning | Epoch[197] TRAIN: loss= 0.6731, acc= 0.7601 | VAL: loss= 0.8777, acc= 0.6566\n",
      "2022-05-27 23:37:30 | INFO | openpack_torch.lightning | Epoch[198] TRAIN: loss= 0.6611, acc= 0.7678 | VAL: loss= 0.8811, acc= 0.6479\n",
      "2022-05-27 23:37:31 | INFO | openpack_torch.lightning | Epoch[199] TRAIN: loss= 0.6536, acc= 0.7676 | VAL: loss= 0.9045, acc= 0.6401\n",
      "2022-05-27 23:37:32 | INFO | __main__ | Finish training!\n"
     ]
    }
   ],
   "source": [
    "logger.info(f\"Start training for {num_epoch} epochs.\")\n",
    "trainer.fit(plmodel, datamodule)\n",
    "logger.info(\"Finish training!\")"
   ]
  },
  {
   "cell_type": "markdown",
   "id": "80ad09e2-9b02-4582-b012-3ce9fdfc3e0e",
   "metadata": {},
   "source": [
    "### 3-4: Plot Training Curve"
   ]
  },
  {
   "cell_type": "code",
   "execution_count": 13,
   "id": "5fe6a607-6921-4440-a03b-03f35b72ff2b",
   "metadata": {},
   "outputs": [],
   "source": [
    "df = pd.concat([\n",
    "    pd.DataFrame(plmodel.log[\"train\"]),\n",
    "    pd.DataFrame(plmodel.log[\"val\"]),\n",
    "],axis=1,)\n",
    "df.index.name = \"epoch\""
   ]
  },
  {
   "cell_type": "code",
   "execution_count": 14,
   "id": "65b6eb10-9584-483b-8a44-deb539528f90",
   "metadata": {},
   "outputs": [
    {
     "data": {
      "text/html": [
       "<div>\n",
       "<style scoped>\n",
       "    .dataframe tbody tr th:only-of-type {\n",
       "        vertical-align: middle;\n",
       "    }\n",
       "\n",
       "    .dataframe tbody tr th {\n",
       "        vertical-align: top;\n",
       "    }\n",
       "\n",
       "    .dataframe thead th {\n",
       "        text-align: right;\n",
       "    }\n",
       "</style>\n",
       "<table border=\"1\" class=\"dataframe\">\n",
       "  <thead>\n",
       "    <tr style=\"text-align: right;\">\n",
       "      <th></th>\n",
       "      <th>train/loss</th>\n",
       "      <th>train/acc</th>\n",
       "      <th>val/loss</th>\n",
       "      <th>val/acc</th>\n",
       "    </tr>\n",
       "    <tr>\n",
       "      <th>epoch</th>\n",
       "      <th></th>\n",
       "      <th></th>\n",
       "      <th></th>\n",
       "      <th></th>\n",
       "    </tr>\n",
       "  </thead>\n",
       "  <tbody>\n",
       "    <tr>\n",
       "      <th>0</th>\n",
       "      <td>2.201164</td>\n",
       "      <td>0.201873</td>\n",
       "      <td>2.316991</td>\n",
       "      <td>0.159837</td>\n",
       "    </tr>\n",
       "    <tr>\n",
       "      <th>1</th>\n",
       "      <td>1.984612</td>\n",
       "      <td>0.341857</td>\n",
       "      <td>2.314400</td>\n",
       "      <td>0.170586</td>\n",
       "    </tr>\n",
       "    <tr>\n",
       "      <th>2</th>\n",
       "      <td>1.902127</td>\n",
       "      <td>0.378414</td>\n",
       "      <td>2.300478</td>\n",
       "      <td>0.149744</td>\n",
       "    </tr>\n",
       "    <tr>\n",
       "      <th>3</th>\n",
       "      <td>1.795048</td>\n",
       "      <td>0.432723</td>\n",
       "      <td>2.268022</td>\n",
       "      <td>0.148429</td>\n",
       "    </tr>\n",
       "    <tr>\n",
       "      <th>4</th>\n",
       "      <td>1.751810</td>\n",
       "      <td>0.433389</td>\n",
       "      <td>2.190969</td>\n",
       "      <td>0.197494</td>\n",
       "    </tr>\n",
       "  </tbody>\n",
       "</table>\n",
       "</div>"
      ],
      "text/plain": [
       "       train/loss  train/acc  val/loss   val/acc\n",
       "epoch                                           \n",
       "0        2.201164   0.201873  2.316991  0.159837\n",
       "1        1.984612   0.341857  2.314400  0.170586\n",
       "2        1.902127   0.378414  2.300478  0.149744\n",
       "3        1.795048   0.432723  2.268022  0.148429\n",
       "4        1.751810   0.433389  2.190969  0.197494"
      ]
     },
     "execution_count": 14,
     "metadata": {},
     "output_type": "execute_result"
    }
   ],
   "source": [
    "df.head()"
   ]
  },
  {
   "cell_type": "markdown",
   "id": "30f71352-d4b0-4ceb-9b9a-525a129e6174",
   "metadata": {},
   "source": [
    "Training Log"
   ]
  },
  {
   "cell_type": "code",
   "execution_count": 15,
   "id": "61b0b6ad-9a6b-4264-8abd-8db8dcf477e1",
   "metadata": {},
   "outputs": [
    {
     "data": {
      "image/png": "[encoded data removed]",
      "text/plain": [
       "<Figure size 432x288 with 1 Axes>"
      ]
     },
     "metadata": {
      "needs_background": "light"
     },
     "output_type": "display_data"
    }
   ],
   "source": [
    "df[[\"train/loss\", \"val/loss\"]].plot()\n",
    "plt.show()"
   ]
  },
  {
   "cell_type": "markdown",
   "id": "9fb11f8b-e84c-41a1-965d-b439bd63c24f",
   "metadata": {},
   "source": [
    "Test Log"
   ]
  },
  {
   "cell_type": "code",
   "execution_count": 16,
   "id": "3b1a002a-2ff5-4bf6-a1b2-763d95bbaf08",
   "metadata": {},
   "outputs": [
    {
     "data": {
      "image/png": "[encoded data removed]",
      "text/plain": [
       "<Figure size 432x288 with 1 Axes>"
      ]
     },
     "metadata": {
      "needs_background": "light"
     },
     "output_type": "display_data"
    }
   ],
   "source": [
    "df[[\"train/acc\", \"val/acc\"]].plot()\n",
    "plt.show()"
   ]
  },
  {
   "cell_type": "markdown",
   "id": "2c92629a-743f-4097-bb41-86f39a4f3053",
   "metadata": {},
   "source": [
    "## [4] Test"
   ]
  },
  {
   "cell_type": "markdown",
   "id": "e73192e1-876e-44b7-9c8e-ae7b5079da4d",
   "metadata": {},
   "source": [
    "### 4-1: Get prediction results for each sequences."
   ]
  },
  {
   "cell_type": "code",
   "execution_count": 17,
   "id": "6ec859ea-fc23-4f48-a611-8253523ad245",
   "metadata": {},
   "outputs": [
    {
     "name": "stderr",
     "output_type": "stream",
     "text": [
      "2022-05-27 23:37:34 | WARNING | openpack_torch.data.datasets | No preprocessing is applied.\n",
      "2022-05-27 23:37:34 | INFO | openpack_torch.data.datamodule | dataset[train]: None\n",
      "2022-05-27 23:37:34 | INFO | openpack_torch.data.datamodule | dataset[val]: None\n",
      "2022-05-27 23:37:34 | INFO | openpack_torch.data.datamodule | dataset[test]: {'U0102-S0500': <openpack_torch.data.datasets.OpenPackImu object at 0x7f66e9bff370>}\n",
      "2022-05-27 23:37:34 | INFO | openpack_torch.data.datamodule | dataset[submission]: None\n",
      "2022-05-27 23:37:34 | INFO | __main__ | test on U0102-S0500\n",
      "2022-05-27 23:37:34 | WARNING | openpack_torch.data.datasets | No preprocessing is applied.\n",
      "2022-05-27 23:37:34 | INFO | openpack_torch.data.datamodule | dataset[train]: None\n",
      "2022-05-27 23:37:34 | INFO | openpack_torch.data.datamodule | dataset[val]: None\n",
      "2022-05-27 23:37:34 | INFO | openpack_torch.data.datamodule | dataset[test]: {'U0102-S0500': <openpack_torch.data.datasets.OpenPackImu object at 0x7f65cce3b640>}\n",
      "2022-05-27 23:37:34 | INFO | openpack_torch.data.datamodule | dataset[submission]: None\n",
      "LOCAL_RANK: 0 - CUDA_VISIBLE_DEVICES: [0]\n",
      "2022-05-27 23:37:34 | INFO | __main__ | save t[shape=(31, 1800)] to /content/data/log/openpack-acc/UNet/I01-EXP1-V1/pred/U0102-S0500/t.npy\n",
      "2022-05-27 23:37:34 | INFO | __main__ | save y[shape=(31, 10, 1800)] to /content/data/log/openpack-acc/UNet/I01-EXP1-V1/pred/U0102-S0500/y.npy\n",
      "2022-05-27 23:37:34 | INFO | __main__ | save unixtime[shape=(31, 1800)] to /content/data/log/openpack-acc/UNet/I01-EXP1-V1/pred/U0102-S0500/unixtime.npy\n"
     ]
    }
   ],
   "source": [
    "datamodule.setup(\"test\")\n",
    "dataloaders = datamodule.test_dataloader()\n",
    "split = cfg.dataset.split.test\n",
    "\n",
    "\n",
    "outputs = dict()\n",
    "for i, dataloader in enumerate(dataloaders):\n",
    "    user, session = split[i]\n",
    "    logger.info(f\"test on U{user:0=4}-S{session:0=4}\")\n",
    "\n",
    "    trainer.test(plmodel, dataloader)\n",
    "\n",
    "    # save model outputs\n",
    "    pred_dir = Path(\n",
    "        cfg.volume.logdir.predict.format(user=user, session=session)\n",
    "    )\n",
    "    pred_dir.mkdir(parents=True, exist_ok=True)\n",
    "\n",
    "    for key, arr in plmodel.test_results.items():\n",
    "        path = Path(pred_dir, f\"{key}.npy\")\n",
    "        np.save(path, arr)\n",
    "        logger.info(f\"save {key}[shape={arr.shape}] to {path}\")\n",
    "\n",
    "    outputs[f\"U{user:0=4}-S{session:0=4}\"] = {\n",
    "        \"t_idx\": plmodel.test_results.get(\"t\"),\n",
    "        \"y\": plmodel.test_results.get(\"y\"),\n",
    "        \"unixtime\": plmodel.test_results.get(\"unixtime\"),\n",
    "    }"
   ]
  },
  {
   "cell_type": "markdown",
   "id": "605b50b5-b099-4319-84b6-ad120760dd92",
   "metadata": {},
   "source": [
    "### 4-2: Evaluate"
   ]
  },
  {
   "cell_type": "code",
   "execution_count": 18,
   "id": "c61ad2c2-d92c-4161-9a0c-62677379ec8b",
   "metadata": {},
   "outputs": [],
   "source": [
    "# compute performance summary\n",
    "df_summary = eval_operation_segmentation_wrapper(\n",
    "    outputs, OPENPACK_OPERATIONS,\n",
    ")"
   ]
  },
  {
   "cell_type": "code",
   "execution_count": 19,
   "id": "72a70472-4511-4c56-bda2-72fe3a71dea4",
   "metadata": {},
   "outputs": [
    {
     "data": {
      "text/html": [
       "<div>\n",
       "<style scoped>\n",
       "    .dataframe tbody tr th:only-of-type {\n",
       "        vertical-align: middle;\n",
       "    }\n",
       "\n",
       "    .dataframe tbody tr th {\n",
       "        vertical-align: top;\n",
       "    }\n",
       "\n",
       "    .dataframe thead th {\n",
       "        text-align: right;\n",
       "    }\n",
       "</style>\n",
       "<table border=\"1\" class=\"dataframe\">\n",
       "  <thead>\n",
       "    <tr style=\"text-align: right;\">\n",
       "      <th></th>\n",
       "      <th>name</th>\n",
       "      <th>id</th>\n",
       "      <th>precision</th>\n",
       "      <th>recall</th>\n",
       "      <th>f1</th>\n",
       "      <th>support</th>\n",
       "      <th>key</th>\n",
       "    </tr>\n",
       "  </thead>\n",
       "  <tbody>\n",
       "    <tr>\n",
       "      <th>12</th>\n",
       "      <td>avg/macro</td>\n",
       "      <td>-1</td>\n",
       "      <td>0.595952</td>\n",
       "      <td>0.577888</td>\n",
       "      <td>0.578461</td>\n",
       "      <td>None</td>\n",
       "      <td>all</td>\n",
       "    </tr>\n",
       "    <tr>\n",
       "      <th>13</th>\n",
       "      <td>avg/weighted</td>\n",
       "      <td>-1</td>\n",
       "      <td>0.599183</td>\n",
       "      <td>0.586319</td>\n",
       "      <td>0.583754</td>\n",
       "      <td>None</td>\n",
       "      <td>all</td>\n",
       "    </tr>\n",
       "    <tr>\n",
       "      <th>14</th>\n",
       "      <td>Picking</td>\n",
       "      <td>100</td>\n",
       "      <td>0.637931</td>\n",
       "      <td>0.443114</td>\n",
       "      <td>0.522968</td>\n",
       "      <td>167</td>\n",
       "      <td>all</td>\n",
       "    </tr>\n",
       "    <tr>\n",
       "      <th>15</th>\n",
       "      <td>MoveItemLabel</td>\n",
       "      <td>200</td>\n",
       "      <td>0.691824</td>\n",
       "      <td>0.571429</td>\n",
       "      <td>0.625889</td>\n",
       "      <td>385</td>\n",
       "      <td>all</td>\n",
       "    </tr>\n",
       "    <tr>\n",
       "      <th>16</th>\n",
       "      <td>AssembleBox</td>\n",
       "      <td>300</td>\n",
       "      <td>0.579646</td>\n",
       "      <td>0.505792</td>\n",
       "      <td>0.540206</td>\n",
       "      <td>259</td>\n",
       "      <td>all</td>\n",
       "    </tr>\n",
       "    <tr>\n",
       "      <th>17</th>\n",
       "      <td>PackInBox</td>\n",
       "      <td>400</td>\n",
       "      <td>0.456000</td>\n",
       "      <td>0.410072</td>\n",
       "      <td>0.431818</td>\n",
       "      <td>139</td>\n",
       "      <td>all</td>\n",
       "    </tr>\n",
       "    <tr>\n",
       "      <th>18</th>\n",
       "      <td>CloseBox</td>\n",
       "      <td>500</td>\n",
       "      <td>0.414414</td>\n",
       "      <td>0.508287</td>\n",
       "      <td>0.456576</td>\n",
       "      <td>181</td>\n",
       "      <td>all</td>\n",
       "    </tr>\n",
       "    <tr>\n",
       "      <th>19</th>\n",
       "      <td>ReadLabel</td>\n",
       "      <td>600</td>\n",
       "      <td>0.610687</td>\n",
       "      <td>0.816327</td>\n",
       "      <td>0.698690</td>\n",
       "      <td>294</td>\n",
       "      <td>all</td>\n",
       "    </tr>\n",
       "    <tr>\n",
       "      <th>20</th>\n",
       "      <td>AttachLabel</td>\n",
       "      <td>700</td>\n",
       "      <td>0.524887</td>\n",
       "      <td>0.738854</td>\n",
       "      <td>0.613757</td>\n",
       "      <td>157</td>\n",
       "      <td>all</td>\n",
       "    </tr>\n",
       "    <tr>\n",
       "      <th>21</th>\n",
       "      <td>PutOnCartRack</td>\n",
       "      <td>800</td>\n",
       "      <td>0.569767</td>\n",
       "      <td>0.612500</td>\n",
       "      <td>0.590361</td>\n",
       "      <td>80</td>\n",
       "      <td>all</td>\n",
       "    </tr>\n",
       "    <tr>\n",
       "      <th>22</th>\n",
       "      <td>Pen</td>\n",
       "      <td>900</td>\n",
       "      <td>0.752137</td>\n",
       "      <td>0.553459</td>\n",
       "      <td>0.637681</td>\n",
       "      <td>159</td>\n",
       "      <td>all</td>\n",
       "    </tr>\n",
       "    <tr>\n",
       "      <th>23</th>\n",
       "      <td>Null</td>\n",
       "      <td>1000</td>\n",
       "      <td>0.722222</td>\n",
       "      <td>0.619048</td>\n",
       "      <td>0.666667</td>\n",
       "      <td>21</td>\n",
       "      <td>all</td>\n",
       "    </tr>\n",
       "  </tbody>\n",
       "</table>\n",
       "</div>"
      ],
      "text/plain": [
       "             name    id  precision    recall        f1 support  key\n",
       "12      avg/macro    -1   0.595952  0.577888  0.578461    None  all\n",
       "13   avg/weighted    -1   0.599183  0.586319  0.583754    None  all\n",
       "14        Picking   100   0.637931  0.443114  0.522968     167  all\n",
       "15  MoveItemLabel   200   0.691824  0.571429  0.625889     385  all\n",
       "16    AssembleBox   300   0.579646  0.505792  0.540206     259  all\n",
       "17      PackInBox   400   0.456000  0.410072  0.431818     139  all\n",
       "18       CloseBox   500   0.414414  0.508287  0.456576     181  all\n",
       "19      ReadLabel   600   0.610687  0.816327  0.698690     294  all\n",
       "20    AttachLabel   700   0.524887  0.738854  0.613757     157  all\n",
       "21  PutOnCartRack   800   0.569767  0.612500  0.590361      80  all\n",
       "22            Pen   900   0.752137  0.553459  0.637681     159  all\n",
       "23           Null  1000   0.722222  0.619048  0.666667      21  all"
      ]
     },
     "execution_count": 19,
     "metadata": {},
     "output_type": "execute_result"
    }
   ],
   "source": [
    "df_summary[df_summary[\"key\"]==\"all\"]"
   ]
  },
  {
   "cell_type": "code",
   "execution_count": null,
   "id": "d3b55dc4-a8c6-4eb8-9c8b-27e6b30a7df0",
   "metadata": {},
   "outputs": [],
   "source": []
  },
  {
   "cell_type": "markdown",
   "id": "e052f310-bc35-434d-b34a-adbab8b575e4",
   "metadata": {},
   "source": [
    "## [5] Submission"
   ]
  },
  {
   "cell_type": "markdown",
   "id": "253dcf37-1da8-46d2-adf3-e84e22c52af4",
   "metadata": {},
   "source": [
    "### 5-1: Get prediction for test data."
   ]
  },
  {
   "cell_type": "code",
   "execution_count": 20,
   "id": "4c30a2b9-cb0a-400b-8357-bb3f29c9ab63",
   "metadata": {},
   "outputs": [
    {
     "name": "stderr",
     "output_type": "stream",
     "text": [
      "2022-05-27 23:37:35 | WARNING | openpack_torch.data.datasets | No preprocessing is applied.\n",
      "2022-05-27 23:37:35 | INFO | openpack_torch.data.datamodule | dataset[train]: None\n",
      "2022-05-27 23:37:35 | INFO | openpack_torch.data.datamodule | dataset[val]: None\n",
      "2022-05-27 23:37:35 | INFO | openpack_torch.data.datamodule | dataset[test]: None\n",
      "2022-05-27 23:37:35 | INFO | openpack_torch.data.datamodule | dataset[submission]: {'U0102-S0500': <openpack_torch.data.datasets.OpenPackImu object at 0x7f66e9bffe80>}\n",
      "2022-05-27 23:37:35 | INFO | __main__ | test on U0102-S0500\n",
      "2022-05-27 23:37:35 | WARNING | openpack_torch.data.datasets | No preprocessing is applied.\n",
      "2022-05-27 23:37:35 | INFO | openpack_torch.data.datamodule | dataset[train]: None\n",
      "2022-05-27 23:37:35 | INFO | openpack_torch.data.datamodule | dataset[val]: None\n",
      "2022-05-27 23:37:35 | INFO | openpack_torch.data.datamodule | dataset[test]: {'U0102-S0500': <openpack_torch.data.datasets.OpenPackImu object at 0x7f65cd255d00>}\n",
      "2022-05-27 23:37:35 | INFO | openpack_torch.data.datamodule | dataset[submission]: None\n",
      "LOCAL_RANK: 0 - CUDA_VISIBLE_DEVICES: [0]\n",
      "2022-05-27 23:37:35 | INFO | __main__ | save t[shape=(31, 1800)] to /content/data/log/openpack-acc/UNet/I01-EXP1-V1/pred/U0102-S0500/t.npy\n",
      "2022-05-27 23:37:35 | INFO | __main__ | save y[shape=(31, 10, 1800)] to /content/data/log/openpack-acc/UNet/I01-EXP1-V1/pred/U0102-S0500/y.npy\n",
      "2022-05-27 23:37:35 | INFO | __main__ | save unixtime[shape=(31, 1800)] to /content/data/log/openpack-acc/UNet/I01-EXP1-V1/pred/U0102-S0500/unixtime.npy\n"
     ]
    }
   ],
   "source": [
    "datamodule.setup(\"submission\")\n",
    "dataloaders = datamodule.submission_dataloader()\n",
    "split = cfg.dataset.split.submission\n",
    "\n",
    "outputs = dict()\n",
    "for i, dataloader in enumerate(dataloaders):\n",
    "    user, session = split[i]\n",
    "    logger.info(f\"test on U{user:0=4}-S{session:0=4}\")\n",
    "\n",
    "    trainer.test(plmodel, dataloader)\n",
    "\n",
    "    # save model outputs\n",
    "    pred_dir = Path(\n",
    "        cfg.volume.logdir.predict.format(user=user, session=session)\n",
    "    )\n",
    "    pred_dir.mkdir(parents=True, exist_ok=True)\n",
    "\n",
    "    for key, arr in plmodel.test_results.items():\n",
    "        path = Path(pred_dir, f\"{key}.npy\")\n",
    "        np.save(path, arr)\n",
    "        logger.info(f\"save {key}[shape={arr.shape}] to {path}\")\n",
    "\n",
    "    outputs[f\"U{user:0=4}-S{session:0=4}\"] = {\n",
    "        \"y\": plmodel.test_results.get(\"y\"),\n",
    "        \"unixtime\": plmodel.test_results.get(\"unixtime\"),\n",
    "    }"
   ]
  },
  {
   "cell_type": "markdown",
   "id": "8f5ef1ff-7710-4692-a718-0405186e8e44",
   "metadata": {},
   "source": [
    "### 5-2: Make submission zip file"
   ]
  },
  {
   "cell_type": "code",
   "execution_count": 21,
   "id": "0e13c946-8bd0-424b-8343-955481ec7dba",
   "metadata": {},
   "outputs": [
    {
     "name": "stderr",
     "output_type": "stream",
     "text": [
      "2022-05-27 23:37:35 | INFO | openpack_toolkit.codalab.operation_segmentation.utils | write submission.json to submission.json\n",
      "2022-05-27 23:37:35 | INFO | openpack_toolkit.codalab.operation_segmentation.utils | write submission.zip to submission.zip\n"
     ]
    }
   ],
   "source": [
    "output_dir = Path(\".\")\n",
    "\n",
    "submission_dict = construct_submission_dict(\n",
    "    outputs, OPENPACK_OPERATIONS)\n",
    "make_submission_zipfile(submission_dict, output_dir)"
   ]
  },
  {
   "cell_type": "code",
   "execution_count": null,
   "id": "9c8d47d0-dfd9-4086-b152-ed53a5d7a294",
   "metadata": {},
   "outputs": [],
   "source": []
  }
 ],
 "metadata": {
  "kernelspec": {
   "display_name": "Python 3 (ipykernel)",
   "language": "python",
   "name": "python3"
  },
  "language_info": {
   "codemirror_mode": {
    "name": "ipython",
    "version": 3
   },
   "file_extension": ".py",
   "mimetype": "text/x-python",
   "name": "python",
   "nbconvert_exporter": "python",
   "pygments_lexer": "ipython3",
   "version": "3.8.12"
  }
 },
 "nbformat": 4,
 "nbformat_minor": 5
}
