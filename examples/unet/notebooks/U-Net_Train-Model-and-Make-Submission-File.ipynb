{
 "cells": [
  {
   "cell_type": "markdown",
   "id": "62133d2f-db52-4903-b8da-afb282959973",
   "metadata": {},
   "source": [
    "# U-Net | Train Model and Make Submission File"
   ]
  },
  {
   "cell_type": "markdown",
   "id": "dd2922d2-1fca-4cc2-8739-81c76a437ec9",
   "metadata": {},
   "source": [
    "This is a tutorial of [OpenPack Challenge 2022](https://open-pack.github.io/challenge2022/). \n",
    "In this notebook, we will build the U-Net, one of the basic architecture for segmentation, with the acceleration data from the left wrist (atr01). This notebook also shows how to make submission file (`submission.json`) for OpenPack Challenge 2022. In fact, the performance of this U-Net is poor. Please enjoy finding a better architecture and parameters."
   ]
  },
  {
   "cell_type": "markdown",
   "id": "d6306579-9f17-49fc-bc1b-e85fa4302b66",
   "metadata": {},
   "source": [
    "[![Open In Colab](https://colab.research.google.com/assets/colab-badge.svg)](https://colab.research.google.com/github/open-pack/openpack-torch/blob/main/examples/unet/notebooks/U-Net_Train-a-Model-and-Make-Submission-File.ipynb)"
   ]
  },
  {
   "cell_type": "markdown",
   "id": "1149019d-005a-4071-81b4-5dde35836302",
   "metadata": {
    "tags": []
   },
   "source": [
    "## [0] Inital Setup"
   ]
  },
  {
   "cell_type": "markdown",
   "id": "bb015bbf-633d-4dd5-9451-59b6f5cc3ecb",
   "metadata": {},
   "source": [
    "### 0-1: Download Code and Install `openpack-torch` \n",
    "NOTE: You can also install `openpack-torch` from PyPI with `pip install openpack-torch`."
   ]
  },
  {
   "cell_type": "code",
   "execution_count": null,
   "id": "3d848e0e-64c3-4376-b2a9-342e14d82b74",
   "metadata": {},
   "outputs": [],
   "source": [
    "! cd /content && git clone https://github.com/open-pack/openpack-torch.git"
   ]
  },
  {
   "cell_type": "code",
   "execution_count": 1,
   "id": "e1a8f425-bb1a-4f8f-a2e7-5fa4fb2b276c",
   "metadata": {},
   "outputs": [
    {
     "name": "stdout",
     "output_type": "stream",
     "text": [
      "Processing /content/openpack-torch\n",
      "  Installing build dependencies ... \u001b[?25ldone\n",
      "\u001b[?25h  Getting requirements to build wheel ... \u001b[?25ldone\n",
      "\u001b[?25h  Preparing metadata (pyproject.toml) ... \u001b[?25ldone\n",
      "\u001b[?25hRequirement already satisfied: omegaconf<3.0.0,>=2.2.1 in /opt/conda/lib/python3.8/site-packages (from openpack-torch==0.4.0) (2.2.2)\n",
      "Requirement already satisfied: tqdm<5.0.0,>=4.64.0 in /opt/conda/lib/python3.8/site-packages (from openpack-torch==0.4.0) (4.64.0)\n",
      "Requirement already satisfied: numpy<1.22.0 in /opt/conda/lib/python3.8/site-packages (from openpack-torch==0.4.0) (1.21.6)\n",
      "Requirement already satisfied: pytorch-lightning<2.0.0,>=1.6.3 in /opt/conda/lib/python3.8/site-packages (from openpack-torch==0.4.0) (1.6.4)\n",
      "Requirement already satisfied: hydra-core<2.0.0,>=1.2.0 in /opt/conda/lib/python3.8/site-packages (from openpack-torch==0.4.0) (1.2.0)\n",
      "Requirement already satisfied: openpack-toolkit<0.6.0,>=0.5.0 in /opt/conda/lib/python3.8/site-packages (from openpack-torch==0.4.0) (0.5.0)\n",
      "Requirement already satisfied: torch<2.0.0,>=1.9.0 in /opt/conda/lib/python3.8/site-packages (from openpack-torch==0.4.0) (1.11.0)\n",
      "Requirement already satisfied: sklearn>=0.0 in /opt/conda/lib/python3.8/site-packages (from openpack-torch==0.4.0) (0.0)\n",
      "Requirement already satisfied: pandas<2.0.0,>=1.2.4 in /opt/conda/lib/python3.8/site-packages (from openpack-torch==0.4.0) (1.3.5)\n",
      "Requirement already satisfied: importlib-resources in /opt/conda/lib/python3.8/site-packages (from hydra-core<2.0.0,>=1.2.0->openpack-torch==0.4.0) (5.8.0)\n",
      "Requirement already satisfied: antlr4-python3-runtime==4.9.* in /opt/conda/lib/python3.8/site-packages (from hydra-core<2.0.0,>=1.2.0->openpack-torch==0.4.0) (4.9.3)\n",
      "Requirement already satisfied: packaging in /opt/conda/lib/python3.8/site-packages (from hydra-core<2.0.0,>=1.2.0->openpack-torch==0.4.0) (21.3)\n",
      "Requirement already satisfied: PyYAML>=5.1.0 in /opt/conda/lib/python3.8/site-packages (from omegaconf<3.0.0,>=2.2.1->openpack-torch==0.4.0) (6.0)\n",
      "Requirement already satisfied: scipy<2.0.0,>=1.7.3 in /opt/conda/lib/python3.8/site-packages (from openpack-toolkit<0.6.0,>=0.5.0->openpack-torch==0.4.0) (1.7.3)\n",
      "Requirement already satisfied: python-dateutil>=2.7.3 in /opt/conda/lib/python3.8/site-packages (from pandas<2.0.0,>=1.2.4->openpack-torch==0.4.0) (2.8.2)\n",
      "Requirement already satisfied: pytz>=2017.3 in /opt/conda/lib/python3.8/site-packages (from pandas<2.0.0,>=1.2.4->openpack-torch==0.4.0) (2022.1)\n",
      "Requirement already satisfied: torchmetrics>=0.4.1 in /opt/conda/lib/python3.8/site-packages (from pytorch-lightning<2.0.0,>=1.6.3->openpack-torch==0.4.0) (0.9.1)\n",
      "Requirement already satisfied: typing-extensions>=4.0.0 in /opt/conda/lib/python3.8/site-packages (from pytorch-lightning<2.0.0,>=1.6.3->openpack-torch==0.4.0) (4.3.0)\n",
      "Requirement already satisfied: protobuf<=3.20.1 in /opt/conda/lib/python3.8/site-packages (from pytorch-lightning<2.0.0,>=1.6.3->openpack-torch==0.4.0) (3.20.1)\n",
      "Requirement already satisfied: fsspec[http]!=2021.06.0,>=2021.05.0 in /opt/conda/lib/python3.8/site-packages (from pytorch-lightning<2.0.0,>=1.6.3->openpack-torch==0.4.0) (2022.5.0)\n",
      "Requirement already satisfied: tensorboard>=2.2.0 in /opt/conda/lib/python3.8/site-packages (from pytorch-lightning<2.0.0,>=1.6.3->openpack-torch==0.4.0) (2.9.0)\n",
      "Requirement already satisfied: pyDeprecate>=0.3.1 in /opt/conda/lib/python3.8/site-packages (from pytorch-lightning<2.0.0,>=1.6.3->openpack-torch==0.4.0) (0.3.2)\n",
      "Requirement already satisfied: scikit-learn in /opt/conda/lib/python3.8/site-packages (from sklearn>=0.0->openpack-torch==0.4.0) (1.0.2)\n",
      "Requirement already satisfied: requests in /opt/conda/lib/python3.8/site-packages (from fsspec[http]!=2021.06.0,>=2021.05.0->pytorch-lightning<2.0.0,>=1.6.3->openpack-torch==0.4.0) (2.28.0)\n",
      "Requirement already satisfied: aiohttp in /opt/conda/lib/python3.8/site-packages (from fsspec[http]!=2021.06.0,>=2021.05.0->pytorch-lightning<2.0.0,>=1.6.3->openpack-torch==0.4.0) (3.8.1)\n",
      "Requirement already satisfied: pyparsing!=3.0.5,>=2.0.2 in /opt/conda/lib/python3.8/site-packages (from packaging->hydra-core<2.0.0,>=1.2.0->openpack-torch==0.4.0) (3.0.9)\n",
      "Requirement already satisfied: six>=1.5 in /opt/conda/lib/python3.8/site-packages (from python-dateutil>=2.7.3->pandas<2.0.0,>=1.2.4->openpack-torch==0.4.0) (1.16.0)\n",
      "Requirement already satisfied: wheel>=0.26 in /opt/conda/lib/python3.8/site-packages (from tensorboard>=2.2.0->pytorch-lightning<2.0.0,>=1.6.3->openpack-torch==0.4.0) (0.37.1)\n",
      "Requirement already satisfied: google-auth-oauthlib<0.5,>=0.4.1 in /opt/conda/lib/python3.8/site-packages (from tensorboard>=2.2.0->pytorch-lightning<2.0.0,>=1.6.3->openpack-torch==0.4.0) (0.4.6)\n",
      "Requirement already satisfied: markdown>=2.6.8 in /opt/conda/lib/python3.8/site-packages (from tensorboard>=2.2.0->pytorch-lightning<2.0.0,>=1.6.3->openpack-torch==0.4.0) (3.3.7)\n",
      "Requirement already satisfied: tensorboard-plugin-wit>=1.6.0 in /opt/conda/lib/python3.8/site-packages (from tensorboard>=2.2.0->pytorch-lightning<2.0.0,>=1.6.3->openpack-torch==0.4.0) (1.8.1)\n",
      "Requirement already satisfied: werkzeug>=1.0.1 in /opt/conda/lib/python3.8/site-packages (from tensorboard>=2.2.0->pytorch-lightning<2.0.0,>=1.6.3->openpack-torch==0.4.0) (2.1.2)\n",
      "Requirement already satisfied: setuptools>=41.0.0 in /opt/conda/lib/python3.8/site-packages (from tensorboard>=2.2.0->pytorch-lightning<2.0.0,>=1.6.3->openpack-torch==0.4.0) (58.0.4)\n",
      "Requirement already satisfied: google-auth<3,>=1.6.3 in /opt/conda/lib/python3.8/site-packages (from tensorboard>=2.2.0->pytorch-lightning<2.0.0,>=1.6.3->openpack-torch==0.4.0) (2.8.0)\n",
      "Requirement already satisfied: tensorboard-data-server<0.7.0,>=0.6.0 in /opt/conda/lib/python3.8/site-packages (from tensorboard>=2.2.0->pytorch-lightning<2.0.0,>=1.6.3->openpack-torch==0.4.0) (0.6.1)\n",
      "Requirement already satisfied: grpcio>=1.24.3 in /opt/conda/lib/python3.8/site-packages (from tensorboard>=2.2.0->pytorch-lightning<2.0.0,>=1.6.3->openpack-torch==0.4.0) (1.47.0)\n",
      "Requirement already satisfied: absl-py>=0.4 in /opt/conda/lib/python3.8/site-packages (from tensorboard>=2.2.0->pytorch-lightning<2.0.0,>=1.6.3->openpack-torch==0.4.0) (1.1.0)\n",
      "Requirement already satisfied: zipp>=3.1.0 in /opt/conda/lib/python3.8/site-packages (from importlib-resources->hydra-core<2.0.0,>=1.2.0->openpack-torch==0.4.0) (3.8.0)\n",
      "Requirement already satisfied: threadpoolctl>=2.0.0 in /opt/conda/lib/python3.8/site-packages (from scikit-learn->sklearn>=0.0->openpack-torch==0.4.0) (3.1.0)\n",
      "Requirement already satisfied: joblib>=0.11 in /opt/conda/lib/python3.8/site-packages (from scikit-learn->sklearn>=0.0->openpack-torch==0.4.0) (1.1.0)\n",
      "Requirement already satisfied: rsa<5,>=3.1.4 in /opt/conda/lib/python3.8/site-packages (from google-auth<3,>=1.6.3->tensorboard>=2.2.0->pytorch-lightning<2.0.0,>=1.6.3->openpack-torch==0.4.0) (4.8)\n",
      "Requirement already satisfied: cachetools<6.0,>=2.0.0 in /opt/conda/lib/python3.8/site-packages (from google-auth<3,>=1.6.3->tensorboard>=2.2.0->pytorch-lightning<2.0.0,>=1.6.3->openpack-torch==0.4.0) (5.2.0)\n",
      "Requirement already satisfied: pyasn1-modules>=0.2.1 in /opt/conda/lib/python3.8/site-packages (from google-auth<3,>=1.6.3->tensorboard>=2.2.0->pytorch-lightning<2.0.0,>=1.6.3->openpack-torch==0.4.0) (0.2.8)\n",
      "Requirement already satisfied: requests-oauthlib>=0.7.0 in /opt/conda/lib/python3.8/site-packages (from google-auth-oauthlib<0.5,>=0.4.1->tensorboard>=2.2.0->pytorch-lightning<2.0.0,>=1.6.3->openpack-torch==0.4.0) (1.3.1)\n",
      "Requirement already satisfied: importlib-metadata>=4.4 in /opt/conda/lib/python3.8/site-packages (from markdown>=2.6.8->tensorboard>=2.2.0->pytorch-lightning<2.0.0,>=1.6.3->openpack-torch==0.4.0) (4.12.0)\n",
      "Requirement already satisfied: certifi>=2017.4.17 in /opt/conda/lib/python3.8/site-packages (from requests->fsspec[http]!=2021.06.0,>=2021.05.0->pytorch-lightning<2.0.0,>=1.6.3->openpack-torch==0.4.0) (2022.6.15)\n",
      "Requirement already satisfied: urllib3<1.27,>=1.21.1 in /opt/conda/lib/python3.8/site-packages (from requests->fsspec[http]!=2021.06.0,>=2021.05.0->pytorch-lightning<2.0.0,>=1.6.3->openpack-torch==0.4.0) (1.26.9)\n",
      "Requirement already satisfied: charset-normalizer~=2.0.0 in /opt/conda/lib/python3.8/site-packages (from requests->fsspec[http]!=2021.06.0,>=2021.05.0->pytorch-lightning<2.0.0,>=1.6.3->openpack-torch==0.4.0) (2.0.12)\n",
      "Requirement already satisfied: idna<4,>=2.5 in /opt/conda/lib/python3.8/site-packages (from requests->fsspec[http]!=2021.06.0,>=2021.05.0->pytorch-lightning<2.0.0,>=1.6.3->openpack-torch==0.4.0) (3.3)\n",
      "Requirement already satisfied: aiosignal>=1.1.2 in /opt/conda/lib/python3.8/site-packages (from aiohttp->fsspec[http]!=2021.06.0,>=2021.05.0->pytorch-lightning<2.0.0,>=1.6.3->openpack-torch==0.4.0) (1.2.0)\n",
      "Requirement already satisfied: yarl<2.0,>=1.0 in /opt/conda/lib/python3.8/site-packages (from aiohttp->fsspec[http]!=2021.06.0,>=2021.05.0->pytorch-lightning<2.0.0,>=1.6.3->openpack-torch==0.4.0) (1.7.2)\n",
      "Requirement already satisfied: multidict<7.0,>=4.5 in /opt/conda/lib/python3.8/site-packages (from aiohttp->fsspec[http]!=2021.06.0,>=2021.05.0->pytorch-lightning<2.0.0,>=1.6.3->openpack-torch==0.4.0) (6.0.2)\n",
      "Requirement already satisfied: attrs>=17.3.0 in /opt/conda/lib/python3.8/site-packages (from aiohttp->fsspec[http]!=2021.06.0,>=2021.05.0->pytorch-lightning<2.0.0,>=1.6.3->openpack-torch==0.4.0) (21.4.0)\n",
      "Requirement already satisfied: async-timeout<5.0,>=4.0.0a3 in /opt/conda/lib/python3.8/site-packages (from aiohttp->fsspec[http]!=2021.06.0,>=2021.05.0->pytorch-lightning<2.0.0,>=1.6.3->openpack-torch==0.4.0) (4.0.2)\n",
      "Requirement already satisfied: frozenlist>=1.1.1 in /opt/conda/lib/python3.8/site-packages (from aiohttp->fsspec[http]!=2021.06.0,>=2021.05.0->pytorch-lightning<2.0.0,>=1.6.3->openpack-torch==0.4.0) (1.3.0)\n",
      "Requirement already satisfied: pyasn1<0.5.0,>=0.4.6 in /opt/conda/lib/python3.8/site-packages (from pyasn1-modules>=0.2.1->google-auth<3,>=1.6.3->tensorboard>=2.2.0->pytorch-lightning<2.0.0,>=1.6.3->openpack-torch==0.4.0) (0.4.8)\n",
      "Requirement already satisfied: oauthlib>=3.0.0 in /opt/conda/lib/python3.8/site-packages (from requests-oauthlib>=0.7.0->google-auth-oauthlib<0.5,>=0.4.1->tensorboard>=2.2.0->pytorch-lightning<2.0.0,>=1.6.3->openpack-torch==0.4.0) (3.2.0)\n",
      "Building wheels for collected packages: openpack-torch\n",
      "  Building wheel for openpack-torch (pyproject.toml) ... \u001b[?25ldone\n",
      "\u001b[?25h  Created wheel for openpack-torch: filename=openpack_torch-0.4.0-py3-none-any.whl size=19653 sha256=7a879d837ea83a02703aa0826c4d4fb1001241553259d4eea09d22da99cbf6ba\n",
      "  Stored in directory: /root/.cache/pip/wheels/3c/41/d3/f3da9cc23f0fe3895867143cff021a2da847c6ed2c7f33f269\n",
      "Successfully built openpack-torch\n",
      "Installing collected packages: openpack-torch\n",
      "  Attempting uninstall: openpack-torch\n",
      "    Found existing installation: openpack-torch 0.3.0\n",
      "    Uninstalling openpack-torch-0.3.0:\n",
      "      Successfully uninstalled openpack-torch-0.3.0\n",
      "Successfully installed openpack-torch-0.4.0\n",
      "\u001b[33mWARNING: Running pip as the 'root' user can result in broken permissions and conflicting behaviour with the system package manager. It is recommended to use a virtual environment instead: https://pip.pypa.io/warnings/venv\u001b[0m\u001b[33m\n",
      "\u001b[0m\u001b[33mWARNING: There was an error checking the latest version of pip.\u001b[0m\u001b[33m\n",
      "\u001b[0m"
     ]
    }
   ],
   "source": [
    "! cd /content/openpack-torch/ && pip install ."
   ]
  },
  {
   "cell_type": "markdown",
   "id": "7effb91e-bfb4-4bb3-ba5e-81cf8cf0c92b",
   "metadata": {},
   "source": [
    "### 0-2: Download Dataset to Your Google Drive\n",
    "Download OpenPack dataset to your google drive (`/MyDrive/Colab Notebooks/openpack/data`) and make a symlink to `/content/data`. "
   ]
  },
  {
   "cell_type": "code",
   "execution_count": null,
   "id": "70b778f2-ee96-44df-b20b-1930d2033c5a",
   "metadata": {},
   "outputs": [],
   "source": [
    "from google.colab import drive\n",
    "drive.mount('/content/drive')"
   ]
  },
  {
   "cell_type": "markdown",
   "id": "29453d1d-09ea-4c02-866c-ca0dee25d25f",
   "metadata": {},
   "source": [
    "If you have already downloaded the data set, skip this step."
   ]
  },
  {
   "cell_type": "code",
   "execution_count": null,
   "id": "171bee58-23f6-49b3-a297-31036387df5a",
   "metadata": {},
   "outputs": [],
   "source": [
    "! mkdir -p \"/content/drive/MyDrive/Colab Notebooks/openpack/data/datasets\"\n",
    "! optk-download -d \"/content/drive/MyDrive/Colab Notebooks/openpack/data/datasets\" -v v0.2.1 -s atr-qags,openpack-operations\n",
    "! ln -s \"/content/drive/MyDrive/Colab Notebooks/openpack/data/\" \"/content/data\""
   ]
  },
  {
   "cell_type": "code",
   "execution_count": null,
   "id": "035bc544-06e5-47b2-a679-bf421d78b074",
   "metadata": {},
   "outputs": [],
   "source": []
  },
  {
   "cell_type": "markdown",
   "id": "13c4a349-8af8-4840-849f-d97b04f143cb",
   "metadata": {},
   "source": [
    "### 0-3: Import Modules"
   ]
  },
  {
   "cell_type": "code",
   "execution_count": 1,
   "id": "0fca86ac-b992-47e1-a809-02dc17776d10",
   "metadata": {},
   "outputs": [
    {
     "name": "stderr",
     "output_type": "stream",
     "text": [
      "/opt/conda/lib/python3.8/site-packages/torchvision/io/image.py:13: UserWarning: Failed to load image Python extension: libtorch_cuda_cu.so: cannot open shared object file: No such file or directory\n",
      "  warn(f\"Failed to load image Python extension: {e}\")\n"
     ]
    }
   ],
   "source": [
    "import os\n",
    "import shutil\n",
    "import logging\n",
    "from pathlib import Path\n",
    "from typing import Dict, Optional\n",
    "\n",
    "\n",
    "import hydra\n",
    "import numpy as np\n",
    "import openpack_toolkit as optk\n",
    "import openpack_torch as optorch\n",
    "import pandas as pd\n",
    "import pytorch_lightning as pl\n",
    "import torch\n",
    "from scipy.special import softmax\n",
    "\n",
    "import matplotlib.pyplot as plt\n",
    "import seaborn as sns\n",
    "from omegaconf import DictConfig, OmegaConf\n",
    "\n",
    "from openpack_toolkit import OPENPACK_OPERATIONS\n",
    "from openpack_toolkit.codalab.operation_segmentation import (\n",
    "    construct_submission_dict, eval_operation_segmentation_wrapper,\n",
    "    make_submission_zipfile)\n",
    "\n",
    "sns.set(\"notebook\", \"whitegrid\")"
   ]
  },
  {
   "cell_type": "markdown",
   "id": "85f8cc4e-42a3-4ff2-a853-32c8992ba6b6",
   "metadata": {},
   "source": [
    "### 0-4: Setup Logger"
   ]
  },
  {
   "cell_type": "code",
   "execution_count": 2,
   "id": "88d0bdbf-b9cd-40cf-bfa0-e7f18c23b96f",
   "metadata": {},
   "outputs": [
    {
     "name": "stderr",
     "output_type": "stream",
     "text": [
      "2022-09-28 22:23:52 | INFO | __main__ | info\n",
      "2022-09-28 22:23:52 | WARNING | __main__ | warning\n"
     ]
    }
   ],
   "source": [
    "_ = optk.utils.notebook.setup_root_logger()\n",
    "logger = logging.getLogger(__name__)\n",
    "\n",
    "logger.debug(\"debug\")\n",
    "logger.info(\"info\")\n",
    "logger.warning(\"warning\")"
   ]
  },
  {
   "cell_type": "markdown",
   "id": "6f742547-dbd0-4e89-a318-54f05cd99924",
   "metadata": {},
   "source": [
    "### 0-5: Set Random Seed\n",
    "\n",
    "In machine learning, a lot of random variables are generated and it affect to model's performance.\n",
    "By resetting a random seed before each run, you can improve reproducibility. "
   ]
  },
  {
   "cell_type": "code",
   "execution_count": 3,
   "id": "fb8628b5-baa0-43fe-8135-5d7894d402d7",
   "metadata": {},
   "outputs": [
    {
     "name": "stderr",
     "output_type": "stream",
     "text": [
      "2022-09-28 22:23:52 | INFO | openpack_torch.utils.random | Reset Seeds: python=0, numpy=0, Pytorch (cpu=0, cuda=0)\n"
     ]
    }
   ],
   "source": [
    "optorch.utils.reset_seed(seed=0)"
   ]
  },
  {
   "cell_type": "code",
   "execution_count": null,
   "id": "aefa1636-e689-4053-bf60-8a324967bbc9",
   "metadata": {},
   "outputs": [],
   "source": []
  },
  {
   "cell_type": "markdown",
   "id": "53707866-bfc4-49dc-9bba-5b7bab6e12da",
   "metadata": {},
   "source": [
    "## [1] Load Config File"
   ]
  },
  {
   "cell_type": "markdown",
   "id": "778e85e0-0816-46d0-be35-fa7af4d9dfb7",
   "metadata": {},
   "source": [
    "### 1-1: Overview of Config Files\n",
    "Thare are a lot of parameters that are needed to train deep learning models. Managing these parameters is a laborious task.\n",
    "Here are some useful tools to ease this burden. [hydra](https://hydra.cc/) is a framework for elegantly configurein complex application, and also you can use it to manage parameters.\n",
    "To update default parameters, please update YAML files in [configs](https://github.com/open-pack/openpack-torch/tree/main/examples/unet/configs).\n",
    "We will show you some examples here, but when you want to utilse yaml files, please refere to other tutorials.\n",
    "\n",
    "#### Ex.1: Change Training Parameters\n",
    "\n",
    "For example, when you want to change default `batch_size`, edit [operation-segmentation.yaml](https://github.com/open-pack/openpack-torch/blob/main/examples/unet/configs/operation-segmentation.yaml) as follows.\n",
    "\n",
    "```yaml\n",
    "train:\n",
    "  num_workers: 3\n",
    "  batch_size: 128 # Updated (original value = 64)\n",
    "  epochs: 100\n",
    "```\n",
    "\n",
    "#### Ex.2: Change Input Modality\n",
    "\n",
    "An another example is to add IMU sensors at left&right arm (atr03, atr04).\n",
    "You can change it by editing [atr-acc-wrists.yaml](https://github.com/open-pack/openpack-torch/blob/main/examples/unet/configs/dataset/stream/atr-acc-wrists.yaml)\n",
    "\n",
    "\n",
    "```yaml\n",
    "defaults:\n",
    "  - atr-qags\n",
    "  - _self_\n",
    "name: atr-acc-wrists\n",
    "super_stream: atr-qags\n",
    "devices:\n",
    "- atr01\n",
    "- atr02 # Add\n",
    "- atr03 # Add \n",
    "- atr04 # Add\n",
    "acc: true\n",
    "gyro: false\n",
    "quat: false\n",
    "```"
   ]
  },
  {
   "cell_type": "code",
   "execution_count": null,
   "id": "d78c9b91-dc07-4105-8de5-b300968083fd",
   "metadata": {},
   "outputs": [],
   "source": []
  },
  {
   "cell_type": "markdown",
   "id": "d6cc1278-a243-431a-ab2a-5f3c3a90afac",
   "metadata": {},
   "source": [
    "### 1-2: Register Configs to Hydra in `openpack-torch`\n",
    "First, register OpenPaack official configs to hydra."
   ]
  },
  {
   "cell_type": "code",
   "execution_count": 4,
   "id": "7700afe9-8e59-4394-aa11-3d4589b92623",
   "metadata": {},
   "outputs": [],
   "source": [
    "optorch.configs.register_configs()"
   ]
  },
  {
   "cell_type": "markdown",
   "id": "8ed102f9-8875-4259-81c9-e9e1c16cdb21",
   "metadata": {},
   "source": [
    "### 1-3: Load Custom Configs\n",
    "Load configuration files in [/content/openpack-torch/examples/unet/configs](https://github.com/open-pack/openpack-torch/blob/main/examples/unet/configs/operation-segmentation.yaml).\n",
    "In this notebook, we will copy YAML files to the current directory and load default parameters from there.\n",
    "You may want to change some default parameters, please save config files into your Google Drive and edit them.\n",
    "For temporal changes such as learning rate, we can change them by `overrides` param in `hydra.compose()`. "
   ]
  },
  {
   "cell_type": "code",
   "execution_count": 5,
   "id": "7996697c-e4b9-40ae-b95d-88e2a65322e7",
   "metadata": {},
   "outputs": [],
   "source": [
    "! cp -r /content/openpack-torch/examples/unet/configs /content/"
   ]
  },
  {
   "cell_type": "code",
   "execution_count": 6,
   "id": "f8ce8be4-ac7e-4b9c-88d9-66545265b102",
   "metadata": {
    "tags": []
   },
   "outputs": [],
   "source": [
    "overrides = [\n",
    "    \"mode=train\",\n",
    "    \"issue=I01-EXP1-V1-nb\", # subdirectry for logging\n",
    "    \n",
    "    # -- debug --\n",
    "    # If true, some training parameters (e.g., bach size, epochs) are switched to debug mode setting written in `train.debug.XXX`.\n",
    "    \"debug=false\",\n",
    "    \n",
    "    # -- path.logdir.rootdir --\n",
    "    # path to write training logs and resutls.\n",
    "    # If you want to keep logs, please use Google Drive (i.e., `/content/data/XXX` (symling to Google Drive), `/content/drive/XXX`)\n",
    "    \"path.logdir.rootdir=/content/logs/${dataset.name}/${model.name}/${issue}\"\n",
    "    \n",
    "    # \"hydra/job_logging=custom\",\n",
    "    # \"hydra/hydra_logging=disabled\"\n",
    "]\n",
    "\n",
    "with hydra.initialize_config_dir(version_base=None, config_dir=\"/content/configs\"):\n",
    "    cfg = hydra.compose(\n",
    "        config_name=\"unet.yaml\",\n",
    "        overrides=overrides,\n",
    "    )\n",
    "    \n",
    "# -- Target Acticity Class --\n",
    "cfg.dataset.annotation.activity_sets = dict() # Remove this attribute just for the simpler visualization.\n",
    "\n",
    "# -- Data Split --\n",
    "# Change Train/Val/Test/Submission set to submit for Development Phase.\n",
    "# Please comment out the following block when you want to train on the main set.\n",
    "cfg.dataset.split = optk.configs.datasets.splits.DEBUG_SPLIT\n",
    "\n",
    "# (default value)\n",
    "# cfg.dataset.split = optk.configs.datasets.splits.OPENPACK_CHALLENGE_2022_SPLIT"
   ]
  },
  {
   "cell_type": "code",
   "execution_count": 7,
   "id": "6329efb0-9e8d-438d-8b6e-538026ed8bb6",
   "metadata": {},
   "outputs": [
    {
     "name": "stdout",
     "output_type": "stream",
     "text": [
      "dataset:\n",
      "  annotation:\n",
      "    conf_type: ANNOT_FILE\n",
      "    name: activity-1s\n",
      "    version: ''\n",
      "    path:\n",
      "      dir: ${path.openpack.rootdir}/${user.name}/annotation/activity-1s/\n",
      "      fname: ${session}.csv\n",
      "    file_format: null\n",
      "    classes: ???\n",
      "    activity_sets: {}\n",
      "  stream:\n",
      "    schema: ImuConfig\n",
      "    name: atr-acc-left-wrist\n",
      "    description: null\n",
      "    super_stream: atr-qags\n",
      "    path:\n",
      "      dir: ${path.openpack.rootdir}/${user.name}/atr/${device}\n",
      "      fname: ${session}.csv\n",
      "    file_format: null\n",
      "    frame_rate: 30\n",
      "    devices:\n",
      "    - atr02\n",
      "    acc: true\n",
      "    gyro: false\n",
      "    quat: false\n",
      "  split:\n",
      "    name: debug\n",
      "    train:\n",
      "    - - U0102\n",
      "      - S0100\n",
      "    - - U0102\n",
      "      - S0200\n",
      "    - - U0102\n",
      "      - S0300\n",
      "    val:\n",
      "    - - U0102\n",
      "      - S0400\n",
      "    test:\n",
      "    - - U0102\n",
      "      - S0500\n",
      "    submission:\n",
      "    - - U0102\n",
      "      - S0500\n",
      "  classes:\n",
      "    classes:\n",
      "    - id: 100\n",
      "      name: Picking\n",
      "      is_ignore: false\n",
      "    - id: 200\n",
      "      name: Relocate Item Label\n",
      "      is_ignore: false\n",
      "    - id: 300\n",
      "      name: Assemble Box\n",
      "      is_ignore: false\n",
      "    - id: 400\n",
      "      name: Insert Items\n",
      "      is_ignore: false\n",
      "    - id: 500\n",
      "      name: Close Box\n",
      "      is_ignore: false\n",
      "    - id: 600\n",
      "      name: Attach Box Label\n",
      "      is_ignore: false\n",
      "    - id: 700\n",
      "      name: Scan Label\n",
      "      is_ignore: false\n",
      "    - id: 800\n",
      "      name: Attach Shipping Label\n",
      "      is_ignore: false\n",
      "    - id: 900\n",
      "      name: Put on Back Table\n",
      "      is_ignore: false\n",
      "    - id: 1000\n",
      "      name: Fill out Order\n",
      "      is_ignore: false\n",
      "    - id: 8100\n",
      "      name: 'Null'\n",
      "      is_ignore: true\n",
      "  name: atr-acc-left-wrist\n",
      "datarootdir: /content/data/\n",
      "issue: I01-EXP1-V1-nb\n",
      "debug: false\n",
      "mode: train\n",
      "model:\n",
      "  name: UNet\n",
      "  depth: 5\n",
      "train:\n",
      "  num_workers: 3\n",
      "  batch_size: 64\n",
      "  epochs: 100\n",
      "  window: 1800\n",
      "  optimizer:\n",
      "    type: Adam\n",
      "    lr: 0.0001\n",
      "    weight_decay: 0.001\n",
      "  debug:\n",
      "    batch_size: 8\n",
      "    epochs: 5\n",
      "path:\n",
      "  openpack:\n",
      "    version: v0.3.0\n",
      "    rootdir: ${datarootdir}/datasets/openpack/${.version}\n",
      "  logdir:\n",
      "    rootdir: /content/logs/${dataset.name}/${model.name}/${issue}\n",
      "    model: ${path.logdir.rootdir}/model.pth\n",
      "    predict: ${path.logdir.rootdir}/pred/{user}-{session}\n",
      "    summary:\n",
      "      test: ${path.logdir.rootdir}/summary.csv\n",
      "      submission: ${path.logdir.rootdir}/summary_submission.csv\n",
      "\n"
     ]
    }
   ],
   "source": [
    "print(OmegaConf.to_yaml(cfg))"
   ]
  },
  {
   "cell_type": "markdown",
   "id": "7d581508-54ab-44b1-8351-d7e3a31efc0a",
   "metadata": {},
   "source": [
    "## [2] Define Utilities (Pytorch Lightning Modules)"
   ]
  },
  {
   "cell_type": "markdown",
   "id": "40f19069-4df8-49f6-9d10-3290b2709d23",
   "metadata": {},
   "source": [
    "### 2-1: DataModule\n",
    "\n",
    "Override `dataset_class` with `optorch.data.OpenPackBaseDataModule` to use IMU dataset.\n",
    "When you implement custom dataset, set the dataset class to `dataset_class`. \n",
    "IMU dataset is defined in [here](https://github.com/open-pack/openpack-torch/blob/main/openpack_torch/data/datasets.py).\n",
    "Paramters to initialize the dataset class should be prepared in `get_kwargs_form_datasets()` method.\n",
    "The dataset class is initialized with`kwargs`, an output of `get_kwargs_form_datasets()`, as follows. \n",
    "\n",
    "```python\n",
    "# https://github.com/open-pack/openpack-torch/blob/6c6933e24c7c3311e582ebf3aac1a659467be0fb/openpack_torch/data/datamodule.py#L91\n",
    "self.op_train = self.dataset_class(self.cfg, split.train, **kwargs)\n",
    "```"
   ]
  },
  {
   "cell_type": "code",
   "execution_count": 8,
   "id": "59e2f279-35fa-421d-b9aa-7b0042906759",
   "metadata": {},
   "outputs": [],
   "source": [
    "class OpenPackImuDataModule(optorch.data.OpenPackBaseDataModule):\n",
    "    dataset_class = optorch.data.datasets.OpenPackImu\n",
    "\n",
    "    def get_kwargs_for_datasets(self, stage: Optional[str] = None) -> Dict:\n",
    "        kwargs = {\n",
    "            \"window\": self.cfg.train.window,\n",
    "            \"debug\": self.cfg.debug,\n",
    "        }\n",
    "        return kwargs"
   ]
  },
  {
   "cell_type": "markdown",
   "id": "eca2982d-33b3-43bf-a3e8-705eeb097749",
   "metadata": {},
   "source": [
    "### 2-2: Lightning Module\n",
    "\n",
    "In the `init_model()` method, you can initialize your model.\n",
    "\n",
    "In the `init_criterion()` method, you can register your custom loss function.\n",
    "But make sure that ignore classes are excluded from evaluation process.\n",
    "For `torch.nn.CrossEntropyLoss`, you can use `ignore_class` parameter."
   ]
  },
  {
   "cell_type": "code",
   "execution_count": 9,
   "id": "652fef87-bb07-46b2-994f-ada53675ee7f",
   "metadata": {},
   "outputs": [],
   "source": [
    "class UNetLM(optorch.lightning.BaseLightningModule):\n",
    "\n",
    "    def init_model(self, cfg: DictConfig) -> torch.nn.Module:\n",
    "        dstream_conf = self.cfg.dataset.stream\n",
    "        in_ch = len(dstream_conf.devices) * 3\n",
    "\n",
    "        # Edit here to use your custom model!\n",
    "        model = optorch.models.imu.UNet(\n",
    "            in_ch,\n",
    "            len(OPENPACK_OPERATIONS),\n",
    "            depth=cfg.model.depth,\n",
    "        )\n",
    "        return model\n",
    "    \n",
    "    \n",
    "    def init_criterion(self, cfg: DictConfig):\n",
    "        ignore_cls = [(i, c) for i, c in enumerate(cfg.dataset.classes.classes) if c.is_ignore]\n",
    "        \n",
    "        criterion = torch.nn.CrossEntropyLoss(\n",
    "            ignore_index=ignore_cls[-1][0]\n",
    "        )\n",
    "        return criterion\n",
    "\n",
    "    def training_step(self, batch: Dict, batch_idx: int) -> Dict:\n",
    "        x = batch[\"x\"].to(device=self.device, dtype=torch.float)\n",
    "        t = batch[\"t\"].to(device=self.device, dtype=torch.long)\n",
    "        y_hat = self(x).squeeze(3)\n",
    "\n",
    "        loss = self.criterion(y_hat, t)\n",
    "        acc = self.calc_accuracy(y_hat, t)\n",
    "        return {\"loss\": loss, \"acc\": acc}\n",
    "\n",
    "    def test_step(self, batch: Dict, batch_idx: int) -> Dict:\n",
    "        x = batch[\"x\"].to(device=self.device, dtype=torch.float)\n",
    "        t = batch[\"t\"].to(device=self.device, dtype=torch.long)\n",
    "        ts_unix = batch[\"ts\"]\n",
    "\n",
    "        y_hat = self(x).squeeze(3)\n",
    "\n",
    "        outputs = dict(t=t, y=y_hat, unixtime=ts_unix)\n",
    "        return outputs\n"
   ]
  },
  {
   "cell_type": "code",
   "execution_count": null,
   "id": "47a06407-1935-4b2b-a843-d25ab545dd27",
   "metadata": {},
   "outputs": [],
   "source": []
  },
  {
   "cell_type": "markdown",
   "id": "8edefca6-e7a6-4316-a1c0-a2661ed3dfac",
   "metadata": {},
   "source": [
    "## [3] Train U-Net"
   ]
  },
  {
   "cell_type": "markdown",
   "id": "e7a61ead-99e5-4072-8fd3-e5abecc5529a",
   "metadata": {},
   "source": [
    "### 3-1: Initialize U-Net Model and DataLoader."
   ]
  },
  {
   "cell_type": "code",
   "execution_count": 10,
   "id": "f8d63c1a-20ce-4581-8e79-7826e2afd083",
   "metadata": {},
   "outputs": [],
   "source": [
    "device = torch.device(\"cuda\")\n",
    "logdir = Path(cfg.path.logdir.rootdir)\n",
    "logger.debug(f\"logdir = {logdir}\")\n",
    "\n",
    "datamodule = OpenPackImuDataModule(cfg)\n",
    "plmodel = UNetLM(cfg).to(dtype=torch.float, device=device)"
   ]
  },
  {
   "cell_type": "code",
   "execution_count": 11,
   "id": "c44f0a87-ca40-40d8-a6ee-16d9c38e0c1c",
   "metadata": {},
   "outputs": [
    {
     "data": {
      "text/plain": [
       "UNetLM(\n",
       "  (net): UNet(\n",
       "    (inc): Sequential(\n",
       "      (0): Conv2d(3, 32, kernel_size=(3, 1), stride=(1, 1), padding=(1, 0))\n",
       "      (1): BatchNorm2d(32, eps=1e-05, momentum=0.1, affine=True, track_running_stats=True)\n",
       "      (2): ReLU()\n",
       "    )\n",
       "    (encoder): UNetEncoder(\n",
       "      (conv_blocks): ModuleList(\n",
       "        (0): DownBlock(\n",
       "          (double_conv): Sequential(\n",
       "            (0): Conv2d(32, 32, kernel_size=(3, 1), stride=(1, 1), padding=(1, 0))\n",
       "            (1): BatchNorm2d(32, eps=1e-05, momentum=0.1, affine=True, track_running_stats=True)\n",
       "            (2): ReLU()\n",
       "            (3): Conv2d(32, 32, kernel_size=(3, 1), stride=(1, 1), padding=(1, 0))\n",
       "            (4): BatchNorm2d(32, eps=1e-05, momentum=0.1, affine=True, track_running_stats=True)\n",
       "            (5): ReLU()\n",
       "          )\n",
       "          (pool): MaxPool2d(kernel_size=(2, 1), stride=(2, 1), padding=0, dilation=1, ceil_mode=False)\n",
       "        )\n",
       "        (1): DownBlock(\n",
       "          (double_conv): Sequential(\n",
       "            (0): Conv2d(32, 64, kernel_size=(3, 1), stride=(1, 1), padding=(1, 0))\n",
       "            (1): BatchNorm2d(64, eps=1e-05, momentum=0.1, affine=True, track_running_stats=True)\n",
       "            (2): ReLU()\n",
       "            (3): Conv2d(64, 64, kernel_size=(3, 1), stride=(1, 1), padding=(1, 0))\n",
       "            (4): BatchNorm2d(64, eps=1e-05, momentum=0.1, affine=True, track_running_stats=True)\n",
       "            (5): ReLU()\n",
       "          )\n",
       "          (pool): MaxPool2d(kernel_size=(2, 1), stride=(2, 1), padding=0, dilation=1, ceil_mode=False)\n",
       "        )\n",
       "        (2): DownBlock(\n",
       "          (double_conv): Sequential(\n",
       "            (0): Conv2d(64, 128, kernel_size=(3, 1), stride=(1, 1), padding=(1, 0))\n",
       "            (1): BatchNorm2d(128, eps=1e-05, momentum=0.1, affine=True, track_running_stats=True)\n",
       "            (2): ReLU()\n",
       "            (3): Conv2d(128, 128, kernel_size=(3, 1), stride=(1, 1), padding=(1, 0))\n",
       "            (4): BatchNorm2d(128, eps=1e-05, momentum=0.1, affine=True, track_running_stats=True)\n",
       "            (5): ReLU()\n",
       "          )\n",
       "          (pool): MaxPool2d(kernel_size=(2, 1), stride=(2, 1), padding=0, dilation=1, ceil_mode=False)\n",
       "        )\n",
       "        (3): DownBlock(\n",
       "          (double_conv): Sequential(\n",
       "            (0): Conv2d(128, 256, kernel_size=(3, 1), stride=(1, 1), padding=(1, 0))\n",
       "            (1): BatchNorm2d(256, eps=1e-05, momentum=0.1, affine=True, track_running_stats=True)\n",
       "            (2): ReLU()\n",
       "            (3): Conv2d(256, 256, kernel_size=(3, 1), stride=(1, 1), padding=(1, 0))\n",
       "            (4): BatchNorm2d(256, eps=1e-05, momentum=0.1, affine=True, track_running_stats=True)\n",
       "            (5): ReLU()\n",
       "          )\n",
       "          (pool): MaxPool2d(kernel_size=(2, 1), stride=(2, 1), padding=0, dilation=1, ceil_mode=False)\n",
       "        )\n",
       "        (4): DownBlock(\n",
       "          (double_conv): Sequential(\n",
       "            (0): Conv2d(256, 512, kernel_size=(3, 1), stride=(1, 1), padding=(1, 0))\n",
       "            (1): BatchNorm2d(512, eps=1e-05, momentum=0.1, affine=True, track_running_stats=True)\n",
       "            (2): ReLU()\n",
       "            (3): Conv2d(512, 512, kernel_size=(3, 1), stride=(1, 1), padding=(1, 0))\n",
       "            (4): BatchNorm2d(512, eps=1e-05, momentum=0.1, affine=True, track_running_stats=True)\n",
       "            (5): ReLU()\n",
       "          )\n",
       "          (pool): MaxPool2d(kernel_size=(2, 1), stride=(2, 1), padding=0, dilation=1, ceil_mode=False)\n",
       "        )\n",
       "      )\n",
       "      (bottom): Sequential(\n",
       "        (0): Conv2d(512, 1024, kernel_size=(3, 1), stride=(1, 1), padding=(1, 0))\n",
       "        (1): BatchNorm2d(1024, eps=1e-05, momentum=0.1, affine=True, track_running_stats=True)\n",
       "        (2): ReLU()\n",
       "        (3): Conv2d(1024, 1024, kernel_size=(3, 1), stride=(1, 1), padding=(1, 0))\n",
       "        (4): BatchNorm2d(1024, eps=1e-05, momentum=0.1, affine=True, track_running_stats=True)\n",
       "        (5): ReLU()\n",
       "      )\n",
       "    )\n",
       "    (decoder): UNetDecoder(\n",
       "      (up_blocks): ModuleList(\n",
       "        (0): UpBlock(\n",
       "          (up): ConvTranspose2d(1024, 512, kernel_size=(1, 3), stride=(1, 2), padding=(0, 1))\n",
       "          (double_conv): Sequential(\n",
       "            (0): Conv2d(1024, 512, kernel_size=(3, 1), stride=(1, 1), padding=(1, 0))\n",
       "            (1): BatchNorm2d(512, eps=1e-05, momentum=0.1, affine=True, track_running_stats=True)\n",
       "            (2): ReLU()\n",
       "            (3): Conv2d(512, 512, kernel_size=(3, 1), stride=(1, 1), padding=(1, 0))\n",
       "            (4): BatchNorm2d(512, eps=1e-05, momentum=0.1, affine=True, track_running_stats=True)\n",
       "            (5): ReLU()\n",
       "          )\n",
       "        )\n",
       "        (1): UpBlock(\n",
       "          (up): ConvTranspose2d(512, 256, kernel_size=(1, 3), stride=(1, 2), padding=(0, 1))\n",
       "          (double_conv): Sequential(\n",
       "            (0): Conv2d(512, 256, kernel_size=(3, 1), stride=(1, 1), padding=(1, 0))\n",
       "            (1): BatchNorm2d(256, eps=1e-05, momentum=0.1, affine=True, track_running_stats=True)\n",
       "            (2): ReLU()\n",
       "            (3): Conv2d(256, 256, kernel_size=(3, 1), stride=(1, 1), padding=(1, 0))\n",
       "            (4): BatchNorm2d(256, eps=1e-05, momentum=0.1, affine=True, track_running_stats=True)\n",
       "            (5): ReLU()\n",
       "          )\n",
       "        )\n",
       "        (2): UpBlock(\n",
       "          (up): ConvTranspose2d(256, 128, kernel_size=(1, 3), stride=(1, 2), padding=(0, 1))\n",
       "          (double_conv): Sequential(\n",
       "            (0): Conv2d(256, 128, kernel_size=(3, 1), stride=(1, 1), padding=(1, 0))\n",
       "            (1): BatchNorm2d(128, eps=1e-05, momentum=0.1, affine=True, track_running_stats=True)\n",
       "            (2): ReLU()\n",
       "            (3): Conv2d(128, 128, kernel_size=(3, 1), stride=(1, 1), padding=(1, 0))\n",
       "            (4): BatchNorm2d(128, eps=1e-05, momentum=0.1, affine=True, track_running_stats=True)\n",
       "            (5): ReLU()\n",
       "          )\n",
       "        )\n",
       "        (3): UpBlock(\n",
       "          (up): ConvTranspose2d(128, 64, kernel_size=(1, 3), stride=(1, 2), padding=(0, 1))\n",
       "          (double_conv): Sequential(\n",
       "            (0): Conv2d(128, 64, kernel_size=(3, 1), stride=(1, 1), padding=(1, 0))\n",
       "            (1): BatchNorm2d(64, eps=1e-05, momentum=0.1, affine=True, track_running_stats=True)\n",
       "            (2): ReLU()\n",
       "            (3): Conv2d(64, 64, kernel_size=(3, 1), stride=(1, 1), padding=(1, 0))\n",
       "            (4): BatchNorm2d(64, eps=1e-05, momentum=0.1, affine=True, track_running_stats=True)\n",
       "            (5): ReLU()\n",
       "          )\n",
       "        )\n",
       "        (4): UpBlock(\n",
       "          (up): ConvTranspose2d(64, 32, kernel_size=(1, 3), stride=(1, 2), padding=(0, 1))\n",
       "          (double_conv): Sequential(\n",
       "            (0): Conv2d(64, 32, kernel_size=(3, 1), stride=(1, 1), padding=(1, 0))\n",
       "            (1): BatchNorm2d(32, eps=1e-05, momentum=0.1, affine=True, track_running_stats=True)\n",
       "            (2): ReLU()\n",
       "            (3): Conv2d(32, 32, kernel_size=(3, 1), stride=(1, 1), padding=(1, 0))\n",
       "            (4): BatchNorm2d(32, eps=1e-05, momentum=0.1, affine=True, track_running_stats=True)\n",
       "            (5): ReLU()\n",
       "          )\n",
       "        )\n",
       "      )\n",
       "    )\n",
       "    (dense_clf): Conv2d(32, 11, kernel_size=(1, 1), stride=(1, 1))\n",
       "  )\n",
       "  (criterion): CrossEntropyLoss()\n",
       ")"
      ]
     },
     "execution_count": 11,
     "metadata": {},
     "output_type": "execute_result"
    }
   ],
   "source": [
    "plmodel"
   ]
  },
  {
   "cell_type": "markdown",
   "id": "fc4bfa59-1e6e-4f6e-ba66-2f8b89c6cd61",
   "metadata": {},
   "source": [
    "### 3-2: Initialize Trainer"
   ]
  },
  {
   "cell_type": "code",
   "execution_count": 12,
   "id": "04df6672-0398-4daa-b38e-5b04e428db63",
   "metadata": {},
   "outputs": [
    {
     "name": "stderr",
     "output_type": "stream",
     "text": [
      "/opt/conda/lib/python3.8/site-packages/pytorch_lightning/trainer/connectors/accelerator_connector.py:446: LightningDeprecationWarning: Setting `Trainer(gpus=[0])` is deprecated in v1.7 and will be removed in v2.0. Please use `Trainer(accelerator='gpu', devices=[0])` instead.\n",
      "  rank_zero_deprecation(\n",
      "GPU available: True (cuda), used: True\n",
      "TPU available: False, using: 0 TPU cores\n",
      "IPU available: False, using: 0 IPUs\n",
      "HPU available: False, using: 0 HPUs\n"
     ]
    }
   ],
   "source": [
    "num_epoch = cfg.train.debug.epochs if cfg.debug else cfg.train.epochs\n",
    "# num_epoch = 20 # NOTE: Set epochs manually for debugging\n",
    "\n",
    "checkpoint_callback = pl.callbacks.ModelCheckpoint(\n",
    "    save_top_k=0,\n",
    "    save_last=True,\n",
    "    monitor=None,\n",
    ")\n",
    "\n",
    "trainer = pl.Trainer(\n",
    "    gpus=[0],\n",
    "    max_epochs=num_epoch,\n",
    "    logger=False,  # disable logging module\n",
    "    default_root_dir=logdir,\n",
    "    enable_progress_bar=False,  # disable progress bar\n",
    "    enable_checkpointing=True,\n",
    "    callbacks=[checkpoint_callback],\n",
    ")\n",
    "logger.debug(f\"logdir = {logdir}\")"
   ]
  },
  {
   "cell_type": "markdown",
   "id": "996d74a9-b366-40c7-b344-d71a932e3482",
   "metadata": {},
   "source": [
    "### 3-3: Start training!"
   ]
  },
  {
   "cell_type": "code",
   "execution_count": 13,
   "id": "ccc3b111-16b1-41a1-b8a0-60112611968a",
   "metadata": {},
   "outputs": [
    {
     "name": "stderr",
     "output_type": "stream",
     "text": [
      "2022-09-28 22:23:58 | INFO | __main__ | Start training for 100 epochs.\n",
      "2022-09-28 22:23:59 | WARNING | openpack_torch.data.datasets | No preprocessing is applied.\n",
      "2022-09-28 22:23:59 | WARNING | openpack_torch.data.datasets | No preprocessing is applied.\n",
      "2022-09-28 22:23:59 | INFO | openpack_torch.data.datamodule | dataset[train]: OpenPackImu(index=129, num_sequence=3, submission=False)\n",
      "2022-09-28 22:23:59 | INFO | openpack_torch.data.datamodule | dataset[val]: {'U0102-S0400': <openpack_torch.data.datasets.OpenPackImu object at 0x7fe5eb10aee0>}\n",
      "2022-09-28 22:23:59 | INFO | openpack_torch.data.datamodule | dataset[test]: None\n",
      "2022-09-28 22:23:59 | INFO | openpack_torch.data.datamodule | dataset[submission]: None\n",
      "LOCAL_RANK: 0 - CUDA_VISIBLE_DEVICES: [0]\n",
      "\n",
      "  | Name      | Type             | Params\n",
      "-----------------------------------------------\n",
      "0 | net       | UNet             | 11.5 M\n",
      "1 | criterion | CrossEntropyLoss | 0     \n",
      "-----------------------------------------------\n",
      "11.5 M    Trainable params\n",
      "0         Non-trainable params\n",
      "11.5 M    Total params\n",
      "46.196    Total estimated model params size (MB)\n",
      "2022-09-28 22:23:59 | INFO | openpack_torch.lightning | Epoch[000] TRAIN: loss=-1.0000, acc=-1.0000 | VAL: loss= 2.4195, acc= 0.0705\n",
      "2022-09-28 22:24:00 | INFO | openpack_torch.lightning | Epoch[000] TRAIN: loss=-1.0000, acc=-1.0000 | VAL: loss= 2.4177, acc= 0.0704\n",
      "2022-09-28 22:24:00 | INFO | openpack_torch.lightning | Epoch[001] TRAIN: loss= 2.4193, acc= 0.1075 | VAL: loss= 2.4132, acc= 0.0702\n",
      "2022-09-28 22:24:01 | INFO | openpack_torch.lightning | Epoch[002] TRAIN: loss= 2.4248, acc= 0.1233 | VAL: loss= 2.4092, acc= 0.0653\n",
      "2022-09-28 22:24:02 | INFO | openpack_torch.lightning | Epoch[003] TRAIN: loss= 2.4248, acc= 0.1441 | VAL: loss= 2.4032, acc= 0.0578\n",
      "2022-09-28 22:24:03 | INFO | openpack_torch.lightning | Epoch[004] TRAIN: loss= 2.3992, acc= 0.1532 | VAL: loss= 2.3951, acc= 0.0528\n",
      "2022-09-28 22:24:03 | INFO | openpack_torch.lightning | Epoch[005] TRAIN: loss= 2.3809, acc= 0.1480 | VAL: loss= 2.3844, acc= 0.0624\n",
      "2022-09-28 22:24:04 | INFO | openpack_torch.lightning | Epoch[006] TRAIN: loss= 2.3227, acc= 0.1987 | VAL: loss= 2.3714, acc= 0.0883\n",
      "2022-09-28 22:24:05 | INFO | openpack_torch.lightning | Epoch[007] TRAIN: loss= 2.4110, acc= 0.1635 | VAL: loss= 2.3599, acc= 0.1351\n",
      "2022-09-28 22:24:06 | INFO | openpack_torch.lightning | Epoch[008] TRAIN: loss= 2.3119, acc= 0.2401 | VAL: loss= 2.3458, acc= 0.2034\n",
      "2022-09-28 22:24:07 | INFO | openpack_torch.lightning | Epoch[009] TRAIN: loss= 2.2894, acc= 0.2490 | VAL: loss= 2.3294, acc= 0.2318\n",
      "2022-09-28 22:24:07 | INFO | openpack_torch.lightning | Epoch[010] TRAIN: loss= 2.3025, acc= 0.2133 | VAL: loss= 2.3080, acc= 0.2544\n",
      "2022-09-28 22:24:08 | INFO | openpack_torch.lightning | Epoch[011] TRAIN: loss= 2.2815, acc= 0.2401 | VAL: loss= 2.2863, acc= 0.2675\n",
      "2022-09-28 22:24:09 | INFO | openpack_torch.lightning | Epoch[012] TRAIN: loss= 2.2621, acc= 0.2593 | VAL: loss= 2.2610, acc= 0.2857\n",
      "2022-09-28 22:24:10 | INFO | openpack_torch.lightning | Epoch[013] TRAIN: loss= 2.2637, acc= 0.2445 | VAL: loss= 2.2417, acc= 0.2954\n",
      "2022-09-28 22:24:11 | INFO | openpack_torch.lightning | Epoch[014] TRAIN: loss= 2.2428, acc= 0.2600 | VAL: loss= 2.2299, acc= 0.3010\n",
      "2022-09-28 22:24:11 | INFO | openpack_torch.lightning | Epoch[015] TRAIN: loss= 2.2327, acc= 0.2834 | VAL: loss= 2.2163, acc= 0.3036\n",
      "2022-09-28 22:24:12 | INFO | openpack_torch.lightning | Epoch[016] TRAIN: loss= 2.2144, acc= 0.2866 | VAL: loss= 2.1970, acc= 0.3113\n",
      "2022-09-28 22:24:13 | INFO | openpack_torch.lightning | Epoch[017] TRAIN: loss= 2.2227, acc= 0.2647 | VAL: loss= 2.1841, acc= 0.3140\n",
      "2022-09-28 22:24:14 | INFO | openpack_torch.lightning | Epoch[018] TRAIN: loss= 2.2052, acc= 0.2558 | VAL: loss= 2.1767, acc= 0.3201\n",
      "2022-09-28 22:24:14 | INFO | openpack_torch.lightning | Epoch[019] TRAIN: loss= 2.1965, acc= 0.3193 | VAL: loss= 2.1613, acc= 0.3224\n",
      "2022-09-28 22:24:15 | INFO | openpack_torch.lightning | Epoch[020] TRAIN: loss= 2.2648, acc= 0.2269 | VAL: loss= 2.1520, acc= 0.3341\n",
      "2022-09-28 22:24:16 | INFO | openpack_torch.lightning | Epoch[021] TRAIN: loss= 2.2051, acc= 0.2978 | VAL: loss= 2.1476, acc= 0.3331\n",
      "2022-09-28 22:24:17 | INFO | openpack_torch.lightning | Epoch[022] TRAIN: loss= 2.2114, acc= 0.2557 | VAL: loss= 2.1451, acc= 0.3360\n",
      "2022-09-28 22:24:18 | INFO | openpack_torch.lightning | Epoch[023] TRAIN: loss= 2.1527, acc= 0.3274 | VAL: loss= 2.1365, acc= 0.3393\n",
      "2022-09-28 22:24:18 | INFO | openpack_torch.lightning | Epoch[024] TRAIN: loss= 2.1317, acc= 0.3324 | VAL: loss= 2.1283, acc= 0.3413\n",
      "2022-09-28 22:24:19 | INFO | openpack_torch.lightning | Epoch[025] TRAIN: loss= 2.1643, acc= 0.2986 | VAL: loss= 2.1150, acc= 0.3443\n",
      "2022-09-28 22:24:20 | INFO | openpack_torch.lightning | Epoch[026] TRAIN: loss= 2.2557, acc= 0.2304 | VAL: loss= 2.1094, acc= 0.3476\n",
      "2022-09-28 22:24:21 | INFO | openpack_torch.lightning | Epoch[027] TRAIN: loss= 2.1411, acc= 0.3254 | VAL: loss= 2.1052, acc= 0.3517\n",
      "2022-09-28 22:24:22 | INFO | openpack_torch.lightning | Epoch[028] TRAIN: loss= 2.1640, acc= 0.2864 | VAL: loss= 2.0999, acc= 0.3527\n",
      "2022-09-28 22:24:23 | INFO | openpack_torch.lightning | Epoch[029] TRAIN: loss= 2.1047, acc= 0.3620 | VAL: loss= 2.0780, acc= 0.3541\n",
      "2022-09-28 22:24:24 | INFO | openpack_torch.lightning | Epoch[030] TRAIN: loss= 2.2440, acc= 0.2531 | VAL: loss= 2.0758, acc= 0.3547\n",
      "2022-09-28 22:24:25 | INFO | openpack_torch.lightning | Epoch[031] TRAIN: loss= 2.1294, acc= 0.3417 | VAL: loss= 2.0777, acc= 0.3559\n",
      "2022-09-28 22:24:25 | INFO | openpack_torch.lightning | Epoch[032] TRAIN: loss= 2.0695, acc= 0.3501 | VAL: loss= 2.0749, acc= 0.3571\n",
      "2022-09-28 22:24:35 | INFO | openpack_torch.lightning | Epoch[033] TRAIN: loss= 2.1496, acc= 0.2837 | VAL: loss= 2.0725, acc= 0.3563\n",
      "2022-09-28 22:24:43 | INFO | openpack_torch.lightning | Epoch[034] TRAIN: loss= 2.0854, acc= 0.3757 | VAL: loss= 2.0697, acc= 0.3591\n",
      "2022-09-28 22:24:44 | INFO | openpack_torch.lightning | Epoch[035] TRAIN: loss= 2.1009, acc= 0.3418 | VAL: loss= 2.0682, acc= 0.3641\n",
      "2022-09-28 22:24:45 | INFO | openpack_torch.lightning | Epoch[036] TRAIN: loss= 2.0842, acc= 0.3562 | VAL: loss= 2.0618, acc= 0.3675\n",
      "2022-09-28 22:24:46 | INFO | openpack_torch.lightning | Epoch[037] TRAIN: loss= 2.0725, acc= 0.3599 | VAL: loss= 2.0564, acc= 0.3681\n",
      "2022-09-28 22:24:46 | INFO | openpack_torch.lightning | Epoch[038] TRAIN: loss= 2.0593, acc= 0.3506 | VAL: loss= 2.0490, acc= 0.3675\n",
      "2022-09-28 22:24:47 | INFO | openpack_torch.lightning | Epoch[039] TRAIN: loss= 2.0920, acc= 0.3076 | VAL: loss= 2.0377, acc= 0.3643\n",
      "2022-09-28 22:24:48 | INFO | openpack_torch.lightning | Epoch[040] TRAIN: loss= 2.1218, acc= 0.3244 | VAL: loss= 2.0426, acc= 0.3642\n",
      "2022-09-28 22:24:49 | INFO | openpack_torch.lightning | Epoch[041] TRAIN: loss= 2.0539, acc= 0.3520 | VAL: loss= 2.0444, acc= 0.3666\n",
      "2022-09-28 22:24:50 | INFO | openpack_torch.lightning | Epoch[042] TRAIN: loss= 2.0394, acc= 0.3730 | VAL: loss= 2.0359, acc= 0.3671\n",
      "2022-09-28 22:24:52 | INFO | openpack_torch.lightning | Epoch[043] TRAIN: loss= 2.0398, acc= 0.3374 | VAL: loss= 2.0319, acc= 0.3651\n",
      "2022-09-28 22:24:53 | INFO | openpack_torch.lightning | Epoch[044] TRAIN: loss= 2.0599, acc= 0.3530 | VAL: loss= 2.0249, acc= 0.3689\n",
      "2022-09-28 22:24:54 | INFO | openpack_torch.lightning | Epoch[045] TRAIN: loss= 2.0167, acc= 0.3759 | VAL: loss= 2.0272, acc= 0.3696\n",
      "2022-09-28 22:24:56 | INFO | openpack_torch.lightning | Epoch[046] TRAIN: loss= 2.0466, acc= 0.3593 | VAL: loss= 2.0164, acc= 0.3635\n",
      "2022-09-28 22:24:57 | INFO | openpack_torch.lightning | Epoch[047] TRAIN: loss= 2.0650, acc= 0.3456 | VAL: loss= 2.0181, acc= 0.3545\n",
      "2022-09-28 22:24:59 | INFO | openpack_torch.lightning | Epoch[048] TRAIN: loss= 2.0702, acc= 0.3401 | VAL: loss= 2.0094, acc= 0.3636\n",
      "2022-09-28 22:25:00 | INFO | openpack_torch.lightning | Epoch[049] TRAIN: loss= 2.0027, acc= 0.3825 | VAL: loss= 2.0096, acc= 0.3666\n",
      "2022-09-28 22:25:01 | INFO | openpack_torch.lightning | Epoch[050] TRAIN: loss= 2.0084, acc= 0.3659 | VAL: loss= 2.0047, acc= 0.3653\n",
      "2022-09-28 22:25:03 | INFO | openpack_torch.lightning | Epoch[051] TRAIN: loss= 2.0105, acc= 0.3696 | VAL: loss= 2.0113, acc= 0.3621\n",
      "2022-09-28 22:25:04 | INFO | openpack_torch.lightning | Epoch[052] TRAIN: loss= 2.0539, acc= 0.3580 | VAL: loss= 1.9996, acc= 0.3698\n",
      "2022-09-28 22:25:05 | INFO | openpack_torch.lightning | Epoch[053] TRAIN: loss= 1.9766, acc= 0.3901 | VAL: loss= 1.9895, acc= 0.3782\n",
      "2022-09-28 22:25:06 | INFO | openpack_torch.lightning | Epoch[054] TRAIN: loss= 2.0224, acc= 0.3342 | VAL: loss= 1.9821, acc= 0.3766\n",
      "2022-09-28 22:25:08 | INFO | openpack_torch.lightning | Epoch[055] TRAIN: loss= 2.0560, acc= 0.3300 | VAL: loss= 1.9833, acc= 0.3806\n",
      "2022-09-28 22:25:09 | INFO | openpack_torch.lightning | Epoch[056] TRAIN: loss= 1.9780, acc= 0.3749 | VAL: loss= 1.9804, acc= 0.3861\n",
      "2022-09-28 22:25:11 | INFO | openpack_torch.lightning | Epoch[057] TRAIN: loss= 2.0384, acc= 0.3349 | VAL: loss= 1.9687, acc= 0.3902\n",
      "2022-09-28 22:25:12 | INFO | openpack_torch.lightning | Epoch[058] TRAIN: loss= 2.0148, acc= 0.3497 | VAL: loss= 1.9663, acc= 0.3856\n",
      "2022-09-28 22:25:13 | INFO | openpack_torch.lightning | Epoch[059] TRAIN: loss= 1.9668, acc= 0.4017 | VAL: loss= 1.9661, acc= 0.3859\n",
      "2022-09-28 22:25:15 | INFO | openpack_torch.lightning | Epoch[060] TRAIN: loss= 2.0006, acc= 0.3587 | VAL: loss= 1.9608, acc= 0.3877\n",
      "2022-09-28 22:25:16 | INFO | openpack_torch.lightning | Epoch[061] TRAIN: loss= 1.9431, acc= 0.4198 | VAL: loss= 1.9567, acc= 0.3854\n",
      "2022-09-28 22:25:19 | INFO | openpack_torch.lightning | Epoch[062] TRAIN: loss= 2.0041, acc= 0.3715 | VAL: loss= 1.9577, acc= 0.3855\n",
      "2022-09-28 22:25:20 | INFO | openpack_torch.lightning | Epoch[063] TRAIN: loss= 1.9680, acc= 0.4042 | VAL: loss= 1.9492, acc= 0.3930\n",
      "2022-09-28 22:25:22 | INFO | openpack_torch.lightning | Epoch[064] TRAIN: loss= 1.9940, acc= 0.3536 | VAL: loss= 1.9402, acc= 0.3926\n",
      "2022-09-28 22:25:23 | INFO | openpack_torch.lightning | Epoch[065] TRAIN: loss= 1.9553, acc= 0.3788 | VAL: loss= 1.9425, acc= 0.3936\n",
      "2022-09-28 22:25:24 | INFO | openpack_torch.lightning | Epoch[066] TRAIN: loss= 1.9431, acc= 0.4062 | VAL: loss= 1.9420, acc= 0.3850\n",
      "2022-09-28 22:25:26 | INFO | openpack_torch.lightning | Epoch[067] TRAIN: loss= 1.9294, acc= 0.4262 | VAL: loss= 1.9430, acc= 0.3775\n",
      "2022-09-28 22:25:27 | INFO | openpack_torch.lightning | Epoch[068] TRAIN: loss= 2.0162, acc= 0.3733 | VAL: loss= 1.9417, acc= 0.3748\n",
      "2022-09-28 22:25:28 | INFO | openpack_torch.lightning | Epoch[069] TRAIN: loss= 2.0313, acc= 0.3532 | VAL: loss= 1.9357, acc= 0.3851\n",
      "2022-09-28 22:25:29 | INFO | openpack_torch.lightning | Epoch[070] TRAIN: loss= 1.9057, acc= 0.4108 | VAL: loss= 1.9253, acc= 0.3928\n",
      "2022-09-28 22:25:32 | INFO | openpack_torch.lightning | Epoch[071] TRAIN: loss= 1.9878, acc= 0.3826 | VAL: loss= 1.9173, acc= 0.3975\n",
      "2022-09-28 22:25:34 | INFO | openpack_torch.lightning | Epoch[072] TRAIN: loss= 1.9522, acc= 0.3629 | VAL: loss= 1.9217, acc= 0.3965\n",
      "2022-09-28 22:25:34 | INFO | openpack_torch.lightning | Epoch[073] TRAIN: loss= 1.9063, acc= 0.4178 | VAL: loss= 1.9171, acc= 0.3989\n",
      "2022-09-28 22:25:36 | INFO | openpack_torch.lightning | Epoch[074] TRAIN: loss= 1.9101, acc= 0.4001 | VAL: loss= 1.9136, acc= 0.4020\n",
      "2022-09-28 22:25:38 | INFO | openpack_torch.lightning | Epoch[075] TRAIN: loss= 1.9749, acc= 0.3620 | VAL: loss= 1.9123, acc= 0.4022\n",
      "2022-09-28 22:25:38 | INFO | openpack_torch.lightning | Epoch[076] TRAIN: loss= 1.9145, acc= 0.3826 | VAL: loss= 1.9025, acc= 0.4010\n",
      "2022-09-28 22:25:39 | INFO | openpack_torch.lightning | Epoch[077] TRAIN: loss= 1.9272, acc= 0.3675 | VAL: loss= 1.8989, acc= 0.3982\n",
      "2022-09-28 22:25:41 | INFO | openpack_torch.lightning | Epoch[078] TRAIN: loss= 1.8760, acc= 0.4359 | VAL: loss= 1.8996, acc= 0.3941\n",
      "2022-09-28 22:25:42 | INFO | openpack_torch.lightning | Epoch[079] TRAIN: loss= 1.9004, acc= 0.4093 | VAL: loss= 1.9012, acc= 0.3899\n",
      "2022-09-28 22:25:43 | INFO | openpack_torch.lightning | Epoch[080] TRAIN: loss= 1.9186, acc= 0.4275 | VAL: loss= 1.8937, acc= 0.3973\n",
      "2022-09-28 22:25:45 | INFO | openpack_torch.lightning | Epoch[081] TRAIN: loss= 1.9630, acc= 0.3675 | VAL: loss= 1.8941, acc= 0.3993\n",
      "2022-09-28 22:25:45 | INFO | openpack_torch.lightning | Epoch[082] TRAIN: loss= 1.9519, acc= 0.3631 | VAL: loss= 1.8911, acc= 0.4008\n",
      "2022-09-28 22:25:47 | INFO | openpack_torch.lightning | Epoch[083] TRAIN: loss= 1.8740, acc= 0.3973 | VAL: loss= 1.8843, acc= 0.4020\n",
      "2022-09-28 22:25:48 | INFO | openpack_torch.lightning | Epoch[084] TRAIN: loss= 1.9574, acc= 0.3572 | VAL: loss= 1.8828, acc= 0.4040\n",
      "2022-09-28 22:25:49 | INFO | openpack_torch.lightning | Epoch[085] TRAIN: loss= 1.9312, acc= 0.3704 | VAL: loss= 1.8864, acc= 0.4037\n",
      "2022-09-28 22:25:51 | INFO | openpack_torch.lightning | Epoch[086] TRAIN: loss= 1.9202, acc= 0.3741 | VAL: loss= 1.8796, acc= 0.4065\n",
      "2022-09-28 22:25:52 | INFO | openpack_torch.lightning | Epoch[087] TRAIN: loss= 1.8577, acc= 0.4116 | VAL: loss= 1.8851, acc= 0.4045\n",
      "2022-09-28 22:25:53 | INFO | openpack_torch.lightning | Epoch[088] TRAIN: loss= 1.8597, acc= 0.4219 | VAL: loss= 1.8827, acc= 0.4004\n",
      "2022-09-28 22:25:55 | INFO | openpack_torch.lightning | Epoch[089] TRAIN: loss= 1.9279, acc= 0.3875 | VAL: loss= 1.8772, acc= 0.4012\n",
      "2022-09-28 22:25:56 | INFO | openpack_torch.lightning | Epoch[090] TRAIN: loss= 1.9147, acc= 0.3545 | VAL: loss= 1.8799, acc= 0.4013\n",
      "2022-09-28 22:25:57 | INFO | openpack_torch.lightning | Epoch[091] TRAIN: loss= 1.8696, acc= 0.4106 | VAL: loss= 1.8750, acc= 0.3961\n",
      "2022-09-28 22:25:59 | INFO | openpack_torch.lightning | Epoch[092] TRAIN: loss= 1.9878, acc= 0.3616 | VAL: loss= 1.8776, acc= 0.3945\n",
      "2022-09-28 22:26:01 | INFO | openpack_torch.lightning | Epoch[093] TRAIN: loss= 1.8584, acc= 0.4110 | VAL: loss= 1.8730, acc= 0.3891\n",
      "2022-09-28 22:26:02 | INFO | openpack_torch.lightning | Epoch[094] TRAIN: loss= 1.9854, acc= 0.3523 | VAL: loss= 1.8644, acc= 0.3979\n",
      "2022-09-28 22:26:03 | INFO | openpack_torch.lightning | Epoch[095] TRAIN: loss= 1.9150, acc= 0.3759 | VAL: loss= 1.8634, acc= 0.4021\n",
      "2022-09-28 22:26:05 | INFO | openpack_torch.lightning | Epoch[096] TRAIN: loss= 1.8630, acc= 0.4238 | VAL: loss= 1.8626, acc= 0.4033\n",
      "2022-09-28 22:26:06 | INFO | openpack_torch.lightning | Epoch[097] TRAIN: loss= 1.8307, acc= 0.4458 | VAL: loss= 1.8613, acc= 0.4081\n",
      "2022-09-28 22:26:08 | INFO | openpack_torch.lightning | Epoch[098] TRAIN: loss= 1.8390, acc= 0.4236 | VAL: loss= 1.8495, acc= 0.4115\n",
      "2022-09-28 22:26:09 | INFO | openpack_torch.lightning | Epoch[099] TRAIN: loss= 1.8779, acc= 0.3967 | VAL: loss= 1.8446, acc= 0.4027\n",
      "`Trainer.fit` stopped: `max_epochs=100` reached.\n",
      "2022-09-28 22:26:10 | INFO | __main__ | Finish training!\n"
     ]
    }
   ],
   "source": [
    "logger.info(f\"Start training for {num_epoch} epochs.\")\n",
    "trainer.fit(plmodel, datamodule)\n",
    "logger.info(\"Finish training!\")"
   ]
  },
  {
   "cell_type": "markdown",
   "id": "80ad09e2-9b02-4582-b012-3ce9fdfc3e0e",
   "metadata": {},
   "source": [
    "### 3-4: Plot Training Curve"
   ]
  },
  {
   "cell_type": "markdown",
   "id": "aa0a6811-11fb-4937-a300-735ca1170b0f",
   "metadata": {},
   "source": [
    "Training logs are stored in `plmodel.log` (dict). Let's visualize training curves for training and validation set."
   ]
  },
  {
   "cell_type": "code",
   "execution_count": 14,
   "id": "5fe6a607-6921-4440-a03b-03f35b72ff2b",
   "metadata": {},
   "outputs": [],
   "source": [
    "df = pd.concat([\n",
    "    pd.DataFrame(plmodel.log_dict[\"train\"]),\n",
    "    pd.DataFrame(plmodel.log_dict[\"val\"]),\n",
    "],axis=1,)\n",
    "df.index.name = \"epoch\""
   ]
  },
  {
   "cell_type": "code",
   "execution_count": 15,
   "id": "65b6eb10-9584-483b-8a44-deb539528f90",
   "metadata": {},
   "outputs": [
    {
     "data": {
      "text/html": [
       "<div>\n",
       "<style scoped>\n",
       "    .dataframe tbody tr th:only-of-type {\n",
       "        vertical-align: middle;\n",
       "    }\n",
       "\n",
       "    .dataframe tbody tr th {\n",
       "        vertical-align: top;\n",
       "    }\n",
       "\n",
       "    .dataframe thead th {\n",
       "        text-align: right;\n",
       "    }\n",
       "</style>\n",
       "<table border=\"1\" class=\"dataframe\">\n",
       "  <thead>\n",
       "    <tr style=\"text-align: right;\">\n",
       "      <th></th>\n",
       "      <th>train/loss</th>\n",
       "      <th>train/acc</th>\n",
       "      <th>val/loss</th>\n",
       "      <th>val/acc</th>\n",
       "    </tr>\n",
       "    <tr>\n",
       "      <th>epoch</th>\n",
       "      <th></th>\n",
       "      <th></th>\n",
       "      <th></th>\n",
       "      <th></th>\n",
       "    </tr>\n",
       "  </thead>\n",
       "  <tbody>\n",
       "    <tr>\n",
       "      <th>0</th>\n",
       "      <td>2.419266</td>\n",
       "      <td>0.107531</td>\n",
       "      <td>2.419502</td>\n",
       "      <td>0.070543</td>\n",
       "    </tr>\n",
       "    <tr>\n",
       "      <th>1</th>\n",
       "      <td>2.424838</td>\n",
       "      <td>0.123307</td>\n",
       "      <td>2.417658</td>\n",
       "      <td>0.070443</td>\n",
       "    </tr>\n",
       "    <tr>\n",
       "      <th>2</th>\n",
       "      <td>2.424841</td>\n",
       "      <td>0.144114</td>\n",
       "      <td>2.413230</td>\n",
       "      <td>0.070179</td>\n",
       "    </tr>\n",
       "    <tr>\n",
       "      <th>3</th>\n",
       "      <td>2.399221</td>\n",
       "      <td>0.153155</td>\n",
       "      <td>2.409214</td>\n",
       "      <td>0.065340</td>\n",
       "    </tr>\n",
       "    <tr>\n",
       "      <th>4</th>\n",
       "      <td>2.380948</td>\n",
       "      <td>0.147951</td>\n",
       "      <td>2.403244</td>\n",
       "      <td>0.057825</td>\n",
       "    </tr>\n",
       "  </tbody>\n",
       "</table>\n",
       "</div>"
      ],
      "text/plain": [
       "       train/loss  train/acc  val/loss   val/acc\n",
       "epoch                                           \n",
       "0        2.419266   0.107531  2.419502  0.070543\n",
       "1        2.424838   0.123307  2.417658  0.070443\n",
       "2        2.424841   0.144114  2.413230  0.070179\n",
       "3        2.399221   0.153155  2.409214  0.065340\n",
       "4        2.380948   0.147951  2.403244  0.057825"
      ]
     },
     "execution_count": 15,
     "metadata": {},
     "output_type": "execute_result"
    }
   ],
   "source": [
    "df.head()"
   ]
  },
  {
   "cell_type": "markdown",
   "id": "30f71352-d4b0-4ceb-9b9a-525a129e6174",
   "metadata": {},
   "source": [
    "Training Log"
   ]
  },
  {
   "cell_type": "code",
   "execution_count": 16,
   "id": "61b0b6ad-9a6b-4264-8abd-8db8dcf477e1",
   "metadata": {},
   "outputs": [
    {
     "data": {
      "image/png": "[encoded data removed]",
      "text/plain": [
       "<Figure size 432x288 with 1 Axes>"
      ]
     },
     "metadata": {
      "needs_background": "light"
     },
     "output_type": "display_data"
    }
   ],
   "source": [
    "df[[\"train/loss\", \"val/loss\"]].plot()\n",
    "plt.show()"
   ]
  },
  {
   "cell_type": "markdown",
   "id": "9fb11f8b-e84c-41a1-965d-b439bd63c24f",
   "metadata": {},
   "source": [
    "Test Log"
   ]
  },
  {
   "cell_type": "code",
   "execution_count": 17,
   "id": "3b1a002a-2ff5-4bf6-a1b2-763d95bbaf08",
   "metadata": {},
   "outputs": [
    {
     "data": {
      "image/png": "[encoded data removed]",
      "text/plain": [
       "<Figure size 432x288 with 1 Axes>"
      ]
     },
     "metadata": {
      "needs_background": "light"
     },
     "output_type": "display_data"
    }
   ],
   "source": [
    "df[[\"train/acc\", \"val/acc\"]].plot()\n",
    "plt.show()"
   ]
  },
  {
   "cell_type": "markdown",
   "id": "2c92629a-743f-4097-bb41-86f39a4f3053",
   "metadata": {},
   "source": [
    "## [4] Test"
   ]
  },
  {
   "cell_type": "markdown",
   "id": "1924d48c-4cda-488a-9ac4-4c439277db45",
   "metadata": {},
   "source": [
    "Evaluation function is defined in `optk.codalab.eval_operation_segmentation_wrapper()`. This function takes dict as the 1st argument and prediction (`y`), groundtruth (`t_idx`; activity class index) and corresponding unixtime (`unixtime`) must be included in the dict object. Each sequence should be stored in the different entries with a key `{user}-{session}` (e.g., `U0107-S0100`).\n",
    "\n",
    "```python\n",
    "outputs = {\n",
    "    \"U0102-S0100\": {\n",
    "        \"t_idx\": [0, 0, ...], # groundtruth (class index)\n",
    "        \"y\": [\n",
    "            [\n",
    "                [0., 0., ...],\n",
    "                [0., 0., ...],\n",
    "                [1., 1., ...],\n",
    "            ],\n",
    "        ], # prediction. shape=(B,N_CLASSES,T), dtype=float\n",
    "        \"unixtiume\": [634885794000, 1634885794200, ...], # unixtime\n",
    "    },\n",
    "    \"U0102-S0200\": {\n",
    "        \"t_idx\": [...], \n",
    "        \"y\": [...],\n",
    "        \"unixtiume\": [...],\n",
    "    },\n",
    "    ...\n",
    "}\n",
    "```"
   ]
  },
  {
   "cell_type": "markdown",
   "id": "e73192e1-876e-44b7-9c8e-ae7b5079da4d",
   "metadata": {},
   "source": [
    "### 4-1: Get prediction results for each sequences and build result dict."
   ]
  },
  {
   "cell_type": "markdown",
   "id": "cf3b1f4e-ad31-41aa-8624-da375d531228",
   "metadata": {},
   "source": [
    "NOTE: In `DEBUG_SPLIT`, U0102-S0500 is set to both the test set and the submission set for debugging purpose."
   ]
  },
  {
   "cell_type": "code",
   "execution_count": 18,
   "id": "6ec859ea-fc23-4f48-a611-8253523ad245",
   "metadata": {},
   "outputs": [
    {
     "name": "stderr",
     "output_type": "stream",
     "text": [
      "2022-09-28 22:26:12 | WARNING | openpack_torch.data.datasets | No preprocessing is applied.\n",
      "2022-09-28 22:26:12 | INFO | openpack_torch.data.datamodule | dataset[train]: None\n",
      "2022-09-28 22:26:12 | INFO | openpack_torch.data.datamodule | dataset[val]: None\n",
      "2022-09-28 22:26:12 | INFO | openpack_torch.data.datamodule | dataset[test]: {'U0102-S0500': <openpack_torch.data.datasets.OpenPackImu object at 0x7fe5eb013c70>}\n",
      "2022-09-28 22:26:12 | INFO | openpack_torch.data.datamodule | dataset[submission]: None\n",
      "2022-09-28 22:26:12 | INFO | __main__ | test on U0102-S0500\n",
      "2022-09-28 22:26:12 | WARNING | openpack_torch.data.datasets | No preprocessing is applied.\n",
      "2022-09-28 22:26:12 | INFO | openpack_torch.data.datamodule | dataset[train]: None\n",
      "2022-09-28 22:26:12 | INFO | openpack_torch.data.datamodule | dataset[val]: None\n",
      "2022-09-28 22:26:12 | INFO | openpack_torch.data.datamodule | dataset[test]: {'U0102-S0500': <openpack_torch.data.datasets.OpenPackImu object at 0x7fe5eb0af460>}\n",
      "2022-09-28 22:26:12 | INFO | openpack_torch.data.datamodule | dataset[submission]: None\n",
      "LOCAL_RANK: 0 - CUDA_VISIBLE_DEVICES: [0]\n",
      "2022-09-28 22:26:12 | INFO | __main__ | save t[shape=(31, 1800)] to /content/logs/atr-acc-left-wrist/UNet/I01-EXP1-V1-nb/pred/U0102-S0500/t.npy\n",
      "2022-09-28 22:26:12 | INFO | __main__ | save y[shape=(31, 11, 1800)] to /content/logs/atr-acc-left-wrist/UNet/I01-EXP1-V1-nb/pred/U0102-S0500/y.npy\n",
      "2022-09-28 22:26:12 | INFO | __main__ | save unixtime[shape=(31, 1800)] to /content/logs/atr-acc-left-wrist/UNet/I01-EXP1-V1-nb/pred/U0102-S0500/unixtime.npy\n"
     ]
    }
   ],
   "source": [
    "datamodule.setup(\"test\")\n",
    "dataloaders = datamodule.test_dataloader()\n",
    "split = cfg.dataset.split.test\n",
    "\n",
    "\n",
    "outputs = dict()\n",
    "for i, dataloader in enumerate(dataloaders):\n",
    "    user, session = split[i]\n",
    "    logger.info(f\"test on {user}-{session}\")\n",
    "\n",
    "    trainer.test(plmodel, dataloader)\n",
    "\n",
    "    # save model outputs\n",
    "    pred_dir = Path(\n",
    "        cfg.path.logdir.predict.format(user=user, session=session)\n",
    "    )\n",
    "    pred_dir.mkdir(parents=True, exist_ok=True)\n",
    "\n",
    "    for key, arr in plmodel.test_results.items():\n",
    "        path = Path(pred_dir, f\"{key}.npy\")\n",
    "        np.save(path, arr)\n",
    "        logger.info(f\"save {key}[shape={arr.shape}] to {path}\")\n",
    "\n",
    "    outputs[f\"{user}-{session}\"] = {\n",
    "        \"t_idx\": plmodel.test_results.get(\"t\"),\n",
    "        \"y\": plmodel.test_results.get(\"y\"),\n",
    "        \"unixtime\": plmodel.test_results.get(\"unixtime\"),\n",
    "    }"
   ]
  },
  {
   "cell_type": "markdown",
   "id": "605b50b5-b099-4319-84b6-ad120760dd92",
   "metadata": {},
   "source": [
    "### 4-2: Evaluate"
   ]
  },
  {
   "cell_type": "code",
   "execution_count": 19,
   "id": "c61ad2c2-d92c-4161-9a0c-62677379ec8b",
   "metadata": {},
   "outputs": [],
   "source": [
    "# compute performance summary\n",
    "df_summary = eval_operation_segmentation_wrapper(\n",
    "    cfg, outputs, OPENPACK_OPERATIONS,\n",
    ")"
   ]
  },
  {
   "cell_type": "code",
   "execution_count": 20,
   "id": "72a70472-4511-4c56-bda2-72fe3a71dea4",
   "metadata": {},
   "outputs": [
    {
     "data": {
      "text/html": [
       "<div>\n",
       "<style scoped>\n",
       "    .dataframe tbody tr th:only-of-type {\n",
       "        vertical-align: middle;\n",
       "    }\n",
       "\n",
       "    .dataframe tbody tr th {\n",
       "        vertical-align: top;\n",
       "    }\n",
       "\n",
       "    .dataframe thead th {\n",
       "        text-align: right;\n",
       "    }\n",
       "</style>\n",
       "<table border=\"1\" class=\"dataframe\">\n",
       "  <thead>\n",
       "    <tr style=\"text-align: right;\">\n",
       "      <th></th>\n",
       "      <th>name</th>\n",
       "      <th>id</th>\n",
       "      <th>precision</th>\n",
       "      <th>recall</th>\n",
       "      <th>f1</th>\n",
       "      <th>support</th>\n",
       "      <th>key</th>\n",
       "    </tr>\n",
       "  </thead>\n",
       "  <tbody>\n",
       "    <tr>\n",
       "      <th>12</th>\n",
       "      <td>avg/macro</td>\n",
       "      <td>-1</td>\n",
       "      <td>0.335504</td>\n",
       "      <td>0.302580</td>\n",
       "      <td>0.267704</td>\n",
       "      <td>None</td>\n",
       "      <td>all</td>\n",
       "    </tr>\n",
       "    <tr>\n",
       "      <th>13</th>\n",
       "      <td>avg/weighted</td>\n",
       "      <td>-1</td>\n",
       "      <td>0.353488</td>\n",
       "      <td>0.345225</td>\n",
       "      <td>0.301331</td>\n",
       "      <td>None</td>\n",
       "      <td>all</td>\n",
       "    </tr>\n",
       "    <tr>\n",
       "      <th>14</th>\n",
       "      <td>Picking</td>\n",
       "      <td>100</td>\n",
       "      <td>0.297872</td>\n",
       "      <td>0.502994</td>\n",
       "      <td>0.374165</td>\n",
       "      <td>167</td>\n",
       "      <td>all</td>\n",
       "    </tr>\n",
       "    <tr>\n",
       "      <th>15</th>\n",
       "      <td>Relocate Item Label</td>\n",
       "      <td>200</td>\n",
       "      <td>0.333333</td>\n",
       "      <td>0.093023</td>\n",
       "      <td>0.145455</td>\n",
       "      <td>387</td>\n",
       "      <td>all</td>\n",
       "    </tr>\n",
       "    <tr>\n",
       "      <th>16</th>\n",
       "      <td>Assemble Box</td>\n",
       "      <td>300</td>\n",
       "      <td>0.505703</td>\n",
       "      <td>0.519531</td>\n",
       "      <td>0.512524</td>\n",
       "      <td>256</td>\n",
       "      <td>all</td>\n",
       "    </tr>\n",
       "    <tr>\n",
       "      <th>17</th>\n",
       "      <td>Insert Items</td>\n",
       "      <td>400</td>\n",
       "      <td>0.322581</td>\n",
       "      <td>0.070423</td>\n",
       "      <td>0.115607</td>\n",
       "      <td>142</td>\n",
       "      <td>all</td>\n",
       "    </tr>\n",
       "    <tr>\n",
       "      <th>18</th>\n",
       "      <td>Close Box</td>\n",
       "      <td>500</td>\n",
       "      <td>0.242647</td>\n",
       "      <td>0.372881</td>\n",
       "      <td>0.293987</td>\n",
       "      <td>177</td>\n",
       "      <td>all</td>\n",
       "    </tr>\n",
       "    <tr>\n",
       "      <th>19</th>\n",
       "      <td>Attach Box Label</td>\n",
       "      <td>600</td>\n",
       "      <td>0.166667</td>\n",
       "      <td>0.062500</td>\n",
       "      <td>0.090909</td>\n",
       "      <td>64</td>\n",
       "      <td>all</td>\n",
       "    </tr>\n",
       "    <tr>\n",
       "      <th>20</th>\n",
       "      <td>Scan Label</td>\n",
       "      <td>700</td>\n",
       "      <td>0.386364</td>\n",
       "      <td>0.756849</td>\n",
       "      <td>0.511574</td>\n",
       "      <td>292</td>\n",
       "      <td>all</td>\n",
       "    </tr>\n",
       "    <tr>\n",
       "      <th>21</th>\n",
       "      <td>Attach Shipping Label</td>\n",
       "      <td>800</td>\n",
       "      <td>0.571429</td>\n",
       "      <td>0.040000</td>\n",
       "      <td>0.074766</td>\n",
       "      <td>100</td>\n",
       "      <td>all</td>\n",
       "    </tr>\n",
       "    <tr>\n",
       "      <th>22</th>\n",
       "      <td>Put on Back Table</td>\n",
       "      <td>900</td>\n",
       "      <td>0.215517</td>\n",
       "      <td>0.316456</td>\n",
       "      <td>0.256410</td>\n",
       "      <td>79</td>\n",
       "      <td>all</td>\n",
       "    </tr>\n",
       "    <tr>\n",
       "      <th>23</th>\n",
       "      <td>Fill out Order</td>\n",
       "      <td>1000</td>\n",
       "      <td>0.312925</td>\n",
       "      <td>0.291139</td>\n",
       "      <td>0.301639</td>\n",
       "      <td>158</td>\n",
       "      <td>all</td>\n",
       "    </tr>\n",
       "  </tbody>\n",
       "</table>\n",
       "</div>"
      ],
      "text/plain": [
       "                     name    id  precision    recall        f1 support  key\n",
       "12              avg/macro    -1   0.335504  0.302580  0.267704    None  all\n",
       "13           avg/weighted    -1   0.353488  0.345225  0.301331    None  all\n",
       "14                Picking   100   0.297872  0.502994  0.374165     167  all\n",
       "15    Relocate Item Label   200   0.333333  0.093023  0.145455     387  all\n",
       "16           Assemble Box   300   0.505703  0.519531  0.512524     256  all\n",
       "17           Insert Items   400   0.322581  0.070423  0.115607     142  all\n",
       "18              Close Box   500   0.242647  0.372881  0.293987     177  all\n",
       "19       Attach Box Label   600   0.166667  0.062500  0.090909      64  all\n",
       "20             Scan Label   700   0.386364  0.756849  0.511574     292  all\n",
       "21  Attach Shipping Label   800   0.571429  0.040000  0.074766     100  all\n",
       "22      Put on Back Table   900   0.215517  0.316456  0.256410      79  all\n",
       "23         Fill out Order  1000   0.312925  0.291139  0.301639     158  all"
      ]
     },
     "execution_count": 20,
     "metadata": {},
     "output_type": "execute_result"
    }
   ],
   "source": [
    "df_summary[df_summary[\"key\"]==\"all\"]"
   ]
  },
  {
   "cell_type": "markdown",
   "id": "858ce911-5a7d-4eee-bbdd-592ea387acad",
   "metadata": {},
   "source": [
    "### 4-3: Visualize Model Output\n",
    "\n",
    "The model's outputs can be transformed into probability by applying `softmax()` function.\n",
    "Here, let's visualize confidence scores as heatmap.\n",
    "\n",
    "NOTE: Evaluation is done in 1 Hz, but we visualize the output sample by sample."
   ]
  },
  {
   "cell_type": "code",
   "execution_count": 21,
   "id": "1f3eb760-ce65-4103-aa85-b9d0227779aa",
   "metadata": {},
   "outputs": [],
   "source": [
    "def plot_timeline(samples, t_idx, y_softmax, title_prefix=\"\"):\n",
    "    fig, ax0 = plt.subplots(1, 1, figsize=(20, 4))\n",
    "\n",
    "    prob = y_softmax[slice(*samples)].transpose(1, 0, 2).reshape(11, -1)\n",
    "    gt = t_idx[slice(*samples)].ravel()\n",
    "    pred = prob.argmax(axis=0)\n",
    "    \n",
    "    print(f\"prob={prob.shape} pred={pred.shape}, gt={gt.shape}\")\n",
    "    seq_len = prob.shape[1]\n",
    "\n",
    "    # -- Prob --\n",
    "    sns.heatmap(\n",
    "        prob,\n",
    "        vmin=0, vmax=1.0, cmap=\"viridis\", cbar=False,\n",
    "        ax=ax0\n",
    "    )\n",
    "\n",
    "    # -- Ground Truth --\n",
    "    x = np.arange(seq_len)\n",
    "    ax0.plot(\n",
    "        x, gt + 0.5, label=\"ground truth\",\n",
    "        linewidth=5, color=\"C3\", \n",
    "    )\n",
    "    # ax0.plot(\n",
    "    #     x, pred + 0.5, label=\"pred\",\n",
    "    #     linewidth=1, color=\"C1\", alpha=0.5,\n",
    "    # )\n",
    "\n",
    "    # -- Style --\n",
    "    ax0.invert_yaxis()\n",
    "    xticks = np.arange(0, seq_len, 30 * 30)\n",
    "    xticks_minor = np.arange(0, seq_len, 30 * 10)\n",
    "    ax0.set_xticks(xticks)\n",
    "    ax0.set_xticklabels(xticks // 30 + samples[0] * 60, rotation=0)\n",
    "    ax0.set_xticks(xticks_minor, minor=True)\n",
    "\n",
    "    ax0.set_yticks(np.arange(11) + 0.5)\n",
    "    ax0.set_yticklabels(np.arange(11), rotation=0)\n",
    "    \n",
    "    \n",
    "    ax0.set_xlabel(\"Time [s]\", fontsize=\"large\", fontweight=\"bold\")\n",
    "    ax0.set_ylabel(\"Class Index\", fontsize=\"large\", fontweight=\"bold\")\n",
    "    ax0.set_title(f\"{title_prefix} | {samples[0]}min ~ {samples[1]}min\", fontsize=\"xx-large\", fontweight=\"bold\")\n",
    "    ax0.grid(True, which=\"minor\", linestyle=\":\")\n",
    "    ax0.legend(loc=\"upper right\")\n",
    "\n",
    "    fig.tight_layout()\n",
    "    return fig\n"
   ]
  },
  {
   "cell_type": "code",
   "execution_count": 22,
   "id": "d3b55dc4-a8c6-4eb8-9c8b-27e6b30a7df0",
   "metadata": {},
   "outputs": [
    {
     "name": "stdout",
     "output_type": "stream",
     "text": [
      "unixtimes=(31, 1800), t_idx=(31, 1800), y=(31, 11, 1800), y_softmax=(31, 11, 1800)\n"
     ]
    }
   ],
   "source": [
    "key = \"U0102-S0500\"\n",
    "\n",
    "unixtimes = outputs[key][\"unixtime\"] \n",
    "t_idx = outputs[key][\"t_idx\"]\n",
    "y = outputs[key][\"y\"]\n",
    "y_softmax = softmax(y, axis=1)\n",
    "print(f\"unixtimes={unixtimes.shape}, t_idx={t_idx.shape}, y={y.shape}, y_softmax={y_softmax.shape}\")"
   ]
  },
  {
   "cell_type": "code",
   "execution_count": 23,
   "id": "7cc7195c-1785-4a90-94f2-23328c735f0e",
   "metadata": {},
   "outputs": [
    {
     "name": "stdout",
     "output_type": "stream",
     "text": [
      "prob=(11, 18000) pred=(18000,), gt=(18000,)\n"
     ]
    },
    {
     "data": {
      "image/png": "[encoded data removed]",
      "text/plain": [
       "<Figure size 1440x288 with 1 Axes>"
      ]
     },
     "metadata": {
      "needs_background": "light"
     },
     "output_type": "display_data"
    }
   ],
   "source": [
    "samples = (0, 10)\n",
    "\n",
    "fig = plot_timeline(samples, t_idx, y_softmax, title_prefix=f\"{cfg.model.name} | {user} {session}\")\n",
    "fig.show()"
   ]
  },
  {
   "cell_type": "code",
   "execution_count": 24,
   "id": "dd5ca495-55ea-42a8-9d58-0b80225ed8f5",
   "metadata": {},
   "outputs": [
    {
     "name": "stdout",
     "output_type": "stream",
     "text": [
      "prob=(11, 18000) pred=(18000,), gt=(18000,)\n"
     ]
    },
    {
     "data": {
      "image/png": "[encoded data removed]",
      "text/plain": [
       "<Figure size 1440x288 with 1 Axes>"
      ]
     },
     "metadata": {
      "needs_background": "light"
     },
     "output_type": "display_data"
    }
   ],
   "source": [
    "samples = (10, 20)\n",
    "\n",
    "fig = plot_timeline(samples, t_idx, y_softmax, title_prefix=f\"{cfg.model.name} | {user} {session}\")\n",
    "fig.show()"
   ]
  },
  {
   "cell_type": "code",
   "execution_count": null,
   "id": "3a3a7841-3c29-4265-8dbf-c94681bf6112",
   "metadata": {},
   "outputs": [],
   "source": []
  },
  {
   "cell_type": "markdown",
   "id": "e052f310-bc35-434d-b34a-adbab8b575e4",
   "metadata": {},
   "source": [
    "## [5] Submission"
   ]
  },
  {
   "cell_type": "markdown",
   "id": "f001c120-584d-418f-a2d3-81ddbd31b2cb",
   "metadata": {},
   "source": [
    "`optk.codalab.construct_submission_dict()` can be used to make submission files to codalab.\n",
    "The parameter is almost the same as `optk.codalab.eval_operation_segmentation_wrapper()` (used for evaluation), but groundtruth field (`t_idx`) is exclided."
   ]
  },
  {
   "cell_type": "markdown",
   "id": "253dcf37-1da8-46d2-adf3-e84e22c52af4",
   "metadata": {},
   "source": [
    "### 5-1: Get prediction for test data."
   ]
  },
  {
   "cell_type": "markdown",
   "id": "b44ccff0-ba59-417e-a9db-b57422c23624",
   "metadata": {},
   "source": [
    "NOTE: Data for submission is not available in OpenPack(v0.2.0).  Therefore use test set for debugging purpose."
   ]
  },
  {
   "cell_type": "code",
   "execution_count": 25,
   "id": "4c30a2b9-cb0a-400b-8357-bb3f29c9ab63",
   "metadata": {},
   "outputs": [
    {
     "name": "stderr",
     "output_type": "stream",
     "text": [
      "2022-09-28 22:26:15 | WARNING | openpack_torch.data.datasets | No preprocessing is applied.\n",
      "2022-09-28 22:26:15 | INFO | openpack_torch.data.datamodule | dataset[train]: None\n",
      "2022-09-28 22:26:15 | INFO | openpack_torch.data.datamodule | dataset[val]: None\n",
      "2022-09-28 22:26:15 | INFO | openpack_torch.data.datamodule | dataset[test]: None\n",
      "2022-09-28 22:26:15 | INFO | openpack_torch.data.datamodule | dataset[submission]: {'U0102-S0500': <openpack_torch.data.datasets.OpenPackImu object at 0x7fe65dd21970>}\n",
      "2022-09-28 22:26:15 | INFO | __main__ | test on U0102-S0500\n",
      "2022-09-28 22:26:15 | WARNING | openpack_torch.data.datasets | No preprocessing is applied.\n",
      "2022-09-28 22:26:15 | INFO | openpack_torch.data.datamodule | dataset[train]: None\n",
      "2022-09-28 22:26:15 | INFO | openpack_torch.data.datamodule | dataset[val]: None\n",
      "2022-09-28 22:26:15 | INFO | openpack_torch.data.datamodule | dataset[test]: {'U0102-S0500': <openpack_torch.data.datasets.OpenPackImu object at 0x7fe65dd37670>}\n",
      "2022-09-28 22:26:15 | INFO | openpack_torch.data.datamodule | dataset[submission]: None\n",
      "LOCAL_RANK: 0 - CUDA_VISIBLE_DEVICES: [0]\n",
      "2022-09-28 22:26:15 | INFO | __main__ | save t[shape=(31, 1800)] to /content/logs/atr-acc-left-wrist/UNet/I01-EXP1-V1-nb/pred/U0102-S0500/t.npy\n",
      "2022-09-28 22:26:15 | INFO | __main__ | save y[shape=(31, 11, 1800)] to /content/logs/atr-acc-left-wrist/UNet/I01-EXP1-V1-nb/pred/U0102-S0500/y.npy\n",
      "2022-09-28 22:26:15 | INFO | __main__ | save unixtime[shape=(31, 1800)] to /content/logs/atr-acc-left-wrist/UNet/I01-EXP1-V1-nb/pred/U0102-S0500/unixtime.npy\n"
     ]
    }
   ],
   "source": [
    "cfg.mode = \"submission\"\n",
    "datamodule.setup(\"submission\")\n",
    "dataloaders = datamodule.submission_dataloader()\n",
    "split = cfg.dataset.split.submission\n",
    "\n",
    "outputs = dict()\n",
    "for i, dataloader in enumerate(dataloaders):\n",
    "    user, session = split[i]\n",
    "    logger.info(f\"test on {user}-{session}\")\n",
    "\n",
    "    trainer.test(plmodel, dataloader)\n",
    "\n",
    "    # save model outputs\n",
    "    pred_dir = Path(\n",
    "        cfg.path.logdir.predict.format(user=user, session=session)\n",
    "    )\n",
    "    pred_dir.mkdir(parents=True, exist_ok=True)\n",
    "\n",
    "    for key, arr in plmodel.test_results.items():\n",
    "        path = Path(pred_dir, f\"{key}.npy\")\n",
    "        np.save(path, arr)\n",
    "        logger.info(f\"save {key}[shape={arr.shape}] to {path}\")\n",
    "\n",
    "    outputs[f\"{user}-{session}\"] = {\n",
    "        \"y\": plmodel.test_results.get(\"y\"),\n",
    "        \"unixtime\": plmodel.test_results.get(\"unixtime\"),\n",
    "    }"
   ]
  },
  {
   "cell_type": "markdown",
   "id": "8f5ef1ff-7710-4692-a718-0405186e8e44",
   "metadata": {},
   "source": [
    "### 5-2: Make submission zip file\n",
    "\n",
    "In the `construct_submission_dict()`, following processing will be done.\n",
    "\n",
    "- Convert a predcition tesor `y` (3D array of logits) into a 2d matrix of predicted class ids.\n",
    "- Resample sequence into 1 Hz.\n",
    "- Exclude the segments that is out of range for the evaluation protocol (i.e., unlabeled or null segments).\n",
    "\n",
    "In the `make_submission_zipfile()`, following processing will be done.\n",
    "\n",
    "- extract `prediction` and `unixtime` field \n",
    "- generate `submission.json` and `submission.zip` to `output_dir`."
   ]
  },
  {
   "cell_type": "code",
   "execution_count": 26,
   "id": "0e13c946-8bd0-424b-8343-955481ec7dba",
   "metadata": {},
   "outputs": [
    {
     "name": "stderr",
     "output_type": "stream",
     "text": [
      "2022-09-28 22:26:15 | INFO | openpack_toolkit.codalab.operation_segmentation.utils | write submission.json to /content/logs/atr-acc-left-wrist/UNet/I01-EXP1-V1-nb/submission.json\n",
      "2022-09-28 22:26:15 | INFO | openpack_toolkit.codalab.operation_segmentation.utils | write submission.zip to /content/logs/atr-acc-left-wrist/UNet/I01-EXP1-V1-nb/submission.zip\n"
     ]
    }
   ],
   "source": [
    "output_dir = str(cfg.path.logdir.rootdir)\n",
    "\n",
    "submission_dict = construct_submission_dict(outputs, OPENPACK_OPERATIONS)\n",
    "make_submission_zipfile(submission_dict, output_dir)"
   ]
  },
  {
   "cell_type": "markdown",
   "id": "55666a84-fd2b-4547-af30-8f3e04ff8977",
   "metadata": {},
   "source": [
    "### 5-3: Submit to codalab and get results!"
   ]
  },
  {
   "cell_type": "markdown",
   "id": "15fb7d89-9b10-4478-835b-2d96ce98ced5",
   "metadata": {},
   "source": [
    "Now, you got a submission zip file (`./submission.zip`).\n",
    "Let's upload it in the competition site (codalab) and get your score!\n",
    "\n",
    "NOTE: If you are useing `optk.configs.datasets.splits.DEBUG_SPLIT` (default of this notebook), please use a submission form for \"Development Phase\"."
   ]
  },
  {
   "cell_type": "code",
   "execution_count": null,
   "id": "0371e030-9972-4304-8709-1fc58cd43169",
   "metadata": {},
   "outputs": [],
   "source": []
  }
 ],
 "metadata": {
  "kernelspec": {
   "display_name": "Python 3 (ipykernel)",
   "language": "python",
   "name": "python3"
  },
  "language_info": {
   "codemirror_mode": {
    "name": "ipython",
    "version": 3
   },
   "file_extension": ".py",
   "mimetype": "text/x-python",
   "name": "python",
   "nbconvert_exporter": "python",
   "pygments_lexer": "ipython3",
   "version": "3.8.12"
  }
 },
 "nbformat": 4,
 "nbformat_minor": 5
}
