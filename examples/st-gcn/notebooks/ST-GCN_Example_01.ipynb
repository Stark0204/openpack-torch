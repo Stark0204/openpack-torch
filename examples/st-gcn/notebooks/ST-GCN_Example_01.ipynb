{
 "cells": [
  {
   "cell_type": "markdown",
   "id": "6b686c36-3288-4aec-b590-4fd055b6350e",
   "metadata": {},
   "source": [
    "# Getting Started | ST-GCN with OpenPack Dataset (Keypoint)"
   ]
  },
  {
   "cell_type": "markdown",
   "id": "4d1546e1-71c7-4c94-9e4b-c079e6c92460",
   "metadata": {},
   "source": [
    "## [0] Inital Setup"
   ]
  },
  {
   "cell_type": "markdown",
   "id": "c8db39b1-8a79-465c-8a43-736d6f2e3e7a",
   "metadata": {},
   "source": [
    "### 0-1: Download Code and Install `openpack-torch` \n",
    "NOTE: You can also install `openpack-torch` from PyPI with `pip install openpack-torch`."
   ]
  },
  {
   "cell_type": "code",
   "execution_count": null,
   "id": "c96db04c-05f5-4aed-a843-49927f7d3d1b",
   "metadata": {},
   "outputs": [],
   "source": [
    "! cd /content && git clone https://github.com/open-pack/openpack-torch.git"
   ]
  },
  {
   "cell_type": "code",
   "execution_count": null,
   "id": "3f48874c-6e41-4ec6-8f2c-5c0a8210616a",
   "metadata": {},
   "outputs": [],
   "source": [
    "! cd /content/openpack-torch/ && pip install ."
   ]
  },
  {
   "cell_type": "markdown",
   "id": "d5683dbd-1531-4612-a103-3defe8646096",
   "metadata": {},
   "source": [
    "### 0-2: Download Dataset to  `/content/data`\n",
    "- Souce (IMU data of U0102): TBA"
   ]
  },
  {
   "cell_type": "code",
   "execution_count": null,
   "id": "279aea53-753b-4aa6-a875-2769376877d8",
   "metadata": {},
   "outputs": [],
   "source": [
    "! mkdir -p /content/data/\n",
    "! cd /content/data && wget \"https://drive.google.com/uc?export=download&id=TBA\" -O datasets.zip\n",
    "! cd /content/data/ && unzip datasets.zip"
   ]
  },
  {
   "cell_type": "markdown",
   "id": "cb4825be-fe17-4461-b700-2379d0a9dd3f",
   "metadata": {},
   "source": [
    "### 0-3: Import Modules"
   ]
  },
  {
   "cell_type": "code",
   "execution_count": 3,
   "id": "dfe08d0d-820e-4b01-89aa-00a087f3113c",
   "metadata": {},
   "outputs": [],
   "source": [
    "import os\n",
    "import shutil\n",
    "import logging\n",
    "from pathlib import Path\n",
    "from typing import Dict\n",
    "\n",
    "import hydra\n",
    "import numpy as np\n",
    "import openpack_toolkit as optk\n",
    "import openpack_torch as optorch\n",
    "import pandas as pd\n",
    "import pytorch_lightning as pl\n",
    "import torch\n",
    "import matplotlib.pyplot as plt\n",
    "import seaborn as sns\n",
    "from hydra import initialize_config_dir, compose\n",
    "from omegaconf import DictConfig, OmegaConf\n",
    "from openpack_toolkit import OPENPACK_OPERATIONS\n",
    "from openpack_toolkit.codalab.operation_segmentation import (\n",
    "    construct_submission_dict, eval_operation_segmentation_wrapper,\n",
    "    make_submission_zipfile)\n",
    "\n",
    "\n",
    "sns.set(\"notebook\", \"whitegrid\")"
   ]
  },
  {
   "cell_type": "markdown",
   "id": "7b9ab06d-c1fd-4c93-b661-2f385209b45d",
   "metadata": {},
   "source": [
    "### 0-4: Setup Logger"
   ]
  },
  {
   "cell_type": "code",
   "execution_count": 5,
   "id": "4ecc9586-8e12-479e-9d92-2e6c3c183e78",
   "metadata": {},
   "outputs": [
    {
     "name": "stderr",
     "output_type": "stream",
     "text": [
      "2022-05-28 00:02:17 | INFO | __main__ | info\n",
      "2022-05-28 00:02:17 | WARNING | __main__ | warning\n"
     ]
    }
   ],
   "source": [
    "_ = optk.utils.notebook.setup_root_logger()\n",
    "logger = logging.getLogger(__name__)\n",
    "\n",
    "logger.debug(\"debug\")\n",
    "logger.info(\"info\")\n",
    "logger.warning(\"warning\")"
   ]
  },
  {
   "cell_type": "markdown",
   "id": "0b9d75dc-e2e0-459e-8abc-392d2e01941f",
   "metadata": {},
   "source": [
    "## [1] Load Config File"
   ]
  },
  {
   "cell_type": "code",
   "execution_count": 6,
   "id": "ad0605ab-a82d-4d36-b25d-2ff706245681",
   "metadata": {
    "tags": []
   },
   "outputs": [
    {
     "name": "stdout",
     "output_type": "stream",
     "text": [
      "datarootdir: /content/data\n",
      "issue: I01-EXP1-V1\n",
      "debug: false\n",
      "mode: train\n",
      "train:\n",
      "  num_workers: 3\n",
      "  batch_size: 8\n",
      "  epochs: 100\n",
      "  window: 900\n",
      "  optimizer:\n",
      "    type: Adam\n",
      "    lr: 0.001\n",
      "    weight_decay: 0.0001\n",
      "  debug:\n",
      "    batch_size: 8\n",
      "    epochs: 5\n",
      "volume:\n",
      "  logdir:\n",
      "    rootdir: ${datarootdir}/log/${dataset.name}/${model.name}/${issue}\n",
      "    model: ${volume.logdir.rootdir}/model.pth\n",
      "    predict: ${volume.logdir.rootdir}/pred/U{user:0=4}-S{session:0=4}\n",
      "    summary: ${volume.logdir.rootdir}/summary.csv\n",
      "model:\n",
      "  name: STGCN4Seg\n",
      "  Ks: 3\n",
      "  Kt: 9\n",
      "dataset:\n",
      "  name: openpack-keypoint\n",
      "  volume:\n",
      "    rootdir: ${datarootdir}/datasets/openpack/\n",
      "  modality:\n",
      "    keypoint:\n",
      "      type: mmpose-hrnet-mmdet/cleaned\n",
      "      num_vertex: 17\n",
      "      format: 2D\n",
      "      frame_rate: 15\n",
      "  split:\n",
      "    train:\n",
      "    - - 102\n",
      "      - 100\n",
      "    - - 102\n",
      "      - 200\n",
      "    - - 102\n",
      "      - 300\n",
      "    val:\n",
      "    - - 102\n",
      "      - 400\n",
      "    test:\n",
      "    - - 102\n",
      "      - 500\n",
      "    submission:\n",
      "    - - 102\n",
      "      - 500\n",
      "  num_classes: 10\n",
      "\n"
     ]
    }
   ],
   "source": [
    "config_dir = Path(\"/content/openpack-torch/configs\")\n",
    "overrides = [\n",
    "    \"mode=train\",\n",
    "    \"debug=false\",\n",
    "    \"train.batch_size=8\",\n",
    "    \"datarootdir=/content/data\",\n",
    "    \"hydra/job_logging=custom\",\n",
    "    \"hydra/hydra_logging=disabled\"\n",
    "]\n",
    "\n",
    "with initialize_config_dir(version_base=None, config_dir=str(config_dir)):\n",
    "    cfg = compose(\n",
    "        config_name=\"operation-segmentation-stgcn.yaml\",\n",
    "        overrides=overrides,\n",
    "    )\n",
    "print(OmegaConf.to_yaml(cfg))"
   ]
  },
  {
   "cell_type": "markdown",
   "id": "fb224ba0-c400-4838-aa7b-e11df8826acb",
   "metadata": {},
   "source": [
    "## [2] Define Utilities (Pytorch Lightning Modules)"
   ]
  },
  {
   "cell_type": "markdown",
   "id": "2f3463c3-8c6f-4449-a446-a7a9b27fb60f",
   "metadata": {},
   "source": [
    "### 2-1: DataModule\n",
    "\n",
    "Override `optorch.data.OpenPackBaseDataModule` to use Keypoint data."
   ]
  },
  {
   "cell_type": "code",
   "execution_count": 7,
   "id": "ca57cd43-364b-4526-bd6c-830cd9c30b67",
   "metadata": {},
   "outputs": [],
   "source": [
    "class OpenPackKeypointDataModule(optorch.data.OpenPackBaseDataModule):\n",
    "    dataset_class = optorch.data.datasets.OpenPackKeypoint\n",
    "\n",
    "    def get_kwargs_for_datasets(self) -> Dict:\n",
    "        kpt_cfg = self.cfg.dataset.modality.keypoint\n",
    "        submission = True if self.cfg.mode == \"submission\" else False\n",
    "\n",
    "        kwargs = {\n",
    "            \"keypoint_type\": kpt_cfg.type,\n",
    "            \"debug\": self.cfg.debug,\n",
    "            \"window\": self.cfg.train.window,\n",
    "            \"submission\": submission,\n",
    "        }\n",
    "        return kwargs"
   ]
  },
  {
   "cell_type": "markdown",
   "id": "e7bee7aa-f7c2-4f63-a43b-2513e09f7ab7",
   "metadata": {},
   "source": [
    "### 2-2: Lightning Module"
   ]
  },
  {
   "cell_type": "code",
   "execution_count": 8,
   "id": "3f68f6a2-9107-4291-9feb-a61d28ab3821",
   "metadata": {},
   "outputs": [],
   "source": [
    "class STGCN4SegLM(optorch.lightning.BaseLightningModule):\n",
    "\n",
    "    def init_model(self, cfg: DictConfig) -> torch.nn.Module:\n",
    "        if cfg.dataset.modality.keypoint.format == \"2D\":\n",
    "            in_ch = 2\n",
    "        elif cfg.dataset.modality.keypoint.format == \"3D\":\n",
    "            in_ch = 3\n",
    "        else:\n",
    "            raise ValueError()\n",
    "\n",
    "        Ks = cfg.model.Ks\n",
    "        A = optorch.models.keypoint.get_adjacency_matrix(\n",
    "            layout=\"MSCOCO\", hop_size=Ks - 1)\n",
    "        model = optorch.models.keypoint.STGCN4Seg(\n",
    "            in_ch,\n",
    "            cfg.dataset.num_classes,\n",
    "            Ks=cfg.model.Ks,\n",
    "            Kt=cfg.model.Kt,\n",
    "            A=A,\n",
    "        )\n",
    "        return model\n",
    "\n",
    "    def training_step(self, batch: Dict, batch_idx: int) -> Dict:\n",
    "        x = batch[\"x\"].to(device=self.device, dtype=torch.float)\n",
    "        t = batch[\"t\"].to(device=self.device, dtype=torch.long)\n",
    "        y_hat = self(x).squeeze(3)\n",
    "\n",
    "        loss = self.criterion(y_hat, t)\n",
    "        acc = self.calc_accuracy(y_hat, t)\n",
    "        return {\"loss\": loss, \"acc\": acc}\n",
    "\n",
    "    def test_step(self, batch: Dict, batch_idx: int) -> Dict:\n",
    "        x = batch[\"x\"].to(device=self.device, dtype=torch.float)\n",
    "        t = batch[\"t\"].to(device=self.device, dtype=torch.long)\n",
    "        ts_unix = batch[\"ts\"]\n",
    "\n",
    "        y_hat = self(x).squeeze(3)\n",
    "\n",
    "        outputs = dict(t=t, y=y_hat, unixtime=ts_unix)\n",
    "        return outputs"
   ]
  },
  {
   "cell_type": "code",
   "execution_count": null,
   "id": "656308fb-20aa-4254-91b2-bf91aebc1d4d",
   "metadata": {},
   "outputs": [],
   "source": []
  },
  {
   "cell_type": "markdown",
   "id": "3901ae78-aed8-46a6-95d1-48f84f31823d",
   "metadata": {},
   "source": [
    "## [3] Train U-Net"
   ]
  },
  {
   "cell_type": "markdown",
   "id": "46bcf301-24e3-4c11-883d-c3354114bf69",
   "metadata": {},
   "source": [
    "### 3-1: Initialize U-Net Model and DataLoader."
   ]
  },
  {
   "cell_type": "code",
   "execution_count": 9,
   "id": "f8d63c1a-20ce-4581-8e79-7826e2afd083",
   "metadata": {},
   "outputs": [
    {
     "name": "stderr",
     "output_type": "stream",
     "text": [
      "2022-05-28 00:02:17 | INFO | torch.distributed.nn.jit.instantiator | Created a temporary directory at /tmp/tmp6wpr41k6\n",
      "2022-05-28 00:02:17 | INFO | torch.distributed.nn.jit.instantiator | Writing /tmp/tmp6wpr41k6/_remote_module_non_sriptable.py\n"
     ]
    }
   ],
   "source": [
    "device = torch.device(\"cuda\")\n",
    "logdir = Path.cwd()\n",
    "logger.debug(f\"logdir = {logdir}\")\n",
    "\n",
    "datamodule = OpenPackKeypointDataModule(cfg)\n",
    "plmodel = STGCN4SegLM(cfg).to(dtype=torch.float, device=device)"
   ]
  },
  {
   "cell_type": "code",
   "execution_count": 10,
   "id": "c44f0a87-ca40-40d8-a6ee-16d9c38e0c1c",
   "metadata": {},
   "outputs": [
    {
     "data": {
      "text/plain": [
       "STGCN4SegLM(\n",
       "  (net): STGCN4Seg(\n",
       "    (bn): BatchNorm1d(34, eps=1e-05, momentum=0.1, affine=True, track_running_stats=True)\n",
       "    (stgc1): STConvBlock(\n",
       "      (sgc): SpatialGraphConvLayer(\n",
       "        (conv): Conv2d(2, 96, kernel_size=(1, 1), stride=(1, 1))\n",
       "      )\n",
       "      (tgc): TemporalConvLayer(\n",
       "        (block): Sequential(\n",
       "          (0): BatchNorm2d(32, eps=1e-05, momentum=0.1, affine=True, track_running_stats=True)\n",
       "          (1): ReLU()\n",
       "          (2): Dropout(p=0.5, inplace=False)\n",
       "          (3): Conv2d(32, 32, kernel_size=(9, 1), stride=(1, 1), padding=(4, 0))\n",
       "          (4): BatchNorm2d(32, eps=1e-05, momentum=0.1, affine=True, track_running_stats=True)\n",
       "          (5): ReLU()\n",
       "        )\n",
       "      )\n",
       "    )\n",
       "    (stgc2): STConvBlock(\n",
       "      (sgc): SpatialGraphConvLayer(\n",
       "        (conv): Conv2d(32, 96, kernel_size=(1, 1), stride=(1, 1))\n",
       "      )\n",
       "      (tgc): TemporalConvLayer(\n",
       "        (block): Sequential(\n",
       "          (0): BatchNorm2d(32, eps=1e-05, momentum=0.1, affine=True, track_running_stats=True)\n",
       "          (1): ReLU()\n",
       "          (2): Dropout(p=0.5, inplace=False)\n",
       "          (3): Conv2d(32, 32, kernel_size=(9, 1), stride=(1, 1), padding=(4, 0))\n",
       "          (4): BatchNorm2d(32, eps=1e-05, momentum=0.1, affine=True, track_running_stats=True)\n",
       "          (5): ReLU()\n",
       "        )\n",
       "      )\n",
       "    )\n",
       "    (stgc3): STConvBlock(\n",
       "      (sgc): SpatialGraphConvLayer(\n",
       "        (conv): Conv2d(32, 96, kernel_size=(1, 1), stride=(1, 1))\n",
       "      )\n",
       "      (tgc): TemporalConvLayer(\n",
       "        (block): Sequential(\n",
       "          (0): BatchNorm2d(32, eps=1e-05, momentum=0.1, affine=True, track_running_stats=True)\n",
       "          (1): ReLU()\n",
       "          (2): Dropout(p=0.5, inplace=False)\n",
       "          (3): Conv2d(32, 32, kernel_size=(9, 1), stride=(1, 1), padding=(4, 0))\n",
       "          (4): BatchNorm2d(32, eps=1e-05, momentum=0.1, affine=True, track_running_stats=True)\n",
       "          (5): ReLU()\n",
       "        )\n",
       "      )\n",
       "    )\n",
       "    (stgc4): STConvBlock(\n",
       "      (sgc): SpatialGraphConvLayer(\n",
       "        (conv): Conv2d(32, 192, kernel_size=(1, 1), stride=(1, 1))\n",
       "      )\n",
       "      (tgc): TemporalConvLayer(\n",
       "        (block): Sequential(\n",
       "          (0): BatchNorm2d(64, eps=1e-05, momentum=0.1, affine=True, track_running_stats=True)\n",
       "          (1): ReLU()\n",
       "          (2): Dropout(p=0.5, inplace=False)\n",
       "          (3): Conv2d(64, 64, kernel_size=(9, 1), stride=(1, 1), padding=(4, 0))\n",
       "          (4): BatchNorm2d(64, eps=1e-05, momentum=0.1, affine=True, track_running_stats=True)\n",
       "          (5): ReLU()\n",
       "        )\n",
       "      )\n",
       "    )\n",
       "    (stgc5): STConvBlock(\n",
       "      (sgc): SpatialGraphConvLayer(\n",
       "        (conv): Conv2d(64, 192, kernel_size=(1, 1), stride=(1, 1))\n",
       "      )\n",
       "      (tgc): TemporalConvLayer(\n",
       "        (block): Sequential(\n",
       "          (0): BatchNorm2d(64, eps=1e-05, momentum=0.1, affine=True, track_running_stats=True)\n",
       "          (1): ReLU()\n",
       "          (2): Dropout(p=0.5, inplace=False)\n",
       "          (3): Conv2d(64, 64, kernel_size=(9, 1), stride=(1, 1), padding=(4, 0))\n",
       "          (4): BatchNorm2d(64, eps=1e-05, momentum=0.1, affine=True, track_running_stats=True)\n",
       "          (5): ReLU()\n",
       "        )\n",
       "      )\n",
       "    )\n",
       "    (stgc6): STConvBlock(\n",
       "      (sgc): SpatialGraphConvLayer(\n",
       "        (conv): Conv2d(64, 192, kernel_size=(1, 1), stride=(1, 1))\n",
       "      )\n",
       "      (tgc): TemporalConvLayer(\n",
       "        (block): Sequential(\n",
       "          (0): BatchNorm2d(64, eps=1e-05, momentum=0.1, affine=True, track_running_stats=True)\n",
       "          (1): ReLU()\n",
       "          (2): Dropout(p=0.5, inplace=False)\n",
       "          (3): Conv2d(64, 64, kernel_size=(9, 1), stride=(1, 1), padding=(4, 0))\n",
       "          (4): BatchNorm2d(64, eps=1e-05, momentum=0.1, affine=True, track_running_stats=True)\n",
       "          (5): ReLU()\n",
       "        )\n",
       "      )\n",
       "    )\n",
       "    (stgc7): STConvBlock(\n",
       "      (sgc): SpatialGraphConvLayer(\n",
       "        (conv): Conv2d(64, 192, kernel_size=(1, 1), stride=(1, 1))\n",
       "      )\n",
       "      (tgc): TemporalConvLayer(\n",
       "        (block): Sequential(\n",
       "          (0): BatchNorm2d(64, eps=1e-05, momentum=0.1, affine=True, track_running_stats=True)\n",
       "          (1): ReLU()\n",
       "          (2): Dropout(p=0.5, inplace=False)\n",
       "          (3): Conv2d(64, 64, kernel_size=(9, 1), stride=(1, 1), padding=(4, 0))\n",
       "          (4): BatchNorm2d(64, eps=1e-05, momentum=0.1, affine=True, track_running_stats=True)\n",
       "          (5): ReLU()\n",
       "        )\n",
       "      )\n",
       "    )\n",
       "    (stgc8): STConvBlock(\n",
       "      (sgc): SpatialGraphConvLayer(\n",
       "        (conv): Conv2d(64, 192, kernel_size=(1, 1), stride=(1, 1))\n",
       "      )\n",
       "      (tgc): TemporalConvLayer(\n",
       "        (block): Sequential(\n",
       "          (0): BatchNorm2d(64, eps=1e-05, momentum=0.1, affine=True, track_running_stats=True)\n",
       "          (1): ReLU()\n",
       "          (2): Dropout(p=0.5, inplace=False)\n",
       "          (3): Conv2d(64, 64, kernel_size=(9, 1), stride=(1, 1), padding=(4, 0))\n",
       "          (4): BatchNorm2d(64, eps=1e-05, momentum=0.1, affine=True, track_running_stats=True)\n",
       "          (5): ReLU()\n",
       "        )\n",
       "      )\n",
       "    )\n",
       "    (stgc9): STConvBlock(\n",
       "      (sgc): SpatialGraphConvLayer(\n",
       "        (conv): Conv2d(64, 192, kernel_size=(1, 1), stride=(1, 1))\n",
       "      )\n",
       "      (tgc): TemporalConvLayer(\n",
       "        (block): Sequential(\n",
       "          (0): BatchNorm2d(64, eps=1e-05, momentum=0.1, affine=True, track_running_stats=True)\n",
       "          (1): ReLU()\n",
       "          (2): Dropout(p=0.5, inplace=False)\n",
       "          (3): Conv2d(64, 64, kernel_size=(9, 1), stride=(1, 1), padding=(4, 0))\n",
       "          (4): BatchNorm2d(64, eps=1e-05, momentum=0.1, affine=True, track_running_stats=True)\n",
       "          (5): ReLU()\n",
       "        )\n",
       "      )\n",
       "    )\n",
       "    (stgc10): STConvBlock(\n",
       "      (sgc): SpatialGraphConvLayer(\n",
       "        (conv): Conv2d(64, 192, kernel_size=(1, 1), stride=(1, 1))\n",
       "      )\n",
       "      (tgc): TemporalConvLayer(\n",
       "        (block): Sequential(\n",
       "          (0): BatchNorm2d(64, eps=1e-05, momentum=0.1, affine=True, track_running_stats=True)\n",
       "          (1): ReLU()\n",
       "          (2): Dropout(p=0.5, inplace=False)\n",
       "          (3): Conv2d(64, 64, kernel_size=(9, 1), stride=(1, 1), padding=(4, 0))\n",
       "          (4): BatchNorm2d(64, eps=1e-05, momentum=0.1, affine=True, track_running_stats=True)\n",
       "          (5): ReLU()\n",
       "        )\n",
       "      )\n",
       "    )\n",
       "    (stgc11): STConvBlock(\n",
       "      (sgc): SpatialGraphConvLayer(\n",
       "        (conv): Conv2d(64, 192, kernel_size=(1, 1), stride=(1, 1))\n",
       "      )\n",
       "      (tgc): TemporalConvLayer(\n",
       "        (block): Sequential(\n",
       "          (0): BatchNorm2d(64, eps=1e-05, momentum=0.1, affine=True, track_running_stats=True)\n",
       "          (1): ReLU()\n",
       "          (2): Dropout(p=0.5, inplace=False)\n",
       "          (3): Conv2d(64, 64, kernel_size=(9, 1), stride=(1, 1), padding=(4, 0))\n",
       "          (4): BatchNorm2d(64, eps=1e-05, momentum=0.1, affine=True, track_running_stats=True)\n",
       "          (5): ReLU()\n",
       "        )\n",
       "      )\n",
       "    )\n",
       "    (stgc12): STConvBlock(\n",
       "      (sgc): SpatialGraphConvLayer(\n",
       "        (conv): Conv2d(64, 192, kernel_size=(1, 1), stride=(1, 1))\n",
       "      )\n",
       "      (tgc): TemporalConvLayer(\n",
       "        (block): Sequential(\n",
       "          (0): BatchNorm2d(64, eps=1e-05, momentum=0.1, affine=True, track_running_stats=True)\n",
       "          (1): ReLU()\n",
       "          (2): Dropout(p=0.5, inplace=False)\n",
       "          (3): Conv2d(64, 64, kernel_size=(9, 1), stride=(1, 1), padding=(4, 0))\n",
       "          (4): BatchNorm2d(64, eps=1e-05, momentum=0.1, affine=True, track_running_stats=True)\n",
       "          (5): ReLU()\n",
       "        )\n",
       "      )\n",
       "    )\n",
       "    (fc): Conv2d(64, 10, kernel_size=(1, 17), stride=(1, 1))\n",
       "  )\n",
       "  (criterion): CrossEntropyLoss()\n",
       ")"
      ]
     },
     "execution_count": 10,
     "metadata": {},
     "output_type": "execute_result"
    }
   ],
   "source": [
    "plmodel"
   ]
  },
  {
   "cell_type": "markdown",
   "id": "cdac454d-d972-446e-9e3b-24da61ffac60",
   "metadata": {},
   "source": [
    "### 3-2: Initialize Trainer"
   ]
  },
  {
   "cell_type": "code",
   "execution_count": 11,
   "id": "04df6672-0398-4daa-b38e-5b04e428db63",
   "metadata": {},
   "outputs": [
    {
     "name": "stderr",
     "output_type": "stream",
     "text": [
      "GPU available: True, used: True\n",
      "TPU available: False, using: 0 TPU cores\n",
      "IPU available: False, using: 0 IPUs\n",
      "HPU available: False, using: 0 HPUs\n"
     ]
    }
   ],
   "source": [
    "num_epoch = cfg.train.debug.epochs if cfg.debug else cfg.train.epochs\n",
    "\n",
    "checkpoint_callback = pl.callbacks.ModelCheckpoint(\n",
    "    save_top_k=0,\n",
    "    save_last=True,\n",
    "    monitor=None,\n",
    ")\n",
    "\n",
    "trainer = pl.Trainer(\n",
    "    gpus=[0],\n",
    "    max_epochs=num_epoch,\n",
    "    logger=False,  # disable logging module\n",
    "    default_root_dir=logdir,\n",
    "    enable_progress_bar=False,  # disable progress bar\n",
    "    enable_checkpointing=True,\n",
    "    callbacks=[checkpoint_callback],\n",
    ")\n",
    "logger.debug(f\"logdir = {logdir}\")"
   ]
  },
  {
   "cell_type": "markdown",
   "id": "75623893-5561-442c-b7b9-6612e4781651",
   "metadata": {},
   "source": [
    "### 3-3: Start training!"
   ]
  },
  {
   "cell_type": "code",
   "execution_count": 12,
   "id": "ccc3b111-16b1-41a1-b8a0-60112611968a",
   "metadata": {},
   "outputs": [
    {
     "name": "stderr",
     "output_type": "stream",
     "text": [
      "2022-05-28 00:02:19 | INFO | __main__ | Start training for 100 epochs.\n",
      "2022-05-28 00:02:25 | WARNING | openpack_torch.data.datasets | No preprocessing is applied.\n",
      "2022-05-28 00:02:26 | WARNING | openpack_torch.data.datasets | No preprocessing is applied.\n",
      "2022-05-28 00:02:26 | INFO | openpack_torch.data.datamodule | dataset[train]: OpenPackKeypoint(index=128, num_sequence=3)\n",
      "2022-05-28 00:02:26 | INFO | openpack_torch.data.datamodule | dataset[val]: {'U0102-S0400': <openpack_torch.data.datasets.OpenPackKeypoint object at 0x7fea1097d7c0>}\n",
      "2022-05-28 00:02:26 | INFO | openpack_torch.data.datamodule | dataset[test]: None\n",
      "2022-05-28 00:02:26 | INFO | openpack_torch.data.datamodule | dataset[submission]: None\n",
      "LOCAL_RANK: 0 - CUDA_VISIBLE_DEVICES: [0]\n",
      "\n",
      "  | Name      | Type             | Params\n",
      "-----------------------------------------------\n",
      "0 | net       | STGCN4Seg        | 496 K \n",
      "1 | criterion | CrossEntropyLoss | 0     \n",
      "-----------------------------------------------\n",
      "496 K     Trainable params\n",
      "0         Non-trainable params\n",
      "496 K     Total params\n",
      "1.988     Total estimated model params size (MB)\n",
      "2022-05-28 00:02:27 | INFO | openpack_torch.lightning | Epoch[000] TRAIN: loss=-1.0000, acc=-1.0000 | VAL: loss= 2.3017, acc= 0.0731\n",
      "2022-05-28 00:02:32 | INFO | openpack_torch.lightning | Epoch[000] TRAIN: loss=-1.0000, acc=-1.0000 | VAL: loss= 2.2534, acc= 0.1827\n",
      "2022-05-28 00:02:36 | INFO | openpack_torch.lightning | Epoch[001] TRAIN: loss= 2.2801, acc= 0.1424 | VAL: loss= 2.7472, acc= 0.1478\n",
      "2022-05-28 00:02:40 | INFO | openpack_torch.lightning | Epoch[002] TRAIN: loss= 2.0684, acc= 0.2425 | VAL: loss= 5.0166, acc= 0.3614\n",
      "2022-05-28 00:02:44 | INFO | openpack_torch.lightning | Epoch[003] TRAIN: loss= 1.8331, acc= 0.2851 | VAL: loss= 2.8398, acc= 0.2928\n",
      "2022-05-28 00:02:49 | INFO | openpack_torch.lightning | Epoch[004] TRAIN: loss= 1.6910, acc= 0.3380 | VAL: loss= 1.7171, acc= 0.4030\n",
      "2022-05-28 00:02:53 | INFO | openpack_torch.lightning | Epoch[005] TRAIN: loss= 1.6547, acc= 0.3368 | VAL: loss= 1.6460, acc= 0.4225\n",
      "2022-05-28 00:02:57 | INFO | openpack_torch.lightning | Epoch[006] TRAIN: loss= 1.6461, acc= 0.3466 | VAL: loss= 1.9446, acc= 0.4229\n",
      "2022-05-28 00:03:01 | INFO | openpack_torch.lightning | Epoch[007] TRAIN: loss= 1.5813, acc= 0.3952 | VAL: loss= 2.0617, acc= 0.2153\n",
      "2022-05-28 00:03:06 | INFO | openpack_torch.lightning | Epoch[008] TRAIN: loss= 1.6055, acc= 0.4144 | VAL: loss= 2.7658, acc= 0.3156\n",
      "2022-05-28 00:03:10 | INFO | openpack_torch.lightning | Epoch[009] TRAIN: loss= 1.5320, acc= 0.4158 | VAL: loss= 2.0626, acc= 0.4686\n",
      "2022-05-28 00:03:14 | INFO | openpack_torch.lightning | Epoch[010] TRAIN: loss= 1.5017, acc= 0.4280 | VAL: loss= 1.9483, acc= 0.3243\n",
      "2022-05-28 00:03:18 | INFO | openpack_torch.lightning | Epoch[011] TRAIN: loss= 1.5129, acc= 0.4452 | VAL: loss= 1.7519, acc= 0.3790\n",
      "2022-05-28 00:03:22 | INFO | openpack_torch.lightning | Epoch[012] TRAIN: loss= 1.4193, acc= 0.4823 | VAL: loss= 1.7137, acc= 0.3842\n",
      "2022-05-28 00:03:27 | INFO | openpack_torch.lightning | Epoch[013] TRAIN: loss= 1.3668, acc= 0.4888 | VAL: loss= 1.9796, acc= 0.3498\n",
      "2022-05-28 00:03:31 | INFO | openpack_torch.lightning | Epoch[014] TRAIN: loss= 1.3854, acc= 0.4944 | VAL: loss= 1.2259, acc= 0.4977\n",
      "2022-05-28 00:03:35 | INFO | openpack_torch.lightning | Epoch[015] TRAIN: loss= 1.3859, acc= 0.4892 | VAL: loss= 1.7568, acc= 0.4973\n",
      "2022-05-28 00:03:39 | INFO | openpack_torch.lightning | Epoch[016] TRAIN: loss= 1.3792, acc= 0.4890 | VAL: loss= 1.5728, acc= 0.3409\n",
      "2022-05-28 00:03:44 | INFO | openpack_torch.lightning | Epoch[017] TRAIN: loss= 1.2670, acc= 0.5347 | VAL: loss= 1.3397, acc= 0.4489\n",
      "2022-05-28 00:03:48 | INFO | openpack_torch.lightning | Epoch[018] TRAIN: loss= 1.2979, acc= 0.5144 | VAL: loss= 1.2673, acc= 0.4733\n",
      "2022-05-28 00:03:52 | INFO | openpack_torch.lightning | Epoch[019] TRAIN: loss= 1.3462, acc= 0.4916 | VAL: loss= 1.4862, acc= 0.4595\n",
      "2022-05-28 00:03:56 | INFO | openpack_torch.lightning | Epoch[020] TRAIN: loss= 1.2645, acc= 0.5233 | VAL: loss= 1.3024, acc= 0.5043\n",
      "2022-05-28 00:04:01 | INFO | openpack_torch.lightning | Epoch[021] TRAIN: loss= 1.2517, acc= 0.5269 | VAL: loss= 1.5773, acc= 0.4535\n",
      "2022-05-28 00:04:05 | INFO | openpack_torch.lightning | Epoch[022] TRAIN: loss= 1.2401, acc= 0.5400 | VAL: loss= 1.4280, acc= 0.5091\n",
      "2022-05-28 00:04:09 | INFO | openpack_torch.lightning | Epoch[023] TRAIN: loss= 1.2625, acc= 0.5319 | VAL: loss= 2.1015, acc= 0.3502\n",
      "2022-05-28 00:04:13 | INFO | openpack_torch.lightning | Epoch[024] TRAIN: loss= 1.2784, acc= 0.5337 | VAL: loss= 2.2388, acc= 0.5053\n",
      "2022-05-28 00:04:17 | INFO | openpack_torch.lightning | Epoch[025] TRAIN: loss= 1.2496, acc= 0.5400 | VAL: loss= 1.7391, acc= 0.4321\n",
      "2022-05-28 00:04:22 | INFO | openpack_torch.lightning | Epoch[026] TRAIN: loss= 1.1754, acc= 0.5467 | VAL: loss= 1.0672, acc= 0.5554\n",
      "2022-05-28 00:04:26 | INFO | openpack_torch.lightning | Epoch[027] TRAIN: loss= 1.1673, acc= 0.5778 | VAL: loss= 1.0674, acc= 0.5833\n",
      "2022-05-28 00:04:30 | INFO | openpack_torch.lightning | Epoch[028] TRAIN: loss= 1.1060, acc= 0.5906 | VAL: loss= 1.9565, acc= 0.5243\n",
      "2022-05-28 00:04:34 | INFO | openpack_torch.lightning | Epoch[029] TRAIN: loss= 1.0796, acc= 0.5947 | VAL: loss= 1.1323, acc= 0.5616\n",
      "2022-05-28 00:04:39 | INFO | openpack_torch.lightning | Epoch[030] TRAIN: loss= 1.0378, acc= 0.6178 | VAL: loss= 1.2851, acc= 0.5237\n",
      "2022-05-28 00:04:43 | INFO | openpack_torch.lightning | Epoch[031] TRAIN: loss= 1.0982, acc= 0.6100 | VAL: loss= 0.9906, acc= 0.6020\n",
      "2022-05-28 00:04:47 | INFO | openpack_torch.lightning | Epoch[032] TRAIN: loss= 1.0565, acc= 0.6020 | VAL: loss= 1.1577, acc= 0.5629\n",
      "2022-05-28 00:04:51 | INFO | openpack_torch.lightning | Epoch[033] TRAIN: loss= 1.0812, acc= 0.6171 | VAL: loss= 2.4354, acc= 0.5660\n",
      "2022-05-28 00:04:56 | INFO | openpack_torch.lightning | Epoch[034] TRAIN: loss= 0.9898, acc= 0.6353 | VAL: loss= 1.3455, acc= 0.6369\n",
      "2022-05-28 00:05:00 | INFO | openpack_torch.lightning | Epoch[035] TRAIN: loss= 1.0797, acc= 0.6341 | VAL: loss= 0.9570, acc= 0.6022\n",
      "2022-05-28 00:05:04 | INFO | openpack_torch.lightning | Epoch[036] TRAIN: loss= 0.9744, acc= 0.6584 | VAL: loss= 0.9297, acc= 0.6118\n",
      "2022-05-28 00:05:08 | INFO | openpack_torch.lightning | Epoch[037] TRAIN: loss= 0.9032, acc= 0.6652 | VAL: loss= 0.9082, acc= 0.6239\n",
      "2022-05-28 00:05:13 | INFO | openpack_torch.lightning | Epoch[038] TRAIN: loss= 0.9959, acc= 0.6489 | VAL: loss= 1.2707, acc= 0.5957\n",
      "2022-05-28 00:05:17 | INFO | openpack_torch.lightning | Epoch[039] TRAIN: loss= 0.9890, acc= 0.6537 | VAL: loss= 1.6405, acc= 0.5582\n",
      "2022-05-28 00:05:21 | INFO | openpack_torch.lightning | Epoch[040] TRAIN: loss= 1.0251, acc= 0.6461 | VAL: loss= 0.8179, acc= 0.7078\n",
      "2022-05-28 00:05:25 | INFO | openpack_torch.lightning | Epoch[041] TRAIN: loss= 0.9754, acc= 0.6529 | VAL: loss= 0.7949, acc= 0.6852\n",
      "2022-05-28 00:05:30 | INFO | openpack_torch.lightning | Epoch[042] TRAIN: loss= 0.8982, acc= 0.6862 | VAL: loss= 1.1218, acc= 0.5834\n",
      "2022-05-28 00:05:34 | INFO | openpack_torch.lightning | Epoch[043] TRAIN: loss= 0.8043, acc= 0.7163 | VAL: loss= 0.8283, acc= 0.6907\n",
      "2022-05-28 00:05:38 | INFO | openpack_torch.lightning | Epoch[044] TRAIN: loss= 0.8252, acc= 0.7048 | VAL: loss= 0.9635, acc= 0.6492\n",
      "2022-05-28 00:05:43 | INFO | openpack_torch.lightning | Epoch[045] TRAIN: loss= 0.8703, acc= 0.7051 | VAL: loss= 0.8977, acc= 0.6546\n",
      "2022-05-28 00:05:47 | INFO | openpack_torch.lightning | Epoch[046] TRAIN: loss= 0.7751, acc= 0.7267 | VAL: loss= 1.0926, acc= 0.6532\n",
      "2022-05-28 00:05:51 | INFO | openpack_torch.lightning | Epoch[047] TRAIN: loss= 0.8453, acc= 0.7079 | VAL: loss= 1.1680, acc= 0.6461\n",
      "2022-05-28 00:05:56 | INFO | openpack_torch.lightning | Epoch[048] TRAIN: loss= 0.8098, acc= 0.7145 | VAL: loss= 1.1848, acc= 0.6315\n",
      "2022-05-28 00:06:00 | INFO | openpack_torch.lightning | Epoch[049] TRAIN: loss= 0.8257, acc= 0.7223 | VAL: loss= 0.7694, acc= 0.6962\n",
      "2022-05-28 00:06:04 | INFO | openpack_torch.lightning | Epoch[050] TRAIN: loss= 0.7977, acc= 0.7218 | VAL: loss= 0.6467, acc= 0.7449\n",
      "2022-05-28 00:06:08 | INFO | openpack_torch.lightning | Epoch[051] TRAIN: loss= 0.7329, acc= 0.7449 | VAL: loss= 0.5309, acc= 0.8085\n",
      "2022-05-28 00:06:13 | INFO | openpack_torch.lightning | Epoch[052] TRAIN: loss= 0.7424, acc= 0.7374 | VAL: loss= 0.6708, acc= 0.7177\n",
      "2022-05-28 00:06:17 | INFO | openpack_torch.lightning | Epoch[053] TRAIN: loss= 0.7249, acc= 0.7476 | VAL: loss= 0.6367, acc= 0.7410\n",
      "2022-05-28 00:06:21 | INFO | openpack_torch.lightning | Epoch[054] TRAIN: loss= 0.7083, acc= 0.7546 | VAL: loss= 0.8588, acc= 0.6632\n",
      "2022-05-28 00:06:26 | INFO | openpack_torch.lightning | Epoch[055] TRAIN: loss= 0.7116, acc= 0.7565 | VAL: loss= 0.7046, acc= 0.7060\n",
      "2022-05-28 00:06:30 | INFO | openpack_torch.lightning | Epoch[056] TRAIN: loss= 0.6957, acc= 0.7535 | VAL: loss= 0.6799, acc= 0.7263\n",
      "2022-05-28 00:06:34 | INFO | openpack_torch.lightning | Epoch[057] TRAIN: loss= 0.6789, acc= 0.7654 | VAL: loss= 0.5546, acc= 0.7843\n",
      "2022-05-28 00:06:39 | INFO | openpack_torch.lightning | Epoch[058] TRAIN: loss= 0.6817, acc= 0.7558 | VAL: loss= 0.6439, acc= 0.7623\n",
      "2022-05-28 00:06:43 | INFO | openpack_torch.lightning | Epoch[059] TRAIN: loss= 0.6857, acc= 0.7691 | VAL: loss= 0.6773, acc= 0.7333\n",
      "2022-05-28 00:06:47 | INFO | openpack_torch.lightning | Epoch[060] TRAIN: loss= 0.6742, acc= 0.7667 | VAL: loss= 0.9114, acc= 0.6835\n",
      "2022-05-28 00:06:52 | INFO | openpack_torch.lightning | Epoch[061] TRAIN: loss= 0.6566, acc= 0.7737 | VAL: loss= 0.8498, acc= 0.6003\n",
      "2022-05-28 00:06:56 | INFO | openpack_torch.lightning | Epoch[062] TRAIN: loss= 0.7408, acc= 0.7416 | VAL: loss= 0.5737, acc= 0.7901\n",
      "2022-05-28 00:07:00 | INFO | openpack_torch.lightning | Epoch[063] TRAIN: loss= 0.6672, acc= 0.7652 | VAL: loss= 0.7570, acc= 0.6762\n",
      "2022-05-28 00:07:05 | INFO | openpack_torch.lightning | Epoch[064] TRAIN: loss= 0.6274, acc= 0.7756 | VAL: loss= 0.8220, acc= 0.7078\n",
      "2022-05-28 00:07:09 | INFO | openpack_torch.lightning | Epoch[065] TRAIN: loss= 0.5889, acc= 0.7914 | VAL: loss= 0.7026, acc= 0.7487\n",
      "2022-05-28 00:07:13 | INFO | openpack_torch.lightning | Epoch[066] TRAIN: loss= 0.6548, acc= 0.7654 | VAL: loss= 0.5061, acc= 0.8124\n",
      "2022-05-28 00:07:18 | INFO | openpack_torch.lightning | Epoch[067] TRAIN: loss= 0.6101, acc= 0.7799 | VAL: loss= 0.6638, acc= 0.7439\n",
      "2022-05-28 00:07:22 | INFO | openpack_torch.lightning | Epoch[068] TRAIN: loss= 0.5494, acc= 0.8010 | VAL: loss= 0.7247, acc= 0.7318\n",
      "2022-05-28 00:07:26 | INFO | openpack_torch.lightning | Epoch[069] TRAIN: loss= 0.5470, acc= 0.8010 | VAL: loss= 0.6312, acc= 0.7518\n",
      "2022-05-28 00:07:31 | INFO | openpack_torch.lightning | Epoch[070] TRAIN: loss= 0.5601, acc= 0.8112 | VAL: loss= 0.6463, acc= 0.7506\n",
      "2022-05-28 00:07:35 | INFO | openpack_torch.lightning | Epoch[071] TRAIN: loss= 0.5458, acc= 0.8093 | VAL: loss= 0.9854, acc= 0.7693\n",
      "2022-05-28 00:07:39 | INFO | openpack_torch.lightning | Epoch[072] TRAIN: loss= 0.5250, acc= 0.8164 | VAL: loss= 1.1190, acc= 0.7457\n",
      "2022-05-28 00:07:44 | INFO | openpack_torch.lightning | Epoch[073] TRAIN: loss= 0.6211, acc= 0.7870 | VAL: loss= 0.7515, acc= 0.7449\n",
      "2022-05-28 00:07:48 | INFO | openpack_torch.lightning | Epoch[074] TRAIN: loss= 0.5539, acc= 0.8081 | VAL: loss= 0.7978, acc= 0.7156\n",
      "2022-05-28 00:07:53 | INFO | openpack_torch.lightning | Epoch[075] TRAIN: loss= 0.5405, acc= 0.8055 | VAL: loss= 0.5309, acc= 0.8128\n",
      "2022-05-28 00:07:57 | INFO | openpack_torch.lightning | Epoch[076] TRAIN: loss= 0.5270, acc= 0.8152 | VAL: loss= 0.6337, acc= 0.7736\n",
      "2022-05-28 00:08:01 | INFO | openpack_torch.lightning | Epoch[077] TRAIN: loss= 0.5441, acc= 0.8045 | VAL: loss= 0.8295, acc= 0.7123\n",
      "2022-05-28 00:08:06 | INFO | openpack_torch.lightning | Epoch[078] TRAIN: loss= 0.5491, acc= 0.8041 | VAL: loss= 1.1557, acc= 0.7385\n",
      "2022-05-28 00:08:10 | INFO | openpack_torch.lightning | Epoch[079] TRAIN: loss= 0.5181, acc= 0.8151 | VAL: loss= 1.1673, acc= 0.7620\n",
      "2022-05-28 00:08:14 | INFO | openpack_torch.lightning | Epoch[080] TRAIN: loss= 0.6023, acc= 0.7909 | VAL: loss= 0.5401, acc= 0.8043\n",
      "2022-05-28 00:08:19 | INFO | openpack_torch.lightning | Epoch[081] TRAIN: loss= 0.5410, acc= 0.8114 | VAL: loss= 1.1736, acc= 0.8011\n",
      "2022-05-28 00:08:23 | INFO | openpack_torch.lightning | Epoch[082] TRAIN: loss= 0.4897, acc= 0.8275 | VAL: loss= 0.7751, acc= 0.7506\n",
      "2022-05-28 00:08:27 | INFO | openpack_torch.lightning | Epoch[083] TRAIN: loss= 0.4530, acc= 0.8343 | VAL: loss= 0.7426, acc= 0.7368\n",
      "2022-05-28 00:08:32 | INFO | openpack_torch.lightning | Epoch[084] TRAIN: loss= 0.5050, acc= 0.8239 | VAL: loss= 0.5124, acc= 0.8204\n",
      "2022-05-28 00:08:36 | INFO | openpack_torch.lightning | Epoch[085] TRAIN: loss= 0.4943, acc= 0.8182 | VAL: loss= 0.8769, acc= 0.7081\n",
      "2022-05-28 00:08:41 | INFO | openpack_torch.lightning | Epoch[086] TRAIN: loss= 0.5331, acc= 0.8153 | VAL: loss= 0.5890, acc= 0.7783\n",
      "2022-05-28 00:08:45 | INFO | openpack_torch.lightning | Epoch[087] TRAIN: loss= 0.6062, acc= 0.7891 | VAL: loss= 0.5823, acc= 0.7943\n",
      "2022-05-28 00:08:49 | INFO | openpack_torch.lightning | Epoch[088] TRAIN: loss= 0.4871, acc= 0.8362 | VAL: loss= 0.6099, acc= 0.7657\n",
      "2022-05-28 00:08:54 | INFO | openpack_torch.lightning | Epoch[089] TRAIN: loss= 0.4519, acc= 0.8435 | VAL: loss= 0.7861, acc= 0.7375\n",
      "2022-05-28 00:08:58 | INFO | openpack_torch.lightning | Epoch[090] TRAIN: loss= 0.4768, acc= 0.8282 | VAL: loss= 0.4719, acc= 0.8174\n",
      "2022-05-28 00:09:03 | INFO | openpack_torch.lightning | Epoch[091] TRAIN: loss= 0.4850, acc= 0.8208 | VAL: loss= 0.6029, acc= 0.7802\n",
      "2022-05-28 00:09:07 | INFO | openpack_torch.lightning | Epoch[092] TRAIN: loss= 0.4329, acc= 0.8448 | VAL: loss= 0.9995, acc= 0.7842\n",
      "2022-05-28 00:09:11 | INFO | openpack_torch.lightning | Epoch[093] TRAIN: loss= 0.4700, acc= 0.8312 | VAL: loss= 0.5022, acc= 0.8130\n",
      "2022-05-28 00:09:16 | INFO | openpack_torch.lightning | Epoch[094] TRAIN: loss= 0.4394, acc= 0.8441 | VAL: loss= 0.4423, acc= 0.8364\n",
      "2022-05-28 00:09:20 | INFO | openpack_torch.lightning | Epoch[095] TRAIN: loss= 0.4176, acc= 0.8494 | VAL: loss= 0.6314, acc= 0.7915\n",
      "2022-05-28 00:09:24 | INFO | openpack_torch.lightning | Epoch[096] TRAIN: loss= 0.4092, acc= 0.8516 | VAL: loss= 0.5144, acc= 0.7946\n",
      "2022-05-28 00:09:29 | INFO | openpack_torch.lightning | Epoch[097] TRAIN: loss= 0.4364, acc= 0.8426 | VAL: loss= 0.7440, acc= 0.7245\n",
      "2022-05-28 00:09:33 | INFO | openpack_torch.lightning | Epoch[098] TRAIN: loss= 0.4510, acc= 0.8395 | VAL: loss= 0.7520, acc= 0.7241\n",
      "2022-05-28 00:09:38 | INFO | openpack_torch.lightning | Epoch[099] TRAIN: loss= 0.3780, acc= 0.8628 | VAL: loss= 0.5641, acc= 0.7861\n",
      "2022-05-28 00:09:38 | INFO | __main__ | Finish training!\n"
     ]
    }
   ],
   "source": [
    "logger.info(f\"Start training for {num_epoch} epochs.\")\n",
    "trainer.fit(plmodel, datamodule)\n",
    "logger.info(\"Finish training!\")"
   ]
  },
  {
   "cell_type": "markdown",
   "id": "c5132389-23b1-4803-abc1-881028061e72",
   "metadata": {},
   "source": [
    "### 3-4: Plot Training Curve"
   ]
  },
  {
   "cell_type": "code",
   "execution_count": 13,
   "id": "5fe6a607-6921-4440-a03b-03f35b72ff2b",
   "metadata": {},
   "outputs": [],
   "source": [
    "df = pd.concat([\n",
    "    pd.DataFrame(plmodel.log[\"train\"]),\n",
    "    pd.DataFrame(plmodel.log[\"val\"]),\n",
    "],axis=1,)\n",
    "df.index.name = \"epoch\""
   ]
  },
  {
   "cell_type": "code",
   "execution_count": 14,
   "id": "65b6eb10-9584-483b-8a44-deb539528f90",
   "metadata": {},
   "outputs": [
    {
     "data": {
      "text/html": [
       "<div>\n",
       "<style scoped>\n",
       "    .dataframe tbody tr th:only-of-type {\n",
       "        vertical-align: middle;\n",
       "    }\n",
       "\n",
       "    .dataframe tbody tr th {\n",
       "        vertical-align: top;\n",
       "    }\n",
       "\n",
       "    .dataframe thead th {\n",
       "        text-align: right;\n",
       "    }\n",
       "</style>\n",
       "<table border=\"1\" class=\"dataframe\">\n",
       "  <thead>\n",
       "    <tr style=\"text-align: right;\">\n",
       "      <th></th>\n",
       "      <th>train/loss</th>\n",
       "      <th>train/acc</th>\n",
       "      <th>val/loss</th>\n",
       "      <th>val/acc</th>\n",
       "    </tr>\n",
       "    <tr>\n",
       "      <th>epoch</th>\n",
       "      <th></th>\n",
       "      <th></th>\n",
       "      <th></th>\n",
       "      <th></th>\n",
       "    </tr>\n",
       "  </thead>\n",
       "  <tbody>\n",
       "    <tr>\n",
       "      <th>0</th>\n",
       "      <td>2.280056</td>\n",
       "      <td>0.142354</td>\n",
       "      <td>2.301667</td>\n",
       "      <td>0.073125</td>\n",
       "    </tr>\n",
       "    <tr>\n",
       "      <th>1</th>\n",
       "      <td>2.068414</td>\n",
       "      <td>0.242481</td>\n",
       "      <td>2.253352</td>\n",
       "      <td>0.182738</td>\n",
       "    </tr>\n",
       "    <tr>\n",
       "      <th>2</th>\n",
       "      <td>1.833099</td>\n",
       "      <td>0.285051</td>\n",
       "      <td>2.747229</td>\n",
       "      <td>0.147816</td>\n",
       "    </tr>\n",
       "    <tr>\n",
       "      <th>3</th>\n",
       "      <td>1.691020</td>\n",
       "      <td>0.337980</td>\n",
       "      <td>5.016632</td>\n",
       "      <td>0.361375</td>\n",
       "    </tr>\n",
       "    <tr>\n",
       "      <th>4</th>\n",
       "      <td>1.654667</td>\n",
       "      <td>0.336780</td>\n",
       "      <td>2.839750</td>\n",
       "      <td>0.292788</td>\n",
       "    </tr>\n",
       "  </tbody>\n",
       "</table>\n",
       "</div>"
      ],
      "text/plain": [
       "       train/loss  train/acc  val/loss   val/acc\n",
       "epoch                                           \n",
       "0        2.280056   0.142354  2.301667  0.073125\n",
       "1        2.068414   0.242481  2.253352  0.182738\n",
       "2        1.833099   0.285051  2.747229  0.147816\n",
       "3        1.691020   0.337980  5.016632  0.361375\n",
       "4        1.654667   0.336780  2.839750  0.292788"
      ]
     },
     "execution_count": 14,
     "metadata": {},
     "output_type": "execute_result"
    }
   ],
   "source": [
    "df.head()"
   ]
  },
  {
   "cell_type": "markdown",
   "id": "2eab3914-ef01-4115-bd75-2d0030f0c5f8",
   "metadata": {},
   "source": [
    "Training Log"
   ]
  },
  {
   "cell_type": "code",
   "execution_count": 15,
   "id": "61b0b6ad-9a6b-4264-8abd-8db8dcf477e1",
   "metadata": {},
   "outputs": [
    {
     "data": {
      "image/png": "[encoded data removed]",
      "text/plain": [
       "<Figure size 432x288 with 1 Axes>"
      ]
     },
     "metadata": {
      "needs_background": "light"
     },
     "output_type": "display_data"
    }
   ],
   "source": [
    "df[[\"train/loss\", \"val/loss\"]].plot()\n",
    "plt.show()"
   ]
  },
  {
   "cell_type": "markdown",
   "id": "c752adb3-240d-4d2f-9b4f-fc0352f51a84",
   "metadata": {},
   "source": [
    "Test Log"
   ]
  },
  {
   "cell_type": "code",
   "execution_count": 16,
   "id": "3b1a002a-2ff5-4bf6-a1b2-763d95bbaf08",
   "metadata": {},
   "outputs": [
    {
     "data": {
      "image/png": "[encoded data removed]",
      "text/plain": [
       "<Figure size 432x288 with 1 Axes>"
      ]
     },
     "metadata": {
      "needs_background": "light"
     },
     "output_type": "display_data"
    }
   ],
   "source": [
    "df[[\"train/acc\", \"val/acc\"]].plot()\n",
    "plt.show()"
   ]
  },
  {
   "cell_type": "code",
   "execution_count": null,
   "id": "776cf034-fef1-4ede-be56-2c6d97189e15",
   "metadata": {},
   "outputs": [],
   "source": []
  },
  {
   "cell_type": "markdown",
   "id": "6c7ed83f-6e92-4740-8766-7599d65643cd",
   "metadata": {},
   "source": [
    "## [4] Test"
   ]
  },
  {
   "cell_type": "markdown",
   "id": "d7101f3f-1ff5-442c-bd4a-fd82ad5c7e13",
   "metadata": {},
   "source": [
    "### 4-1: Get prediction results for each sequences."
   ]
  },
  {
   "cell_type": "code",
   "execution_count": 17,
   "id": "6ec859ea-fc23-4f48-a611-8253523ad245",
   "metadata": {},
   "outputs": [
    {
     "name": "stderr",
     "output_type": "stream",
     "text": [
      "2022-05-28 00:09:40 | WARNING | openpack_torch.data.datasets | No preprocessing is applied.\n",
      "2022-05-28 00:09:40 | INFO | openpack_torch.data.datamodule | dataset[train]: None\n",
      "2022-05-28 00:09:40 | INFO | openpack_torch.data.datamodule | dataset[val]: None\n",
      "2022-05-28 00:09:40 | INFO | openpack_torch.data.datamodule | dataset[test]: {'U0102-S0500': <openpack_torch.data.datasets.OpenPackKeypoint object at 0x7fe8898331f0>}\n",
      "2022-05-28 00:09:40 | INFO | openpack_torch.data.datamodule | dataset[submission]: None\n",
      "2022-05-28 00:09:40 | INFO | __main__ | test on U0102-S0500\n",
      "2022-05-28 00:09:41 | WARNING | openpack_torch.data.datasets | No preprocessing is applied.\n",
      "2022-05-28 00:09:41 | INFO | openpack_torch.data.datamodule | dataset[train]: None\n",
      "2022-05-28 00:09:41 | INFO | openpack_torch.data.datamodule | dataset[val]: None\n",
      "2022-05-28 00:09:41 | INFO | openpack_torch.data.datamodule | dataset[test]: {'U0102-S0500': <openpack_torch.data.datasets.OpenPackKeypoint object at 0x7fe8878ad850>}\n",
      "2022-05-28 00:09:41 | INFO | openpack_torch.data.datamodule | dataset[submission]: None\n",
      "LOCAL_RANK: 0 - CUDA_VISIBLE_DEVICES: [0]\n",
      "2022-05-28 00:09:42 | INFO | __main__ | save t[shape=(31, 900)] to /content/data/log/openpack-keypoint/STGCN4Seg/I01-EXP1-V1/pred/U0102-S0500/t.npy\n",
      "2022-05-28 00:09:42 | INFO | __main__ | save y[shape=(31, 10, 900)] to /content/data/log/openpack-keypoint/STGCN4Seg/I01-EXP1-V1/pred/U0102-S0500/y.npy\n",
      "2022-05-28 00:09:42 | INFO | __main__ | save unixtime[shape=(31, 900)] to /content/data/log/openpack-keypoint/STGCN4Seg/I01-EXP1-V1/pred/U0102-S0500/unixtime.npy\n"
     ]
    }
   ],
   "source": [
    "datamodule.setup(\"test\")\n",
    "dataloaders = datamodule.test_dataloader()\n",
    "split = cfg.dataset.split.test\n",
    "\n",
    "\n",
    "outputs = dict()\n",
    "for i, dataloader in enumerate(dataloaders):\n",
    "    user, session = split[i]\n",
    "    logger.info(f\"test on U{user:0=4}-S{session:0=4}\")\n",
    "\n",
    "    trainer.test(plmodel, dataloader)\n",
    "\n",
    "    # save model outputs\n",
    "    pred_dir = Path(\n",
    "        cfg.volume.logdir.predict.format(user=user, session=session)\n",
    "    )\n",
    "    pred_dir.mkdir(parents=True, exist_ok=True)\n",
    "\n",
    "    for key, arr in plmodel.test_results.items():\n",
    "        path = Path(pred_dir, f\"{key}.npy\")\n",
    "        np.save(path, arr)\n",
    "        logger.info(f\"save {key}[shape={arr.shape}] to {path}\")\n",
    "\n",
    "    outputs[f\"U{user:0=4}-S{session:0=4}\"] = {\n",
    "        \"t_idx\": plmodel.test_results.get(\"t\"),\n",
    "        \"y\": plmodel.test_results.get(\"y\"),\n",
    "        \"unixtime\": plmodel.test_results.get(\"unixtime\"),\n",
    "    }"
   ]
  },
  {
   "cell_type": "markdown",
   "id": "5780dc2a-e86c-4110-a2ef-3ee5d7951504",
   "metadata": {},
   "source": [
    "### 4-2: Evaluate"
   ]
  },
  {
   "cell_type": "code",
   "execution_count": 18,
   "id": "c61ad2c2-d92c-4161-9a0c-62677379ec8b",
   "metadata": {},
   "outputs": [],
   "source": [
    "# compute performance summary\n",
    "df_summary = eval_operation_segmentation_wrapper(\n",
    "    outputs, OPENPACK_OPERATIONS,\n",
    ")"
   ]
  },
  {
   "cell_type": "code",
   "execution_count": 19,
   "id": "72a70472-4511-4c56-bda2-72fe3a71dea4",
   "metadata": {},
   "outputs": [
    {
     "data": {
      "text/html": [
       "<div>\n",
       "<style scoped>\n",
       "    .dataframe tbody tr th:only-of-type {\n",
       "        vertical-align: middle;\n",
       "    }\n",
       "\n",
       "    .dataframe tbody tr th {\n",
       "        vertical-align: top;\n",
       "    }\n",
       "\n",
       "    .dataframe thead th {\n",
       "        text-align: right;\n",
       "    }\n",
       "</style>\n",
       "<table border=\"1\" class=\"dataframe\">\n",
       "  <thead>\n",
       "    <tr style=\"text-align: right;\">\n",
       "      <th></th>\n",
       "      <th>name</th>\n",
       "      <th>id</th>\n",
       "      <th>precision</th>\n",
       "      <th>recall</th>\n",
       "      <th>f1</th>\n",
       "      <th>support</th>\n",
       "      <th>key</th>\n",
       "    </tr>\n",
       "  </thead>\n",
       "  <tbody>\n",
       "    <tr>\n",
       "      <th>12</th>\n",
       "      <td>avg/macro</td>\n",
       "      <td>-1</td>\n",
       "      <td>0.739053</td>\n",
       "      <td>0.664423</td>\n",
       "      <td>0.674827</td>\n",
       "      <td>None</td>\n",
       "      <td>all</td>\n",
       "    </tr>\n",
       "    <tr>\n",
       "      <th>13</th>\n",
       "      <td>avg/weighted</td>\n",
       "      <td>-1</td>\n",
       "      <td>0.820202</td>\n",
       "      <td>0.775521</td>\n",
       "      <td>0.771353</td>\n",
       "      <td>None</td>\n",
       "      <td>all</td>\n",
       "    </tr>\n",
       "    <tr>\n",
       "      <th>14</th>\n",
       "      <td>Picking</td>\n",
       "      <td>100</td>\n",
       "      <td>0.915493</td>\n",
       "      <td>0.389222</td>\n",
       "      <td>0.546218</td>\n",
       "      <td>167</td>\n",
       "      <td>all</td>\n",
       "    </tr>\n",
       "    <tr>\n",
       "      <th>15</th>\n",
       "      <td>MoveItemLabel</td>\n",
       "      <td>200</td>\n",
       "      <td>0.878947</td>\n",
       "      <td>0.867532</td>\n",
       "      <td>0.873203</td>\n",
       "      <td>385</td>\n",
       "      <td>all</td>\n",
       "    </tr>\n",
       "    <tr>\n",
       "      <th>16</th>\n",
       "      <td>AssembleBox</td>\n",
       "      <td>300</td>\n",
       "      <td>0.592857</td>\n",
       "      <td>0.961390</td>\n",
       "      <td>0.733432</td>\n",
       "      <td>259</td>\n",
       "      <td>all</td>\n",
       "    </tr>\n",
       "    <tr>\n",
       "      <th>17</th>\n",
       "      <td>PackInBox</td>\n",
       "      <td>400</td>\n",
       "      <td>0.873418</td>\n",
       "      <td>0.496403</td>\n",
       "      <td>0.633028</td>\n",
       "      <td>139</td>\n",
       "      <td>all</td>\n",
       "    </tr>\n",
       "    <tr>\n",
       "      <th>18</th>\n",
       "      <td>CloseBox</td>\n",
       "      <td>500</td>\n",
       "      <td>0.696629</td>\n",
       "      <td>0.342541</td>\n",
       "      <td>0.459259</td>\n",
       "      <td>181</td>\n",
       "      <td>all</td>\n",
       "    </tr>\n",
       "    <tr>\n",
       "      <th>19</th>\n",
       "      <td>ReadLabel</td>\n",
       "      <td>600</td>\n",
       "      <td>0.914474</td>\n",
       "      <td>0.945578</td>\n",
       "      <td>0.929766</td>\n",
       "      <td>294</td>\n",
       "      <td>all</td>\n",
       "    </tr>\n",
       "    <tr>\n",
       "      <th>20</th>\n",
       "      <td>AttachLabel</td>\n",
       "      <td>700</td>\n",
       "      <td>0.881250</td>\n",
       "      <td>0.898089</td>\n",
       "      <td>0.889590</td>\n",
       "      <td>157</td>\n",
       "      <td>all</td>\n",
       "    </tr>\n",
       "    <tr>\n",
       "      <th>21</th>\n",
       "      <td>PutOnCartRack</td>\n",
       "      <td>800</td>\n",
       "      <td>0.828947</td>\n",
       "      <td>0.787500</td>\n",
       "      <td>0.807692</td>\n",
       "      <td>80</td>\n",
       "      <td>all</td>\n",
       "    </tr>\n",
       "    <tr>\n",
       "      <th>22</th>\n",
       "      <td>Pen</td>\n",
       "      <td>900</td>\n",
       "      <td>0.808511</td>\n",
       "      <td>0.955975</td>\n",
       "      <td>0.876081</td>\n",
       "      <td>159</td>\n",
       "      <td>all</td>\n",
       "    </tr>\n",
       "    <tr>\n",
       "      <th>23</th>\n",
       "      <td>Null</td>\n",
       "      <td>1000</td>\n",
       "      <td>0.000000</td>\n",
       "      <td>0.000000</td>\n",
       "      <td>0.000000</td>\n",
       "      <td>1</td>\n",
       "      <td>all</td>\n",
       "    </tr>\n",
       "  </tbody>\n",
       "</table>\n",
       "</div>"
      ],
      "text/plain": [
       "             name    id  precision    recall        f1 support  key\n",
       "12      avg/macro    -1   0.739053  0.664423  0.674827    None  all\n",
       "13   avg/weighted    -1   0.820202  0.775521  0.771353    None  all\n",
       "14        Picking   100   0.915493  0.389222  0.546218     167  all\n",
       "15  MoveItemLabel   200   0.878947  0.867532  0.873203     385  all\n",
       "16    AssembleBox   300   0.592857  0.961390  0.733432     259  all\n",
       "17      PackInBox   400   0.873418  0.496403  0.633028     139  all\n",
       "18       CloseBox   500   0.696629  0.342541  0.459259     181  all\n",
       "19      ReadLabel   600   0.914474  0.945578  0.929766     294  all\n",
       "20    AttachLabel   700   0.881250  0.898089  0.889590     157  all\n",
       "21  PutOnCartRack   800   0.828947  0.787500  0.807692      80  all\n",
       "22            Pen   900   0.808511  0.955975  0.876081     159  all\n",
       "23           Null  1000   0.000000  0.000000  0.000000       1  all"
      ]
     },
     "execution_count": 19,
     "metadata": {},
     "output_type": "execute_result"
    }
   ],
   "source": [
    "df_summary[df_summary[\"key\"]==\"all\"]"
   ]
  },
  {
   "cell_type": "markdown",
   "id": "6c71ca89-3178-490d-a93b-9030240f02a3",
   "metadata": {},
   "source": [
    "## [5] Submission"
   ]
  },
  {
   "cell_type": "markdown",
   "id": "808de226-e597-472d-a22e-ad12fe3fa08b",
   "metadata": {},
   "source": [
    "### 5-1: Get prediction for test data."
   ]
  },
  {
   "cell_type": "code",
   "execution_count": 20,
   "id": "f873710b-cd64-44d0-878e-be073a81568d",
   "metadata": {},
   "outputs": [
    {
     "name": "stderr",
     "output_type": "stream",
     "text": [
      "2022-05-28 00:09:44 | WARNING | openpack_torch.data.datasets | No preprocessing is applied.\n",
      "2022-05-28 00:09:44 | INFO | openpack_torch.data.datamodule | dataset[train]: None\n",
      "2022-05-28 00:09:44 | INFO | openpack_torch.data.datamodule | dataset[val]: None\n",
      "2022-05-28 00:09:44 | INFO | openpack_torch.data.datamodule | dataset[test]: None\n",
      "2022-05-28 00:09:44 | INFO | openpack_torch.data.datamodule | dataset[submission]: {'U0102-S0500': <openpack_torch.data.datasets.OpenPackKeypoint object at 0x7fe854a8dd60>}\n",
      "2022-05-28 00:09:44 | INFO | __main__ | test on U0102-S0500\n",
      "2022-05-28 00:09:45 | WARNING | openpack_torch.data.datasets | No preprocessing is applied.\n",
      "2022-05-28 00:09:45 | INFO | openpack_torch.data.datamodule | dataset[train]: None\n",
      "2022-05-28 00:09:45 | INFO | openpack_torch.data.datamodule | dataset[val]: None\n",
      "2022-05-28 00:09:45 | INFO | openpack_torch.data.datamodule | dataset[test]: {'U0102-S0500': <openpack_torch.data.datasets.OpenPackKeypoint object at 0x7fe88786b700>}\n",
      "2022-05-28 00:09:45 | INFO | openpack_torch.data.datamodule | dataset[submission]: None\n",
      "LOCAL_RANK: 0 - CUDA_VISIBLE_DEVICES: [0]\n",
      "2022-05-28 00:09:46 | INFO | __main__ | save t[shape=(31, 900)] to /content/data/log/openpack-keypoint/STGCN4Seg/I01-EXP1-V1/pred/U0102-S0500/t.npy\n",
      "2022-05-28 00:09:46 | INFO | __main__ | save y[shape=(31, 10, 900)] to /content/data/log/openpack-keypoint/STGCN4Seg/I01-EXP1-V1/pred/U0102-S0500/y.npy\n",
      "2022-05-28 00:09:46 | INFO | __main__ | save unixtime[shape=(31, 900)] to /content/data/log/openpack-keypoint/STGCN4Seg/I01-EXP1-V1/pred/U0102-S0500/unixtime.npy\n"
     ]
    }
   ],
   "source": [
    "datamodule.setup(\"submission\")\n",
    "dataloaders = datamodule.submission_dataloader()\n",
    "split = cfg.dataset.split.submission\n",
    "\n",
    "outputs = dict()\n",
    "for i, dataloader in enumerate(dataloaders):\n",
    "    user, session = split[i]\n",
    "    logger.info(f\"test on U{user:0=4}-S{session:0=4}\")\n",
    "\n",
    "    trainer.test(plmodel, dataloader)\n",
    "\n",
    "    # save model outputs\n",
    "    pred_dir = Path(\n",
    "        cfg.volume.logdir.predict.format(user=user, session=session)\n",
    "    )\n",
    "    pred_dir.mkdir(parents=True, exist_ok=True)\n",
    "\n",
    "    for key, arr in plmodel.test_results.items():\n",
    "        path = Path(pred_dir, f\"{key}.npy\")\n",
    "        np.save(path, arr)\n",
    "        logger.info(f\"save {key}[shape={arr.shape}] to {path}\")\n",
    "\n",
    "    outputs[f\"U{user:0=4}-S{session:0=4}\"] = {\n",
    "        \"y\": plmodel.test_results.get(\"y\"),\n",
    "        \"unixtime\": plmodel.test_results.get(\"unixtime\"),\n",
    "    }"
   ]
  },
  {
   "cell_type": "markdown",
   "id": "77d977c9-065c-4e38-b7c3-ab1c4251e1f1",
   "metadata": {},
   "source": [
    "### 5-2: Make submission zip file"
   ]
  },
  {
   "cell_type": "code",
   "execution_count": 21,
   "id": "83ff7cca-5916-4429-87e1-f1136b4bd3cf",
   "metadata": {},
   "outputs": [
    {
     "name": "stderr",
     "output_type": "stream",
     "text": [
      "2022-05-28 00:09:46 | INFO | openpack_toolkit.codalab.operation_segmentation.utils | write submission.json to submission.json\n",
      "2022-05-28 00:09:46 | INFO | openpack_toolkit.codalab.operation_segmentation.utils | write submission.zip to submission.zip\n"
     ]
    }
   ],
   "source": [
    "output_dir = Path(\".\")\n",
    "\n",
    "submission_dict = construct_submission_dict(\n",
    "    outputs, OPENPACK_OPERATIONS)\n",
    "make_submission_zipfile(submission_dict, output_dir)"
   ]
  },
  {
   "cell_type": "code",
   "execution_count": null,
   "id": "e7294f20-139c-48e5-9eb6-68124b14d329",
   "metadata": {},
   "outputs": [],
   "source": []
  }
 ],
 "metadata": {
  "kernelspec": {
   "display_name": "Python 3 (ipykernel)",
   "language": "python",
   "name": "python3"
  },
  "language_info": {
   "codemirror_mode": {
    "name": "ipython",
    "version": 3
   },
   "file_extension": ".py",
   "mimetype": "text/x-python",
   "name": "python",
   "nbconvert_exporter": "python",
   "pygments_lexer": "ipython3",
   "version": "3.8.12"
  }
 },
 "nbformat": 4,
 "nbformat_minor": 5
}
