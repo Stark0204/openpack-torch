{
 "cells": [
  {
   "cell_type": "markdown",
   "id": "62133d2f-db52-4903-b8da-afb282959973",
   "metadata": {},
   "source": [
    "# OpenPack Challenge | Tutorial: OpenPack Datasetの概要とモデリングの考え方"
   ]
  },
  {
   "cell_type": "markdown",
   "id": "b446fd81-b807-458b-865d-8a66e2c2a416",
   "metadata": {},
   "source": [
    "[![Open In Colab](https://colab.research.google.com/assets/colab-badge.svg)](https://colab.research.google.com/github/open-pack/openpack-torch/blob/feat-tutorial/examples/deep-conv-lstm/notebooks/Tutorial_Basics_of_Modeling__JA.ipynb)"
   ]
  },
  {
   "cell_type": "markdown",
   "id": "b6cbaadf-07c0-4bf0-823b-8b8cec315100",
   "metadata": {},
   "source": [
    "NOTE: colabで実行する場合は，実行前にランタイムを \"GPU\" に変更してください．\n",
    "\n",
    "NOTE: このNotebookにはコンペに提出する`submission.json`を作成するための手順は含まれていません．他のチュートリアルを参考にしてください．"
   ]
  },
  {
   "cell_type": "markdown",
   "id": "b0963c46-4e9f-4091-b4f4-81db2f80561f",
   "metadata": {},
   "source": [
    "## [1] はじめに\n",
    "\n",
    "このノートブックは， [Percom 2023 Workshop　BiRD](https://bio-navigation.jp/bird2023/) で開催される行動認識コンペティション 「[OpenPack Challenge　2022](https://open-pack.github.io/challenge2022)」の参加者用チュートリアルとして作成しました．\n",
    "このチュートリアルでは， (1) OpenPackの概要とタスクの説明， (2) 行動認識モデルのサンプルプログラムの実行を行います．\n",
    "OpenPackデータセットのデータの性質を捉え， 梱包作業という作業行動を認識するためのモデリングの考え方を学んで行きましょう．"
   ]
  },
  {
   "cell_type": "markdown",
   "id": "4bb94ff0-ac3f-4e49-9c32-12a2d9f7a099",
   "metadata": {},
   "source": [
    "### 1-1: OpenPack Challenge 2022 (データ分析コンペティション)\n",
    "\n",
    "[Percom 2023 Workshop](https://bio-navigation.jp/bird2023/)で，OpenPack Datasetを使用したデータ分析コンペの開催を予定しています． \n",
    "コンペのタスクはこのノートブックで説明するものと同じく， 10種類の作業工程の分類 (temporal semantic segmentation) です．\n",
    "コンペの詳細につきましては [HP](https://open-pack.github.io/challenge2022) をご参照ください．\n",
    "また，　このチュートリアルを通して作業工程の認識に興味を持っていただけましたら，　ぜひコンペへの参加もご検討いただけると嬉しく思います．\n",
    "\n",
    "- [OpenPack Challenge 2022 - Official Site](https://open-pack.github.io/challenge2022)\n",
    "- [Google Group](https://groups.google.com/g/openpack) (コンペの最新情報を受け取りたい方は，こちらのメーリングリストにご登録ください．)\n",
    "\n",
    "![](../../../assets/img/OpenPackCHALLENG-black.png)"
   ]
  },
  {
   "cell_type": "markdown",
   "id": "6861f6d2-fbd0-49e5-ad86-d4a0f87fe007",
   "metadata": {},
   "source": [
    "### 1-2: このチュートリアルの学習対象者\n",
    "\n",
    "- OpenPack Challengeの参加者または参加を検討している方\n",
    "- OpenPack Datasetの概要を把握したい方\n",
    "- 機械学習 (Neural Network) のモデリングの基礎に触れたい方\n",
    "\n",
    "このチュートリアルを実行するにあたって，高度な機械学習の知識は必要としませんが，　機械学習の基本に関しては知識があることが望ましいです．"
   ]
  },
  {
   "cell_type": "markdown",
   "id": "f846f6a1",
   "metadata": {},
   "source": [
    "## [2] OpenPack Datasetの概要"
   ]
  },
  {
   "cell_type": "markdown",
   "id": "a558445f-f148-487b-9acd-9d6de06530f0",
   "metadata": {},
   "source": [
    "**OpenPack Dataset**は， 産業ドメインにおける大規模マルチモーダルデータセットです．\n",
    "物流センターの梱包作業に注目し， 16名の被験者が商品を段ボールに梱包する作業を， 深度センサやIMUセンサなど 9種類のセンサーで記録しました．\n",
    "データセットのサイズは53時間超であり，産業ドメインのデータセットでは最大級です．"
   ]
  },
  {
   "cell_type": "markdown",
   "id": "1460142f-9929-4c8e-ae39-46629621f05c",
   "metadata": {},
   "source": [
    "OpenPackの特徴を簡単にまとめました．　詳細は[HP](https://open-pack.github.io)を参照してください．\n",
    "\n",
    "> **OpenPack Datasetの特徴**\n",
    "> 1. 合計53時間を超える大規模な，産業ドメインの行動認識データセット．\n",
    "> 1. 9種類のセンサの種類に加え， スマート工場に導入されているIoT機器のデータを含む．\n",
    "> 1. 作業者の梱包作業の経験や， 梱包する商品など豊富なメタデータを収集．"
   ]
  },
  {
   "cell_type": "markdown",
   "id": "2b555b9a-35b1-4af1-84a7-ce00f8f5d176",
   "metadata": {},
   "source": [
    "OpenPack Datasetは，行動認識研究のためのデータセットであり，　以下の10種類の作業工程に対してラベルが付与されています(下図のAnnotation/Operationの段)．\n",
    "このノートブックでは， 与えられたセンサデータに対して1秒単位でどの行動が行われているかを推定します．\n",
    "[Youtube](https://youtu.be/KRG5zv3ueRQ) にサンプル動画 (深度画像)をアップロードしています． こちらを見ていただければ，梱包作業の具体的な流れが掴めると思います．\n",
    "\n",
    "> **OpenPack: Activity Class (作業工程)**\n",
    "> - 100: Picking (梱包する商品を持ってくる.)\n",
    "> - 200: Relocate Item Label (商品についているラベルを梱包リストに張り替える.)\n",
    "> - 300: Assemble Box (段ボールを組み立てる.)\n",
    "> - 400: Insert Items (組み立てた段ボールに商品を詰める.)\n",
    "> - 500: Close Box (段ボールを閉じる.)\n",
    "> - 600: Attach Box Label (箱番号シールを貼り付ける.)\n",
    "> - 700: Scan Label (複数のバーコードをスキャンする.)\n",
    "> - 800: Attaching Shipping Label (出荷ラベルをつける.)\n",
    "> - 900: Put on Back Table (梱包した箱を後ろのテーブルに片付ける.)\n",
    "> - 1000: Fill out Order (梱包リストの確認欄を記入し， 片付ける.)"
   ]
  },
  {
   "cell_type": "markdown",
   "id": "0f8c6fe2-0496-40de-9cb8-678dc07974c3",
   "metadata": {},
   "source": [
    "OpenPack Datasetの主なタスクは 「梱包作業における作業工程の認識」です．\n",
    "しかし，その認識は簡単ではありません．\n",
    "例えば，「Walk」を認識したい場合は，手足の周期的な動きを捉えれば良いですが，作業工程の場合繰り返される動きが非常に少ない上，以下のような課題にも対処する必要があります．\n",
    "\n",
    "1. 被験者の熟練度によって，動作のスピードが大きく異なります．\n",
    "1. 梱包する商品の組み合わせが毎回異なります． 商品のサイズによって使用する箱のサイズも変わります． さらに，商品の数が異なれば，箱に入れる動作の回数が変わります．\n",
    "1. 作業の手順は基本的に決まっていますが，より効率的な作業のために熟練者は手順を一部変更したり， 間違いによって順番が変更されます．"
   ]
  },
  {
   "cell_type": "markdown",
   "id": "8f82667a-6ef3-4cd5-b34c-c1ae503ad448",
   "metadata": {},
   "source": [
    "![](../../../assets/img/OpenPack__KeyVisual.png)"
   ]
  },
  {
   "cell_type": "code",
   "execution_count": 1,
   "id": "a3e0bea5-47ac-4e21-8a42-3b8ec96f0fdf",
   "metadata": {},
   "outputs": [
    {
     "data": {
      "image/jpeg": "[encoded data removed]",
      "text/html": [
       "\n",
       "        <iframe\n",
       "            width=\"600\"\n",
       "            height=\"400\"\n",
       "            src=\"https://www.youtube.com/embed/KRG5zv3ueRQ\"\n",
       "            frameborder=\"0\"\n",
       "            allowfullscreen\n",
       "            \n",
       "        ></iframe>\n",
       "        "
      ],
      "text/plain": [
       "<IPython.lib.display.YouTubeVideo at 0x7f665025d670>"
      ]
     },
     "execution_count": 1,
     "metadata": {},
     "output_type": "execute_result"
    }
   ],
   "source": [
    "from IPython.display import YouTubeVideo\n",
    "YouTubeVideo('KRG5zv3ueRQ', width=600, height=400)"
   ]
  },
  {
   "cell_type": "markdown",
   "id": "8e6501dd-b55e-47fe-9225-653690cf0301",
   "metadata": {},
   "source": [
    "## [3] 行動認識のサンプルプログラムの実行"
   ]
  },
  {
   "cell_type": "markdown",
   "id": "6bdef1ad-c95d-4182-8d93-94b77b7a5a58",
   "metadata": {},
   "source": [
    "ここから先では， 左右の手首に装着したIMUセンサーで収集した加速度データを入力として， 1秒単位で10種類の作業工程のどれが行われているかを推定する Nerural Networkの構築を行います．\n",
    "ここでは，モデリングの基本アイデアを学ぶことに注目してほしいので，学習に必要なコードは複数ありますが，特に指示がないところはそのまま実行してください．\n",
    "データの前処理や学習方法の変更などの発展的な実験に挑戦したい場合は，別のチュートリアルで理解を深めていただけると幸いです．\n",
    "\n",
    "- 入力: 左右手首から30Hzで収集した加速度信号 60秒 (入力するTensorのShape: `(1800, 6)`)\n",
    "- 出力: 1秒後ごとの作業工程ラベル (TensorのShape: `(60, 10)`)\n",
    "- モデル: Neural Network (PyTorch)"
   ]
  },
  {
   "cell_type": "markdown",
   "id": "2d4b4105-f8e4-41ed-8248-2b97ba10b5a1",
   "metadata": {},
   "source": [
    "![](../../../assets/img/tutorial/task.jpg)"
   ]
  },
  {
   "cell_type": "markdown",
   "id": "6f6a5a50-1f01-4636-990c-db438a965cb1",
   "metadata": {},
   "source": [
    "### Neural Networkとは？\n",
    "\n",
    "人間の神経細胞から着想を得た，機械学習モデルの一つです．\n",
    "最初はランダムな値を主力しますが，入力データと正解ラベルの関係を「学習」することで，高精度で予測ができるようになります．"
   ]
  },
  {
   "cell_type": "markdown",
   "id": "f9a2e52a-56f4-4647-bab0-ce595fb60a77",
   "metadata": {},
   "source": [
    "### 行動認識モデルのモデリング\n",
    "\n",
    "ここでは，行動認識モデルを構成するためにどのような視点を持てば良いかということを簡単にまとめます．\n",
    "具体的な実装や選択は下のサンプルを実行しながら説明します．\n",
    "まず，マルチモーダルな時系列データを扱うにあたって，考えるべきことの例を以下にまとめました．\n",
    "\n",
    "1. 時間方向の依存関係\n",
    "    1. 考慮する範囲 (1秒間?，10秒間?) ... 認識対象の行動の継続時間などを参考に設定します．\n",
    "    1. 順方向の時間発展 (時間を進める方向) のみ考慮するか，逆方向 (時間を巻き戻す方向)も考慮するか?　... 「タップ」と「ダブルタップ」を分類するとき， 1回目のタップがどちらか見分けるためには過去と未来両方から攻める必要があります．\n",
    "1. モダリティの扱い\n",
    "    1. センサーフュージョン (両手の動きをまとめて特徴抽出する? OR 右左別々に特徴抽出を行なったあとで組み合わせる？) ... 左右の手は独立に動くことができるので，分けて考えた方が効果的な場合があります．\n",
    "    1. 他のモダリティ (動画，IoT デバイスのログ, etc) との組み合わせ方\n",
    "\n",
    "\n",
    "このチュートリアルで全てを扱うことは難しいので，**1. 時間方向の依存関係** について考えていきたいと思います．"
   ]
  },
  {
   "cell_type": "markdown",
   "id": "535c7dc1-e10c-40f7-b890-157a64029502",
   "metadata": {},
   "source": [
    "### OpenPack Datasetの梱包作業に着目したモデリングのポイント\n",
    "\n",
    "基本的には上の2項目と同じですが，よりOpenPack Datasetに特化したポイントを説明します．\n",
    "\n",
    "- 手だけを使った動作が中心です．そのため，加速度データだけでは非常に似通った動作が多く存在します．\n",
    "    - e.g.) 腕の移動, Assemble Box と Close Box\n",
    "    - 特徴抽出する範囲をできるだけ広くとって，**前後の作業工程を手がかりに注目した時刻の動作を推定**することが有効だと考えられます．\n",
    "- 行動の出現順序は基本的に決まっています．\n",
    "    - 作業手順が決まっているため，行動クラスの出現順序もおおよそ決まっています．\n",
    "    - この**行動の出現順序は予測を行う上で大きなヒント**となります．\n",
    "    - (注意) ある程度精度が高まると，作業ミスなどで通常の順序から外れる場合の誤認識が課題となります．　より精度を高めるためには．この部分をどう扱うかがより精度を高めるために重要になります．"
   ]
  },
  {
   "cell_type": "markdown",
   "id": "a06a1122-cef4-42ff-a14b-2c960b8eb0cd",
   "metadata": {},
   "source": [
    "![](../../../assets/img/tutorial/work_HAR_idea.jpg)"
   ]
  },
  {
   "cell_type": "markdown",
   "id": "3a0c7927-760d-4a79-aac6-d1fad4af7ef4",
   "metadata": {},
   "source": [
    "------\n",
    "ここからは，実装パートになります．"
   ]
  },
  {
   "cell_type": "markdown",
   "id": "1149019d-005a-4071-81b4-5dde35836302",
   "metadata": {},
   "source": [
    "## [4] 環境の初期化 (Notebookを開いて初回のみ実行)\n",
    "細かい説明は省きます．ひとまず，以下のコードを順番に実行してください．"
   ]
  },
  {
   "cell_type": "markdown",
   "id": "bb015bbf-633d-4dd5-9451-59b6f5cc3ecb",
   "metadata": {},
   "source": [
    "### 4-1: Download Code and Install `openpack-torch` "
   ]
  },
  {
   "cell_type": "code",
   "execution_count": null,
   "id": "3d848e0e-64c3-4376-b2a9-342e14d82b74",
   "metadata": {},
   "outputs": [],
   "source": [
    "# サンプルコードのダウンロード\n",
    "! cd /content && git clone https://github.com/open-pack/openpack-torch.git"
   ]
  },
  {
   "cell_type": "code",
   "execution_count": null,
   "id": "e1a8f425-bb1a-4f8f-a2e7-5fa4fb2b276c",
   "metadata": {},
   "outputs": [],
   "source": [
    "# 関連パッケージのダウンロード\n",
    "! cd /content/openpack-torch/ && pip install ."
   ]
  },
  {
   "cell_type": "markdown",
   "id": "7effb91e-bfb4-4bb3-ba5e-81cf8cf0c92b",
   "metadata": {},
   "source": [
    "### 4-2: データセットのダウンロード"
   ]
  },
  {
   "cell_type": "markdown",
   "id": "6b9877ec-b236-4cb6-b8bf-39024bd17172",
   "metadata": {},
   "source": [
    "NOTE: Colabを使用している場合は，このセルを実行しGoogle Driveをマウントする．"
   ]
  },
  {
   "cell_type": "code",
   "execution_count": null,
   "id": "a7f5ab1c-1cf8-4a40-8b09-820345afaadb",
   "metadata": {},
   "outputs": [],
   "source": [
    "from google.colab import drive\n",
    "drive.mount('/content/drive')"
   ]
  },
  {
   "cell_type": "markdown",
   "id": "8744d07f-9d55-4f9a-bf56-a160f0c263cb",
   "metadata": {},
   "source": [
    "データセットのダウンロード (ダウンロード先: `/content/drive/MyDrive/Colab Notebooks/openpack/data/datasets`)"
   ]
  },
  {
   "cell_type": "code",
   "execution_count": null,
   "id": "171bee58-23f6-49b3-a297-31036387df5a",
   "metadata": {},
   "outputs": [],
   "source": [
    "! mkdir -p \"/content/drive/MyDrive/Colab Notebooks/openpack/data/datasets\"\n",
    "! optk-download -d \"/content/drive/MyDrive/Colab Notebooks/openpack/data/datasets\" -v v0.2.1 -s atr-qags,openpack-operations\n",
    "! ln -s \"/content/drive/MyDrive/Colab Notebooks/openpack/data/\" \"/content/data\""
   ]
  },
  {
   "cell_type": "markdown",
   "id": "13c4a349-8af8-4840-849f-d97b04f143cb",
   "metadata": {},
   "source": [
    "### 4-3: モジュールのインポート"
   ]
  },
  {
   "cell_type": "code",
   "execution_count": 1,
   "id": "0fca86ac-b992-47e1-a809-02dc17776d10",
   "metadata": {},
   "outputs": [
    {
     "name": "stderr",
     "output_type": "stream",
     "text": [
      "/opt/conda/lib/python3.8/site-packages/torchvision/io/image.py:13: UserWarning: Failed to load image Python extension: libtorch_cuda_cu.so: cannot open shared object file: No such file or directory\n",
      "  warn(f\"Failed to load image Python extension: {e}\")\n"
     ]
    }
   ],
   "source": [
    "import os\n",
    "import shutil\n",
    "import logging\n",
    "from pathlib import Path\n",
    "from typing import Dict, Optional\n",
    "\n",
    "\n",
    "import hydra\n",
    "import numpy as np\n",
    "import openpack_toolkit as optk\n",
    "import openpack_torch as optorch\n",
    "import pandas as pd\n",
    "import pytorch_lightning as pl\n",
    "import torch\n",
    "from torch import nn\n",
    "from scipy.special import softmax\n",
    "\n",
    "import matplotlib.pyplot as plt\n",
    "import seaborn as sns\n",
    "from hydra import initialize_config_dir, compose\n",
    "from omegaconf import DictConfig, OmegaConf\n",
    "\n",
    "from openpack_toolkit import OPENPACK_OPERATIONS\n",
    "from openpack_toolkit.codalab.operation_segmentation import (\n",
    "    construct_submission_dict, eval_operation_segmentation_wrapper,\n",
    "    make_submission_zipfile)\n",
    "\n",
    "sns.set(\"notebook\", \"whitegrid\")"
   ]
  },
  {
   "cell_type": "code",
   "execution_count": 2,
   "id": "88d0bdbf-b9cd-40cf-bfa0-e7f18c23b96f",
   "metadata": {},
   "outputs": [
    {
     "name": "stderr",
     "output_type": "stream",
     "text": [
      "2022-09-28 22:47:45 | INFO | __main__ | info\n",
      "2022-09-28 22:47:45 | WARNING | __main__ | warning\n"
     ]
    }
   ],
   "source": [
    "_ = optk.utils.notebook.setup_root_logger()\n",
    "logger = logging.getLogger(__name__)\n",
    "\n",
    "logger.debug(\"debug\")\n",
    "logger.info(\"info\")\n",
    "logger.warning(\"warning\")"
   ]
  },
  {
   "cell_type": "markdown",
   "id": "53707866-bfc4-49dc-9bba-5b7bab6e12da",
   "metadata": {},
   "source": [
    "### 4-4: 設定ファイルの読み込み\n",
    "パラメータなどのデフォルト値を読み込みます．こちらも詳細な説明は省きます．深層学習でモデルを組む場合は，非常に多くのハイパーパラメータ (手動で設定すべきパラメータ) があるため，これらを管理することは実験の再現性と効率を高めるために重要です．この問題を解決するために様々なツールが提案されていますが，ここでは　[hydra](https://hydra.cc/) を使用しています．"
   ]
  },
  {
   "cell_type": "code",
   "execution_count": 3,
   "id": "6393e3c5-94bc-4889-8155-7689d683579b",
   "metadata": {},
   "outputs": [],
   "source": [
    "# Config Fileのサンプルをコピー\n",
    "! cp -r /content/openpack-torch/examples/deep-conv-lstm/configs /content/"
   ]
  },
  {
   "cell_type": "code",
   "execution_count": 4,
   "id": "f8ce8be4-ac7e-4b9c-88d9-66545265b102",
   "metadata": {
    "tags": []
   },
   "outputs": [],
   "source": [
    "# データセットに関連するパラメータを読み込む\n",
    "optorch.configs.register_configs()\n",
    "\n",
    "# # 学習・モデル関係のパラメータを読み込む\n",
    "overrides = [\n",
    "    \"mode=train\",\n",
    "    \"issue=I01-EXP1-V1-nb\", # subdirectry for logging\n",
    "    \n",
    "    # -- debug --\n",
    "    # If true, some training parameters (e.g., bach size, epochs) are switched to debug mode setting written in `train.debug.XXX`.\n",
    "    \"debug=false\",\n",
    "    \n",
    "    # -- path.logdir.rootdir --\n",
    "    # path to write training logs and resutls.\n",
    "    # If you want to keep logs, please use Google Drive (i.e., `/content/drive/XXX` )\n",
    "    \"path.logdir.rootdir=/content/logs/${dataset.name}/${model.name}/${issue}\"\n",
    "    \n",
    "    # \"hydra/job_logging=custom\",\n",
    "    # \"hydra/hydra_logging=disabled\"\n",
    "]\n",
    "\n",
    "with hydra.initialize_config_dir(version_base=None, config_dir=\"/content/configs\"):\n",
    "    cfg = hydra.compose(\n",
    "        config_name=\"deep-conv-lstm.yaml\",\n",
    "        overrides=overrides,\n",
    "    )\n",
    "\n",
    "# -- Target Acticity Class --\n",
    "cfg.dataset.annotation.activity_sets = dict()\n",
    "\n",
    "# -- Data Split --\n",
    "# Change Train/Val/Test/Submission set to save training time. \n",
    "cfg.dataset.split = optk.configs.datasets.splits.PILOT_CHALLENGE_SPLIT"
   ]
  },
  {
   "cell_type": "code",
   "execution_count": 5,
   "id": "6329efb0-9e8d-438d-8b6e-538026ed8bb6",
   "metadata": {},
   "outputs": [
    {
     "name": "stdout",
     "output_type": "stream",
     "text": [
      "dataset:\n",
      "  annotation:\n",
      "    conf_type: ANNOT_FILE\n",
      "    name: activity-1s\n",
      "    version: ''\n",
      "    path:\n",
      "      dir: ${path.openpack.rootdir}/${user.name}/annotation/activity-1s/\n",
      "      fname: ${session}.csv\n",
      "    file_format: null\n",
      "    classes: ???\n",
      "    activity_sets: {}\n",
      "  stream:\n",
      "    schema: ImuConfig\n",
      "    name: atr-acc-left-wrist\n",
      "    description: null\n",
      "    super_stream: atr-qags\n",
      "    path:\n",
      "      dir: ${path.openpack.rootdir}/${user.name}/atr/${device}\n",
      "      fname: ${session}.csv\n",
      "    file_format: null\n",
      "    frame_rate: 30\n",
      "    devices:\n",
      "    - atr01\n",
      "    acc: true\n",
      "    gyro: false\n",
      "    quat: false\n",
      "  split:\n",
      "    name: pilot-challenge\n",
      "    train:\n",
      "    - - U0102\n",
      "      - S0100\n",
      "    - - U0102\n",
      "      - S0200\n",
      "    - - U0102\n",
      "      - S0300\n",
      "    - - U0102\n",
      "      - S0400\n",
      "    - - U0102\n",
      "      - S0500\n",
      "    - - U0103\n",
      "      - S0100\n",
      "    - - U0103\n",
      "      - S0200\n",
      "    - - U0103\n",
      "      - S0300\n",
      "    - - U0103\n",
      "      - S0400\n",
      "    - - U0103\n",
      "      - S0500\n",
      "    - - U0105\n",
      "      - S0100\n",
      "    - - U0105\n",
      "      - S0200\n",
      "    - - U0105\n",
      "      - S0300\n",
      "    - - U0105\n",
      "      - S0400\n",
      "    - - U0105\n",
      "      - S0500\n",
      "    val:\n",
      "    - - U0106\n",
      "      - S0200\n",
      "    - - U0106\n",
      "      - S0400\n",
      "    test:\n",
      "    - - U0106\n",
      "      - S0100\n",
      "    - - U0106\n",
      "      - S0300\n",
      "    - - U0106\n",
      "      - S0500\n",
      "    submission:\n",
      "    - - U0107\n",
      "      - S0100\n",
      "    - - U0107\n",
      "      - S0200\n",
      "    - - U0107\n",
      "      - S0300\n",
      "    - - U0107\n",
      "      - S0500\n",
      "  classes:\n",
      "    classes:\n",
      "    - id: 100\n",
      "      name: Picking\n",
      "      is_ignore: false\n",
      "    - id: 200\n",
      "      name: Relocate Item Label\n",
      "      is_ignore: false\n",
      "    - id: 300\n",
      "      name: Assemble Box\n",
      "      is_ignore: false\n",
      "    - id: 400\n",
      "      name: Insert Items\n",
      "      is_ignore: false\n",
      "    - id: 500\n",
      "      name: Close Box\n",
      "      is_ignore: false\n",
      "    - id: 600\n",
      "      name: Attach Box Label\n",
      "      is_ignore: false\n",
      "    - id: 700\n",
      "      name: Scan Label\n",
      "      is_ignore: false\n",
      "    - id: 800\n",
      "      name: Attach Shipping Label\n",
      "      is_ignore: false\n",
      "    - id: 900\n",
      "      name: Put on Back Table\n",
      "      is_ignore: false\n",
      "    - id: 1000\n",
      "      name: Fill out Order\n",
      "      is_ignore: false\n",
      "    - id: 8100\n",
      "      name: 'Null'\n",
      "      is_ignore: true\n",
      "  name: atr-left-wrist\n",
      "datarootdir: /content/drive/MyDrive/Colab Notebooks/openpack/data/\n",
      "issue: I01-EXP1-V1-nb\n",
      "debug: false\n",
      "mode: train\n",
      "model:\n",
      "  name: DeepConvLSTM\n",
      "train:\n",
      "  num_workers: 3\n",
      "  batch_size: 32\n",
      "  epochs: 200\n",
      "  window: 1800\n",
      "  optimizer:\n",
      "    type: Adam\n",
      "    lr: 0.0001\n",
      "    weight_decay: 0.0001\n",
      "  debug:\n",
      "    batch_size: 8\n",
      "    epochs: 5\n",
      "path:\n",
      "  openpack:\n",
      "    version: v0.3.0\n",
      "    rootdir: ${datarootdir}/datasets/openpack/${.version}\n",
      "  logdir:\n",
      "    rootdir: /content/logs/${dataset.name}/${model.name}/${issue}\n",
      "    model: ${path.logdir.rootdir}/model.pth\n",
      "    predict: ${path.logdir.rootdir}/pred/{user}-{session}\n",
      "    summary:\n",
      "      test: ${path.logdir.rootdir}/summary.csv\n",
      "      submission: ${path.logdir.rootdir}/summary_submission.csv\n",
      "\n"
     ]
    }
   ],
   "source": [
    "print(OmegaConf.to_yaml(cfg))"
   ]
  },
  {
   "cell_type": "markdown",
   "id": "d07597d2-9215-4049-a3f8-c442aa8342e2",
   "metadata": {},
   "source": [
    "## [5] モデルの定義"
   ]
  },
  {
   "cell_type": "markdown",
   "id": "803c6bc7-655a-42f0-881f-dff2d997a848",
   "metadata": {
    "tags": []
   },
   "source": [
    "### 5-1: ベースとするモデルの概要 (DeepConvLSTM)\n",
    "\n",
    "このチュートリアルでは，DeepConvLSTM という2016年に発表されたモデルをベースに，様々なモデルを作っていきたいと思います．\n",
    "このモデルは，現在でもベースライン手法として多くの研究で利用されています．\n",
    "まず，畳み込み層 (convolution layer) で局所的な特徴を抽出した後，LSTM層で長期的な依存関係を抽出することで，短期的な依存関係と長期的な依存関係の両方を考慮するように設計されています．\n",
    "\n",
    "参考: [Deep Convolutional and LSTM Recurrent Neural Networks for Multimodal Wearable Activity Recognition (Sensors, 2016)](https://www.mdpi.com/1424-8220/16/1/115) "
   ]
  },
  {
   "cell_type": "markdown",
   "id": "a11f8c17-5852-4414-a8be-2debfe02af98",
   "metadata": {},
   "source": [
    "### 5-2: モデルの変更パターン\n",
    "\n",
    "今回は次の3種類を用意しました．\n",
    "\n",
    "1. CNNのみ\n",
    "    1. 畳み込みフィルタのサイズを変更して，特徴を抽出する時間の長さを変える.\n",
    "    1. CNN層の数を変える.\n",
    "1. DeepConvLSTM (論文で提案されているモデル)\n",
    "1. 双方向LSTM (LSTM層を，順方向&逆方向の両方を考慮するものを使用)\n"
   ]
  },
  {
   "cell_type": "markdown",
   "id": "fe2a4cdd-6ea2-48dd-b7c2-e3a098a719f6",
   "metadata": {},
   "source": [
    "![](../../../assets/img/tutorial/dcl_architecture.jpg)"
   ]
  },
  {
   "cell_type": "markdown",
   "id": "4ac1a296-442b-475a-b5ce-1bd1ced14916",
   "metadata": {},
   "source": [
    "### 5-3: CNNのみ (ver.1) \n",
    "\n",
    "CNNのみを使用したモデルです．\n",
    "特徴を抽出する時間の範囲は，(A) kernel size，(B) 畳み込み層の数を変更することで変えることができます．\n",
    "畳み込み層はPyTorchで `Conv2d()` として定義されています．"
   ]
  },
  {
   "cell_type": "markdown",
   "id": "05dbb98b-6fa3-4a3a-99eb-f8db788c4e9b",
   "metadata": {},
   "source": [
    "#### 実験1-A: Kernel Sizeの変更\n",
    "\n",
    "センサーのサンプリングレートは30Hzです．\n",
    "つまり，Kernel Sizeを `ks=30` とすると，一回の畳み込み演算で1秒間の範囲から特徴抽出をすることができます．\n",
    "実験では，以下の値に設定してモデルを学習してみて結果を比べてみましょう．\n",
    "ちなみに，OpenPackの作業工程の継続時間は作業工程により異なりますが，通常2秒 ~ 15秒です．\n",
    "\n",
    "- `ks=5` (0.16秒間; 論文のパラメータ)\n",
    "- `ks=15` (0.5秒間)\n",
    "- `ks=30` (1.0秒間)\n",
    "- `ks=60` (2.0秒間)\n"
   ]
  },
  {
   "cell_type": "markdown",
   "id": "5d0b177d-fc26-4253-ad6e-7c30d7e37886",
   "metadata": {},
   "source": [
    "#### 実験1-B: 畳み込み層の数 (`num_conv_layers`)\n",
    "\n",
    "畳み込み層を重ねることでも，特徴抽出の範囲を広げることができます．\n",
    "以下の値を試してみてください．\n",
    "\n",
    "- `num_conv_layers = 1`\n",
    "- `num_conv_layers = 4` (論文のパラメータ)\n",
    "- `num_conv_layers = 8`\n"
   ]
  },
  {
   "cell_type": "markdown",
   "id": "3726ef0c-0213-4c4a-881e-0497ead10044",
   "metadata": {},
   "source": [
    "#### 実験1-C: Kernel Size x 畳み込み層の数\n",
    "\n",
    "「Kernek Size」と「畳み込み層の数」はどちらも特徴を抽出する範囲を変えることができます．\n",
    "また，この２つのパラメータの組み合わせ方もとても重要です．\n",
    "例えば，kernel sizeは小さく，層の数は多く設定することで，細かな特徴を捉えつつ徐々に長期的な依存関係を捉えることができます．\n",
    "画像系のモデルでは，しばしばこのアプローチが採用されてきました．\n",
    "逆に，Kernel Sizeを大きく設定し，層の数を減らすアプローチでは，畳み込む範囲が広いので局所的なノイズに強くすることができます．\n",
    "どのようなアプローチが良いか，実験してみてください．"
   ]
  },
  {
   "cell_type": "markdown",
   "id": "b24527df-51b2-4109-8b46-f681e8086d3c",
   "metadata": {},
   "source": [
    "![](../../../assets/img/tutorial/cnn_receptive_field.jpg)"
   ]
  },
  {
   "cell_type": "code",
   "execution_count": 6,
   "id": "ba0be43d-5ece-4e69-abde-eff156cc7c90",
   "metadata": {},
   "outputs": [],
   "source": [
    "class DeepConvLstmV1(nn.Module):\n",
    "    \"\"\"CNNだけを使用するモデル\n",
    "    \"\"\"\n",
    "    def __init__(self, in_ch: int = 3, num_classes: int = None):\n",
    "        super().__init__()\n",
    "        if num_classes is None:\n",
    "            num_classes = len(OPENPACK_OPERATIONS)\n",
    "\n",
    "        # -- [1] CNN (畳み込み層) --\n",
    "        # *** Edit Here ***\n",
    "        # NOTE: 実験1-A: Kernel Size (注意: 奇数を指定)\n",
    "        ks = 5\n",
    "        # NOTE: 実験1-B: 使用する畳み込み層の数 (Default: 4)\n",
    "        num_conv_layers = 4\n",
    "        # ******************\n",
    "        num_conv_filter = 64 # 各層の畳み込みフィルタの数 (Default: 64)\n",
    "        \n",
    "        blocks = []\n",
    "        for i in range(num_conv_layers):\n",
    "            in_ch_ = in_ch if i == 0 else num_conv_filter \n",
    "            blocks.append(\n",
    "                nn.Sequential(\n",
    "                    nn.Conv2d(in_ch_, num_conv_filter, kernel_size=(ks, 1), padding=(ks//2, 0)),\n",
    "                    nn.BatchNorm2d(num_conv_filter),\n",
    "                    nn.ReLU(),\n",
    "                )\n",
    "            )\n",
    "        self.conv_blocks = nn.ModuleList(blocks)\n",
    "\n",
    "        # -- [3] 出力層 --\n",
    "        self.out8 = nn.Conv2d(\n",
    "            num_conv_filter,\n",
    "            num_classes,\n",
    "            1,\n",
    "            stride=1,\n",
    "            padding=0,\n",
    "        )\n",
    "\n",
    "    def forward(self, x: torch.Tensor) -> torch.Tensor:\n",
    "        \"\"\"\n",
    "        Args:\n",
    "            x (torch.Tensor): shape = (B, CH, T, 1)\n",
    "        Returns:\n",
    "            torch.Tensor: shape = (B, N_CLASSES, T, 1)\n",
    "        \"\"\"\n",
    "        # -- [1] Conv --\n",
    "        for block in self.conv_blocks:\n",
    "            x = block(x)\n",
    "            \n",
    "        # -- [3] 出力層 --\n",
    "        x = self.out8(x)\n",
    "        return x\n"
   ]
  },
  {
   "cell_type": "markdown",
   "id": "388776b2-e3b5-40f6-a6e5-587ea2297089",
   "metadata": {},
   "source": [
    "### 5-4: DeepConvLstm (ver.2)\n",
    "\n",
    "論文で提案されているモデルの構成です．ver.1に対して，LSTM層が追加されています．\n",
    "LSTMによって，長期的な依存関係を学習することができるようになります．"
   ]
  },
  {
   "cell_type": "code",
   "execution_count": 7,
   "id": "932a3e8b-34e5-4052-9f7b-c025f5ece061",
   "metadata": {},
   "outputs": [],
   "source": [
    "class DeepConvLstm(nn.Module):\n",
    "    \"\"\"論文で提案されている構成\n",
    "    \"\"\"\n",
    "    def __init__(self, in_ch: int = 3, num_classes: int = None):\n",
    "        super().__init__()\n",
    "        if num_classes is None:\n",
    "            num_classes = len(OPENPACK_OPERATIONS)\n",
    "\n",
    "        # -- [1] CNN (畳み込み層) --\n",
    "        # *** Edit Here ***\n",
    "        num_conv_layers = 4 # 使用する畳み込み層の数 (Default: 4)\n",
    "        num_conv_filter = 64 # 各層の畳み込みフィルタの数 (Default: 64)\n",
    "        ks = 5 # 畳み込みフィルタのサイズ; kernel size, \n",
    "        # ******************\n",
    "        \n",
    "        blocks = []\n",
    "        for i in range(num_conv_layers):\n",
    "            in_ch_ = in_ch if i == 0 else 64\n",
    "            blocks.append(\n",
    "                nn.Sequential(\n",
    "                    nn.Conv2d(in_ch_, 64, kernel_size=(5, 1), padding=(2, 0)),\n",
    "                    nn.BatchNorm2d(64),\n",
    "                    nn.ReLU(),\n",
    "                )\n",
    "            )\n",
    "        self.conv_blocks = nn.ModuleList(blocks)\n",
    "\n",
    "        # -- [2] LSTM --\n",
    "        # *** Edit Here ***        \n",
    "        hidden_units = 128 # LSTM層の隠れニューロンの数\n",
    "        # ******************\n",
    "        \n",
    "        self.lstm6 = nn.LSTM(num_conv_filter, hidden_units, batch_first=True)\n",
    "        self.lstm7 = nn.LSTM(hidden_units, hidden_units, batch_first=True)\n",
    "        self.dropout6 = nn.Dropout(p=0.5)\n",
    "        self.dropout7 = nn.Dropout(p=0.5)\n",
    "\n",
    "        # -- [3] 出力層 --\n",
    "        self.out8 = nn.Conv2d(\n",
    "            hidden_units,\n",
    "            num_classes,\n",
    "            1,\n",
    "            stride=1,\n",
    "            padding=0,\n",
    "        )\n",
    "\n",
    "    def forward(self, x: torch.Tensor) -> torch.Tensor:\n",
    "        \"\"\"\n",
    "        Args:\n",
    "            x (torch.Tensor): shape = (B, CH, T, 1)\n",
    "        Returns:\n",
    "            torch.Tensor: shape = (B, N_CLASSES, T, 1)\n",
    "        \"\"\"\n",
    "        # -- [1] Conv --\n",
    "        for block in self.conv_blocks:\n",
    "            x = block(x)\n",
    "\n",
    "        # -- [2] LSTM (!! 追加 !!) --\n",
    "        # Reshape: (B, CH, 1, T) -> (B, T, CH)\n",
    "        x = x.squeeze(3).transpose(1, 2)\n",
    "\n",
    "        x, _ = self.lstm6(x)\n",
    "        x = self.dropout6(x)\n",
    "        x, _ = self.lstm7(x)\n",
    "        x = self.dropout7(x)\n",
    "\n",
    "        # Reshape: (B, T, CH) -> (B, CH, T, 1)\n",
    "        x = x.transpose(1, 2).unsqueeze(3) \n",
    "        \n",
    "        # -- [3] 出力層 --\n",
    "        x = self.out8(x)\n",
    "        return x\n"
   ]
  },
  {
   "cell_type": "markdown",
   "id": "c5b37cb8-0da8-4bd0-934c-b91b9d7f27f7",
   "metadata": {},
   "source": [
    "### 5-5: DeepConvLstm (ver.3)\n",
    "\n",
    "ver.2のLSTM層を，双方向 (時間の進む&戻る) の依存関係を考慮する設定に書き換えました．\n",
    "この変更により，注目した部分の行動の推定を，前の作業工程の情報だけでなく，これから起こる作業工程の情報も考慮して推定することができるようになります．"
   ]
  },
  {
   "cell_type": "code",
   "execution_count": 8,
   "id": "b96841a0-cfbd-4113-b23e-32c19138bd1a",
   "metadata": {},
   "outputs": [],
   "source": [
    "class DeepConvLstmV3(nn.Module):\n",
    "    def __init__(self, in_ch: int = 3, num_classes: int = None):\n",
    "        super().__init__()\n",
    "        if num_classes is None:\n",
    "            num_classes = len(OPENPACK_OPERATIONS)\n",
    "\n",
    "        # -- [1] CNN (畳み込み層) --\n",
    "        # *** Edit Here ***\n",
    "        num_conv_layers = 4 # 使用する畳み込み層の数 (Default: 4)\n",
    "        num_conv_filter = 64 # 各層の畳み込みフィルタの数 (Default: 64)\n",
    "        ks = 5 # 畳み込みフィルタのサイズ; kernel size, \n",
    "        # ******************\n",
    "        \n",
    "        blocks = []\n",
    "        for i in range(num_conv_layers):\n",
    "            in_ch_ = in_ch if i == 0 else 64\n",
    "            blocks.append(\n",
    "                nn.Sequential(\n",
    "                    nn.Conv2d(in_ch_, 64, kernel_size=(5, 1), padding=(2, 0)),\n",
    "                    nn.BatchNorm2d(64),\n",
    "                    nn.ReLU(),\n",
    "                )\n",
    "            )\n",
    "        self.conv_blocks = nn.ModuleList(blocks)\n",
    "\n",
    "        # -- [2] LSTM --\n",
    "        # *** Edit Here ***        \n",
    "        hidden_units = 128 # LSTM層の隠れニューロンの数\n",
    "        # ******************\n",
    "        \n",
    "        # NOTE: bidirectionalをTrueに変更\n",
    "        self.lstm6 = nn.LSTM(num_conv_filter, hidden_units, batch_first=True, bidirectional=True)\n",
    "        self.lstm7 = nn.LSTM(hidden_units*2, hidden_units, batch_first=True,  bidirectional=True)\n",
    "        self.dropout6 = nn.Dropout(p=0.5)\n",
    "        self.dropout7 = nn.Dropout(p=0.5)\n",
    "\n",
    "        # -- [3] 出力層 --\n",
    "        self.out8 = nn.Conv2d(\n",
    "            hidden_units * 2,\n",
    "            num_classes,\n",
    "            1,\n",
    "            stride=1,\n",
    "            padding=0,\n",
    "        )\n",
    "\n",
    "    def forward(self, x: torch.Tensor) -> torch.Tensor:\n",
    "        \"\"\"\n",
    "        Args:\n",
    "            x (torch.Tensor): shape = (B, CH, T, 1)\n",
    "        Returns:\n",
    "            torch.Tensor: shape = (B, N_CLASSES, T, 1)\n",
    "        \"\"\"\n",
    "        # -- [1] Conv --\n",
    "        for block in self.conv_blocks:\n",
    "            x = block(x)\n",
    "\n",
    "        # -- [2] LSTM --\n",
    "        # Reshape: (B, CH, 1, T) -> (B, T, CH)\n",
    "        x = x.squeeze(3).transpose(1, 2)\n",
    "\n",
    "        x, _ = self.lstm6(x)\n",
    "        x = self.dropout6(x)\n",
    "        x, _ = self.lstm7(x)\n",
    "        x = self.dropout7(x)\n",
    "\n",
    "        # Reshape: (B, T, CH) -> (B, CH, T, 1)\n",
    "        x = x.transpose(1, 2).unsqueeze(3) \n",
    "        \n",
    "        # -- [3] 出力層 --\n",
    "        x = self.out8(x)\n",
    "        return x\n"
   ]
  },
  {
   "cell_type": "code",
   "execution_count": null,
   "id": "2003851c-72f6-43cd-bb32-668d4420e0f1",
   "metadata": {},
   "outputs": [],
   "source": []
  },
  {
   "cell_type": "markdown",
   "id": "7d581508-54ab-44b1-8351-d7e3a31efc0a",
   "metadata": {},
   "source": [
    "## [6] モデルの学習"
   ]
  },
  {
   "cell_type": "markdown",
   "id": "40f19069-4df8-49f6-9d10-3290b2709d23",
   "metadata": {},
   "source": [
    "### 6-1: DataModuleの定義\n",
    "データセットの読み込みと前処理を担当するモジュールを初期化します．編集なしで，そのまま実行してください．"
   ]
  },
  {
   "cell_type": "code",
   "execution_count": 9,
   "id": "59e2f279-35fa-421d-b9aa-7b0042906759",
   "metadata": {},
   "outputs": [],
   "source": [
    "class OpenPackImuDataModule(optorch.data.OpenPackBaseDataModule):\n",
    "    dataset_class = optorch.data.datasets.OpenPackImu\n",
    "\n",
    "    def get_kwargs_for_datasets(self, stage: Optional[str] = None) -> Dict:\n",
    "        kwargs = {\n",
    "            \"window\": self.cfg.train.window,\n",
    "            \"debug\": self.cfg.debug,\n",
    "        }\n",
    "        return kwargs"
   ]
  },
  {
   "cell_type": "markdown",
   "id": "eca2982d-33b3-43bf-a3e8-705eeb097749",
   "metadata": {
    "tags": []
   },
   "source": [
    "### 6-2: Lightning Moduleの定義 (編集必要!)\n",
    "学習ループの監督を担当するモジュール．DeepConvLSTMを定義したセルを実行した後に実行します．\n",
    "`init_modeol()` メソッドの中で，実行したいモデルをコメントアウトしてください．"
   ]
  },
  {
   "cell_type": "code",
   "execution_count": 10,
   "id": "652fef87-bb07-46b2-994f-ada53675ee7f",
   "metadata": {},
   "outputs": [],
   "source": [
    "class MyModelLM(optorch.lightning.BaseLightningModule):\n",
    "\n",
    "    def init_model(self, cfg: DictConfig) -> torch.nn.Module:\n",
    "        \"\"\" モデルの初期化\n",
    "        \n",
    "        上で定義したモデル ``DeepConvLSTM()`` のインスタンスを生成する．\n",
    "        実験したいモデルのコメントアウトを外してください．\n",
    "        \"\"\"\n",
    "        # !! ここを編集 !!\n",
    "        # NOTE: 実行したいモデルを選択\n",
    "        model = DeepConvLstmV1()\n",
    "        # model = DeepConvLstm()\n",
    "        # model = DeepConvLstmV3()\n",
    "        return model\n",
    "    \n",
    "    \n",
    "    def init_criterion(self, cfg: DictConfig):\n",
    "        \"\"\"評価指標を定義する．\n",
    "        \"\"\"\n",
    "        ignore_cls = [(i, c) for i, c in enumerate(cfg.dataset.classes.classes) if c.is_ignore]\n",
    "        \n",
    "        criterion = torch.nn.CrossEntropyLoss(\n",
    "            ignore_index=ignore_cls[-1][0]\n",
    "        )\n",
    "        return criterion\n",
    "\n",
    "    def training_step(self, batch: Dict, batch_idx: int) -> Dict:\n",
    "        \"\"\"学習ループの定義． ミニバッチを受け取り，lossの計算までを記述．\n",
    "        \"\"\"\n",
    "        x = batch[\"x\"].to(device=self.device, dtype=torch.float)\n",
    "        t = batch[\"t\"].to(device=self.device, dtype=torch.long)\n",
    "        y_hat = self(x).squeeze(3)\n",
    "\n",
    "        loss = self.criterion(y_hat, t)\n",
    "        acc = self.calc_accuracy(y_hat, t)\n",
    "        return {\"loss\": loss, \"acc\": acc}\n",
    "\n",
    "    def test_step(self, batch: Dict, batch_idx: int) -> Dict:\n",
    "        \"\"\"推論ループの定義．ミニバッチを受け取り，モデルの推論結果の出力を返す．\n",
    "        \"\"\"\n",
    "        x = batch[\"x\"].to(device=self.device, dtype=torch.float)\n",
    "        t = batch[\"t\"].to(device=self.device, dtype=torch.long)\n",
    "        ts_unix = batch[\"ts\"]\n",
    "\n",
    "        y_hat = self(x).squeeze(3)\n",
    "\n",
    "        outputs = dict(t=t, y=y_hat, unixtime=ts_unix)\n",
    "        return outputs\n"
   ]
  },
  {
   "cell_type": "code",
   "execution_count": 11,
   "id": "6ec859ea-fc23-4f48-a611-8253523ad245",
   "metadata": {},
   "outputs": [],
   "source": [
    "def test(cfg: DictConfig, datamodule: pl.LightningDataModule, trainer: pl.Trainer):\n",
    "    \"\"\" テストデータで推論を行う. \"\"\"\n",
    "    datamodule.setup(\"test\")\n",
    "    dataloaders = datamodule.test_dataloader()\n",
    "    split = cfg.dataset.split.test\n",
    "\n",
    "    # テストデータに対して推論\n",
    "    outputs = dict()\n",
    "    for i, dataloader in enumerate(dataloaders):\n",
    "        user, session = split[i]\n",
    "        logger.info(f\"test on {user}-{session}\")\n",
    "\n",
    "        trainer.test(plmodel, dataloader)\n",
    "\n",
    "        # save model outputs\n",
    "        pred_dir = Path(\n",
    "            cfg.path.logdir.predict.format(user=user, session=session)\n",
    "        )\n",
    "        pred_dir.mkdir(parents=True, exist_ok=True)\n",
    "\n",
    "        for key, arr in plmodel.test_results.items():\n",
    "            path = Path(pred_dir, f\"{key}.npy\")\n",
    "            np.save(path, arr)\n",
    "            logger.info(f\"save {key}[shape={arr.shape}] to {path}\")\n",
    "\n",
    "        outputs[f\"{user}-{session}\"] = {\n",
    "            \"t_idx\": plmodel.test_results.get(\"t\"),\n",
    "            \"y\": plmodel.test_results.get(\"y\"),\n",
    "            \"unixtime\": plmodel.test_results.get(\"unixtime\"),\n",
    "        }\n",
    "    \n",
    "    # 評価スコアを計算\n",
    "    df_summary = eval_operation_segmentation_wrapper(\n",
    "        cfg, outputs, OPENPACK_OPERATIONS)\n",
    "       \n",
    "    return outputs, df_summary\n",
    "\n",
    "\n",
    "def plot_timeline(samples, t_idx, y_softmax, title_prefix=\"\"):\n",
    "    \"\"\"モデルの出力結果のヒートマップを描画 \"\"\"\n",
    "    fig, ax0 = plt.subplots(1, 1, figsize=(20, 4))\n",
    "\n",
    "    prob = y_softmax[slice(*samples)].transpose(1, 0, 2).reshape(11, -1)\n",
    "    gt = t_idx[slice(*samples)].ravel()\n",
    "    pred = prob.argmax(axis=0)\n",
    "    \n",
    "    print(f\"prob={prob.shape} pred={pred.shape}, gt={gt.shape}\")\n",
    "    seq_len = prob.shape[1]\n",
    "\n",
    "    # -- Prob --\n",
    "    sns.heatmap(\n",
    "        prob,\n",
    "        vmin=0, vmax=1.0, cmap=\"viridis\", cbar=False,\n",
    "        ax=ax0\n",
    "    )\n",
    "\n",
    "    # -- Ground Truth --\n",
    "    x = np.arange(seq_len)\n",
    "    ax0.plot(\n",
    "        x, gt + 0.5, label=\"ground truth\",\n",
    "        linewidth=5, color=\"C3\", \n",
    "    )\n",
    "\n",
    "    # -- Style --\n",
    "    ax0.invert_yaxis()\n",
    "    xticks = np.arange(0, seq_len, 30 * 30)\n",
    "    xticks_minor = np.arange(0, seq_len, 30 * 10)\n",
    "    ax0.set_xticks(xticks)\n",
    "    ax0.set_xticklabels(xticks // 30 + samples[0] * 60, rotation=0)\n",
    "    ax0.set_xticks(xticks_minor, minor=True)\n",
    "\n",
    "    ax0.set_yticks(np.arange(11) + 0.5)\n",
    "    ax0.set_yticklabels(np.arange(11), rotation=0)\n",
    "    \n",
    "    \n",
    "    ax0.set_xlabel(\"Time [s]\", fontsize=\"large\", fontweight=\"bold\")\n",
    "    ax0.set_ylabel(\"Class Index\", fontsize=\"large\", fontweight=\"bold\")\n",
    "    ax0.set_title(f\"{title_prefix} | {samples[0]}min ~ {samples[1]}min\", fontsize=\"xx-large\", fontweight=\"bold\")\n",
    "    ax0.grid(True, which=\"minor\", linestyle=\":\")\n",
    "    ax0.legend(loc=\"upper right\")\n",
    "\n",
    "    fig.tight_layout()\n",
    "    return fig\n"
   ]
  },
  {
   "cell_type": "markdown",
   "id": "e7a61ead-99e5-4072-8fd3-e5abecc5529a",
   "metadata": {},
   "source": [
    "### 6-3: モデルの学習に必要なモジュールの初期化\n",
    "(1)モデル, (2) データセット, (3) Trainer を初期化します．"
   ]
  },
  {
   "cell_type": "code",
   "execution_count": 12,
   "id": "f8d63c1a-20ce-4581-8e79-7826e2afd083",
   "metadata": {},
   "outputs": [
    {
     "name": "stderr",
     "output_type": "stream",
     "text": [
      "2022-09-28 22:47:51 | INFO | openpack_torch.utils.random | Reset Seeds: python=0, numpy=0, Pytorch (cpu=0, cuda=0)\n"
     ]
    }
   ],
   "source": [
    "# 再現性を高めるためモデル初期化の直前にランダムシードの初期化を行う.\n",
    "optorch.utils.reset_seed(seed=0)\n",
    "\n",
    "device = torch.device(\"cuda\")\n",
    "logdir = Path(cfg.path.logdir.rootdir)\n",
    "logger.debug(f\"logdir = {logdir}\")\n",
    "\n",
    "datamodule = OpenPackImuDataModule(cfg) # (1) データセット\n",
    "plmodel = MyModelLM(cfg).to(dtype=torch.float, device=device) # (2) モデルの初期化"
   ]
  },
  {
   "cell_type": "code",
   "execution_count": 13,
   "id": "04df6672-0398-4daa-b38e-5b04e428db63",
   "metadata": {},
   "outputs": [
    {
     "name": "stderr",
     "output_type": "stream",
     "text": [
      "/opt/conda/lib/python3.8/site-packages/pytorch_lightning/trainer/connectors/accelerator_connector.py:446: LightningDeprecationWarning: Setting `Trainer(gpus=[0])` is deprecated in v1.7 and will be removed in v2.0. Please use `Trainer(accelerator='gpu', devices=[0])` instead.\n",
      "  rank_zero_deprecation(\n",
      "GPU available: True (cuda), used: True\n",
      "TPU available: False, using: 0 TPU cores\n",
      "IPU available: False, using: 0 IPUs\n",
      "HPU available: False, using: 0 HPUs\n"
     ]
    }
   ],
   "source": [
    "# NOTE: 学習させたいエポック数を指定\n",
    "num_epoch = 50 \n",
    "\n",
    "checkpoint_callback = pl.callbacks.ModelCheckpoint(\n",
    "    save_top_k=0,\n",
    "    save_last=True,\n",
    "    monitor=None,\n",
    ")\n",
    "\n",
    "trainer = pl.Trainer(\n",
    "    gpus=[0],\n",
    "    max_epochs=num_epoch,\n",
    "    logger=False,  # disable logging module\n",
    "    default_root_dir=logdir,\n",
    "    enable_progress_bar=False,  # disable progress bar\n",
    "    enable_checkpointing=True,\n",
    "    callbacks=[checkpoint_callback],\n",
    ")\n",
    "logger.debug(f\"logdir = {logdir}\")"
   ]
  },
  {
   "cell_type": "code",
   "execution_count": 14,
   "id": "c44f0a87-ca40-40d8-a6ee-16d9c38e0c1c",
   "metadata": {},
   "outputs": [
    {
     "data": {
      "text/plain": [
       "MyModelLM(\n",
       "  (net): DeepConvLstmV1(\n",
       "    (conv_blocks): ModuleList(\n",
       "      (0): Sequential(\n",
       "        (0): Conv2d(3, 64, kernel_size=(5, 1), stride=(1, 1), padding=(2, 0))\n",
       "        (1): BatchNorm2d(64, eps=1e-05, momentum=0.1, affine=True, track_running_stats=True)\n",
       "        (2): ReLU()\n",
       "      )\n",
       "      (1): Sequential(\n",
       "        (0): Conv2d(64, 64, kernel_size=(5, 1), stride=(1, 1), padding=(2, 0))\n",
       "        (1): BatchNorm2d(64, eps=1e-05, momentum=0.1, affine=True, track_running_stats=True)\n",
       "        (2): ReLU()\n",
       "      )\n",
       "      (2): Sequential(\n",
       "        (0): Conv2d(64, 64, kernel_size=(5, 1), stride=(1, 1), padding=(2, 0))\n",
       "        (1): BatchNorm2d(64, eps=1e-05, momentum=0.1, affine=True, track_running_stats=True)\n",
       "        (2): ReLU()\n",
       "      )\n",
       "      (3): Sequential(\n",
       "        (0): Conv2d(64, 64, kernel_size=(5, 1), stride=(1, 1), padding=(2, 0))\n",
       "        (1): BatchNorm2d(64, eps=1e-05, momentum=0.1, affine=True, track_running_stats=True)\n",
       "        (2): ReLU()\n",
       "      )\n",
       "    )\n",
       "    (out8): Conv2d(64, 11, kernel_size=(1, 1), stride=(1, 1))\n",
       "  )\n",
       "  (criterion): CrossEntropyLoss()\n",
       ")"
      ]
     },
     "execution_count": 14,
     "metadata": {},
     "output_type": "execute_result"
    }
   ],
   "source": [
    "# 初期化したモデルを表示\n",
    "plmodel"
   ]
  },
  {
   "cell_type": "markdown",
   "id": "fc4bfa59-1e6e-4f6e-ba66-2f8b89c6cd61",
   "metadata": {},
   "source": [
    "### 6-4: モデルの学習"
   ]
  },
  {
   "cell_type": "markdown",
   "id": "9f16a823-8d27-4504-a8b2-1bd797656480",
   "metadata": {},
   "source": [
    "#### 6-4-1: 学習前のモデルの出力の確認"
   ]
  },
  {
   "cell_type": "code",
   "execution_count": 15,
   "id": "c8c2a4f2-1158-4530-9db7-4f60b51c5a02",
   "metadata": {},
   "outputs": [
    {
     "name": "stderr",
     "output_type": "stream",
     "text": [
      "2022-09-28 22:47:53 | WARNING | openpack_torch.data.datasets | No preprocessing is applied.\n",
      "2022-09-28 22:47:53 | WARNING | openpack_torch.data.datasets | No preprocessing is applied.\n",
      "2022-09-28 22:47:53 | WARNING | openpack_torch.data.datasets | No preprocessing is applied.\n",
      "2022-09-28 22:47:53 | INFO | openpack_torch.data.datamodule | dataset[train]: None\n",
      "2022-09-28 22:47:53 | INFO | openpack_torch.data.datamodule | dataset[val]: None\n",
      "2022-09-28 22:47:53 | INFO | openpack_torch.data.datamodule | dataset[test]: {'U0106-S0100': <openpack_torch.data.datasets.OpenPackImu object at 0x7fd25ff47f10>, 'U0106-S0300': <openpack_torch.data.datasets.OpenPackImu object at 0x7fd25fbe4430>, 'U0106-S0500': <openpack_torch.data.datasets.OpenPackImu object at 0x7fd25ffd0370>}\n",
      "2022-09-28 22:47:53 | INFO | openpack_torch.data.datamodule | dataset[submission]: None\n",
      "2022-09-28 22:47:53 | INFO | __main__ | test on U0106-S0100\n",
      "LOCAL_RANK: 0 - CUDA_VISIBLE_DEVICES: [0]\n",
      "2022-09-28 22:47:53 | INFO | __main__ | save t[shape=(50, 1800)] to /content/logs/atr-left-wrist/DeepConvLSTM/I01-EXP1-V1-nb/pred/U0106-S0100/t.npy\n",
      "2022-09-28 22:47:53 | INFO | __main__ | save y[shape=(50, 11, 1800)] to /content/logs/atr-left-wrist/DeepConvLSTM/I01-EXP1-V1-nb/pred/U0106-S0100/y.npy\n",
      "2022-09-28 22:47:53 | INFO | __main__ | save unixtime[shape=(50, 1800)] to /content/logs/atr-left-wrist/DeepConvLSTM/I01-EXP1-V1-nb/pred/U0106-S0100/unixtime.npy\n",
      "2022-09-28 22:47:53 | INFO | __main__ | test on U0106-S0300\n",
      "LOCAL_RANK: 0 - CUDA_VISIBLE_DEVICES: [0]\n",
      "2022-09-28 22:47:54 | INFO | __main__ | save t[shape=(35, 1800)] to /content/logs/atr-left-wrist/DeepConvLSTM/I01-EXP1-V1-nb/pred/U0106-S0300/t.npy\n",
      "2022-09-28 22:47:54 | INFO | __main__ | save y[shape=(35, 11, 1800)] to /content/logs/atr-left-wrist/DeepConvLSTM/I01-EXP1-V1-nb/pred/U0106-S0300/y.npy\n",
      "2022-09-28 22:47:54 | INFO | __main__ | save unixtime[shape=(35, 1800)] to /content/logs/atr-left-wrist/DeepConvLSTM/I01-EXP1-V1-nb/pred/U0106-S0300/unixtime.npy\n",
      "2022-09-28 22:47:54 | INFO | __main__ | test on U0106-S0500\n",
      "LOCAL_RANK: 0 - CUDA_VISIBLE_DEVICES: [0]\n",
      "2022-09-28 22:47:54 | INFO | __main__ | save t[shape=(18, 1800)] to /content/logs/atr-left-wrist/DeepConvLSTM/I01-EXP1-V1-nb/pred/U0106-S0500/t.npy\n",
      "2022-09-28 22:47:54 | INFO | __main__ | save y[shape=(18, 11, 1800)] to /content/logs/atr-left-wrist/DeepConvLSTM/I01-EXP1-V1-nb/pred/U0106-S0500/y.npy\n",
      "2022-09-28 22:47:54 | INFO | __main__ | save unixtime[shape=(18, 1800)] to /content/logs/atr-left-wrist/DeepConvLSTM/I01-EXP1-V1-nb/pred/U0106-S0500/unixtime.npy\n"
     ]
    }
   ],
   "source": [
    "outputs, df_summary = test(cfg, datamodule, trainer)"
   ]
  },
  {
   "cell_type": "code",
   "execution_count": 16,
   "id": "3ec33c8a-5f50-4057-b71d-b62796a43ab2",
   "metadata": {},
   "outputs": [
    {
     "data": {
      "text/html": [
       "<div>\n",
       "<style scoped>\n",
       "    .dataframe tbody tr th:only-of-type {\n",
       "        vertical-align: middle;\n",
       "    }\n",
       "\n",
       "    .dataframe tbody tr th {\n",
       "        vertical-align: top;\n",
       "    }\n",
       "\n",
       "    .dataframe thead th {\n",
       "        text-align: right;\n",
       "    }\n",
       "</style>\n",
       "<table border=\"1\" class=\"dataframe\">\n",
       "  <thead>\n",
       "    <tr style=\"text-align: right;\">\n",
       "      <th></th>\n",
       "      <th>name</th>\n",
       "      <th>id</th>\n",
       "      <th>precision</th>\n",
       "      <th>recall</th>\n",
       "      <th>f1</th>\n",
       "      <th>support</th>\n",
       "      <th>key</th>\n",
       "    </tr>\n",
       "  </thead>\n",
       "  <tbody>\n",
       "    <tr>\n",
       "      <th>36</th>\n",
       "      <td>avg/macro</td>\n",
       "      <td>-1</td>\n",
       "      <td>0.052859</td>\n",
       "      <td>0.101657</td>\n",
       "      <td>0.029802</td>\n",
       "      <td>None</td>\n",
       "      <td>all</td>\n",
       "    </tr>\n",
       "    <tr>\n",
       "      <th>37</th>\n",
       "      <td>avg/weighted</td>\n",
       "      <td>-1</td>\n",
       "      <td>0.046417</td>\n",
       "      <td>0.154158</td>\n",
       "      <td>0.042717</td>\n",
       "      <td>None</td>\n",
       "      <td>all</td>\n",
       "    </tr>\n",
       "    <tr>\n",
       "      <th>38</th>\n",
       "      <td>Picking</td>\n",
       "      <td>100</td>\n",
       "      <td>0.000000</td>\n",
       "      <td>0.000000</td>\n",
       "      <td>0.000000</td>\n",
       "      <td>564</td>\n",
       "      <td>all</td>\n",
       "    </tr>\n",
       "    <tr>\n",
       "      <th>39</th>\n",
       "      <td>Relocate Item Label</td>\n",
       "      <td>200</td>\n",
       "      <td>0.153586</td>\n",
       "      <td>1.000000</td>\n",
       "      <td>0.266276</td>\n",
       "      <td>908</td>\n",
       "      <td>all</td>\n",
       "    </tr>\n",
       "    <tr>\n",
       "      <th>40</th>\n",
       "      <td>Assemble Box</td>\n",
       "      <td>300</td>\n",
       "      <td>0.000000</td>\n",
       "      <td>0.000000</td>\n",
       "      <td>0.000000</td>\n",
       "      <td>1006</td>\n",
       "      <td>all</td>\n",
       "    </tr>\n",
       "    <tr>\n",
       "      <th>41</th>\n",
       "      <td>Insert Items</td>\n",
       "      <td>400</td>\n",
       "      <td>0.000000</td>\n",
       "      <td>0.000000</td>\n",
       "      <td>0.000000</td>\n",
       "      <td>493</td>\n",
       "      <td>all</td>\n",
       "    </tr>\n",
       "    <tr>\n",
       "      <th>42</th>\n",
       "      <td>Close Box</td>\n",
       "      <td>500</td>\n",
       "      <td>0.000000</td>\n",
       "      <td>0.000000</td>\n",
       "      <td>0.000000</td>\n",
       "      <td>655</td>\n",
       "      <td>all</td>\n",
       "    </tr>\n",
       "    <tr>\n",
       "      <th>43</th>\n",
       "      <td>Attach Box Label</td>\n",
       "      <td>600</td>\n",
       "      <td>0.000000</td>\n",
       "      <td>0.000000</td>\n",
       "      <td>0.000000</td>\n",
       "      <td>325</td>\n",
       "      <td>all</td>\n",
       "    </tr>\n",
       "    <tr>\n",
       "      <th>44</th>\n",
       "      <td>Scan Label</td>\n",
       "      <td>700</td>\n",
       "      <td>0.000000</td>\n",
       "      <td>0.000000</td>\n",
       "      <td>0.000000</td>\n",
       "      <td>679</td>\n",
       "      <td>all</td>\n",
       "    </tr>\n",
       "    <tr>\n",
       "      <th>45</th>\n",
       "      <td>Attach Shipping Label</td>\n",
       "      <td>800</td>\n",
       "      <td>0.000000</td>\n",
       "      <td>0.000000</td>\n",
       "      <td>0.000000</td>\n",
       "      <td>463</td>\n",
       "      <td>all</td>\n",
       "    </tr>\n",
       "    <tr>\n",
       "      <th>46</th>\n",
       "      <td>Put on Back Table</td>\n",
       "      <td>900</td>\n",
       "      <td>0.375000</td>\n",
       "      <td>0.016575</td>\n",
       "      <td>0.031746</td>\n",
       "      <td>362</td>\n",
       "      <td>all</td>\n",
       "    </tr>\n",
       "    <tr>\n",
       "      <th>47</th>\n",
       "      <td>Fill out Order</td>\n",
       "      <td>1000</td>\n",
       "      <td>0.000000</td>\n",
       "      <td>0.000000</td>\n",
       "      <td>0.000000</td>\n",
       "      <td>474</td>\n",
       "      <td>all</td>\n",
       "    </tr>\n",
       "  </tbody>\n",
       "</table>\n",
       "</div>"
      ],
      "text/plain": [
       "                     name    id  precision    recall        f1 support  key\n",
       "36              avg/macro    -1   0.052859  0.101657  0.029802    None  all\n",
       "37           avg/weighted    -1   0.046417  0.154158  0.042717    None  all\n",
       "38                Picking   100   0.000000  0.000000  0.000000     564  all\n",
       "39    Relocate Item Label   200   0.153586  1.000000  0.266276     908  all\n",
       "40           Assemble Box   300   0.000000  0.000000  0.000000    1006  all\n",
       "41           Insert Items   400   0.000000  0.000000  0.000000     493  all\n",
       "42              Close Box   500   0.000000  0.000000  0.000000     655  all\n",
       "43       Attach Box Label   600   0.000000  0.000000  0.000000     325  all\n",
       "44             Scan Label   700   0.000000  0.000000  0.000000     679  all\n",
       "45  Attach Shipping Label   800   0.000000  0.000000  0.000000     463  all\n",
       "46      Put on Back Table   900   0.375000  0.016575  0.031746     362  all\n",
       "47         Fill out Order  1000   0.000000  0.000000  0.000000     474  all"
      ]
     },
     "execution_count": 16,
     "metadata": {},
     "output_type": "execute_result"
    }
   ],
   "source": [
    "df_summary[df_summary[\"key\"]==\"all\"]"
   ]
  },
  {
   "cell_type": "code",
   "execution_count": 17,
   "id": "3a91b6cf-b774-4b4c-b4a2-12da4630cce3",
   "metadata": {},
   "outputs": [
    {
     "name": "stdout",
     "output_type": "stream",
     "text": [
      "unixtimes=(18, 1800), t_idx=(18, 1800), y=(18, 11, 1800), y_softmax=(18, 11, 1800)\n"
     ]
    }
   ],
   "source": [
    "# 可視化したいセグメント\n",
    "key = \"U0106-S0500\"\n",
    "\n",
    "# 予測結果の取得\n",
    "unixtimes = outputs[key][\"unixtime\"] \n",
    "t_idx = outputs[key][\"t_idx\"]\n",
    "y = outputs[key][\"y\"]\n",
    "y_softmax = softmax(y, axis=1)\n",
    "print(f\"unixtimes={unixtimes.shape}, t_idx={t_idx.shape}, y={y.shape}, y_softmax={y_softmax.shape}\")"
   ]
  },
  {
   "cell_type": "code",
   "execution_count": 18,
   "id": "acf881b1-dc51-45d0-afda-98679aeb7675",
   "metadata": {},
   "outputs": [
    {
     "name": "stdout",
     "output_type": "stream",
     "text": [
      "prob=(11, 18000) pred=(18000,), gt=(18000,)\n"
     ]
    },
    {
     "data": {
      "image/png": "[encoded data removed]",
      "text/plain": [
       "<Figure size 1440x288 with 1 Axes>"
      ]
     },
     "metadata": {
      "needs_background": "light"
     },
     "output_type": "display_data"
    }
   ],
   "source": [
    "samples = (0, 10)\n",
    "\n",
    "fig = plot_timeline(samples, t_idx, y_softmax, title_prefix=f\"{cfg.model.name} | {key}\")\n",
    "fig.show()"
   ]
  },
  {
   "cell_type": "markdown",
   "id": "dd4c6f21-9e77-4285-b9e1-514ce5055d9a",
   "metadata": {},
   "source": [
    "ヒートマップの見方:\n",
    "\n",
    "- 赤いライン: 正解ラベル\n",
    "- 背景: 予測確率 (確率が高いところは黄色く表示される． 学習前はランダムな値しか出していないので，どのクラスも予測確率は低い.)\n",
    "- 横軸: 時間\n",
    "- 縦軸: 行動クラスのインデックス (1 = Picking[ID100], 2=Relocate Label[ID=200], ...)\n",
    "\n",
    "ぜひ学習前のこの結果を覚えておいて頂き，学習後の結果と比較してみてください．"
   ]
  },
  {
   "cell_type": "markdown",
   "id": "996d74a9-b366-40c7-b344-d71a932e3482",
   "metadata": {},
   "source": [
    "#### 6-4-2: 学習"
   ]
  },
  {
   "cell_type": "code",
   "execution_count": 19,
   "id": "ccc3b111-16b1-41a1-b8a0-60112611968a",
   "metadata": {},
   "outputs": [
    {
     "name": "stderr",
     "output_type": "stream",
     "text": [
      "2022-09-28 22:47:55 | INFO | __main__ | Start training for 50 epochs.\n",
      "2022-09-28 22:47:56 | WARNING | openpack_torch.data.datasets | No preprocessing is applied.\n",
      "2022-09-28 22:47:56 | WARNING | openpack_torch.data.datasets | No preprocessing is applied.\n",
      "2022-09-28 22:47:56 | WARNING | openpack_torch.data.datasets | No preprocessing is applied.\n",
      "2022-09-28 22:47:56 | INFO | openpack_torch.data.datamodule | dataset[train]: OpenPackImu(index=533, num_sequence=15, submission=False)\n",
      "2022-09-28 22:47:56 | INFO | openpack_torch.data.datamodule | dataset[val]: {'U0106-S0200': <openpack_torch.data.datasets.OpenPackImu object at 0x7fd25400aa00>, 'U0106-S0400': <openpack_torch.data.datasets.OpenPackImu object at 0x7fd2540045e0>}\n",
      "2022-09-28 22:47:56 | INFO | openpack_torch.data.datamodule | dataset[test]: None\n",
      "2022-09-28 22:47:56 | INFO | openpack_torch.data.datamodule | dataset[submission]: None\n",
      "LOCAL_RANK: 0 - CUDA_VISIBLE_DEVICES: [0]\n",
      "\n",
      "  | Name      | Type             | Params\n",
      "-----------------------------------------------\n",
      "0 | net       | DeepConvLstmV1   | 63.9 K\n",
      "1 | criterion | CrossEntropyLoss | 0     \n",
      "-----------------------------------------------\n",
      "63.9 K    Trainable params\n",
      "0         Non-trainable params\n",
      "63.9 K    Total params\n",
      "0.256     Total estimated model params size (MB)\n",
      "2022-09-28 22:47:56 | INFO | openpack_torch.lightning | Epoch[000] TRAIN: loss=-1.0000, acc=-1.0000 | VAL: loss= 2.3955, acc= 0.1524\n",
      "2022-09-28 22:47:57 | INFO | openpack_torch.lightning | Epoch[000] TRAIN: loss=-1.0000, acc=-1.0000 | VAL: loss= 2.3824, acc= 0.1795\n",
      "2022-09-28 22:47:57 | INFO | openpack_torch.lightning | Epoch[001] TRAIN: loss= 2.4171, acc= 0.1435 | VAL: loss= 2.2579, acc= 0.2792\n",
      "2022-09-28 22:47:58 | INFO | openpack_torch.lightning | Epoch[002] TRAIN: loss= 2.1931, acc= 0.2924 | VAL: loss= 2.1580, acc= 0.3125\n",
      "2022-09-28 22:47:58 | INFO | openpack_torch.lightning | Epoch[003] TRAIN: loss= 2.0795, acc= 0.3467 | VAL: loss= 2.1089, acc= 0.3200\n",
      "2022-09-28 22:47:59 | INFO | openpack_torch.lightning | Epoch[004] TRAIN: loss= 2.0130, acc= 0.3637 | VAL: loss= 2.0843, acc= 0.3213\n",
      "2022-09-28 22:47:59 | INFO | openpack_torch.lightning | Epoch[005] TRAIN: loss= 1.9626, acc= 0.3730 | VAL: loss= 2.0293, acc= 0.3332\n",
      "2022-09-28 22:48:00 | INFO | openpack_torch.lightning | Epoch[006] TRAIN: loss= 1.9216, acc= 0.3854 | VAL: loss= 2.0179, acc= 0.3287\n",
      "2022-09-28 22:48:00 | INFO | openpack_torch.lightning | Epoch[007] TRAIN: loss= 1.8875, acc= 0.3901 | VAL: loss= 1.9782, acc= 0.3394\n",
      "2022-09-28 22:48:01 | INFO | openpack_torch.lightning | Epoch[008] TRAIN: loss= 1.8605, acc= 0.3963 | VAL: loss= 1.9752, acc= 0.3356\n",
      "2022-09-28 22:48:02 | INFO | openpack_torch.lightning | Epoch[009] TRAIN: loss= 1.8351, acc= 0.4012 | VAL: loss= 1.9514, acc= 0.3391\n",
      "2022-09-28 22:48:02 | INFO | openpack_torch.lightning | Epoch[010] TRAIN: loss= 1.8098, acc= 0.4061 | VAL: loss= 1.9222, acc= 0.3457\n",
      "2022-09-28 22:48:03 | INFO | openpack_torch.lightning | Epoch[011] TRAIN: loss= 1.7916, acc= 0.4096 | VAL: loss= 1.9152, acc= 0.3466\n",
      "2022-09-28 22:48:03 | INFO | openpack_torch.lightning | Epoch[012] TRAIN: loss= 1.7731, acc= 0.4121 | VAL: loss= 1.8897, acc= 0.3503\n",
      "2022-09-28 22:48:04 | INFO | openpack_torch.lightning | Epoch[013] TRAIN: loss= 1.7499, acc= 0.4203 | VAL: loss= 1.8975, acc= 0.3458\n",
      "2022-09-28 22:48:04 | INFO | openpack_torch.lightning | Epoch[014] TRAIN: loss= 1.7333, acc= 0.4196 | VAL: loss= 1.8619, acc= 0.3532\n",
      "2022-09-28 22:48:05 | INFO | openpack_torch.lightning | Epoch[015] TRAIN: loss= 1.7186, acc= 0.4253 | VAL: loss= 1.8706, acc= 0.3495\n",
      "2022-09-28 22:48:05 | INFO | openpack_torch.lightning | Epoch[016] TRAIN: loss= 1.7043, acc= 0.4265 | VAL: loss= 1.8566, acc= 0.3527\n",
      "2022-09-28 22:48:06 | INFO | openpack_torch.lightning | Epoch[017] TRAIN: loss= 1.6911, acc= 0.4290 | VAL: loss= 1.8271, acc= 0.3709\n",
      "2022-09-28 22:48:06 | INFO | openpack_torch.lightning | Epoch[018] TRAIN: loss= 1.6765, acc= 0.4305 | VAL: loss= 1.8406, acc= 0.3560\n",
      "2022-09-28 22:48:07 | INFO | openpack_torch.lightning | Epoch[019] TRAIN: loss= 1.6610, acc= 0.4342 | VAL: loss= 1.8217, acc= 0.3627\n",
      "2022-09-28 22:48:07 | INFO | openpack_torch.lightning | Epoch[020] TRAIN: loss= 1.6475, acc= 0.4367 | VAL: loss= 1.8234, acc= 0.3626\n",
      "2022-09-28 22:48:08 | INFO | openpack_torch.lightning | Epoch[021] TRAIN: loss= 1.6386, acc= 0.4383 | VAL: loss= 1.8093, acc= 0.3612\n",
      "2022-09-28 22:48:08 | INFO | openpack_torch.lightning | Epoch[022] TRAIN: loss= 1.6247, acc= 0.4436 | VAL: loss= 1.8038, acc= 0.3735\n",
      "2022-09-28 22:48:09 | INFO | openpack_torch.lightning | Epoch[023] TRAIN: loss= 1.6098, acc= 0.4466 | VAL: loss= 1.8096, acc= 0.3615\n",
      "2022-09-28 22:48:09 | INFO | openpack_torch.lightning | Epoch[024] TRAIN: loss= 1.5994, acc= 0.4496 | VAL: loss= 1.7917, acc= 0.3773\n",
      "2022-09-28 22:48:10 | INFO | openpack_torch.lightning | Epoch[025] TRAIN: loss= 1.5914, acc= 0.4513 | VAL: loss= 1.7858, acc= 0.3781\n",
      "2022-09-28 22:48:10 | INFO | openpack_torch.lightning | Epoch[026] TRAIN: loss= 1.5825, acc= 0.4535 | VAL: loss= 1.7800, acc= 0.3699\n",
      "2022-09-28 22:48:11 | INFO | openpack_torch.lightning | Epoch[027] TRAIN: loss= 1.5723, acc= 0.4571 | VAL: loss= 1.7721, acc= 0.3828\n",
      "2022-09-28 22:48:11 | INFO | openpack_torch.lightning | Epoch[028] TRAIN: loss= 1.5594, acc= 0.4599 | VAL: loss= 1.7610, acc= 0.3911\n",
      "2022-09-28 22:48:12 | INFO | openpack_torch.lightning | Epoch[029] TRAIN: loss= 1.5548, acc= 0.4614 | VAL: loss= 1.7530, acc= 0.3923\n",
      "2022-09-28 22:48:12 | INFO | openpack_torch.lightning | Epoch[030] TRAIN: loss= 1.5441, acc= 0.4658 | VAL: loss= 1.7601, acc= 0.3785\n",
      "2022-09-28 22:48:13 | INFO | openpack_torch.lightning | Epoch[031] TRAIN: loss= 1.5395, acc= 0.4664 | VAL: loss= 1.7477, acc= 0.3891\n",
      "2022-09-28 22:48:13 | INFO | openpack_torch.lightning | Epoch[032] TRAIN: loss= 1.5316, acc= 0.4695 | VAL: loss= 1.7537, acc= 0.3859\n",
      "2022-09-28 22:48:14 | INFO | openpack_torch.lightning | Epoch[033] TRAIN: loss= 1.5230, acc= 0.4725 | VAL: loss= 1.7347, acc= 0.3930\n",
      "2022-09-28 22:48:14 | INFO | openpack_torch.lightning | Epoch[034] TRAIN: loss= 1.5146, acc= 0.4747 | VAL: loss= 1.7536, acc= 0.3795\n",
      "2022-09-28 22:48:15 | INFO | openpack_torch.lightning | Epoch[035] TRAIN: loss= 1.5051, acc= 0.4782 | VAL: loss= 1.7493, acc= 0.3774\n",
      "2022-09-28 22:48:15 | INFO | openpack_torch.lightning | Epoch[036] TRAIN: loss= 1.4962, acc= 0.4803 | VAL: loss= 1.7312, acc= 0.3987\n",
      "2022-09-28 22:48:16 | INFO | openpack_torch.lightning | Epoch[037] TRAIN: loss= 1.4903, acc= 0.4832 | VAL: loss= 1.7396, acc= 0.3794\n",
      "2022-09-28 22:48:17 | INFO | openpack_torch.lightning | Epoch[038] TRAIN: loss= 1.4842, acc= 0.4837 | VAL: loss= 1.7456, acc= 0.3781\n",
      "2022-09-28 22:48:17 | INFO | openpack_torch.lightning | Epoch[039] TRAIN: loss= 1.4776, acc= 0.4865 | VAL: loss= 1.7183, acc= 0.4028\n",
      "2022-09-28 22:48:18 | INFO | openpack_torch.lightning | Epoch[040] TRAIN: loss= 1.4804, acc= 0.4846 | VAL: loss= 1.7221, acc= 0.3961\n",
      "2022-09-28 22:48:18 | INFO | openpack_torch.lightning | Epoch[041] TRAIN: loss= 1.4717, acc= 0.4903 | VAL: loss= 1.7144, acc= 0.4028\n",
      "2022-09-28 22:48:19 | INFO | openpack_torch.lightning | Epoch[042] TRAIN: loss= 1.4632, acc= 0.4923 | VAL: loss= 1.7197, acc= 0.3946\n",
      "2022-09-28 22:48:19 | INFO | openpack_torch.lightning | Epoch[043] TRAIN: loss= 1.4585, acc= 0.4933 | VAL: loss= 1.7238, acc= 0.3966\n",
      "2022-09-28 22:48:20 | INFO | openpack_torch.lightning | Epoch[044] TRAIN: loss= 1.4548, acc= 0.4938 | VAL: loss= 1.7316, acc= 0.3914\n",
      "2022-09-28 22:48:20 | INFO | openpack_torch.lightning | Epoch[045] TRAIN: loss= 1.4488, acc= 0.4961 | VAL: loss= 1.7101, acc= 0.3983\n",
      "2022-09-28 22:48:21 | INFO | openpack_torch.lightning | Epoch[046] TRAIN: loss= 1.4420, acc= 0.4985 | VAL: loss= 1.7056, acc= 0.4083\n",
      "2022-09-28 22:48:21 | INFO | openpack_torch.lightning | Epoch[047] TRAIN: loss= 1.4352, acc= 0.4997 | VAL: loss= 1.7113, acc= 0.4069\n",
      "2022-09-28 22:48:22 | INFO | openpack_torch.lightning | Epoch[048] TRAIN: loss= 1.4309, acc= 0.5028 | VAL: loss= 1.7027, acc= 0.4073\n",
      "2022-09-28 22:48:22 | INFO | openpack_torch.lightning | Epoch[049] TRAIN: loss= 1.4317, acc= 0.5022 | VAL: loss= 1.7058, acc= 0.3952\n",
      "`Trainer.fit` stopped: `max_epochs=50` reached.\n",
      "2022-09-28 22:48:22 | INFO | __main__ | Finish training!\n"
     ]
    }
   ],
   "source": [
    "logger.info(f\"Start training for {num_epoch} epochs.\")\n",
    "trainer.fit(plmodel, datamodule)\n",
    "logger.info(\"Finish training!\")"
   ]
  },
  {
   "cell_type": "markdown",
   "id": "1077aaf4-9084-4ff3-9882-c772a93f491b",
   "metadata": {},
   "source": [
    "#### 6-4-5: 学習曲線の表示\n",
    "\n",
    "モデルの学習がうまく行っているか確認するために，epochごとのlossの変化をプロットします．\n",
    "lossがepochが進むにつれて徐々に下がっていくことを確認してください．"
   ]
  },
  {
   "cell_type": "code",
   "execution_count": 20,
   "id": "5fe6a607-6921-4440-a03b-03f35b72ff2b",
   "metadata": {},
   "outputs": [],
   "source": [
    "df = pd.concat([\n",
    "    pd.DataFrame(plmodel.log_dict[\"train\"]),\n",
    "    pd.DataFrame(plmodel.log_dict[\"val\"]),\n",
    "],axis=1,)\n",
    "df.index.name = \"epoch\""
   ]
  },
  {
   "cell_type": "code",
   "execution_count": 21,
   "id": "65b6eb10-9584-483b-8a44-deb539528f90",
   "metadata": {},
   "outputs": [
    {
     "data": {
      "text/html": [
       "<div>\n",
       "<style scoped>\n",
       "    .dataframe tbody tr th:only-of-type {\n",
       "        vertical-align: middle;\n",
       "    }\n",
       "\n",
       "    .dataframe tbody tr th {\n",
       "        vertical-align: top;\n",
       "    }\n",
       "\n",
       "    .dataframe thead th {\n",
       "        text-align: right;\n",
       "    }\n",
       "</style>\n",
       "<table border=\"1\" class=\"dataframe\">\n",
       "  <thead>\n",
       "    <tr style=\"text-align: right;\">\n",
       "      <th></th>\n",
       "      <th>train/loss</th>\n",
       "      <th>train/acc</th>\n",
       "      <th>val/loss</th>\n",
       "      <th>val/acc</th>\n",
       "    </tr>\n",
       "    <tr>\n",
       "      <th>epoch</th>\n",
       "      <th></th>\n",
       "      <th></th>\n",
       "      <th></th>\n",
       "      <th></th>\n",
       "    </tr>\n",
       "  </thead>\n",
       "  <tbody>\n",
       "    <tr>\n",
       "      <th>0</th>\n",
       "      <td>2.417099</td>\n",
       "      <td>0.143544</td>\n",
       "      <td>2.395455</td>\n",
       "      <td>0.152440</td>\n",
       "    </tr>\n",
       "    <tr>\n",
       "      <th>1</th>\n",
       "      <td>2.193122</td>\n",
       "      <td>0.292382</td>\n",
       "      <td>2.382435</td>\n",
       "      <td>0.179454</td>\n",
       "    </tr>\n",
       "    <tr>\n",
       "      <th>2</th>\n",
       "      <td>2.079461</td>\n",
       "      <td>0.346737</td>\n",
       "      <td>2.257946</td>\n",
       "      <td>0.279204</td>\n",
       "    </tr>\n",
       "    <tr>\n",
       "      <th>3</th>\n",
       "      <td>2.013041</td>\n",
       "      <td>0.363661</td>\n",
       "      <td>2.157995</td>\n",
       "      <td>0.312546</td>\n",
       "    </tr>\n",
       "    <tr>\n",
       "      <th>4</th>\n",
       "      <td>1.962638</td>\n",
       "      <td>0.372977</td>\n",
       "      <td>2.108904</td>\n",
       "      <td>0.319994</td>\n",
       "    </tr>\n",
       "  </tbody>\n",
       "</table>\n",
       "</div>"
      ],
      "text/plain": [
       "       train/loss  train/acc  val/loss   val/acc\n",
       "epoch                                           \n",
       "0        2.417099   0.143544  2.395455  0.152440\n",
       "1        2.193122   0.292382  2.382435  0.179454\n",
       "2        2.079461   0.346737  2.257946  0.279204\n",
       "3        2.013041   0.363661  2.157995  0.312546\n",
       "4        1.962638   0.372977  2.108904  0.319994"
      ]
     },
     "execution_count": 21,
     "metadata": {},
     "output_type": "execute_result"
    }
   ],
   "source": [
    "df.head()"
   ]
  },
  {
   "cell_type": "markdown",
   "id": "30f71352-d4b0-4ceb-9b9a-525a129e6174",
   "metadata": {},
   "source": [
    "Training Log"
   ]
  },
  {
   "cell_type": "code",
   "execution_count": 22,
   "id": "61b0b6ad-9a6b-4264-8abd-8db8dcf477e1",
   "metadata": {},
   "outputs": [
    {
     "data": {
      "image/png": "[encoded data removed]",
      "text/plain": [
       "<Figure size 432x288 with 1 Axes>"
      ]
     },
     "metadata": {
      "needs_background": "light"
     },
     "output_type": "display_data"
    }
   ],
   "source": [
    "df[[\"train/loss\", \"val/loss\"]].plot()\n",
    "plt.show()"
   ]
  },
  {
   "cell_type": "markdown",
   "id": "9fb11f8b-e84c-41a1-965d-b439bd63c24f",
   "metadata": {},
   "source": [
    "Test Log"
   ]
  },
  {
   "cell_type": "code",
   "execution_count": 23,
   "id": "3b1a002a-2ff5-4bf6-a1b2-763d95bbaf08",
   "metadata": {},
   "outputs": [
    {
     "data": {
      "image/png": "[encoded data removed]",
      "text/plain": [
       "<Figure size 432x288 with 1 Axes>"
      ]
     },
     "metadata": {
      "needs_background": "light"
     },
     "output_type": "display_data"
    }
   ],
   "source": [
    "df[[\"train/acc\", \"val/acc\"]].plot()\n",
    "plt.show()"
   ]
  },
  {
   "cell_type": "code",
   "execution_count": null,
   "id": "0b1b8eac-f148-4347-9f41-28282df74c63",
   "metadata": {},
   "outputs": [],
   "source": []
  },
  {
   "cell_type": "markdown",
   "id": "80ad09e2-9b02-4582-b012-3ce9fdfc3e0e",
   "metadata": {},
   "source": [
    "### 6-5: 評価"
   ]
  },
  {
   "cell_type": "code",
   "execution_count": 24,
   "id": "71a2e4f0-d56e-450d-9d18-9100aae3dfe7",
   "metadata": {},
   "outputs": [
    {
     "name": "stderr",
     "output_type": "stream",
     "text": [
      "2022-09-28 22:48:23 | WARNING | openpack_torch.data.datasets | No preprocessing is applied.\n",
      "2022-09-28 22:48:23 | WARNING | openpack_torch.data.datasets | No preprocessing is applied.\n",
      "2022-09-28 22:48:23 | WARNING | openpack_torch.data.datasets | No preprocessing is applied.\n",
      "2022-09-28 22:48:23 | INFO | openpack_torch.data.datamodule | dataset[train]: None\n",
      "2022-09-28 22:48:23 | INFO | openpack_torch.data.datamodule | dataset[val]: None\n",
      "2022-09-28 22:48:23 | INFO | openpack_torch.data.datamodule | dataset[test]: {'U0106-S0100': <openpack_torch.data.datasets.OpenPackImu object at 0x7fd24bbc4250>, 'U0106-S0300': <openpack_torch.data.datasets.OpenPackImu object at 0x7fd24bb70280>, 'U0106-S0500': <openpack_torch.data.datasets.OpenPackImu object at 0x7fd24bb12d30>}\n",
      "2022-09-28 22:48:23 | INFO | openpack_torch.data.datamodule | dataset[submission]: None\n",
      "2022-09-28 22:48:23 | INFO | __main__ | test on U0106-S0100\n",
      "2022-09-28 22:48:23 | WARNING | openpack_torch.data.datasets | No preprocessing is applied.\n",
      "2022-09-28 22:48:23 | WARNING | openpack_torch.data.datasets | No preprocessing is applied.\n",
      "2022-09-28 22:48:23 | WARNING | openpack_torch.data.datasets | No preprocessing is applied.\n",
      "2022-09-28 22:48:23 | INFO | openpack_torch.data.datamodule | dataset[train]: None\n",
      "2022-09-28 22:48:23 | INFO | openpack_torch.data.datamodule | dataset[val]: None\n",
      "2022-09-28 22:48:23 | INFO | openpack_torch.data.datamodule | dataset[test]: {'U0106-S0100': <openpack_torch.data.datasets.OpenPackImu object at 0x7fd24bb22700>, 'U0106-S0300': <openpack_torch.data.datasets.OpenPackImu object at 0x7fd24bb3d1c0>, 'U0106-S0500': <openpack_torch.data.datasets.OpenPackImu object at 0x7fd24bb22970>}\n",
      "2022-09-28 22:48:23 | INFO | openpack_torch.data.datamodule | dataset[submission]: None\n",
      "LOCAL_RANK: 0 - CUDA_VISIBLE_DEVICES: [0]\n",
      "2022-09-28 22:48:23 | INFO | __main__ | save t[shape=(50, 1800)] to /content/logs/atr-left-wrist/DeepConvLSTM/I01-EXP1-V1-nb/pred/U0106-S0100/t.npy\n",
      "2022-09-28 22:48:23 | INFO | __main__ | save y[shape=(50, 11, 1800)] to /content/logs/atr-left-wrist/DeepConvLSTM/I01-EXP1-V1-nb/pred/U0106-S0100/y.npy\n",
      "2022-09-28 22:48:23 | INFO | __main__ | save unixtime[shape=(50, 1800)] to /content/logs/atr-left-wrist/DeepConvLSTM/I01-EXP1-V1-nb/pred/U0106-S0100/unixtime.npy\n",
      "2022-09-28 22:48:23 | INFO | __main__ | test on U0106-S0300\n",
      "2022-09-28 22:48:23 | WARNING | openpack_torch.data.datasets | No preprocessing is applied.\n",
      "2022-09-28 22:48:23 | WARNING | openpack_torch.data.datasets | No preprocessing is applied.\n",
      "2022-09-28 22:48:23 | WARNING | openpack_torch.data.datasets | No preprocessing is applied.\n",
      "2022-09-28 22:48:23 | INFO | openpack_torch.data.datamodule | dataset[train]: None\n",
      "2022-09-28 22:48:23 | INFO | openpack_torch.data.datamodule | dataset[val]: None\n",
      "2022-09-28 22:48:23 | INFO | openpack_torch.data.datamodule | dataset[test]: {'U0106-S0100': <openpack_torch.data.datasets.OpenPackImu object at 0x7fd24bb5a130>, 'U0106-S0300': <openpack_torch.data.datasets.OpenPackImu object at 0x7fd24bbac1f0>, 'U0106-S0500': <openpack_torch.data.datasets.OpenPackImu object at 0x7fd24bb469d0>}\n",
      "2022-09-28 22:48:23 | INFO | openpack_torch.data.datamodule | dataset[submission]: None\n",
      "LOCAL_RANK: 0 - CUDA_VISIBLE_DEVICES: [0]\n",
      "2022-09-28 22:48:23 | INFO | __main__ | save t[shape=(35, 1800)] to /content/logs/atr-left-wrist/DeepConvLSTM/I01-EXP1-V1-nb/pred/U0106-S0300/t.npy\n",
      "2022-09-28 22:48:23 | INFO | __main__ | save y[shape=(35, 11, 1800)] to /content/logs/atr-left-wrist/DeepConvLSTM/I01-EXP1-V1-nb/pred/U0106-S0300/y.npy\n",
      "2022-09-28 22:48:23 | INFO | __main__ | save unixtime[shape=(35, 1800)] to /content/logs/atr-left-wrist/DeepConvLSTM/I01-EXP1-V1-nb/pred/U0106-S0300/unixtime.npy\n",
      "2022-09-28 22:48:23 | INFO | __main__ | test on U0106-S0500\n",
      "2022-09-28 22:48:24 | WARNING | openpack_torch.data.datasets | No preprocessing is applied.\n",
      "2022-09-28 22:48:24 | WARNING | openpack_torch.data.datasets | No preprocessing is applied.\n",
      "2022-09-28 22:48:24 | WARNING | openpack_torch.data.datasets | No preprocessing is applied.\n",
      "2022-09-28 22:48:24 | INFO | openpack_torch.data.datamodule | dataset[train]: None\n",
      "2022-09-28 22:48:24 | INFO | openpack_torch.data.datamodule | dataset[val]: None\n",
      "2022-09-28 22:48:24 | INFO | openpack_torch.data.datamodule | dataset[test]: {'U0106-S0100': <openpack_torch.data.datasets.OpenPackImu object at 0x7fd24bb4b4c0>, 'U0106-S0300': <openpack_torch.data.datasets.OpenPackImu object at 0x7fd24bae9df0>, 'U0106-S0500': <openpack_torch.data.datasets.OpenPackImu object at 0x7fd24bba6070>}\n",
      "2022-09-28 22:48:24 | INFO | openpack_torch.data.datamodule | dataset[submission]: None\n",
      "LOCAL_RANK: 0 - CUDA_VISIBLE_DEVICES: [0]\n",
      "2022-09-28 22:48:24 | INFO | __main__ | save t[shape=(18, 1800)] to /content/logs/atr-left-wrist/DeepConvLSTM/I01-EXP1-V1-nb/pred/U0106-S0500/t.npy\n",
      "2022-09-28 22:48:24 | INFO | __main__ | save y[shape=(18, 11, 1800)] to /content/logs/atr-left-wrist/DeepConvLSTM/I01-EXP1-V1-nb/pred/U0106-S0500/y.npy\n",
      "2022-09-28 22:48:24 | INFO | __main__ | save unixtime[shape=(18, 1800)] to /content/logs/atr-left-wrist/DeepConvLSTM/I01-EXP1-V1-nb/pred/U0106-S0500/unixtime.npy\n"
     ]
    }
   ],
   "source": [
    "# テストデータで評価\n",
    "outputs, df_summary = test(cfg, datamodule, trainer)"
   ]
  },
  {
   "cell_type": "markdown",
   "id": "48394dcd-4a22-4bba-a1da-cb2278a002a7",
   "metadata": {},
   "source": [
    "#### 評価指標:\n",
    "\n",
    "- Precision\n",
    "- Recall\n",
    "- F値 (F1-measure)\n",
    "\n",
    "F値のマクロ平均 (f1, name=avg/macoro)に注目"
   ]
  },
  {
   "cell_type": "code",
   "execution_count": 25,
   "id": "f5447c00-791b-4fe7-90db-c4bbf59d9166",
   "metadata": {},
   "outputs": [
    {
     "data": {
      "text/html": [
       "<div>\n",
       "<style scoped>\n",
       "    .dataframe tbody tr th:only-of-type {\n",
       "        vertical-align: middle;\n",
       "    }\n",
       "\n",
       "    .dataframe tbody tr th {\n",
       "        vertical-align: top;\n",
       "    }\n",
       "\n",
       "    .dataframe thead th {\n",
       "        text-align: right;\n",
       "    }\n",
       "</style>\n",
       "<table border=\"1\" class=\"dataframe\">\n",
       "  <thead>\n",
       "    <tr style=\"text-align: right;\">\n",
       "      <th></th>\n",
       "      <th>name</th>\n",
       "      <th>id</th>\n",
       "      <th>precision</th>\n",
       "      <th>recall</th>\n",
       "      <th>f1</th>\n",
       "      <th>support</th>\n",
       "      <th>key</th>\n",
       "    </tr>\n",
       "  </thead>\n",
       "  <tbody>\n",
       "    <tr>\n",
       "      <th>36</th>\n",
       "      <td>avg/macro</td>\n",
       "      <td>-1</td>\n",
       "      <td>0.336464</td>\n",
       "      <td>0.336256</td>\n",
       "      <td>0.322957</td>\n",
       "      <td>None</td>\n",
       "      <td>all</td>\n",
       "    </tr>\n",
       "    <tr>\n",
       "      <th>37</th>\n",
       "      <td>avg/weighted</td>\n",
       "      <td>-1</td>\n",
       "      <td>0.356952</td>\n",
       "      <td>0.373081</td>\n",
       "      <td>0.350148</td>\n",
       "      <td>None</td>\n",
       "      <td>all</td>\n",
       "    </tr>\n",
       "    <tr>\n",
       "      <th>38</th>\n",
       "      <td>Picking</td>\n",
       "      <td>100</td>\n",
       "      <td>0.259598</td>\n",
       "      <td>0.251773</td>\n",
       "      <td>0.255626</td>\n",
       "      <td>564</td>\n",
       "      <td>all</td>\n",
       "    </tr>\n",
       "    <tr>\n",
       "      <th>39</th>\n",
       "      <td>Relocate Item Label</td>\n",
       "      <td>200</td>\n",
       "      <td>0.385976</td>\n",
       "      <td>0.648678</td>\n",
       "      <td>0.483977</td>\n",
       "      <td>908</td>\n",
       "      <td>all</td>\n",
       "    </tr>\n",
       "    <tr>\n",
       "      <th>40</th>\n",
       "      <td>Assemble Box</td>\n",
       "      <td>300</td>\n",
       "      <td>0.463687</td>\n",
       "      <td>0.412525</td>\n",
       "      <td>0.436612</td>\n",
       "      <td>1006</td>\n",
       "      <td>all</td>\n",
       "    </tr>\n",
       "    <tr>\n",
       "      <th>41</th>\n",
       "      <td>Insert Items</td>\n",
       "      <td>400</td>\n",
       "      <td>0.321117</td>\n",
       "      <td>0.373225</td>\n",
       "      <td>0.345216</td>\n",
       "      <td>493</td>\n",
       "      <td>all</td>\n",
       "    </tr>\n",
       "    <tr>\n",
       "      <th>42</th>\n",
       "      <td>Close Box</td>\n",
       "      <td>500</td>\n",
       "      <td>0.323263</td>\n",
       "      <td>0.163359</td>\n",
       "      <td>0.217039</td>\n",
       "      <td>655</td>\n",
       "      <td>all</td>\n",
       "    </tr>\n",
       "    <tr>\n",
       "      <th>43</th>\n",
       "      <td>Attach Box Label</td>\n",
       "      <td>600</td>\n",
       "      <td>0.000000</td>\n",
       "      <td>0.000000</td>\n",
       "      <td>0.000000</td>\n",
       "      <td>325</td>\n",
       "      <td>all</td>\n",
       "    </tr>\n",
       "    <tr>\n",
       "      <th>44</th>\n",
       "      <td>Scan Label</td>\n",
       "      <td>700</td>\n",
       "      <td>0.337294</td>\n",
       "      <td>0.543446</td>\n",
       "      <td>0.416244</td>\n",
       "      <td>679</td>\n",
       "      <td>all</td>\n",
       "    </tr>\n",
       "    <tr>\n",
       "      <th>45</th>\n",
       "      <td>Attach Shipping Label</td>\n",
       "      <td>800</td>\n",
       "      <td>0.423488</td>\n",
       "      <td>0.257019</td>\n",
       "      <td>0.319892</td>\n",
       "      <td>463</td>\n",
       "      <td>all</td>\n",
       "    </tr>\n",
       "    <tr>\n",
       "      <th>46</th>\n",
       "      <td>Put on Back Table</td>\n",
       "      <td>900</td>\n",
       "      <td>0.402948</td>\n",
       "      <td>0.453039</td>\n",
       "      <td>0.426528</td>\n",
       "      <td>362</td>\n",
       "      <td>all</td>\n",
       "    </tr>\n",
       "    <tr>\n",
       "      <th>47</th>\n",
       "      <td>Fill out Order</td>\n",
       "      <td>1000</td>\n",
       "      <td>0.447273</td>\n",
       "      <td>0.259494</td>\n",
       "      <td>0.328438</td>\n",
       "      <td>474</td>\n",
       "      <td>all</td>\n",
       "    </tr>\n",
       "  </tbody>\n",
       "</table>\n",
       "</div>"
      ],
      "text/plain": [
       "                     name    id  precision    recall        f1 support  key\n",
       "36              avg/macro    -1   0.336464  0.336256  0.322957    None  all\n",
       "37           avg/weighted    -1   0.356952  0.373081  0.350148    None  all\n",
       "38                Picking   100   0.259598  0.251773  0.255626     564  all\n",
       "39    Relocate Item Label   200   0.385976  0.648678  0.483977     908  all\n",
       "40           Assemble Box   300   0.463687  0.412525  0.436612    1006  all\n",
       "41           Insert Items   400   0.321117  0.373225  0.345216     493  all\n",
       "42              Close Box   500   0.323263  0.163359  0.217039     655  all\n",
       "43       Attach Box Label   600   0.000000  0.000000  0.000000     325  all\n",
       "44             Scan Label   700   0.337294  0.543446  0.416244     679  all\n",
       "45  Attach Shipping Label   800   0.423488  0.257019  0.319892     463  all\n",
       "46      Put on Back Table   900   0.402948  0.453039  0.426528     362  all\n",
       "47         Fill out Order  1000   0.447273  0.259494  0.328438     474  all"
      ]
     },
     "execution_count": 25,
     "metadata": {},
     "output_type": "execute_result"
    }
   ],
   "source": [
    "df_summary[df_summary[\"key\"]==\"all\"]"
   ]
  },
  {
   "cell_type": "markdown",
   "id": "854c54a5-3a13-4721-a6b0-8829c8fa71af",
   "metadata": {},
   "source": [
    "#### 可視化"
   ]
  },
  {
   "cell_type": "code",
   "execution_count": 26,
   "id": "82a15dd7-92c9-4fec-83f2-5fd625c73333",
   "metadata": {},
   "outputs": [
    {
     "name": "stdout",
     "output_type": "stream",
     "text": [
      "unixtimes=(18, 1800), t_idx=(18, 1800), y=(18, 11, 1800), y_softmax=(18, 11, 1800)\n"
     ]
    }
   ],
   "source": [
    "# 可視化したいセグメント\n",
    "key = \"U0106-S0500\"\n",
    "\n",
    "# 予測結果の取得\n",
    "unixtimes = outputs[key][\"unixtime\"] \n",
    "t_idx = outputs[key][\"t_idx\"]\n",
    "y = outputs[key][\"y\"]\n",
    "y_softmax = softmax(y, axis=1)\n",
    "print(f\"unixtimes={unixtimes.shape}, t_idx={t_idx.shape}, y={y.shape}, y_softmax={y_softmax.shape}\")"
   ]
  },
  {
   "cell_type": "code",
   "execution_count": 27,
   "id": "8e023078-cf08-42c4-8234-d9a6cc391f72",
   "metadata": {},
   "outputs": [
    {
     "name": "stdout",
     "output_type": "stream",
     "text": [
      "prob=(11, 18000) pred=(18000,), gt=(18000,)\n"
     ]
    },
    {
     "data": {
      "image/png": "[encoded data removed]",
      "text/plain": [
       "<Figure size 1440x288 with 1 Axes>"
      ]
     },
     "metadata": {
      "needs_background": "light"
     },
     "output_type": "display_data"
    }
   ],
   "source": [
    "samples = (0, 10)\n",
    "\n",
    "fig = plot_timeline(samples, t_idx, y_softmax, title_prefix=f\"{cfg.model.name} | {key}\")\n",
    "fig.show()"
   ]
  },
  {
   "cell_type": "markdown",
   "id": "b7827505-6947-4c43-84eb-6aef1d63d434",
   "metadata": {},
   "source": [
    "学習前の図と比べて，出力はどうなったでしょうか？\n",
    "赤い正解ラベルの付近が黄色くなっているかと思います．モデリングを工夫すると90%近くまでスコアが上がると思います．様々なモデルとパラメータをトライしてみてください．"
   ]
  },
  {
   "cell_type": "code",
   "execution_count": null,
   "id": "9640523c-abab-44aa-9309-0e40e3299097",
   "metadata": {},
   "outputs": [],
   "source": []
  }
 ],
 "metadata": {
  "kernelspec": {
   "display_name": "Python 3 (ipykernel)",
   "language": "python",
   "name": "python3"
  },
  "language_info": {
   "codemirror_mode": {
    "name": "ipython",
    "version": 3
   },
   "file_extension": ".py",
   "mimetype": "text/x-python",
   "name": "python",
   "nbconvert_exporter": "python",
   "pygments_lexer": "ipython3",
   "version": "3.8.12"
  },
  "vscode": {
   "interpreter": {
    "hash": "98574785c057dfdc8ebbe1a5a83e31eec52c36c68a787cbb694ef994b6382a57"
   }
  }
 },
 "nbformat": 4,
 "nbformat_minor": 5
}
